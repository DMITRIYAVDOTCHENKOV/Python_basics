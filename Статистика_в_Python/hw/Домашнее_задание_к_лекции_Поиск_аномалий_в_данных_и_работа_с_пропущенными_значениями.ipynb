{
 "cells": [
  {
   "cell_type": "markdown",
   "source": [
    "# Задание 1. Загрузка данных\n",
    "Изучить представленный набор данных на основе описания его столбцов в файле “horse_data.names” , загрузить его и оставить 8 столбцов для дальнейшего изучения: surgery?, Age, rectal temperature, pulse, respiratory rate, temperature of extremities, pain, outcome.\n"
   ],
   "metadata": {
    "collapsed": false
   },
   "id": "62dc7d3c2f049b00"
  },
  {
   "cell_type": "code",
   "execution_count": 1,
   "outputs": [],
   "source": [
    "import pandas as pd\n",
    "import numpy as np"
   ],
   "metadata": {
    "collapsed": false,
    "ExecuteTime": {
     "end_time": "2023-12-21T16:57:42.795477300Z",
     "start_time": "2023-12-21T16:57:42.139310600Z"
    }
   },
   "id": "8d45098842570e36"
  },
  {
   "cell_type": "code",
   "execution_count": 4,
   "outputs": [],
   "source": [
    "df = pd.read_csv(\"D:\\\\Нетология python\\\\Статистика_в_Python\\\\поиск_аномалий_в_данных_и_работа_с_пропущенными_значениями\\\\horse_data.csv\", usecols=[1,2,4,5,6,7,11,23],names=['surgery?', 'Age', 'rectal temperature', 'pulse', 'respiratory rate', 'temperature of extremities', 'pain', 'outcome'])\n"
   ],
   "metadata": {
    "collapsed": false,
    "ExecuteTime": {
     "end_time": "2023-12-21T17:05:48.264184900Z",
     "start_time": "2023-12-21T17:05:48.256968700Z"
    }
   },
   "id": "f20d1fbb97ff10e9"
  },
  {
   "cell_type": "code",
   "execution_count": 5,
   "outputs": [
    {
     "data": {
      "text/plain": "   surgery?      Age rectal temperature pulse respiratory rate  \\\n0         1   530101                 66    28                3   \n1         1   534817                 88    20                ?   \n2         1   530334                 40    24                1   \n3         9  5290409                164    84                4   \n4         1   530255                104    35                ?   \n\n  temperature of extremities pain  outcome  \n0                          3    4        2  \n1                          ?    4        2  \n2                          1    3        2  \n3                          1    4        1  \n4                          ?    ?        2  ",
      "text/html": "<div>\n<style scoped>\n    .dataframe tbody tr th:only-of-type {\n        vertical-align: middle;\n    }\n\n    .dataframe tbody tr th {\n        vertical-align: top;\n    }\n\n    .dataframe thead th {\n        text-align: right;\n    }\n</style>\n<table border=\"1\" class=\"dataframe\">\n  <thead>\n    <tr style=\"text-align: right;\">\n      <th></th>\n      <th>surgery?</th>\n      <th>Age</th>\n      <th>rectal temperature</th>\n      <th>pulse</th>\n      <th>respiratory rate</th>\n      <th>temperature of extremities</th>\n      <th>pain</th>\n      <th>outcome</th>\n    </tr>\n  </thead>\n  <tbody>\n    <tr>\n      <th>0</th>\n      <td>1</td>\n      <td>530101</td>\n      <td>66</td>\n      <td>28</td>\n      <td>3</td>\n      <td>3</td>\n      <td>4</td>\n      <td>2</td>\n    </tr>\n    <tr>\n      <th>1</th>\n      <td>1</td>\n      <td>534817</td>\n      <td>88</td>\n      <td>20</td>\n      <td>?</td>\n      <td>?</td>\n      <td>4</td>\n      <td>2</td>\n    </tr>\n    <tr>\n      <th>2</th>\n      <td>1</td>\n      <td>530334</td>\n      <td>40</td>\n      <td>24</td>\n      <td>1</td>\n      <td>1</td>\n      <td>3</td>\n      <td>2</td>\n    </tr>\n    <tr>\n      <th>3</th>\n      <td>9</td>\n      <td>5290409</td>\n      <td>164</td>\n      <td>84</td>\n      <td>4</td>\n      <td>1</td>\n      <td>4</td>\n      <td>1</td>\n    </tr>\n    <tr>\n      <th>4</th>\n      <td>1</td>\n      <td>530255</td>\n      <td>104</td>\n      <td>35</td>\n      <td>?</td>\n      <td>?</td>\n      <td>?</td>\n      <td>2</td>\n    </tr>\n  </tbody>\n</table>\n</div>"
     },
     "execution_count": 5,
     "metadata": {},
     "output_type": "execute_result"
    }
   ],
   "source": [
    "df.head()"
   ],
   "metadata": {
    "collapsed": false,
    "ExecuteTime": {
     "end_time": "2023-12-21T17:05:50.718607400Z",
     "start_time": "2023-12-21T17:05:50.707067500Z"
    }
   },
   "id": "6c8b34057a265598"
  },
  {
   "cell_type": "markdown",
   "source": [
    "# Задание 2. Первичное изучение данных\n",
    "Проанализировать значения по столбцам, рассчитать базовые статистики, найти выбросы."
   ],
   "metadata": {
    "collapsed": false
   },
   "id": "b19e111591056614"
  },
  {
   "cell_type": "code",
   "execution_count": 29,
   "outputs": [],
   "source": [
    "statistics = []\n",
    "\n",
    "for column in df.columns:\n",
    "    if df[column].dtype in ['int64', 'float64']:\n",
    "        sr = df[column]\n",
    "        min_ = sr.min()\n",
    "        max_ = sr.max()\n",
    "        range_ = max_ - min_\n",
    "        disp = sr.var()\n",
    "        mean = sr.mean()\n",
    "        median = sr.median()\n",
    "        mode = int(sr.mode()[0])\n",
    "\n",
    "        statistics.append({'Column': column, 'min_': min_, 'max_': max_, 'range_': range_, 'disp': disp, 'mean': mean, 'median': median, 'mode': mode})\n",
    "\n",
    "statistics_df = pd.DataFrame(statistics)"
   ],
   "metadata": {
    "collapsed": false,
    "ExecuteTime": {
     "end_time": "2023-12-21T18:08:41.639915100Z",
     "start_time": "2023-12-21T18:08:41.634932900Z"
    }
   },
   "id": "initial_id"
  },
  {
   "cell_type": "code",
   "execution_count": 30,
   "outputs": [
    {
     "data": {
      "text/plain": "     Column    min_     max_   range_          disp          mean    median  \\\n0  surgery?       1        9        8  4.726154e+00  1.640000e+00       1.0   \n1       Age  518476  5305629  4787153  2.340291e+12  1.085889e+06  530305.5   \n2   outcome       1        2        1  2.320959e-01  1.363333e+00       1.0   \n\n     mode  \n0       1  \n1  527544  \n2       1  ",
      "text/html": "<div>\n<style scoped>\n    .dataframe tbody tr th:only-of-type {\n        vertical-align: middle;\n    }\n\n    .dataframe tbody tr th {\n        vertical-align: top;\n    }\n\n    .dataframe thead th {\n        text-align: right;\n    }\n</style>\n<table border=\"1\" class=\"dataframe\">\n  <thead>\n    <tr style=\"text-align: right;\">\n      <th></th>\n      <th>Column</th>\n      <th>min_</th>\n      <th>max_</th>\n      <th>range_</th>\n      <th>disp</th>\n      <th>mean</th>\n      <th>median</th>\n      <th>mode</th>\n    </tr>\n  </thead>\n  <tbody>\n    <tr>\n      <th>0</th>\n      <td>surgery?</td>\n      <td>1</td>\n      <td>9</td>\n      <td>8</td>\n      <td>4.726154e+00</td>\n      <td>1.640000e+00</td>\n      <td>1.0</td>\n      <td>1</td>\n    </tr>\n    <tr>\n      <th>1</th>\n      <td>Age</td>\n      <td>518476</td>\n      <td>5305629</td>\n      <td>4787153</td>\n      <td>2.340291e+12</td>\n      <td>1.085889e+06</td>\n      <td>530305.5</td>\n      <td>527544</td>\n    </tr>\n    <tr>\n      <th>2</th>\n      <td>outcome</td>\n      <td>1</td>\n      <td>2</td>\n      <td>1</td>\n      <td>2.320959e-01</td>\n      <td>1.363333e+00</td>\n      <td>1.0</td>\n      <td>1</td>\n    </tr>\n  </tbody>\n</table>\n</div>"
     },
     "execution_count": 30,
     "metadata": {},
     "output_type": "execute_result"
    }
   ],
   "source": [
    "statistics_df"
   ],
   "metadata": {
    "collapsed": false,
    "ExecuteTime": {
     "end_time": "2023-12-21T18:08:45.101692300Z",
     "start_time": "2023-12-21T18:08:45.096501800Z"
    }
   },
   "id": "e5e0e1fc21eb5223"
  },
  {
   "cell_type": "code",
   "execution_count": 32,
   "outputs": [],
   "source": [
    "\n",
    "outliers = []\n",
    "\n",
    "for column in df.columns:\n",
    "    if df[column].dtype in ['int64', 'float64']:\n",
    "        sr = df[column]\n",
    "\n",
    "        if sr.astype(str).str.isnumeric().all():\n",
    "            q1 = sr.quantile(0.25)\n",
    "            q3 = sr.quantile(0.75)\n",
    "            iqr = q3 - q1\n",
    "            lower_bound = q1 - 1.5 * iqr\n",
    "            upper_bound = q3 + 1.5 * iqr\n",
    "\n",
    "            column_outliers = sr[(sr < lower_bound) | (sr > upper_bound)]\n",
    "            outliers_count = len(column_outliers)\n",
    "            outliers.append({'Column': column, 'Outliers count': outliers_count, 'Outliers': column_outliers.values})\n",
    "        else:\n",
    "            continue\n",
    "\n",
    "outliers_df = pd.DataFrame(outliers)\n",
    "\n"
   ],
   "metadata": {
    "collapsed": false,
    "ExecuteTime": {
     "end_time": "2023-12-21T18:20:27.488718500Z",
     "start_time": "2023-12-21T18:20:27.478147300Z"
    }
   },
   "id": "7c26c616e6a5a505"
  },
  {
   "cell_type": "code",
   "execution_count": 33,
   "outputs": [
    {
     "data": {
      "text/plain": "     Column  Outliers count                                           Outliers\n0  surgery?              24  [9, 9, 9, 9, 9, 9, 9, 9, 9, 9, 9, 9, 9, 9, 9, ...\n1       Age              36  [5290409, 5299629, 5291329, 5301219, 5290481, ...\n2   outcome               0                                                 []",
      "text/html": "<div>\n<style scoped>\n    .dataframe tbody tr th:only-of-type {\n        vertical-align: middle;\n    }\n\n    .dataframe tbody tr th {\n        vertical-align: top;\n    }\n\n    .dataframe thead th {\n        text-align: right;\n    }\n</style>\n<table border=\"1\" class=\"dataframe\">\n  <thead>\n    <tr style=\"text-align: right;\">\n      <th></th>\n      <th>Column</th>\n      <th>Outliers count</th>\n      <th>Outliers</th>\n    </tr>\n  </thead>\n  <tbody>\n    <tr>\n      <th>0</th>\n      <td>surgery?</td>\n      <td>24</td>\n      <td>[9, 9, 9, 9, 9, 9, 9, 9, 9, 9, 9, 9, 9, 9, 9, ...</td>\n    </tr>\n    <tr>\n      <th>1</th>\n      <td>Age</td>\n      <td>36</td>\n      <td>[5290409, 5299629, 5291329, 5301219, 5290481, ...</td>\n    </tr>\n    <tr>\n      <th>2</th>\n      <td>outcome</td>\n      <td>0</td>\n      <td>[]</td>\n    </tr>\n  </tbody>\n</table>\n</div>"
     },
     "execution_count": 33,
     "metadata": {},
     "output_type": "execute_result"
    }
   ],
   "source": [
    "\n",
    "outliers_df.head()"
   ],
   "metadata": {
    "collapsed": false,
    "ExecuteTime": {
     "end_time": "2023-12-21T18:20:30.400109700Z",
     "start_time": "2023-12-21T18:20:30.389254900Z"
    }
   },
   "id": "ae5c9b25d033999d"
  },
  {
   "cell_type": "markdown",
   "source": [
    "# Вывод.\n",
    "Производят вычислительные операции, и если данных нет или знаки, методы падают с ошибкой, и в итоге пропускаем много данных.\n",
    "из 8 колонок остается только 3 "
   ],
   "metadata": {
    "collapsed": false
   },
   "id": "ac61d49c9309761a"
  },
  {
   "cell_type": "markdown",
   "source": [
    "# =============================================================="
   ],
   "metadata": {
    "collapsed": false
   },
   "id": "307d479f5c079dae"
  },
  {
   "cell_type": "markdown",
   "source": [],
   "metadata": {
    "collapsed": false
   },
   "id": "74f10e61746bb598"
  },
  {
   "cell_type": "markdown",
   "source": [
    "# Задание 3. Работа с пропусками\n",
    "Рассчитать количество пропусков для всех выбранных столбцов. Принять и обосновать решение о методе заполнения пропусков по каждому столбцу на основе рассчитанных статистик и возможной взаимосвязи значений в них. Сформировать датафрейм, в котором пропуски будут отсутствовать."
   ],
   "metadata": {
    "collapsed": false
   },
   "id": "c5b847dac3a7c66d"
  },
  {
   "cell_type": "code",
   "execution_count": 58,
   "outputs": [
    {
     "data": {
      "text/plain": "surgery?                       0\nAge                            0\nrectal temperature            24\npulse                         58\nrespiratory rate              56\ntemperature of extremities    69\npain                          44\noutcome                        0\ndtype: int64"
     },
     "execution_count": 58,
     "metadata": {},
     "output_type": "execute_result"
    }
   ],
   "source": [
    "df = pd.read_csv(\"D:\\\\Нетология python\\\\Статистика_в_Python\\\\поиск_аномалий_в_данных_и_работа_с_пропущенными_значениями\\\\horse_data.csv\", usecols=[1,2,4,5,6,7,11,23], names=['surgery?', 'Age', 'rectal temperature', 'pulse', 'respiratory rate', 'temperature of extremities', 'pain', 'outcome'])\n",
    "\n",
    "# Применение pd.to_numeric() к каждой колонке по отдельности\n",
    "df['surgery?'] = pd.to_numeric(df['surgery?'], errors='coerce')\n",
    "df['Age'] = pd.to_numeric(df['Age'], errors='coerce')\n",
    "df['rectal temperature'] = pd.to_numeric(df['rectal temperature'], errors='coerce')\n",
    "df['pulse'] = pd.to_numeric(df['pulse'], errors='coerce')\n",
    "df['respiratory rate'] = pd.to_numeric(df['respiratory rate'], errors='coerce')\n",
    "df['temperature of extremities'] = pd.to_numeric(df['temperature of extremities'], errors='coerce')\n",
    "df['pain'] = pd.to_numeric(df['pain'], errors='coerce')\n",
    "df['outcome'] = pd.to_numeric(df['outcome'], errors='coerce')\n",
    "\n",
    "# Подсчет количества пропусков, где значение не число\n",
    "non_numeric_counts = df.isna().sum()\n",
    "\n",
    "# Вывод количества пропусков, где значение не число\n",
    "non_numeric_counts\n",
    "\n",
    "\n"
   ],
   "metadata": {
    "collapsed": false,
    "ExecuteTime": {
     "end_time": "2023-12-21T18:46:11.904527300Z",
     "start_time": "2023-12-21T18:46:11.892603Z"
    }
   },
   "id": "869c3eeb47c131c0"
  },
  {
   "cell_type": "code",
   "execution_count": 59,
   "outputs": [
    {
     "data": {
      "text/plain": "     surgery?      Age  rectal temperature  pulse  respiratory rate  \\\n0           1   530101                  66     28                 3   \n1           1   534817                  88     20                 0   \n2           1   530334                  40     24                 1   \n3           9  5290409                 164     84                 4   \n4           1   530255                 104     35                 0   \n..        ...      ...                 ...    ...               ...   \n295         1   533886                 120     70                 4   \n296         1   527702                  72     24                 3   \n297         1   529386                  72     30                 4   \n298         1   530612                 100     24                 3   \n299         1   534618                  40     20                 0   \n\n     temperature of extremities  pain  outcome  \n0                             3     4        2  \n1                             0     4        2  \n2                             1     3        2  \n3                             1     4        1  \n4                             0     0        2  \n..                          ...   ...      ...  \n295                           0     4        2  \n296                           2     3        1  \n297                           3     4        1  \n298                           3     3        1  \n299                           0     0        2  \n\n[300 rows x 8 columns]",
      "text/html": "<div>\n<style scoped>\n    .dataframe tbody tr th:only-of-type {\n        vertical-align: middle;\n    }\n\n    .dataframe tbody tr th {\n        vertical-align: top;\n    }\n\n    .dataframe thead th {\n        text-align: right;\n    }\n</style>\n<table border=\"1\" class=\"dataframe\">\n  <thead>\n    <tr style=\"text-align: right;\">\n      <th></th>\n      <th>surgery?</th>\n      <th>Age</th>\n      <th>rectal temperature</th>\n      <th>pulse</th>\n      <th>respiratory rate</th>\n      <th>temperature of extremities</th>\n      <th>pain</th>\n      <th>outcome</th>\n    </tr>\n  </thead>\n  <tbody>\n    <tr>\n      <th>0</th>\n      <td>1</td>\n      <td>530101</td>\n      <td>66</td>\n      <td>28</td>\n      <td>3</td>\n      <td>3</td>\n      <td>4</td>\n      <td>2</td>\n    </tr>\n    <tr>\n      <th>1</th>\n      <td>1</td>\n      <td>534817</td>\n      <td>88</td>\n      <td>20</td>\n      <td>0</td>\n      <td>0</td>\n      <td>4</td>\n      <td>2</td>\n    </tr>\n    <tr>\n      <th>2</th>\n      <td>1</td>\n      <td>530334</td>\n      <td>40</td>\n      <td>24</td>\n      <td>1</td>\n      <td>1</td>\n      <td>3</td>\n      <td>2</td>\n    </tr>\n    <tr>\n      <th>3</th>\n      <td>9</td>\n      <td>5290409</td>\n      <td>164</td>\n      <td>84</td>\n      <td>4</td>\n      <td>1</td>\n      <td>4</td>\n      <td>1</td>\n    </tr>\n    <tr>\n      <th>4</th>\n      <td>1</td>\n      <td>530255</td>\n      <td>104</td>\n      <td>35</td>\n      <td>0</td>\n      <td>0</td>\n      <td>0</td>\n      <td>2</td>\n    </tr>\n    <tr>\n      <th>...</th>\n      <td>...</td>\n      <td>...</td>\n      <td>...</td>\n      <td>...</td>\n      <td>...</td>\n      <td>...</td>\n      <td>...</td>\n      <td>...</td>\n    </tr>\n    <tr>\n      <th>295</th>\n      <td>1</td>\n      <td>533886</td>\n      <td>120</td>\n      <td>70</td>\n      <td>4</td>\n      <td>0</td>\n      <td>4</td>\n      <td>2</td>\n    </tr>\n    <tr>\n      <th>296</th>\n      <td>1</td>\n      <td>527702</td>\n      <td>72</td>\n      <td>24</td>\n      <td>3</td>\n      <td>2</td>\n      <td>3</td>\n      <td>1</td>\n    </tr>\n    <tr>\n      <th>297</th>\n      <td>1</td>\n      <td>529386</td>\n      <td>72</td>\n      <td>30</td>\n      <td>4</td>\n      <td>3</td>\n      <td>4</td>\n      <td>1</td>\n    </tr>\n    <tr>\n      <th>298</th>\n      <td>1</td>\n      <td>530612</td>\n      <td>100</td>\n      <td>24</td>\n      <td>3</td>\n      <td>3</td>\n      <td>3</td>\n      <td>1</td>\n    </tr>\n    <tr>\n      <th>299</th>\n      <td>1</td>\n      <td>534618</td>\n      <td>40</td>\n      <td>20</td>\n      <td>0</td>\n      <td>0</td>\n      <td>0</td>\n      <td>2</td>\n    </tr>\n  </tbody>\n</table>\n<p>300 rows × 8 columns</p>\n</div>"
     },
     "execution_count": 59,
     "metadata": {},
     "output_type": "execute_result"
    }
   ],
   "source": [
    "import pandas as pd\n",
    "\n",
    "df = pd.read_csv(\"D:\\\\Нетология python\\\\Статистика_в_Python\\\\поиск_аномалий_в_данных_и_работа_с_пропущенными_значениями\\\\horse_data.csv\", usecols=[1,2,4,5,6,7,11,23], names=['surgery?', 'Age', 'rectal temperature', 'pulse', 'respiratory rate', 'temperature of extremities', 'pain', 'outcome'])\n",
    "null_counts = df.isna().sum()\n",
    "# Замена знаков \"?\" на 0\n",
    "df.replace(\"?\", 0, inplace=True)\n",
    "\n",
    "# Подсчет количества пропусков по столбцам\n",
    "\n",
    "\n",
    "# Проверка типа данных и преобразование строковых значений в числа, если необходимо\n",
    "for column in df.columns:\n",
    "    if df[column].dtype == 'object':\n",
    "        # Преобразование строковых значений в числа\n",
    "        try:\n",
    "            df[column] = pd.to_numeric(df[column])\n",
    "        except ValueError:\n",
    "            print(f\"Невозможно преобразовать столбец '{column}' в числовой формат.\")\n",
    "\n",
    "# Вывод таблицы без знаков \"?\"\n",
    "df\n"
   ],
   "metadata": {
    "collapsed": false,
    "ExecuteTime": {
     "end_time": "2023-12-21T18:46:44.797376900Z",
     "start_time": "2023-12-21T18:46:44.783187100Z"
    }
   },
   "id": "bc5e65296d5bab28"
  },
  {
   "cell_type": "code",
   "execution_count": 60,
   "outputs": [
    {
     "data": {
      "text/plain": "     surgery?      Age rectal temperature pulse respiratory rate  \\\n0           1   530101                 66    28                3   \n1           1   534817                 88    20                0   \n2           1   530334                 40    24                1   \n3           9  5290409                164    84                4   \n4           1   530255                104    35                0   \n..        ...      ...                ...   ...              ...   \n295         1   533886                120    70                4   \n296         1   527702                 72    24                3   \n297         1   529386                 72    30                4   \n298         1   530612                100    24                3   \n299         1   534618                 40    20                0   \n\n    temperature of extremities pain  outcome  \n0                            3    4        2  \n1                            0    4        2  \n2                            1    3        2  \n3                            1    4        1  \n4                            0    0        2  \n..                         ...  ...      ...  \n295                          0    4        2  \n296                          2    3        1  \n297                          3    4        1  \n298                          3    3        1  \n299                          0    0        2  \n\n[300 rows x 8 columns]",
      "text/html": "<div>\n<style scoped>\n    .dataframe tbody tr th:only-of-type {\n        vertical-align: middle;\n    }\n\n    .dataframe tbody tr th {\n        vertical-align: top;\n    }\n\n    .dataframe thead th {\n        text-align: right;\n    }\n</style>\n<table border=\"1\" class=\"dataframe\">\n  <thead>\n    <tr style=\"text-align: right;\">\n      <th></th>\n      <th>surgery?</th>\n      <th>Age</th>\n      <th>rectal temperature</th>\n      <th>pulse</th>\n      <th>respiratory rate</th>\n      <th>temperature of extremities</th>\n      <th>pain</th>\n      <th>outcome</th>\n    </tr>\n  </thead>\n  <tbody>\n    <tr>\n      <th>0</th>\n      <td>1</td>\n      <td>530101</td>\n      <td>66</td>\n      <td>28</td>\n      <td>3</td>\n      <td>3</td>\n      <td>4</td>\n      <td>2</td>\n    </tr>\n    <tr>\n      <th>1</th>\n      <td>1</td>\n      <td>534817</td>\n      <td>88</td>\n      <td>20</td>\n      <td>0</td>\n      <td>0</td>\n      <td>4</td>\n      <td>2</td>\n    </tr>\n    <tr>\n      <th>2</th>\n      <td>1</td>\n      <td>530334</td>\n      <td>40</td>\n      <td>24</td>\n      <td>1</td>\n      <td>1</td>\n      <td>3</td>\n      <td>2</td>\n    </tr>\n    <tr>\n      <th>3</th>\n      <td>9</td>\n      <td>5290409</td>\n      <td>164</td>\n      <td>84</td>\n      <td>4</td>\n      <td>1</td>\n      <td>4</td>\n      <td>1</td>\n    </tr>\n    <tr>\n      <th>4</th>\n      <td>1</td>\n      <td>530255</td>\n      <td>104</td>\n      <td>35</td>\n      <td>0</td>\n      <td>0</td>\n      <td>0</td>\n      <td>2</td>\n    </tr>\n    <tr>\n      <th>...</th>\n      <td>...</td>\n      <td>...</td>\n      <td>...</td>\n      <td>...</td>\n      <td>...</td>\n      <td>...</td>\n      <td>...</td>\n      <td>...</td>\n    </tr>\n    <tr>\n      <th>295</th>\n      <td>1</td>\n      <td>533886</td>\n      <td>120</td>\n      <td>70</td>\n      <td>4</td>\n      <td>0</td>\n      <td>4</td>\n      <td>2</td>\n    </tr>\n    <tr>\n      <th>296</th>\n      <td>1</td>\n      <td>527702</td>\n      <td>72</td>\n      <td>24</td>\n      <td>3</td>\n      <td>2</td>\n      <td>3</td>\n      <td>1</td>\n    </tr>\n    <tr>\n      <th>297</th>\n      <td>1</td>\n      <td>529386</td>\n      <td>72</td>\n      <td>30</td>\n      <td>4</td>\n      <td>3</td>\n      <td>4</td>\n      <td>1</td>\n    </tr>\n    <tr>\n      <th>298</th>\n      <td>1</td>\n      <td>530612</td>\n      <td>100</td>\n      <td>24</td>\n      <td>3</td>\n      <td>3</td>\n      <td>3</td>\n      <td>1</td>\n    </tr>\n    <tr>\n      <th>299</th>\n      <td>1</td>\n      <td>534618</td>\n      <td>40</td>\n      <td>20</td>\n      <td>0</td>\n      <td>0</td>\n      <td>0</td>\n      <td>2</td>\n    </tr>\n  </tbody>\n</table>\n<p>300 rows × 8 columns</p>\n</div>"
     },
     "execution_count": 60,
     "metadata": {},
     "output_type": "execute_result"
    }
   ],
   "source": [
    "\n",
    "\n",
    "\n",
    "df = pd.read_csv(\"D:\\\\Нетология python\\\\Статистика_в_Python\\\\поиск_аномалий_в_данных_и_работа_с_пропущенными_значениями\\\\horse_data.csv\", usecols=[1,2,4,5,6,7,11,23], names=['surgery?', 'Age', 'rectal temperature', 'pulse', 'respiratory rate', 'temperature of extremities', 'pain', 'outcome'])\n",
    "\n",
    "# Замена знаков \"?\" на 0\n",
    "df.replace(\"?\", 0, inplace=True)\n",
    "\n",
    "# Вывод таблицы без знаков \"?\"\n",
    "df\n",
    "\n"
   ],
   "metadata": {
    "collapsed": false,
    "ExecuteTime": {
     "end_time": "2023-12-21T18:46:51.893346Z",
     "start_time": "2023-12-21T18:46:51.879244300Z"
    }
   },
   "id": "65f991cbc1460536"
  },
  {
   "cell_type": "code",
   "execution_count": 61,
   "outputs": [],
   "source": [
    "tatistics = []\n",
    "\n",
    "for column in df.columns:\n",
    "    if df[column].dtype in ['int64', 'float64']:\n",
    "        sr = df[column]\n",
    "        min_ = sr.min()\n",
    "        max_ = sr.max()\n",
    "        range_ = max_ - min_\n",
    "        disp = sr.var()\n",
    "        mean = sr.mean()\n",
    "        median = sr.median()\n",
    "        mode = int(sr.mode()[0])\n",
    "\n",
    "        statistics.append({'Column': column, 'min_': min_, 'max_': max_, 'range_': range_, 'disp': disp, 'mean': mean, 'median': median, 'mode': mode})\n",
    "    elif df[column].dtype == 'object':\n",
    "        # Преобразование строковых значений в числа\n",
    "        try:\n",
    "            sr = pd.to_numeric(df[column])\n",
    "            min_ = sr.min()\n",
    "            max_ = sr.max()\n",
    "            range_ = max_ - min_\n",
    "            disp = sr.var()\n",
    "            mean = sr.mean()\n",
    "            median = sr.median()\n",
    "            mode = int(sr.mode()[0])\n",
    "\n",
    "            statistics.append({'Column': column, 'min_': min_, 'max_': max_, 'range_': range_, 'disp': disp, 'mean': mean, 'median': median, 'mode': mode})\n",
    "        except ValueError:\n",
    "            print(f\"Невозможно преобразовать столбец '{column}' в числовой формат.\")\n",
    "\n",
    "statistics_df = pd.DataFrame(statistics)"
   ],
   "metadata": {
    "collapsed": false,
    "ExecuteTime": {
     "end_time": "2023-12-21T18:47:01.338756800Z",
     "start_time": "2023-12-21T18:47:01.329925300Z"
    }
   },
   "id": "9306f592cdf7b0c0"
  },
  {
   "cell_type": "code",
   "execution_count": 62,
   "outputs": [
    {
     "data": {
      "text/plain": "                        Column    min_     max_   range_          disp  \\\n0                     surgery?       1        9        8  4.726154e+00   \n1                          Age  518476  5305629  4787153  2.340291e+12   \n2                      outcome       1        2        1  2.320959e-01   \n3                     surgery?       1        9        8  4.726154e+00   \n4                          Age  518476  5305629  4787153  2.340291e+12   \n5           rectal temperature       0      184      184  1.135807e+03   \n6                        pulse       0       96       96  3.956475e+02   \n7             respiratory rate       0        4        4  1.727659e+00   \n8   temperature of extremities       0        4        4  1.559019e+00   \n9                         pain       0        4        4  1.882843e+00   \n10                     outcome       1        2        1  2.320959e-01   \n11               Converted Age       0      184      184  1.135807e+03   \n12                    surgery?       1        9        8  4.726154e+00   \n13                         Age  518476  5305629  4787153  2.340291e+12   \n14          rectal temperature       0      184      184  1.135807e+03   \n15                       pulse       0       96       96  3.956475e+02   \n16            respiratory rate       0        4        4  1.727659e+00   \n17  temperature of extremities       0        4        4  1.559019e+00   \n18                        pain       0        4        4  1.882843e+00   \n19                     outcome       1        2        1  2.320959e-01   \n\n            mean    median    mode  \n0   1.640000e+00       1.0       1  \n1   1.085889e+06  530305.5  527544  \n2   1.363333e+00       1.0       1  \n3   1.640000e+00       1.0       1  \n4   1.085889e+06  530305.5  527544  \n5   6.616000e+01      60.0      48  \n6   2.453667e+01      22.0       0  \n7   1.910000e+00       2.0       3  \n8   1.553333e+00       1.0       1  \n9   2.490000e+00       3.0       3  \n10  1.363333e+00       1.0       1  \n11  6.616000e+01      60.0      48  \n12  1.640000e+00       1.0       1  \n13  1.085889e+06  530305.5  527544  \n14  6.616000e+01      60.0      48  \n15  2.453667e+01      22.0       0  \n16  1.910000e+00       2.0       3  \n17  1.553333e+00       1.0       1  \n18  2.490000e+00       3.0       3  \n19  1.363333e+00       1.0       1  ",
      "text/html": "<div>\n<style scoped>\n    .dataframe tbody tr th:only-of-type {\n        vertical-align: middle;\n    }\n\n    .dataframe tbody tr th {\n        vertical-align: top;\n    }\n\n    .dataframe thead th {\n        text-align: right;\n    }\n</style>\n<table border=\"1\" class=\"dataframe\">\n  <thead>\n    <tr style=\"text-align: right;\">\n      <th></th>\n      <th>Column</th>\n      <th>min_</th>\n      <th>max_</th>\n      <th>range_</th>\n      <th>disp</th>\n      <th>mean</th>\n      <th>median</th>\n      <th>mode</th>\n    </tr>\n  </thead>\n  <tbody>\n    <tr>\n      <th>0</th>\n      <td>surgery?</td>\n      <td>1</td>\n      <td>9</td>\n      <td>8</td>\n      <td>4.726154e+00</td>\n      <td>1.640000e+00</td>\n      <td>1.0</td>\n      <td>1</td>\n    </tr>\n    <tr>\n      <th>1</th>\n      <td>Age</td>\n      <td>518476</td>\n      <td>5305629</td>\n      <td>4787153</td>\n      <td>2.340291e+12</td>\n      <td>1.085889e+06</td>\n      <td>530305.5</td>\n      <td>527544</td>\n    </tr>\n    <tr>\n      <th>2</th>\n      <td>outcome</td>\n      <td>1</td>\n      <td>2</td>\n      <td>1</td>\n      <td>2.320959e-01</td>\n      <td>1.363333e+00</td>\n      <td>1.0</td>\n      <td>1</td>\n    </tr>\n    <tr>\n      <th>3</th>\n      <td>surgery?</td>\n      <td>1</td>\n      <td>9</td>\n      <td>8</td>\n      <td>4.726154e+00</td>\n      <td>1.640000e+00</td>\n      <td>1.0</td>\n      <td>1</td>\n    </tr>\n    <tr>\n      <th>4</th>\n      <td>Age</td>\n      <td>518476</td>\n      <td>5305629</td>\n      <td>4787153</td>\n      <td>2.340291e+12</td>\n      <td>1.085889e+06</td>\n      <td>530305.5</td>\n      <td>527544</td>\n    </tr>\n    <tr>\n      <th>5</th>\n      <td>rectal temperature</td>\n      <td>0</td>\n      <td>184</td>\n      <td>184</td>\n      <td>1.135807e+03</td>\n      <td>6.616000e+01</td>\n      <td>60.0</td>\n      <td>48</td>\n    </tr>\n    <tr>\n      <th>6</th>\n      <td>pulse</td>\n      <td>0</td>\n      <td>96</td>\n      <td>96</td>\n      <td>3.956475e+02</td>\n      <td>2.453667e+01</td>\n      <td>22.0</td>\n      <td>0</td>\n    </tr>\n    <tr>\n      <th>7</th>\n      <td>respiratory rate</td>\n      <td>0</td>\n      <td>4</td>\n      <td>4</td>\n      <td>1.727659e+00</td>\n      <td>1.910000e+00</td>\n      <td>2.0</td>\n      <td>3</td>\n    </tr>\n    <tr>\n      <th>8</th>\n      <td>temperature of extremities</td>\n      <td>0</td>\n      <td>4</td>\n      <td>4</td>\n      <td>1.559019e+00</td>\n      <td>1.553333e+00</td>\n      <td>1.0</td>\n      <td>1</td>\n    </tr>\n    <tr>\n      <th>9</th>\n      <td>pain</td>\n      <td>0</td>\n      <td>4</td>\n      <td>4</td>\n      <td>1.882843e+00</td>\n      <td>2.490000e+00</td>\n      <td>3.0</td>\n      <td>3</td>\n    </tr>\n    <tr>\n      <th>10</th>\n      <td>outcome</td>\n      <td>1</td>\n      <td>2</td>\n      <td>1</td>\n      <td>2.320959e-01</td>\n      <td>1.363333e+00</td>\n      <td>1.0</td>\n      <td>1</td>\n    </tr>\n    <tr>\n      <th>11</th>\n      <td>Converted Age</td>\n      <td>0</td>\n      <td>184</td>\n      <td>184</td>\n      <td>1.135807e+03</td>\n      <td>6.616000e+01</td>\n      <td>60.0</td>\n      <td>48</td>\n    </tr>\n    <tr>\n      <th>12</th>\n      <td>surgery?</td>\n      <td>1</td>\n      <td>9</td>\n      <td>8</td>\n      <td>4.726154e+00</td>\n      <td>1.640000e+00</td>\n      <td>1.0</td>\n      <td>1</td>\n    </tr>\n    <tr>\n      <th>13</th>\n      <td>Age</td>\n      <td>518476</td>\n      <td>5305629</td>\n      <td>4787153</td>\n      <td>2.340291e+12</td>\n      <td>1.085889e+06</td>\n      <td>530305.5</td>\n      <td>527544</td>\n    </tr>\n    <tr>\n      <th>14</th>\n      <td>rectal temperature</td>\n      <td>0</td>\n      <td>184</td>\n      <td>184</td>\n      <td>1.135807e+03</td>\n      <td>6.616000e+01</td>\n      <td>60.0</td>\n      <td>48</td>\n    </tr>\n    <tr>\n      <th>15</th>\n      <td>pulse</td>\n      <td>0</td>\n      <td>96</td>\n      <td>96</td>\n      <td>3.956475e+02</td>\n      <td>2.453667e+01</td>\n      <td>22.0</td>\n      <td>0</td>\n    </tr>\n    <tr>\n      <th>16</th>\n      <td>respiratory rate</td>\n      <td>0</td>\n      <td>4</td>\n      <td>4</td>\n      <td>1.727659e+00</td>\n      <td>1.910000e+00</td>\n      <td>2.0</td>\n      <td>3</td>\n    </tr>\n    <tr>\n      <th>17</th>\n      <td>temperature of extremities</td>\n      <td>0</td>\n      <td>4</td>\n      <td>4</td>\n      <td>1.559019e+00</td>\n      <td>1.553333e+00</td>\n      <td>1.0</td>\n      <td>1</td>\n    </tr>\n    <tr>\n      <th>18</th>\n      <td>pain</td>\n      <td>0</td>\n      <td>4</td>\n      <td>4</td>\n      <td>1.882843e+00</td>\n      <td>2.490000e+00</td>\n      <td>3.0</td>\n      <td>3</td>\n    </tr>\n    <tr>\n      <th>19</th>\n      <td>outcome</td>\n      <td>1</td>\n      <td>2</td>\n      <td>1</td>\n      <td>2.320959e-01</td>\n      <td>1.363333e+00</td>\n      <td>1.0</td>\n      <td>1</td>\n    </tr>\n  </tbody>\n</table>\n</div>"
     },
     "execution_count": 62,
     "metadata": {},
     "output_type": "execute_result"
    }
   ],
   "source": [
    "statistics_df"
   ],
   "metadata": {
    "collapsed": false,
    "ExecuteTime": {
     "end_time": "2023-12-21T18:47:03.923050Z",
     "start_time": "2023-12-21T18:47:03.910703400Z"
    }
   },
   "id": "d3870b8dde38fe35"
  },
  {
   "cell_type": "markdown",
   "source": [],
   "metadata": {
    "collapsed": false
   },
   "id": "ca3ba36f4f80deb1"
  }
 ],
 "metadata": {
  "kernelspec": {
   "display_name": "Python 3",
   "language": "python",
   "name": "python3"
  },
  "language_info": {
   "codemirror_mode": {
    "name": "ipython",
    "version": 2
   },
   "file_extension": ".py",
   "mimetype": "text/x-python",
   "name": "python",
   "nbconvert_exporter": "python",
   "pygments_lexer": "ipython2",
   "version": "2.7.6"
  }
 },
 "nbformat": 4,
 "nbformat_minor": 5
}
