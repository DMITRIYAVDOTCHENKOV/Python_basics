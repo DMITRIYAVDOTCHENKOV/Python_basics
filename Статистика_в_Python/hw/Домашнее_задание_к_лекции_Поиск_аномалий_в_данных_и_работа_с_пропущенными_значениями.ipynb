{
 "cells": [
  {
   "cell_type": "markdown",
   "source": [
    "# Задание 1. Загрузка данных\n",
    "Изучить представленный набор данных на основе описания его столбцов в файле “horse_data.names” , загрузить его и оставить 8 столбцов для дальнейшего изучения: surgery?, Age, rectal temperature, pulse, respiratory rate, temperature of extremities, pain, outcome.\n"
   ],
   "metadata": {
    "collapsed": false
   },
   "id": "62dc7d3c2f049b00"
  },
  {
   "cell_type": "code",
   "execution_count": 1,
   "outputs": [],
   "source": [
    "import pandas as pd\n",
    "import numpy as np"
   ],
   "metadata": {
    "collapsed": false,
    "ExecuteTime": {
     "end_time": "2023-12-23T07:58:44.201288100Z",
     "start_time": "2023-12-23T07:58:43.526182800Z"
    }
   },
   "id": "8d45098842570e36"
  },
  {
   "cell_type": "code",
   "execution_count": 12,
   "outputs": [],
   "source": [
    "df = pd.read_csv(\"D:\\\\Нетология python\\\\Статистика_в_Python\\\\поиск_аномалий_в_данных_и_работа_с_пропущенными_значениями\\\\horse_data.csv\", usecols=[1,2,4,5,6,7,11,23],names=['surgery?', 'Age', 'rectal temperature', 'pulse', 'respiratory rate', 'temperature of extremities', 'pain', 'outcome'],na_values=[\"\",'',\"NA\",'?',\"?\"])\n"
   ],
   "metadata": {
    "collapsed": false,
    "ExecuteTime": {
     "end_time": "2023-12-23T08:05:16.236862500Z",
     "start_time": "2023-12-23T08:05:16.208059900Z"
    }
   },
   "id": "f20d1fbb97ff10e9"
  },
  {
   "cell_type": "code",
   "execution_count": 13,
   "outputs": [
    {
     "data": {
      "text/plain": "   surgery?      Age  rectal temperature  pulse  respiratory rate  \\\n0         1   530101                66.0   28.0               3.0   \n1         1   534817                88.0   20.0               NaN   \n2         1   530334                40.0   24.0               1.0   \n3         9  5290409               164.0   84.0               4.0   \n4         1   530255               104.0   35.0               NaN   \n\n   temperature of extremities  pain  outcome  \n0                         3.0   4.0        2  \n1                         NaN   4.0        2  \n2                         1.0   3.0        2  \n3                         1.0   4.0        1  \n4                         NaN   NaN        2  ",
      "text/html": "<div>\n<style scoped>\n    .dataframe tbody tr th:only-of-type {\n        vertical-align: middle;\n    }\n\n    .dataframe tbody tr th {\n        vertical-align: top;\n    }\n\n    .dataframe thead th {\n        text-align: right;\n    }\n</style>\n<table border=\"1\" class=\"dataframe\">\n  <thead>\n    <tr style=\"text-align: right;\">\n      <th></th>\n      <th>surgery?</th>\n      <th>Age</th>\n      <th>rectal temperature</th>\n      <th>pulse</th>\n      <th>respiratory rate</th>\n      <th>temperature of extremities</th>\n      <th>pain</th>\n      <th>outcome</th>\n    </tr>\n  </thead>\n  <tbody>\n    <tr>\n      <th>0</th>\n      <td>1</td>\n      <td>530101</td>\n      <td>66.0</td>\n      <td>28.0</td>\n      <td>3.0</td>\n      <td>3.0</td>\n      <td>4.0</td>\n      <td>2</td>\n    </tr>\n    <tr>\n      <th>1</th>\n      <td>1</td>\n      <td>534817</td>\n      <td>88.0</td>\n      <td>20.0</td>\n      <td>NaN</td>\n      <td>NaN</td>\n      <td>4.0</td>\n      <td>2</td>\n    </tr>\n    <tr>\n      <th>2</th>\n      <td>1</td>\n      <td>530334</td>\n      <td>40.0</td>\n      <td>24.0</td>\n      <td>1.0</td>\n      <td>1.0</td>\n      <td>3.0</td>\n      <td>2</td>\n    </tr>\n    <tr>\n      <th>3</th>\n      <td>9</td>\n      <td>5290409</td>\n      <td>164.0</td>\n      <td>84.0</td>\n      <td>4.0</td>\n      <td>1.0</td>\n      <td>4.0</td>\n      <td>1</td>\n    </tr>\n    <tr>\n      <th>4</th>\n      <td>1</td>\n      <td>530255</td>\n      <td>104.0</td>\n      <td>35.0</td>\n      <td>NaN</td>\n      <td>NaN</td>\n      <td>NaN</td>\n      <td>2</td>\n    </tr>\n  </tbody>\n</table>\n</div>"
     },
     "execution_count": 13,
     "metadata": {},
     "output_type": "execute_result"
    }
   ],
   "source": [
    "df.head()"
   ],
   "metadata": {
    "collapsed": false,
    "ExecuteTime": {
     "end_time": "2023-12-23T08:05:18.766831100Z",
     "start_time": "2023-12-23T08:05:18.755087700Z"
    }
   },
   "id": "6c8b34057a265598"
  },
  {
   "cell_type": "markdown",
   "source": [
    "# Задание 2. Первичное изучение данных\n",
    "Проанализировать значения по столбцам, рассчитать базовые статистики, найти выбросы."
   ],
   "metadata": {
    "collapsed": false
   },
   "id": "b19e111591056614"
  },
  {
   "cell_type": "markdown",
   "source": [
    "=========================================================================================================="
   ],
   "metadata": {
    "collapsed": false
   },
   "id": "a5fd55632cf11647"
  },
  {
   "cell_type": "code",
   "execution_count": 32,
   "outputs": [],
   "source": [
    "# Создаем пустой словарь для статистик\n",
    "statistics = []\n",
    "\n",
    "# Разделим столбцы на категориальные и непрерывные\n",
    "categorical_columns = ['surgery?', 'Age', 'temperature of extremities', 'pain', 'outcome']\n",
    "continuous_columns = ['rectal temperature', 'pulse', 'respiratory rate']\n",
    "\n",
    "# Для категориальных столбцов\n",
    "for column in categorical_columns:\n",
    "    mode = df[column].mode().values[0]  # Находим моду\n",
    "    value_counts = df[column].value_counts()  # Анализ распределения по категориям\n",
    "    unique_values = df[column].unique()  # Проверяем уникальные значения на предмет ошибок и соответствия описанию данных\n",
    "    statistics.append({'Column': column, 'Type': 'Categorical', 'Mode': mode, 'Value Counts': value_counts, 'Unique Values': unique_values})\n",
    "\n",
    "# Для непрерывных столбцов\n",
    "for column in continuous_columns:\n",
    "    describe = df[column].describe()  # Находим базовые статистики\n",
    "    q1 = df[column].quantile(0.25)\n",
    "    q3 = df[column].quantile(0.75)\n",
    "    iqr = q3 - q1  # Рассчитываем межквартильный размах\n",
    "    outliers = df[column][(df[column] < q1 - 1.5*iqr) | (df[column] > q3 + 1.5*iqr)]  # Находим выбросы \n",
    "    statistics.append({'Column': column, 'Type': 'Continuous', 'Describe': describe, 'IQR': iqr, 'Outliers': outliers})\n",
    "\n",
    "# Создаем DataFrame из словаря статистик\n",
    "statistics_df = pd.DataFrame(statistics)\n"
   ],
   "metadata": {
    "collapsed": false,
    "ExecuteTime": {
     "end_time": "2023-12-23T08:27:05.531231Z",
     "start_time": "2023-12-23T08:27:05.515992100Z"
    }
   },
   "id": "initial_id"
  },
  {
   "cell_type": "code",
   "execution_count": 33,
   "outputs": [
    {
     "data": {
      "text/plain": "                       Column         Type      Mode  \\\n0                    surgery?  Categorical       1.0   \n1                         Age  Categorical  527544.0   \n2  temperature of extremities  Categorical       1.0   \n3                        pain  Categorical       3.0   \n4                     outcome  Categorical       1.0   \n5          rectal temperature   Continuous       NaN   \n6                       pulse   Continuous       NaN   \n7            respiratory rate   Continuous       NaN   \n\n                                        Value Counts  \\\n0  surgery?\n1    276\n9     24\nName: count, dtype:...   \n1  Age\n532349     2\n528151     2\n5279822    2\n528...   \n2  temperature of extremities\n1.0    184\n3.0    1...   \n3  pain\n3.0    172\n4.0     73\n1.0     39\n2.0     ...   \n4  outcome\n1    191\n2    109\nName: count, dtype: ...   \n5                                                NaN   \n6                                                NaN   \n7                                                NaN   \n\n                                       Unique Values  \\\n0                                             [1, 9]   \n1  [530101, 534817, 530334, 5290409, 530255, 5283...   \n2                               [3.0, 1.0, 4.0, 2.0]   \n3                               [4.0, 3.0, 1.0, 2.0]   \n4                                             [2, 1]   \n5                                                NaN   \n6                                                NaN   \n7                                                NaN   \n\n                                            Describe    IQR  \\\n0                                                NaN    NaN   \n1                                                NaN    NaN   \n2                                                NaN    NaN   \n3                                                NaN    NaN   \n4                                                NaN    NaN   \n5  count    300.000000\nmean      71.280000\nstd   ...  40.00   \n6  count    300.000000\nmean      29.273333\nstd   ...  14.25   \n7  count    300.000000\nmean       2.470000\nstd   ...   2.00   \n\n                                            Outliers  \n0                                                NaN  \n1                                                NaN  \n2                                                NaN  \n3                                                NaN  \n4                                                NaN  \n5  3      164.0\n41     150.0\n55     160.0\n255    ...  \n6  3      84.0\n20     60.0\n23     60.0\n39     96....  \n7  Series([], Name: respiratory rate, dtype: floa...  ",
      "text/html": "<div>\n<style scoped>\n    .dataframe tbody tr th:only-of-type {\n        vertical-align: middle;\n    }\n\n    .dataframe tbody tr th {\n        vertical-align: top;\n    }\n\n    .dataframe thead th {\n        text-align: right;\n    }\n</style>\n<table border=\"1\" class=\"dataframe\">\n  <thead>\n    <tr style=\"text-align: right;\">\n      <th></th>\n      <th>Column</th>\n      <th>Type</th>\n      <th>Mode</th>\n      <th>Value Counts</th>\n      <th>Unique Values</th>\n      <th>Describe</th>\n      <th>IQR</th>\n      <th>Outliers</th>\n    </tr>\n  </thead>\n  <tbody>\n    <tr>\n      <th>0</th>\n      <td>surgery?</td>\n      <td>Categorical</td>\n      <td>1.0</td>\n      <td>surgery?\n1    276\n9     24\nName: count, dtype:...</td>\n      <td>[1, 9]</td>\n      <td>NaN</td>\n      <td>NaN</td>\n      <td>NaN</td>\n    </tr>\n    <tr>\n      <th>1</th>\n      <td>Age</td>\n      <td>Categorical</td>\n      <td>527544.0</td>\n      <td>Age\n532349     2\n528151     2\n5279822    2\n528...</td>\n      <td>[530101, 534817, 530334, 5290409, 530255, 5283...</td>\n      <td>NaN</td>\n      <td>NaN</td>\n      <td>NaN</td>\n    </tr>\n    <tr>\n      <th>2</th>\n      <td>temperature of extremities</td>\n      <td>Categorical</td>\n      <td>1.0</td>\n      <td>temperature of extremities\n1.0    184\n3.0    1...</td>\n      <td>[3.0, 1.0, 4.0, 2.0]</td>\n      <td>NaN</td>\n      <td>NaN</td>\n      <td>NaN</td>\n    </tr>\n    <tr>\n      <th>3</th>\n      <td>pain</td>\n      <td>Categorical</td>\n      <td>3.0</td>\n      <td>pain\n3.0    172\n4.0     73\n1.0     39\n2.0     ...</td>\n      <td>[4.0, 3.0, 1.0, 2.0]</td>\n      <td>NaN</td>\n      <td>NaN</td>\n      <td>NaN</td>\n    </tr>\n    <tr>\n      <th>4</th>\n      <td>outcome</td>\n      <td>Categorical</td>\n      <td>1.0</td>\n      <td>outcome\n1    191\n2    109\nName: count, dtype: ...</td>\n      <td>[2, 1]</td>\n      <td>NaN</td>\n      <td>NaN</td>\n      <td>NaN</td>\n    </tr>\n    <tr>\n      <th>5</th>\n      <td>rectal temperature</td>\n      <td>Continuous</td>\n      <td>NaN</td>\n      <td>NaN</td>\n      <td>NaN</td>\n      <td>count    300.000000\nmean      71.280000\nstd   ...</td>\n      <td>40.00</td>\n      <td>3      164.0\n41     150.0\n55     160.0\n255    ...</td>\n    </tr>\n    <tr>\n      <th>6</th>\n      <td>pulse</td>\n      <td>Continuous</td>\n      <td>NaN</td>\n      <td>NaN</td>\n      <td>NaN</td>\n      <td>count    300.000000\nmean      29.273333\nstd   ...</td>\n      <td>14.25</td>\n      <td>3      84.0\n20     60.0\n23     60.0\n39     96....</td>\n    </tr>\n    <tr>\n      <th>7</th>\n      <td>respiratory rate</td>\n      <td>Continuous</td>\n      <td>NaN</td>\n      <td>NaN</td>\n      <td>NaN</td>\n      <td>count    300.000000\nmean       2.470000\nstd   ...</td>\n      <td>2.00</td>\n      <td>Series([], Name: respiratory rate, dtype: floa...</td>\n    </tr>\n  </tbody>\n</table>\n</div>"
     },
     "execution_count": 33,
     "metadata": {},
     "output_type": "execute_result"
    }
   ],
   "source": [
    "statistics_df"
   ],
   "metadata": {
    "collapsed": false,
    "ExecuteTime": {
     "end_time": "2023-12-23T08:27:08.144491700Z",
     "start_time": "2023-12-23T08:27:08.141974200Z"
    }
   },
   "id": "e5e0e1fc21eb5223"
  },
  {
   "cell_type": "markdown",
   "source": [],
   "metadata": {
    "collapsed": false
   },
   "id": "ac61d49c9309761a"
  },
  {
   "cell_type": "markdown",
   "source": [
    "# =============================================================="
   ],
   "metadata": {
    "collapsed": false
   },
   "id": "307d479f5c079dae"
  },
  {
   "cell_type": "markdown",
   "source": [],
   "metadata": {
    "collapsed": false
   },
   "id": "74f10e61746bb598"
  },
  {
   "cell_type": "markdown",
   "source": [
    "# Задание 3. Работа с пропусками\n",
    "Рассчитать количество пропусков для всех выбранных столбцов. Принять и обосновать решение о методе заполнения пропусков по каждому столбцу на основе рассчитанных статистик и возможной взаимосвязи значений в них. Сформировать датафрейм, в котором пропуски будут отсутствовать."
   ],
   "metadata": {
    "collapsed": false
   },
   "id": "c5b847dac3a7c66d"
  },
  {
   "cell_type": "markdown",
   "source": [
    "==========================================================================================================================\n"
   ],
   "metadata": {
    "collapsed": false
   },
   "id": "150110123be34491"
  },
  {
   "cell_type": "code",
   "execution_count": 34,
   "outputs": [
    {
     "data": {
      "text/plain": "     surgery?      Age  rectal temperature  pulse  respiratory rate  \\\n0           1   530101                66.0   28.0               3.0   \n1           1   534817                88.0   20.0               NaN   \n2           1   530334                40.0   24.0               1.0   \n3           9  5290409               164.0   84.0               4.0   \n4           1   530255               104.0   35.0               NaN   \n..        ...      ...                 ...    ...               ...   \n295         1   533886               120.0   70.0               4.0   \n296         1   527702                72.0   24.0               3.0   \n297         1   529386                72.0   30.0               4.0   \n298         1   530612               100.0   24.0               3.0   \n299         1   534618                40.0   20.0               NaN   \n\n     temperature of extremities  pain  outcome  \n0                           3.0   4.0        2  \n1                           NaN   4.0        2  \n2                           1.0   3.0        2  \n3                           1.0   4.0        1  \n4                           NaN   NaN        2  \n..                          ...   ...      ...  \n295                         NaN   4.0        2  \n296                         2.0   3.0        1  \n297                         3.0   4.0        1  \n298                         3.0   3.0        1  \n299                         NaN   NaN        2  \n\n[300 rows x 8 columns]",
      "text/html": "<div>\n<style scoped>\n    .dataframe tbody tr th:only-of-type {\n        vertical-align: middle;\n    }\n\n    .dataframe tbody tr th {\n        vertical-align: top;\n    }\n\n    .dataframe thead th {\n        text-align: right;\n    }\n</style>\n<table border=\"1\" class=\"dataframe\">\n  <thead>\n    <tr style=\"text-align: right;\">\n      <th></th>\n      <th>surgery?</th>\n      <th>Age</th>\n      <th>rectal temperature</th>\n      <th>pulse</th>\n      <th>respiratory rate</th>\n      <th>temperature of extremities</th>\n      <th>pain</th>\n      <th>outcome</th>\n    </tr>\n  </thead>\n  <tbody>\n    <tr>\n      <th>0</th>\n      <td>1</td>\n      <td>530101</td>\n      <td>66.0</td>\n      <td>28.0</td>\n      <td>3.0</td>\n      <td>3.0</td>\n      <td>4.0</td>\n      <td>2</td>\n    </tr>\n    <tr>\n      <th>1</th>\n      <td>1</td>\n      <td>534817</td>\n      <td>88.0</td>\n      <td>20.0</td>\n      <td>NaN</td>\n      <td>NaN</td>\n      <td>4.0</td>\n      <td>2</td>\n    </tr>\n    <tr>\n      <th>2</th>\n      <td>1</td>\n      <td>530334</td>\n      <td>40.0</td>\n      <td>24.0</td>\n      <td>1.0</td>\n      <td>1.0</td>\n      <td>3.0</td>\n      <td>2</td>\n    </tr>\n    <tr>\n      <th>3</th>\n      <td>9</td>\n      <td>5290409</td>\n      <td>164.0</td>\n      <td>84.0</td>\n      <td>4.0</td>\n      <td>1.0</td>\n      <td>4.0</td>\n      <td>1</td>\n    </tr>\n    <tr>\n      <th>4</th>\n      <td>1</td>\n      <td>530255</td>\n      <td>104.0</td>\n      <td>35.0</td>\n      <td>NaN</td>\n      <td>NaN</td>\n      <td>NaN</td>\n      <td>2</td>\n    </tr>\n    <tr>\n      <th>...</th>\n      <td>...</td>\n      <td>...</td>\n      <td>...</td>\n      <td>...</td>\n      <td>...</td>\n      <td>...</td>\n      <td>...</td>\n      <td>...</td>\n    </tr>\n    <tr>\n      <th>295</th>\n      <td>1</td>\n      <td>533886</td>\n      <td>120.0</td>\n      <td>70.0</td>\n      <td>4.0</td>\n      <td>NaN</td>\n      <td>4.0</td>\n      <td>2</td>\n    </tr>\n    <tr>\n      <th>296</th>\n      <td>1</td>\n      <td>527702</td>\n      <td>72.0</td>\n      <td>24.0</td>\n      <td>3.0</td>\n      <td>2.0</td>\n      <td>3.0</td>\n      <td>1</td>\n    </tr>\n    <tr>\n      <th>297</th>\n      <td>1</td>\n      <td>529386</td>\n      <td>72.0</td>\n      <td>30.0</td>\n      <td>4.0</td>\n      <td>3.0</td>\n      <td>4.0</td>\n      <td>1</td>\n    </tr>\n    <tr>\n      <th>298</th>\n      <td>1</td>\n      <td>530612</td>\n      <td>100.0</td>\n      <td>24.0</td>\n      <td>3.0</td>\n      <td>3.0</td>\n      <td>3.0</td>\n      <td>1</td>\n    </tr>\n    <tr>\n      <th>299</th>\n      <td>1</td>\n      <td>534618</td>\n      <td>40.0</td>\n      <td>20.0</td>\n      <td>NaN</td>\n      <td>NaN</td>\n      <td>NaN</td>\n      <td>2</td>\n    </tr>\n  </tbody>\n</table>\n<p>300 rows × 8 columns</p>\n</div>"
     },
     "execution_count": 34,
     "metadata": {},
     "output_type": "execute_result"
    }
   ],
   "source": [
    "df = pd.read_csv(\"D:\\\\Нетология python\\\\Статистика_в_Python\\\\поиск_аномалий_в_данных_и_работа_с_пропущенными_значениями\\\\horse_data.csv\",\n",
    "                 na_values=\"?\",  # Замена \"?\" на NaN\n",
    "                 usecols=[1,2,4,5,6,7,11,23],\n",
    "                 names=['surgery?', 'Age', 'rectal temperature', 'pulse', 'respiratory rate', 'temperature of extremities', 'pain', 'outcome'])\n",
    "\n",
    "# Преобразование строковых значений в числа при необходимости\n",
    "for column in df.columns:\n",
    "    if df[column].dtype == 'object':\n",
    "        # Преобразование строковых значений в числа, если возможно\n",
    "        try:\n",
    "            df[column] = pd.to_numeric(df[column])\n",
    "        except ValueError:\n",
    "            print(f\"Невозможно преобразовать столбец '{column}' в числовой формат.\")\n",
    "\n",
    "# Вывод таблицы без знаков \"?\"\n",
    "df\n"
   ],
   "metadata": {
    "collapsed": false,
    "ExecuteTime": {
     "end_time": "2023-12-23T08:40:35.278788Z",
     "start_time": "2023-12-23T08:40:35.252007100Z"
    }
   },
   "id": "bd611ad1f04885a7"
  },
  {
   "cell_type": "code",
   "execution_count": 41,
   "outputs": [
    {
     "data": {
      "text/plain": "surgery?                      0.0\nAge                           0.0\nrectal temperature            0.0\npulse                         0.0\nrespiratory rate              0.0\ntemperature of extremities    0.0\npain                          0.0\noutcome                       0.0\ndtype: float64"
     },
     "execution_count": 41,
     "metadata": {},
     "output_type": "execute_result"
    }
   ],
   "source": [
    "df.isna().mean() * 100"
   ],
   "metadata": {
    "collapsed": false,
    "ExecuteTime": {
     "end_time": "2023-12-23T09:54:56.955585200Z",
     "start_time": "2023-12-23T09:54:56.912452100Z"
    }
   },
   "id": "62aacbab05baa0c6"
  },
  {
   "cell_type": "code",
   "execution_count": 35,
   "outputs": [],
   "source": [
    "# Статистика до обработки\n",
    "pre_processing_statistics = df.describe()"
   ],
   "metadata": {
    "collapsed": false,
    "ExecuteTime": {
     "end_time": "2023-12-23T08:40:50.333710600Z",
     "start_time": "2023-12-23T08:40:50.313456900Z"
    }
   },
   "id": "aa3fa84ee9fd9606"
  },
  {
   "cell_type": "code",
   "execution_count": 36,
   "outputs": [
    {
     "data": {
      "text/plain": "     surgery?      Age  rectal temperature  pulse  respiratory rate  \\\n0           1   530101                66.0   28.0               3.0   \n1           1   534817                88.0   20.0               NaN   \n2           1   530334                40.0   24.0               1.0   \n3           9  5290409               164.0   84.0               4.0   \n4           1   530255               104.0   35.0               NaN   \n..        ...      ...                 ...    ...               ...   \n295         1   533886               120.0   70.0               4.0   \n296         1   527702                72.0   24.0               3.0   \n297         1   529386                72.0   30.0               4.0   \n298         1   530612               100.0   24.0               3.0   \n299         1   534618                40.0   20.0               NaN   \n\n     temperature of extremities  pain  outcome  \n0                           3.0   4.0        2  \n1                           1.0   4.0        2  \n2                           1.0   3.0        2  \n3                           1.0   4.0        1  \n4                           1.0   3.0        2  \n..                          ...   ...      ...  \n295                         1.0   4.0        2  \n296                         2.0   3.0        1  \n297                         3.0   4.0        1  \n298                         3.0   3.0        1  \n299                         1.0   3.0        2  \n\n[300 rows x 8 columns]",
      "text/html": "<div>\n<style scoped>\n    .dataframe tbody tr th:only-of-type {\n        vertical-align: middle;\n    }\n\n    .dataframe tbody tr th {\n        vertical-align: top;\n    }\n\n    .dataframe thead th {\n        text-align: right;\n    }\n</style>\n<table border=\"1\" class=\"dataframe\">\n  <thead>\n    <tr style=\"text-align: right;\">\n      <th></th>\n      <th>surgery?</th>\n      <th>Age</th>\n      <th>rectal temperature</th>\n      <th>pulse</th>\n      <th>respiratory rate</th>\n      <th>temperature of extremities</th>\n      <th>pain</th>\n      <th>outcome</th>\n    </tr>\n  </thead>\n  <tbody>\n    <tr>\n      <th>0</th>\n      <td>1</td>\n      <td>530101</td>\n      <td>66.0</td>\n      <td>28.0</td>\n      <td>3.0</td>\n      <td>3.0</td>\n      <td>4.0</td>\n      <td>2</td>\n    </tr>\n    <tr>\n      <th>1</th>\n      <td>1</td>\n      <td>534817</td>\n      <td>88.0</td>\n      <td>20.0</td>\n      <td>NaN</td>\n      <td>1.0</td>\n      <td>4.0</td>\n      <td>2</td>\n    </tr>\n    <tr>\n      <th>2</th>\n      <td>1</td>\n      <td>530334</td>\n      <td>40.0</td>\n      <td>24.0</td>\n      <td>1.0</td>\n      <td>1.0</td>\n      <td>3.0</td>\n      <td>2</td>\n    </tr>\n    <tr>\n      <th>3</th>\n      <td>9</td>\n      <td>5290409</td>\n      <td>164.0</td>\n      <td>84.0</td>\n      <td>4.0</td>\n      <td>1.0</td>\n      <td>4.0</td>\n      <td>1</td>\n    </tr>\n    <tr>\n      <th>4</th>\n      <td>1</td>\n      <td>530255</td>\n      <td>104.0</td>\n      <td>35.0</td>\n      <td>NaN</td>\n      <td>1.0</td>\n      <td>3.0</td>\n      <td>2</td>\n    </tr>\n    <tr>\n      <th>...</th>\n      <td>...</td>\n      <td>...</td>\n      <td>...</td>\n      <td>...</td>\n      <td>...</td>\n      <td>...</td>\n      <td>...</td>\n      <td>...</td>\n    </tr>\n    <tr>\n      <th>295</th>\n      <td>1</td>\n      <td>533886</td>\n      <td>120.0</td>\n      <td>70.0</td>\n      <td>4.0</td>\n      <td>1.0</td>\n      <td>4.0</td>\n      <td>2</td>\n    </tr>\n    <tr>\n      <th>296</th>\n      <td>1</td>\n      <td>527702</td>\n      <td>72.0</td>\n      <td>24.0</td>\n      <td>3.0</td>\n      <td>2.0</td>\n      <td>3.0</td>\n      <td>1</td>\n    </tr>\n    <tr>\n      <th>297</th>\n      <td>1</td>\n      <td>529386</td>\n      <td>72.0</td>\n      <td>30.0</td>\n      <td>4.0</td>\n      <td>3.0</td>\n      <td>4.0</td>\n      <td>1</td>\n    </tr>\n    <tr>\n      <th>298</th>\n      <td>1</td>\n      <td>530612</td>\n      <td>100.0</td>\n      <td>24.0</td>\n      <td>3.0</td>\n      <td>3.0</td>\n      <td>3.0</td>\n      <td>1</td>\n    </tr>\n    <tr>\n      <th>299</th>\n      <td>1</td>\n      <td>534618</td>\n      <td>40.0</td>\n      <td>20.0</td>\n      <td>NaN</td>\n      <td>1.0</td>\n      <td>3.0</td>\n      <td>2</td>\n    </tr>\n  </tbody>\n</table>\n<p>300 rows × 8 columns</p>\n</div>"
     },
     "execution_count": 36,
     "metadata": {},
     "output_type": "execute_result"
    }
   ],
   "source": [
    "# Заполнение пропусков модой\n",
    "categorical_columns = ['surgery?', 'Age', 'temperature of extremities', 'pain', 'outcome']\n",
    "for column in categorical_columns:\n",
    "    # Заменяем пропуски в столбце модой\n",
    "    df[column].fillna(df[column].mode()[0], inplace=True)\n",
    "df"
   ],
   "metadata": {
    "collapsed": false,
    "ExecuteTime": {
     "end_time": "2023-12-23T08:40:56.836232300Z",
     "start_time": "2023-12-23T08:40:56.823541100Z"
    }
   },
   "id": "ed32fc0b1ae6b904"
  },
  {
   "cell_type": "code",
   "execution_count": 37,
   "outputs": [
    {
     "data": {
      "text/plain": "     surgery?      Age  rectal temperature  pulse  respiratory rate  \\\n0           1   530101                66.0   28.0               3.0   \n1           1   534817                88.0   20.0               3.0   \n2           1   530334                40.0   24.0               1.0   \n3           9  5290409               164.0   84.0               4.0   \n4           1   530255               104.0   35.0               3.0   \n..        ...      ...                 ...    ...               ...   \n295         1   533886               120.0   70.0               4.0   \n296         1   527702                72.0   24.0               3.0   \n297         1   529386                72.0   30.0               4.0   \n298         1   530612               100.0   24.0               3.0   \n299         1   534618                40.0   20.0               3.0   \n\n     temperature of extremities  pain  outcome  \n0                           3.0   4.0        2  \n1                           1.0   4.0        2  \n2                           1.0   3.0        2  \n3                           1.0   4.0        1  \n4                           1.0   3.0        2  \n..                          ...   ...      ...  \n295                         1.0   4.0        2  \n296                         2.0   3.0        1  \n297                         3.0   4.0        1  \n298                         3.0   3.0        1  \n299                         1.0   3.0        2  \n\n[300 rows x 8 columns]",
      "text/html": "<div>\n<style scoped>\n    .dataframe tbody tr th:only-of-type {\n        vertical-align: middle;\n    }\n\n    .dataframe tbody tr th {\n        vertical-align: top;\n    }\n\n    .dataframe thead th {\n        text-align: right;\n    }\n</style>\n<table border=\"1\" class=\"dataframe\">\n  <thead>\n    <tr style=\"text-align: right;\">\n      <th></th>\n      <th>surgery?</th>\n      <th>Age</th>\n      <th>rectal temperature</th>\n      <th>pulse</th>\n      <th>respiratory rate</th>\n      <th>temperature of extremities</th>\n      <th>pain</th>\n      <th>outcome</th>\n    </tr>\n  </thead>\n  <tbody>\n    <tr>\n      <th>0</th>\n      <td>1</td>\n      <td>530101</td>\n      <td>66.0</td>\n      <td>28.0</td>\n      <td>3.0</td>\n      <td>3.0</td>\n      <td>4.0</td>\n      <td>2</td>\n    </tr>\n    <tr>\n      <th>1</th>\n      <td>1</td>\n      <td>534817</td>\n      <td>88.0</td>\n      <td>20.0</td>\n      <td>3.0</td>\n      <td>1.0</td>\n      <td>4.0</td>\n      <td>2</td>\n    </tr>\n    <tr>\n      <th>2</th>\n      <td>1</td>\n      <td>530334</td>\n      <td>40.0</td>\n      <td>24.0</td>\n      <td>1.0</td>\n      <td>1.0</td>\n      <td>3.0</td>\n      <td>2</td>\n    </tr>\n    <tr>\n      <th>3</th>\n      <td>9</td>\n      <td>5290409</td>\n      <td>164.0</td>\n      <td>84.0</td>\n      <td>4.0</td>\n      <td>1.0</td>\n      <td>4.0</td>\n      <td>1</td>\n    </tr>\n    <tr>\n      <th>4</th>\n      <td>1</td>\n      <td>530255</td>\n      <td>104.0</td>\n      <td>35.0</td>\n      <td>3.0</td>\n      <td>1.0</td>\n      <td>3.0</td>\n      <td>2</td>\n    </tr>\n    <tr>\n      <th>...</th>\n      <td>...</td>\n      <td>...</td>\n      <td>...</td>\n      <td>...</td>\n      <td>...</td>\n      <td>...</td>\n      <td>...</td>\n      <td>...</td>\n    </tr>\n    <tr>\n      <th>295</th>\n      <td>1</td>\n      <td>533886</td>\n      <td>120.0</td>\n      <td>70.0</td>\n      <td>4.0</td>\n      <td>1.0</td>\n      <td>4.0</td>\n      <td>2</td>\n    </tr>\n    <tr>\n      <th>296</th>\n      <td>1</td>\n      <td>527702</td>\n      <td>72.0</td>\n      <td>24.0</td>\n      <td>3.0</td>\n      <td>2.0</td>\n      <td>3.0</td>\n      <td>1</td>\n    </tr>\n    <tr>\n      <th>297</th>\n      <td>1</td>\n      <td>529386</td>\n      <td>72.0</td>\n      <td>30.0</td>\n      <td>4.0</td>\n      <td>3.0</td>\n      <td>4.0</td>\n      <td>1</td>\n    </tr>\n    <tr>\n      <th>298</th>\n      <td>1</td>\n      <td>530612</td>\n      <td>100.0</td>\n      <td>24.0</td>\n      <td>3.0</td>\n      <td>3.0</td>\n      <td>3.0</td>\n      <td>1</td>\n    </tr>\n    <tr>\n      <th>299</th>\n      <td>1</td>\n      <td>534618</td>\n      <td>40.0</td>\n      <td>20.0</td>\n      <td>3.0</td>\n      <td>1.0</td>\n      <td>3.0</td>\n      <td>2</td>\n    </tr>\n  </tbody>\n</table>\n<p>300 rows × 8 columns</p>\n</div>"
     },
     "execution_count": 37,
     "metadata": {},
     "output_type": "execute_result"
    }
   ],
   "source": [
    "# Заполнение пропусков медианой\n",
    "continuous_columns = ['rectal temperature', 'pulse', 'respiratory rate']\n",
    "for column in continuous_columns:\n",
    "    # Заменяем пропуски в столбце медианой\n",
    "    df[column].fillna(df[column].median(), inplace=True)\n",
    "df"
   ],
   "metadata": {
    "collapsed": false,
    "ExecuteTime": {
     "end_time": "2023-12-23T08:41:01.192192700Z",
     "start_time": "2023-12-23T08:41:01.178554400Z"
    }
   },
   "id": "533615079ad96066"
  },
  {
   "cell_type": "code",
   "execution_count": 38,
   "outputs": [],
   "source": [
    "# # Статистика до обработки\n",
    "# pre_processing_statistics = df.describe()\n",
    "\n",
    "# Заполнение пропусков\n",
    "\n",
    "# Статистика после обработки\n",
    "post_processing_statistics = df.describe()"
   ],
   "metadata": {
    "collapsed": false,
    "ExecuteTime": {
     "end_time": "2023-12-23T08:41:11.772890900Z",
     "start_time": "2023-12-23T08:41:11.754682400Z"
    }
   },
   "id": "e3b95cc3598a545d"
  },
  {
   "cell_type": "markdown",
   "source": [
    "# Сравнение статистик"
   ],
   "metadata": {
    "collapsed": false
   },
   "id": "14ce4463362ed5b0"
  },
  {
   "cell_type": "code",
   "execution_count": 39,
   "outputs": [
    {
     "name": "stdout",
     "output_type": "stream",
     "text": [
      "Статистика до обработки:\n"
     ]
    },
    {
     "data": {
      "text/plain": "         surgery?           Age  rectal temperature       pulse  \\\ncount  300.000000  3.000000e+02          276.000000  242.000000   \nmean     1.640000  1.085889e+06           71.913043   30.417355   \nstd      2.173972  1.529801e+06           28.630557   17.642231   \nmin      1.000000  5.184760e+05           30.000000    8.000000   \n25%      1.000000  5.289040e+05           48.000000   18.500000   \n50%      1.000000  5.303055e+05           64.000000   24.500000   \n75%      1.000000  5.347275e+05           88.000000   36.000000   \nmax      9.000000  5.305629e+06          184.000000   96.000000   \n\n       respiratory rate  temperature of extremities        pain     outcome  \ncount        244.000000                  231.000000  256.000000  300.000000  \nmean           2.348361                    2.017316    2.917969    1.363333  \nstd            1.045054                    1.042428    0.976744    0.481763  \nmin            1.000000                    1.000000    1.000000    1.000000  \n25%            1.000000                    1.000000    3.000000    1.000000  \n50%            3.000000                    2.000000    3.000000    1.000000  \n75%            3.000000                    3.000000    4.000000    2.000000  \nmax            4.000000                    4.000000    4.000000    2.000000  ",
      "text/html": "<div>\n<style scoped>\n    .dataframe tbody tr th:only-of-type {\n        vertical-align: middle;\n    }\n\n    .dataframe tbody tr th {\n        vertical-align: top;\n    }\n\n    .dataframe thead th {\n        text-align: right;\n    }\n</style>\n<table border=\"1\" class=\"dataframe\">\n  <thead>\n    <tr style=\"text-align: right;\">\n      <th></th>\n      <th>surgery?</th>\n      <th>Age</th>\n      <th>rectal temperature</th>\n      <th>pulse</th>\n      <th>respiratory rate</th>\n      <th>temperature of extremities</th>\n      <th>pain</th>\n      <th>outcome</th>\n    </tr>\n  </thead>\n  <tbody>\n    <tr>\n      <th>count</th>\n      <td>300.000000</td>\n      <td>3.000000e+02</td>\n      <td>276.000000</td>\n      <td>242.000000</td>\n      <td>244.000000</td>\n      <td>231.000000</td>\n      <td>256.000000</td>\n      <td>300.000000</td>\n    </tr>\n    <tr>\n      <th>mean</th>\n      <td>1.640000</td>\n      <td>1.085889e+06</td>\n      <td>71.913043</td>\n      <td>30.417355</td>\n      <td>2.348361</td>\n      <td>2.017316</td>\n      <td>2.917969</td>\n      <td>1.363333</td>\n    </tr>\n    <tr>\n      <th>std</th>\n      <td>2.173972</td>\n      <td>1.529801e+06</td>\n      <td>28.630557</td>\n      <td>17.642231</td>\n      <td>1.045054</td>\n      <td>1.042428</td>\n      <td>0.976744</td>\n      <td>0.481763</td>\n    </tr>\n    <tr>\n      <th>min</th>\n      <td>1.000000</td>\n      <td>5.184760e+05</td>\n      <td>30.000000</td>\n      <td>8.000000</td>\n      <td>1.000000</td>\n      <td>1.000000</td>\n      <td>1.000000</td>\n      <td>1.000000</td>\n    </tr>\n    <tr>\n      <th>25%</th>\n      <td>1.000000</td>\n      <td>5.289040e+05</td>\n      <td>48.000000</td>\n      <td>18.500000</td>\n      <td>1.000000</td>\n      <td>1.000000</td>\n      <td>3.000000</td>\n      <td>1.000000</td>\n    </tr>\n    <tr>\n      <th>50%</th>\n      <td>1.000000</td>\n      <td>5.303055e+05</td>\n      <td>64.000000</td>\n      <td>24.500000</td>\n      <td>3.000000</td>\n      <td>2.000000</td>\n      <td>3.000000</td>\n      <td>1.000000</td>\n    </tr>\n    <tr>\n      <th>75%</th>\n      <td>1.000000</td>\n      <td>5.347275e+05</td>\n      <td>88.000000</td>\n      <td>36.000000</td>\n      <td>3.000000</td>\n      <td>3.000000</td>\n      <td>4.000000</td>\n      <td>2.000000</td>\n    </tr>\n    <tr>\n      <th>max</th>\n      <td>9.000000</td>\n      <td>5.305629e+06</td>\n      <td>184.000000</td>\n      <td>96.000000</td>\n      <td>4.000000</td>\n      <td>4.000000</td>\n      <td>4.000000</td>\n      <td>2.000000</td>\n    </tr>\n  </tbody>\n</table>\n</div>"
     },
     "execution_count": 39,
     "metadata": {},
     "output_type": "execute_result"
    }
   ],
   "source": [
    "print(\"Статистика до обработки:\")\n",
    "pre_processing_statistics"
   ],
   "metadata": {
    "collapsed": false,
    "ExecuteTime": {
     "end_time": "2023-12-23T08:41:14.098638200Z",
     "start_time": "2023-12-23T08:41:14.087386600Z"
    }
   },
   "id": "f1f5b4601d7f36fe"
  },
  {
   "cell_type": "code",
   "execution_count": 40,
   "outputs": [
    {
     "name": "stdout",
     "output_type": "stream",
     "text": [
      "\n",
      "Статистика после обработки:\n"
     ]
    },
    {
     "data": {
      "text/plain": "         surgery?           Age  rectal temperature       pulse  \\\ncount  300.000000  3.000000e+02          300.000000  300.000000   \nmean     1.640000  1.085889e+06           71.280000   29.273333   \nstd      2.173972  1.529801e+06           27.541545   16.010979   \nmin      1.000000  5.184760e+05           30.000000    8.000000   \n25%      1.000000  5.289040e+05           48.000000   20.000000   \n50%      1.000000  5.303055e+05           64.000000   24.500000   \n75%      1.000000  5.347275e+05           88.000000   34.250000   \nmax      9.000000  5.305629e+06          184.000000   96.000000   \n\n       respiratory rate  temperature of extremities        pain     outcome  \ncount        300.000000                  300.000000  300.000000  300.000000  \nmean           2.470000                    1.783333    2.930000    1.363333  \nstd            0.975845                    1.009846    0.902486    0.481763  \nmin            1.000000                    1.000000    1.000000    1.000000  \n25%            1.000000                    1.000000    3.000000    1.000000  \n50%            3.000000                    1.000000    3.000000    1.000000  \n75%            3.000000                    3.000000    3.000000    2.000000  \nmax            4.000000                    4.000000    4.000000    2.000000  ",
      "text/html": "<div>\n<style scoped>\n    .dataframe tbody tr th:only-of-type {\n        vertical-align: middle;\n    }\n\n    .dataframe tbody tr th {\n        vertical-align: top;\n    }\n\n    .dataframe thead th {\n        text-align: right;\n    }\n</style>\n<table border=\"1\" class=\"dataframe\">\n  <thead>\n    <tr style=\"text-align: right;\">\n      <th></th>\n      <th>surgery?</th>\n      <th>Age</th>\n      <th>rectal temperature</th>\n      <th>pulse</th>\n      <th>respiratory rate</th>\n      <th>temperature of extremities</th>\n      <th>pain</th>\n      <th>outcome</th>\n    </tr>\n  </thead>\n  <tbody>\n    <tr>\n      <th>count</th>\n      <td>300.000000</td>\n      <td>3.000000e+02</td>\n      <td>300.000000</td>\n      <td>300.000000</td>\n      <td>300.000000</td>\n      <td>300.000000</td>\n      <td>300.000000</td>\n      <td>300.000000</td>\n    </tr>\n    <tr>\n      <th>mean</th>\n      <td>1.640000</td>\n      <td>1.085889e+06</td>\n      <td>71.280000</td>\n      <td>29.273333</td>\n      <td>2.470000</td>\n      <td>1.783333</td>\n      <td>2.930000</td>\n      <td>1.363333</td>\n    </tr>\n    <tr>\n      <th>std</th>\n      <td>2.173972</td>\n      <td>1.529801e+06</td>\n      <td>27.541545</td>\n      <td>16.010979</td>\n      <td>0.975845</td>\n      <td>1.009846</td>\n      <td>0.902486</td>\n      <td>0.481763</td>\n    </tr>\n    <tr>\n      <th>min</th>\n      <td>1.000000</td>\n      <td>5.184760e+05</td>\n      <td>30.000000</td>\n      <td>8.000000</td>\n      <td>1.000000</td>\n      <td>1.000000</td>\n      <td>1.000000</td>\n      <td>1.000000</td>\n    </tr>\n    <tr>\n      <th>25%</th>\n      <td>1.000000</td>\n      <td>5.289040e+05</td>\n      <td>48.000000</td>\n      <td>20.000000</td>\n      <td>1.000000</td>\n      <td>1.000000</td>\n      <td>3.000000</td>\n      <td>1.000000</td>\n    </tr>\n    <tr>\n      <th>50%</th>\n      <td>1.000000</td>\n      <td>5.303055e+05</td>\n      <td>64.000000</td>\n      <td>24.500000</td>\n      <td>3.000000</td>\n      <td>1.000000</td>\n      <td>3.000000</td>\n      <td>1.000000</td>\n    </tr>\n    <tr>\n      <th>75%</th>\n      <td>1.000000</td>\n      <td>5.347275e+05</td>\n      <td>88.000000</td>\n      <td>34.250000</td>\n      <td>3.000000</td>\n      <td>3.000000</td>\n      <td>3.000000</td>\n      <td>2.000000</td>\n    </tr>\n    <tr>\n      <th>max</th>\n      <td>9.000000</td>\n      <td>5.305629e+06</td>\n      <td>184.000000</td>\n      <td>96.000000</td>\n      <td>4.000000</td>\n      <td>4.000000</td>\n      <td>4.000000</td>\n      <td>2.000000</td>\n    </tr>\n  </tbody>\n</table>\n</div>"
     },
     "execution_count": 40,
     "metadata": {},
     "output_type": "execute_result"
    }
   ],
   "source": [
    "print(\"\\nСтатистика после обработки:\")\n",
    "post_processing_statistics"
   ],
   "metadata": {
    "collapsed": false,
    "ExecuteTime": {
     "end_time": "2023-12-23T08:41:16.465882700Z",
     "start_time": "2023-12-23T08:41:16.455111600Z"
    }
   },
   "id": "3f843bc63167b6f"
  },
  {
   "cell_type": "markdown",
   "source": [],
   "metadata": {
    "collapsed": false
   },
   "id": "211da891cf14e87"
  },
  {
   "cell_type": "code",
   "execution_count": null,
   "outputs": [],
   "source": [],
   "metadata": {
    "collapsed": false
   },
   "id": "38378d7db1c560d1"
  },
  {
   "cell_type": "markdown",
   "source": [
    "describe() выводит стандартные статистические характеристики, такие как среднее значение, стандартное отклонение, минимум, максимум, медиану и квартили. Если замена пропущенных значений происходит с использованием стандартных методов (например, медианы или среднего), статистические показатели по сути не будут меняться."
   ],
   "metadata": {
    "collapsed": false
   },
   "id": "4c55f98382c71f2a"
  },
  {
   "cell_type": "markdown",
   "source": [],
   "metadata": {
    "collapsed": false
   },
   "id": "ca3ba36f4f80deb1"
  }
 ],
 "metadata": {
  "kernelspec": {
   "display_name": "Python 3",
   "language": "python",
   "name": "python3"
  },
  "language_info": {
   "codemirror_mode": {
    "name": "ipython",
    "version": 2
   },
   "file_extension": ".py",
   "mimetype": "text/x-python",
   "name": "python",
   "nbconvert_exporter": "python",
   "pygments_lexer": "ipython2",
   "version": "2.7.6"
  }
 },
 "nbformat": 4,
 "nbformat_minor": 5
}
