{
 "cells": [
  {
   "cell_type": "markdown",
   "metadata": {
    "id": "SOZozVNIGZwQ"
   },
   "source": [
    "## Домашнее задание к занятию \"A/B-тесты\""
   ]
  },
  {
   "cell_type": "markdown",
   "metadata": {
    "id": "N5Z4Rg7PGZwR"
   },
   "source": [
    "### Описание задачи\n",
    "\n",
    "![banner](https://storage.googleapis.com/kaggle-datasets-images/635/1204/126be74882028aac7241553cef0e27a7/dataset-original.jpg)\n",
    "\n",
    "Покемоны - это маленькие существа, которые сражаются друг с другом на соревнованиях. Все покемоны имеют разные характеристики (сила атаки, защиты и т. д.) И относятся к одному или двум так называемым классам (вода, огонь и т. д.).\n",
    "Профессор Оук является изобретателем Pokedex - портативного устройства, которое хранит информацию обо всех существующих покемонах. Как его ведущий специалист по данным, Вы только что получили от него запрос с просьбой осуществить аналитику данных на всех устройствах Pokedex.\n",
    "\n",
    "### Описание набора данных\n",
    "Профессор Оук скопировал все содержимое в память одного устройства Pokedex, в результате чего получился набор данных, с которым Вы будете работать в этой задаче. В этом файле каждая строка представляет характеристики одного покемона:\n",
    "\n",
    "* `pid`: Numeric - ID покемона\n",
    "* `HP`: Numeric - Очки здоровья\n",
    "* `Attack`: Numeric - Сила обычной атаки\n",
    "* `Defense`: Numeric - Сила обычной защиты\n",
    "* `Sp. Atk`: Numeric - Сила специальной атаки\n",
    "* `Sp. Def`: Numeric - Сила специальной защиты\n",
    "* `Speed`: Numeric - Скорость движений\n",
    "* `Legendary`: Boolean - «True», если покемон редкий\n",
    "* `Class 1`: Categorical - Класс покемона\n",
    "* `Class 2`: Categorical - Класс покемона"
   ]
  },
  {
   "cell_type": "code",
   "execution_count": 1,
   "outputs": [
    {
     "data": {
      "text/plain": "   pid           Name Class 1 Class 2  HP  Attack  Defense  Sp. Atk  Sp. Def  \\\n0    1      Bulbasaur   Grass  Poison  45      49       49       65       65   \n1    2        Ivysaur   Grass  Poison  60      62       63       80       80   \n2    3       Venusaur   Grass  Poison  80      82       83      100      100   \n3    4  Mega Venusaur   Grass  Poison  80     100      123      122      120   \n4    5     Charmander    Fire     NaN  39      52       43       60       50   \n\n   Speed  Legendary  \n0     45      False  \n1     60      False  \n2     80      False  \n3     80      False  \n4     65      False  ",
      "text/html": "<div>\n<style scoped>\n    .dataframe tbody tr th:only-of-type {\n        vertical-align: middle;\n    }\n\n    .dataframe tbody tr th {\n        vertical-align: top;\n    }\n\n    .dataframe thead th {\n        text-align: right;\n    }\n</style>\n<table border=\"1\" class=\"dataframe\">\n  <thead>\n    <tr style=\"text-align: right;\">\n      <th></th>\n      <th>pid</th>\n      <th>Name</th>\n      <th>Class 1</th>\n      <th>Class 2</th>\n      <th>HP</th>\n      <th>Attack</th>\n      <th>Defense</th>\n      <th>Sp. Atk</th>\n      <th>Sp. Def</th>\n      <th>Speed</th>\n      <th>Legendary</th>\n    </tr>\n  </thead>\n  <tbody>\n    <tr>\n      <th>0</th>\n      <td>1</td>\n      <td>Bulbasaur</td>\n      <td>Grass</td>\n      <td>Poison</td>\n      <td>45</td>\n      <td>49</td>\n      <td>49</td>\n      <td>65</td>\n      <td>65</td>\n      <td>45</td>\n      <td>False</td>\n    </tr>\n    <tr>\n      <th>1</th>\n      <td>2</td>\n      <td>Ivysaur</td>\n      <td>Grass</td>\n      <td>Poison</td>\n      <td>60</td>\n      <td>62</td>\n      <td>63</td>\n      <td>80</td>\n      <td>80</td>\n      <td>60</td>\n      <td>False</td>\n    </tr>\n    <tr>\n      <th>2</th>\n      <td>3</td>\n      <td>Venusaur</td>\n      <td>Grass</td>\n      <td>Poison</td>\n      <td>80</td>\n      <td>82</td>\n      <td>83</td>\n      <td>100</td>\n      <td>100</td>\n      <td>80</td>\n      <td>False</td>\n    </tr>\n    <tr>\n      <th>3</th>\n      <td>4</td>\n      <td>Mega Venusaur</td>\n      <td>Grass</td>\n      <td>Poison</td>\n      <td>80</td>\n      <td>100</td>\n      <td>123</td>\n      <td>122</td>\n      <td>120</td>\n      <td>80</td>\n      <td>False</td>\n    </tr>\n    <tr>\n      <th>4</th>\n      <td>5</td>\n      <td>Charmander</td>\n      <td>Fire</td>\n      <td>NaN</td>\n      <td>39</td>\n      <td>52</td>\n      <td>43</td>\n      <td>60</td>\n      <td>50</td>\n      <td>65</td>\n      <td>False</td>\n    </tr>\n  </tbody>\n</table>\n</div>"
     },
     "execution_count": 1,
     "metadata": {},
     "output_type": "execute_result"
    }
   ],
   "source": [
    "import warnings\n",
    "# Отключение предупреждений (warnings)\n",
    "warnings.filterwarnings(\"ignore\")\n",
    "\n",
    "import pandas as pd\n",
    "import scipy.stats as stats\n",
    "\n",
    "from scipy.stats import ttest_ind\n",
    "from scipy.stats import f_oneway, shapiro\n",
    "\n",
    "pokemon = pd.read_csv('https://raw.githubusercontent.com/a-milenkin/datasets_for_t-tests/main/pokemon.csv', on_bad_lines='skip')  # Откроем датасет\n",
    "pokemon.head()\n",
    "\n",
    "# Обратите внимание, что у покемона может быть один или два класса.\n",
    "# Если у покемона два класса, считается, что они имеют одинаковую значимость."
   ],
   "metadata": {
    "collapsed": false,
    "ExecuteTime": {
     "end_time": "2024-01-05T20:10:40.583397900Z",
     "start_time": "2024-01-05T20:10:40.193465400Z"
    }
   }
  },
  {
   "cell_type": "code",
   "execution_count": 15,
   "outputs": [
    {
     "name": "stdout",
     "output_type": "stream",
     "text": [
      "['Grass' 'Fire' 'Water' 'Bug' 'Normal' 'Poison' 'Electric' 'Ground'\n",
      " 'Fairy' 'Fighting' 'Psychic' 'Rock' 'Ghost' 'Ice' 'Dragon' 'Dark' 'Steel'\n",
      " 'Flying']\n"
     ]
    }
   ],
   "source": [
    "classes = pokemon['Class 1'].unique()\n",
    "print(classes)\n"
   ],
   "metadata": {
    "collapsed": false,
    "ExecuteTime": {
     "end_time": "2024-01-05T20:16:39.391712600Z",
     "start_time": "2024-01-05T20:16:39.368489200Z"
    }
   }
  },
  {
   "cell_type": "code",
   "execution_count": 16,
   "outputs": [
    {
     "name": "stdout",
     "output_type": "stream",
     "text": [
      "['Poison' nan 'Flying' 'Dragon' 'Ground' 'Fairy' 'Grass' 'Fighting'\n",
      " 'Psychic' 'Steel' 'Ice' 'Rock' 'Dark' 'Water' 'Electric' 'Fire' 'Ghost'\n",
      " 'Bug' 'Normal']\n"
     ]
    }
   ],
   "source": [
    "classes = pokemon['Class 2'].unique()\n",
    "print(classes)"
   ],
   "metadata": {
    "collapsed": false,
    "ExecuteTime": {
     "end_time": "2024-01-05T20:16:51.551475100Z",
     "start_time": "2024-01-05T20:16:51.528958800Z"
    }
   }
  },
  {
   "cell_type": "code",
   "execution_count": 2,
   "outputs": [
    {
     "name": "stdout",
     "output_type": "stream",
     "text": [
      "<class 'pandas.core.frame.DataFrame'>\n",
      "RangeIndex: 800 entries, 0 to 799\n",
      "Data columns (total 11 columns):\n",
      " #   Column     Non-Null Count  Dtype \n",
      "---  ------     --------------  ----- \n",
      " 0   pid        800 non-null    int64 \n",
      " 1   Name       799 non-null    object\n",
      " 2   Class 1    800 non-null    object\n",
      " 3   Class 2    414 non-null    object\n",
      " 4   HP         800 non-null    int64 \n",
      " 5   Attack     800 non-null    int64 \n",
      " 6   Defense    800 non-null    int64 \n",
      " 7   Sp. Atk    800 non-null    int64 \n",
      " 8   Sp. Def    800 non-null    int64 \n",
      " 9   Speed      800 non-null    int64 \n",
      " 10  Legendary  800 non-null    bool  \n",
      "dtypes: bool(1), int64(7), object(3)\n",
      "memory usage: 63.4+ KB\n"
     ]
    }
   ],
   "source": [
    "pokemon.info()"
   ],
   "metadata": {
    "collapsed": false,
    "ExecuteTime": {
     "end_time": "2024-01-05T20:10:44.410779700Z",
     "start_time": "2024-01-05T20:10:44.392605700Z"
    }
   }
  },
  {
   "cell_type": "markdown",
   "metadata": {
    "id": "8KytW3mUGZwT"
   },
   "source": [
    "### Задачи"
   ]
  },
  {
   "cell_type": "markdown",
   "metadata": {
    "id": "i72--cvLGZwT"
   },
   "source": [
    "<div class=\"alert alert-info\">\n",
    "<b>Задание № 1:</b>\n",
    "    \n",
    "Профессор Оук подозревает, что покемоны в классе `Grass` имеют более сильную обычную атаку, чем покемоны в классе `Rock`. Проверьте, прав ли он, и убедите его в своём выводе статистически.\n",
    "    \n",
    "    \n",
    "Примечание: если есть покемоны, которые относятся к обоим классам, просто выбросьте их;\n",
    "    \n",
    "Вы можете предположить, что распределение обычных атак является нормальным для всех классов покемонов.\n",
    "\n",
    "</div>"
   ]
  },
  {
   "cell_type": "code",
   "execution_count": 3,
   "outputs": [
    {
     "name": "stdout",
     "output_type": "stream",
     "text": [
      "Задание 1:\n",
      "t-статистика: -3.68673\n",
      "p-value: 0.00035\n",
      "Покемоны класса Grass имеют более сильную обычную атаку, чем покемоны класса Rock.\n"
     ]
    }
   ],
   "source": [
    "grass_data = pokemon[pokemon['Class 1'] == 'Grass'].copy()\n",
    "rock_data = pokemon[pokemon['Class 1'] == 'Rock'].copy()\n",
    "\n",
    "# Удаление покемонов, которые относятся к обоим классам\n",
    "grass_data.drop(grass_data[grass_data['Class 2'] == 'Rock'].index, inplace=True)\n",
    "rock_data.drop(rock_data[rock_data['Class 2'] == 'Grass'].index, inplace=True)\n",
    "\n",
    "# A/B-тестирование\n",
    "statistic, p = stats.ttest_ind(grass_data['Attack'], rock_data['Attack'])\n",
    "print('Задание 1:')\n",
    "print('t-статистика:', round(statistic,5))\n",
    "print('p-value:',round(p, 5))\n",
    "\n",
    "if p < 0.05:\n",
    "    print(\"Покемоны класса Grass имеют более сильную обычную атаку, чем покемоны класса Rock.\")\n",
    "else:\n",
    "    print(\"Нет статистически значимых различий в обычной атаке между классами Grass и Rock.\")"
   ],
   "metadata": {
    "collapsed": false,
    "ExecuteTime": {
     "end_time": "2024-01-05T20:10:46.898737200Z",
     "start_time": "2024-01-05T20:10:46.884446700Z"
    }
   }
  },
  {
   "cell_type": "markdown",
   "metadata": {
    "id": "KS2OVjmFGZwV"
   },
   "source": [
    "<div class=\"alert alert-info\">\n",
    "<b>Задание № 2:</b>\n",
    "    \n",
    "Профессор Оук уже долго не может спать по ночам, ведь его волнует вопрос, а правда ли, что покемоны в классе `Water` в среднем быстрее, чем покемоны в классе `Normal`.\n",
    "    \n",
    "    \n",
    "Проверьте, прав ли он, и убедите его в своём выводе статистически.\n",
    "    \n",
    "Примечание: если есть покемоны, которые относятся к обоим классам, выбросьте их;\n",
    "    \n",
    "Вы можете предположить, что распределение скорости движения является нормальным для всех классов покемонов.\n",
    "</div>"
   ]
  },
  {
   "cell_type": "code",
   "source": [
    "water_data = pokemon[pokemon['Class 1'] == 'Water'].copy()\n",
    "normal_data = pokemon[pokemon['Class 1'] == 'Normal'].copy()\n",
    "\n",
    "# Удаление покемонов, которые относятся к обоим классам\n",
    "water_data.drop(water_data[water_data['Class 2'] == 'Normal'].index, inplace=True)\n",
    "normal_data.drop(normal_data[normal_data['Class 2'] == 'Water'].index, inplace=True)\n",
    "\n",
    "# A/B-тестирование\n",
    "statistic, p = stats.ttest_ind(water_data['Speed'], normal_data['Speed'])\n",
    "print('t-статистика:', round(statistic,5))\n",
    "print('p-value:',round(p, 5))\n",
    "\n",
    "if p < 0.05:\n",
    "    print(\"Покемоны класса Water в среднем быстрее, чем покемоны класса Normal.\")\n",
    "else:\n",
    "    print(\"Нет статистически значимых различий в скорости движения между классами Water и Normal.\")"
   ],
   "metadata": {
    "id": "h_p9DQRzt3o_",
    "ExecuteTime": {
     "end_time": "2024-01-05T20:10:50.629236200Z",
     "start_time": "2024-01-05T20:10:50.587081Z"
    }
   },
   "execution_count": 4,
   "outputs": [
    {
     "name": "stdout",
     "output_type": "stream",
     "text": [
      "t-статистика: -1.56678\n",
      "p-value: 0.11869\n",
      "Нет статистически значимых различий в скорости движения между классами Water и Normal.\n"
     ]
    }
   ]
  },
  {
   "cell_type": "markdown",
   "metadata": {
    "id": "p9VPcdu-GZwb"
   },
   "source": [
    "<div class=\"alert alert-info\">\n",
    "<b>Задание № 3:</b>\n",
    "    \n",
    "Профессор Оук тот еще безумец. Он изобрёл сыворотку, способную ускорить покемона. Однако мы усомнились в эффективности его вакцины. Професоор дал эту сыворотку следующим покемонам: смотри массив `treathed_pokemon`. Проверьте, работает ли вообще его сыворотка, убедите всех в своём выводе статистически.\n",
    "    \n",
    "    \n",
    "Вы можете предположить, что распределение скорости движения является нормальным для всех классов покемонов.\n",
    "\n",
    "</div>"
   ]
  },
  {
   "cell_type": "code",
   "execution_count": 5,
   "metadata": {
    "id": "olGBBpq2GZwb",
    "ExecuteTime": {
     "end_time": "2024-01-05T20:10:53.063304300Z",
     "start_time": "2024-01-05T20:10:53.056579Z"
    }
   },
   "outputs": [],
   "source": [
    "# Покемоны, которые принимали сыворотку увеличения скорости\n",
    "treathed_pokemon = ['Mega Beedrill', 'Mega Alakazam',\n",
    "                    'Deoxys Normal Forme', 'Mega Lopunny']"
   ]
  },
  {
   "cell_type": "code",
   "source": [
    "\n",
    "\n",
    "treated_data = pokemon[pokemon['Name'].isin(treathed_pokemon)].copy()\n",
    "\n",
    "# A/B-тестирование сравнения скорости обработанных покемонов с остальными\n",
    "untreated_data = pokemon[~pokemon['Name'].isin(treathed_pokemon)].copy()\n",
    "statistic, p = stats.ttest_ind(treated_data['Speed'], untreated_data['Speed'])\n",
    "\n",
    "print('t-статистика:', round(statistic,5))\n",
    "print('p-value:',round(p, 5))\n",
    "\n",
    "\n",
    "if p < 0.05:\n",
    "    print(\"Сыворотка профессора Оука повышает скорость покемонов.\")\n",
    "else:\n",
    "    print(\"Нет статистически значимых различий в скорости покемонов, получивших сыворотку.\")"
   ],
   "metadata": {
    "id": "2hxZ3wbxt5T7",
    "ExecuteTime": {
     "end_time": "2024-01-05T20:10:54.653846900Z",
     "start_time": "2024-01-05T20:10:54.617342600Z"
    }
   },
   "execution_count": 6,
   "outputs": [
    {
     "name": "stdout",
     "output_type": "stream",
     "text": [
      "t-статистика: 5.38541\n",
      "p-value: 0.0\n",
      "Сыворотка профессора Оука повышает скорость покемонов.\n"
     ]
    }
   ]
  },
  {
   "cell_type": "markdown",
   "metadata": {
    "id": "IpgS6yk9GZwc"
   },
   "source": [
    "<div class=\"alert alert-info\">\n",
    "<b>Задание № 4:</b>\n",
    "    \n",
    "Профессор Оук всегда любил истории про легендарных покемонов. Однако профессор не очень уверен, что они лучше остальных покемонов. Оук предложил разобраться в этом нам. Проверьте, действительно ли сумма характеристик `HP`,`Attack`,`Defense` у легендарных покемонов выше, чем у других покемонов?\n",
    "\n",
    "А произведение этих же параметров?\n",
    "\n",
    "Найдите ответы на эти вопросы и убедите всех в своём выводе статистически.\n",
    "   \n",
    "\n",
    "Вы можете предположить, что распределение сум и произведений этих параметров является нормальным для всех классов покемонов.\n",
    "\n",
    "</div>"
   ]
  },
  {
   "cell_type": "code",
   "source": [
    "legendary_data = pokemon[pokemon['Legendary'] == True].copy()\n",
    "non_legendary_data = pokemon[pokemon['Legendary'] == False].copy()\n",
    "\n",
    "# A/B-тестирование для суммы и произведения характеристик у легендарных и не легендарных покемонов\n",
    "statistic_sum, p_sum = stats.ttest_ind(legendary_data['HP'] + legendary_data['Attack'] + legendary_data['Defense'],\n",
    "                                               non_legendary_data['HP'] + non_legendary_data['Attack'] + non_legendary_data['Defense'])\n",
    "statistic_prod, p_prod = stats.ttest_ind(legendary_data['HP'] * legendary_data['Attack'] * legendary_data['Defense'],\n",
    "                                                 non_legendary_data['HP'] * non_legendary_data['Attack'] * non_legendary_data['Defense'])\n",
    "\n",
    "\n",
    "print('t-статистика (сумма):', round(statistic_sum,5))\n",
    "print('p-value (сумма):', round(p_sum,5))\n",
    "print('t-статистика (произведение):', round(statistic_prod,5))\n",
    "print('p-value (произведение):',round(p_prod,5))\n",
    "\n",
    "if p_sum < 0.05:\n",
    "    print(\"Сумма характеристик HP, Attack и Defense у легендарных покемонов выше, чем у других покемонов.\")\n",
    "else:\n",
    "    print(\"Нет статистически значимых различий в сумме характеристик у легендарных и других покемонов.\")\n",
    "print('t-статистика (произведение):', round(statistic_prod,5))\n",
    "print('p-value (произведение):',round(p_prod,5))\n",
    "if p_prod < 0.05:\n",
    "    print(\"Произведение характеристик HP, Attack и Defense у легендарных покемонов выше, чем у других покемонов.\")\n",
    "else:\n",
    "    print(\"Нет статистически значимых различий в произведении характеристик у легендарных и других покемонов.\")"
   ],
   "metadata": {
    "id": "ah5AoxB1t8tA",
    "ExecuteTime": {
     "end_time": "2024-01-05T20:10:58.165322900Z",
     "start_time": "2024-01-05T20:10:58.074305700Z"
    }
   },
   "execution_count": 7,
   "outputs": [
    {
     "name": "stdout",
     "output_type": "stream",
     "text": [
      "t-статистика (сумма): 11.59185\n",
      "p-value (сумма): 0.0\n",
      "t-статистика (произведение): 13.26325\n",
      "p-value (произведение): 0.0\n",
      "Сумма характеристик HP, Attack и Defense у легендарных покемонов выше, чем у других покемонов.\n",
      "t-статистика (произведение): 13.26325\n",
      "p-value (произведение): 0.0\n",
      "Произведение характеристик HP, Attack и Defense у легендарных покемонов выше, чем у других покемонов.\n"
     ]
    }
   ]
  },
  {
   "cell_type": "markdown",
   "metadata": {
    "id": "g9GwcheAGZwc"
   },
   "source": [
    "<div class=\"alert alert-info\">\n",
    "<b>Задание № 5:</b>\n",
    "    \n",
    "Профессор Оук частенько наблюдает за боями покемонов. После очередных таких боёв Оук выделил четыре класса `best_defence_class`, которые на его взгляд одинаковы по \"силе обычной защиты\" `Defense`.\n",
    "\n",
    "Проверьте, действительно ли эти классы покемонов не отличаются по уровню защиты статистически значимо? Всё та же статистика вам в помощь!\n",
    "   \n",
    "\n",
    "Вы можете предположить, что распределение параметров защитных характеристик является нормальным для всех классов покемонов.\n",
    "\n",
    "</div>"
   ]
  },
  {
   "cell_type": "code",
   "execution_count": 8,
   "metadata": {
    "id": "F0w6ipNBGZwd",
    "colab": {
     "base_uri": "https://localhost:8080/"
    },
    "outputId": "e20a4efd-dcf6-4730-8730-91f7fec544ea",
    "ExecuteTime": {
     "end_time": "2024-01-05T20:11:00.960449Z",
     "start_time": "2024-01-05T20:11:00.950131Z"
    }
   },
   "outputs": [
    {
     "data": {
      "text/plain": "['Rock', 'Ground', 'Steel', 'Ice']"
     },
     "execution_count": 8,
     "metadata": {},
     "output_type": "execute_result"
    }
   ],
   "source": [
    "best_defence_class = ['Rock', 'Ground', 'Steel', 'Ice']\n",
    "best_defence_class"
   ]
  },
  {
   "cell_type": "code",
   "source": [
    "best_defence_classes = [\"Class A\", \"Class B\", \"Class C\", \"Class D\"]  # Список классов с одинаковым уровнем защиты\n",
    "\n",
    "defense_data = pokemon[pokemon['Class 1'].isin(best_defence_class)].copy()\n",
    "\n",
    "# A/B-тестирование для сравнения уровня защиты между классами\n",
    "statistic, p = stats.f_oneway(*[defense_data[defense_data['Class 1'] == c]['Defense'] for c in best_defence_class])\n",
    "\n",
    "print('t-статистика:', round(statistic,5))\n",
    "print('p-value:', round(p,5))\n",
    "\n",
    "if p < 0.05:\n",
    "    print(\"Уровень защиты классов покемонов статистически отличается.\")\n",
    "else:\n",
    "    print(\"Нет статистически значимых различий в уровне защиты между классами покемонов.\")"
   ],
   "metadata": {
    "id": "pYOPHA9Xt_eF",
    "ExecuteTime": {
     "end_time": "2024-01-05T20:11:02.436202700Z",
     "start_time": "2024-01-05T20:11:02.400314500Z"
    }
   },
   "execution_count": 9,
   "outputs": [
    {
     "name": "stdout",
     "output_type": "stream",
     "text": [
      "t-статистика: 10.57688\n",
      "p-value: 0.0\n",
      "Уровень защиты классов покемонов статистически отличается.\n"
     ]
    }
   ]
  },
  {
   "cell_type": "markdown",
   "source": [
    "# **Примечание:**\n",
    "\n",
    "Домашнее задание сдается ссылкой [Google Colab](https://colab.research.google.com/). Мы не сможем проверить его или помочь, если вы пришлете:\n",
    "\n",
    "*   файлы;\n",
    "*   архивы;\n",
    "*   скриншоты кода.\n",
    "\n",
    "Все обсуждения и консультации по выполнению домашнего задания ведутся только на соответствующем канале в Discord.\n",
    "\n",
    "**Как правильно задавать вопросы аспирантам, преподавателям и коллегам:**\n",
    "\n",
    "Прежде чем задать вопрос, попробуйте найти ответ в интернете. Навык самостоятельного поиска информации — один из важнейших. Каждый практикующий специалист любого уровня делает это ежедневно.\n",
    "\n",
    "Сформулируйте вопрос по алгоритму:\n",
    "\n",
    "1.   Что я делаю?\n",
    "2.   Какого результата я ожидаю?\n",
    "3.   Как фактический результат отличается от ожидаемого?\n",
    "4.   Что я уже попробовал сделать, чтобы исправить проблему?\n",
    "\n",
    "По возможности прикрепите к вопросу скриншоты либо ссылки на код. Не выкладывайте все решение, оставляйте только проблемный и воспроизводимый участок кода."
   ],
   "metadata": {
    "id": "If3qgUORDFBb"
   }
  },
  {
   "cell_type": "code",
   "execution_count": 19,
   "outputs": [],
   "source": [
    "meangroup1 = pokemon[pokemon['Class 1'].isin(['Grass', 'Fire', 'Water', 'Bug', 'Normal', 'Poison', 'Electric',\n",
    "                                              'Ground', 'Fairy', 'Fighting', 'Psychic', 'Rock', 'Ghost', 'Ice',\n",
    "                                              'Dragon', 'Dark', 'Steel', 'Flying'])].copy()\n",
    "\n",
    "meangroup2 = pokemon[pokemon['Class 1'].isin(['Poison', 'Flying', 'Dragon', 'Ground', 'Fairy', 'Grass', 'Fighting',\n",
    "                                              'Psychic', 'Steel', 'Ice', 'Rock', 'Dark', 'Water', 'Electric', 'Fire',\n",
    "                                              'Ghost', 'Bug', 'Normal'])].copy()\n",
    "\n"
   ],
   "metadata": {
    "collapsed": false,
    "ExecuteTime": {
     "end_time": "2024-01-05T20:20:03.939518Z",
     "start_time": "2024-01-05T20:20:03.920413800Z"
    }
   }
  },
  {
   "cell_type": "code",
   "execution_count": 21,
   "outputs": [
    {
     "name": "stdout",
     "output_type": "stream",
     "text": [
      "t-статистика: 0.0\n",
      "p-value: 1.0\n",
      "Нет статистически значимых различий в среднем значении между группами meangroup1 и meangroup2.\n"
     ]
    }
   ],
   "source": [
    "statistic, p = stats.ttest_ind(meangroup1['Attack'], meangroup2['Attack'])\n",
    "print('t-статистика:', round(statistic,5))\n",
    "print('p-value:',round(p, 5))\n",
    "\n",
    "if p < 0.05:\n",
    "    print(\"Среднее значение в группе meangroup1 больше, чем в группе meangroup2.\")\n",
    "else:\n",
    "    print(\"Нет статистически значимых различий в среднем значении между группами meangroup1 и meangroup2.\")\n"
   ],
   "metadata": {
    "collapsed": false,
    "ExecuteTime": {
     "end_time": "2024-01-05T20:20:49.402950800Z",
     "start_time": "2024-01-05T20:20:49.396370Z"
    }
   }
  }
 ],
 "metadata": {
  "kernelspec": {
   "display_name": "Python 3",
   "language": "python",
   "name": "python3"
  },
  "language_info": {
   "codemirror_mode": {
    "name": "ipython",
    "version": 3
   },
   "file_extension": ".py",
   "mimetype": "text/x-python",
   "name": "python",
   "nbconvert_exporter": "python",
   "pygments_lexer": "ipython3",
   "version": "3.7.6"
  },
  "toc": {
   "base_numbering": 1,
   "nav_menu": {},
   "number_sections": true,
   "sideBar": true,
   "skip_h1_title": false,
   "title_cell": "Table of Contents",
   "title_sidebar": "Contents",
   "toc_cell": false,
   "toc_position": {},
   "toc_section_display": true,
   "toc_window_display": false
  },
  "colab": {
   "provenance": []
  }
 },
 "nbformat": 4,
 "nbformat_minor": 0
}
