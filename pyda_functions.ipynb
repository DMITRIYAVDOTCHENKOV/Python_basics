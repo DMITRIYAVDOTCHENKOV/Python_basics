{
  "nbformat": 4,
  "nbformat_minor": 0,
  "metadata": {
    "colab": {
      "provenance": [],
      "toc_visible": true
    },
    "kernelspec": {
      "name": "python3",
      "display_name": "Python 3"
    },
    "language_info": {
      "name": "python"
    }
  },
  "cells": [
    {
      "cell_type": "markdown",
      "metadata": {
        "id": "edQI-m-cCgpV"
      },
      "source": [
        "# Практика по теме \"Функции\"\n",
        "\n",
        "**Булыгин Олег**\n",
        "* [Я в LinkedIn](linkedin.com/in/obulygin)  \n",
        "* [Мой канал в ТГ по Python](https://t.me/pythontalk_ru)\n",
        "* [Чат канала](https://t.me/pythontalk_chat)\n",
        "* [Блог в Телетайпе](https://teletype.in/@pythontalk)\n"
      ]
    },
    {
      "cell_type": "markdown",
      "metadata": {
        "id": "XOY7VKI357LA"
      },
      "source": [
        "## Основы\n",
        "\n",
        "Вспомним [базовый синтаксис](https://teletype.in/@pythontalk/functions_python). Напишем, которая определяет является ли строка палиндромом.\n",
        "\n",
        "Пример работы программы:\n",
        "```\n",
        "print(is_palindrom('Радар'))\n",
        "True\n",
        "```\n",
        "\n",
        "```\n",
        "print(is_palindrom('строка'))\n",
        "False\n",
        "```"
      ]
    },
    {
      "cell_type": "code",
      "metadata": {
        "id": "TL8qWkEI6mLE",
        "colab": {
          "base_uri": "https://localhost:8080/"
        },
        "outputId": "2cde379e-ea7c-4ffa-bc04-9addfd25cab2"
      },
      "source": [
        "def is_palindrome(string_):\n",
        "    \"\"\"\n",
        "    Checks if a given string is a palindrome.\n",
        "\n",
        "    Parameters:\n",
        "        string_ (str): The string to be checked.\n",
        "\n",
        "    Returns:\n",
        "        bool: True if the string is a palindrome, False otherwise.\n",
        "    \"\"\"\n",
        "    string_ = string_.replace(' ', '') # убираем пробелы\n",
        "    return string_.lower() == string_.lower()[::-1] # сравниваем строку с перевернутой\n",
        "\n",
        "print(is_palindrome('А роза упала на лапу Азора'))\n",
        "print(is_palindrome('Не могу сказать, что это палиндром'))"
      ],
      "execution_count": null,
      "outputs": [
        {
          "output_type": "stream",
          "name": "stdout",
          "text": [
            "True\n",
            "False\n"
          ]
        }
      ]
    },
    {
      "cell_type": "markdown",
      "source": [
        "У функции есть параметр string_, а при вызове функции мы передаем конкретные строки - аргументы. Не путайте понятия \"параметр\" и \"аргумент\"!\n",
        "\n"
      ],
      "metadata": {
        "id": "IW9GC_X2U2qO"
      }
    },
    {
      "cell_type": "markdown",
      "source": [
        "\n",
        "\n",
        "Не ленитесь писать докстринги к сложным функциям. Подробнее про них можно почитать [здесь](https://teletype.in/@pythontalk/docstring_formats)."
      ],
      "metadata": {
        "id": "PZRCqnnqV79v"
      }
    },
    {
      "cell_type": "code",
      "source": [
        "help(is_palindrome)"
      ],
      "metadata": {
        "colab": {
          "base_uri": "https://localhost:8080/"
        },
        "id": "3xJ-TdCAV6u1",
        "outputId": "69c88970-4c08-4117-b2d6-6413f75f229f"
      },
      "execution_count": null,
      "outputs": [
        {
          "output_type": "stream",
          "name": "stdout",
          "text": [
            "Help on function is_palindrome in module __main__:\n",
            "\n",
            "is_palindrome(string_)\n",
            "    Checks if a given string is a palindrome.\n",
            "    \n",
            "    Parameters:\n",
            "        string_ (str): The string to be checked.\n",
            "    \n",
            "    Returns:\n",
            "        bool: True if the string is a palindrome, False otherwise.\n",
            "\n"
          ]
        }
      ]
    },
    {
      "cell_type": "markdown",
      "source": [
        "**return**\n",
        "\n",
        "* Ключевое слово return прекращает выполнение функции и возвращает указанное после выражения значение.\n",
        "\n",
        "* Выражение return без аргументов это то же самое, что и выражение return None.\n",
        "\n",
        "* То, что функция возвращает можно присваивать какой-либо переменной."
      ],
      "metadata": {
        "id": "DsU0yteYeeJJ"
      }
    },
    {
      "cell_type": "code",
      "source": [
        "res = is_palindrome('А роза упала на лапу Азора')\n",
        "print(res)"
      ],
      "metadata": {
        "colab": {
          "base_uri": "https://localhost:8080/"
        },
        "id": "iCgoMh0Nehkx",
        "outputId": "9ae11f16-7d8d-44f7-c369-f2716cabcb96"
      },
      "execution_count": null,
      "outputs": [
        {
          "output_type": "stream",
          "name": "stdout",
          "text": [
            "True\n"
          ]
        }
      ]
    },
    {
      "cell_type": "markdown",
      "source": [
        "Зачем использовать функции?  \n",
        "Допустим, у нас есть таблица с ценами в рублях, а мы хотим пересчитать их в евро и отформатировать. Сделаем это сначала без функций."
      ],
      "metadata": {
        "id": "VErh1PKhasg_"
      }
    },
    {
      "cell_type": "code",
      "source": [
        "ticket_db = [{'price': 400}, {'price': 200}, {'price': 150}]\n",
        "\n",
        "tickets_euro = []\n",
        "for ticket in ticket_db:\n",
        "    converted = ticket['price'] / 100\n",
        "    rounded = round(converted, 2)\n",
        "    formatted = '€' + str(rounded)\n",
        "    tickets_euro.append(formatted)\n",
        "\n",
        "print(tickets_euro)"
      ],
      "metadata": {
        "id": "GY1cOPJ9awha",
        "colab": {
          "base_uri": "https://localhost:8080/"
        },
        "outputId": "27294aa2-bd01-4e62-cb04-05459995cfd5"
      },
      "execution_count": null,
      "outputs": [
        {
          "output_type": "stream",
          "name": "stdout",
          "text": [
            "['€4.0', '€2.0', '€1.5']\n"
          ]
        }
      ]
    },
    {
      "cell_type": "markdown",
      "source": [
        "Пока всё неплохо. Но проходит время, и у нас появляется ещё две таблицы с ценами, и с каждой нужно сделать ту же самую операцию.\n",
        "\n"
      ],
      "metadata": {
        "id": "UMKLOyyxaxs4"
      }
    },
    {
      "cell_type": "code",
      "source": [
        "ticket_db = [{'price': 400}, {'price': 200}, {'price': 150}]\n",
        "\n",
        "tickets_euro = []\n",
        "for ticket in ticket_db:\n",
        "    converted = ticket['price'] / 70\n",
        "    rounded = round(converted, 2)\n",
        "    formatted = '€' + str(rounded)\n",
        "    tickets_euro.append(formatted)\n",
        "\n",
        "\n",
        "guide_db = [{'price': 50}, {'price': 40}]\n",
        "\n",
        "guides_euro = []\n",
        "for guide in guide_db:\n",
        "    converted = guide['price'] / 100\n",
        "    rounded = round(converted, 2)\n",
        "    formatted = '€' + str(rounded)\n",
        "    guides_euro.append(formatted)\n",
        "\n",
        "\n",
        "snack_db = [{'price': 100}, {'price': 95}, {'price': 150}]\n",
        "\n",
        "snacks_euro = []\n",
        "for snack in snack_db:\n",
        "    converted = snack['price'] / 100\n",
        "    rounded = round(converted, 2)\n",
        "    formatted = '€' + str(rounded)\n",
        "    snacks_euro.append(formatted)\n",
        "\n",
        "print(tickets_euro, guides_euro, snacks_euro)"
      ],
      "metadata": {
        "id": "BIYHFzvQazWx",
        "colab": {
          "base_uri": "https://localhost:8080/"
        },
        "outputId": "3f3171c5-6221-4368-ed89-eeaec5951069"
      },
      "execution_count": null,
      "outputs": [
        {
          "output_type": "stream",
          "name": "stdout",
          "text": [
            "['€5.71', '€2.86', '€2.14'] ['€0.5', '€0.4'] ['€1.0', '€0.95', '€1.5']\n"
          ]
        }
      ]
    },
    {
      "cell_type": "markdown",
      "source": [
        "Мы видим, что одни и те же операции повторяются раз за разом. Когда вы где-то встречаете такое, вы должны сразу подумать: \"О, отличное место для функции\". Перепишем этот пример с использованием функций.\n",
        "\n"
      ],
      "metadata": {
        "id": "7izIzWsAa0YI"
      }
    },
    {
      "cell_type": "code",
      "source": [
        "def to_euro(price):\n",
        "    exchange_rate = 100\n",
        "    rounded = round(price/exchange_rate, 2)\n",
        "    return '€' + str(rounded)\n",
        "\n",
        "def db_to_euro(db):\n",
        "    return [to_euro(item['price']) for item in db]\n",
        "\n",
        "\n",
        "ticket_db = [{'price': 400}, {'price': 200}, {'price': 150}]\n",
        "guide_db = [{'price': 50}, {'price': 40}]\n",
        "snack_db = [{'price': 100}, {'price': 95}, {'price': 150}]\n",
        "\n",
        "tickets_euro = db_to_euro(ticket_db)\n",
        "guides_euro = db_to_euro(guide_db)\n",
        "snacks_euro = db_to_euro(snack_db)\n",
        "\n",
        "print(tickets_euro, guides_euro, snacks_euro)"
      ],
      "metadata": {
        "id": "AYyfwv7Ua1hc",
        "colab": {
          "base_uri": "https://localhost:8080/"
        },
        "outputId": "9d081c33-4114-4fe2-8e55-4778217d40e1"
      },
      "execution_count": null,
      "outputs": [
        {
          "output_type": "stream",
          "name": "stdout",
          "text": [
            "['€4.0', '€2.0', '€1.5'] ['€0.5', '€0.4'] ['€1.0', '€0.95', '€1.5']\n"
          ]
        }
      ]
    },
    {
      "cell_type": "markdown",
      "source": [
        "Вы можете использовать функции, даже не зная, как именно они реализованы внутри.\n",
        "\n",
        "Например, выше мы пересчитывали рубли в доллары и использовали постоянный курс. Если бы мы решили забирать данные о курсе из базы данных или с сайта центробанка, то нам нужно было бы изменить логику только в одном месте в самой функции, а все вызовы функции остались бы неизменными."
      ],
      "metadata": {
        "id": "9LQUpABna6zQ"
      }
    },
    {
      "cell_type": "markdown",
      "source": [
        "## Необязательные аргументы\n",
        "\n",
        "Для функции в Python мы можем определить необязательные аргументы, которые можно не указывать при её вызове.\n",
        "\n",
        "Например, print печатает свои аргументы через пробел, но изредка было бы полезно печатать их через запятую."
      ],
      "metadata": {
        "id": "LsUHnbEidNK-"
      }
    },
    {
      "cell_type": "code",
      "source": [
        "print(1, 2, 3, 4)\n",
        "print(1, 2, 3, 4, sep=', ')"
      ],
      "metadata": {
        "colab": {
          "base_uri": "https://localhost:8080/"
        },
        "id": "LmORVEM1kiDZ",
        "outputId": "8e9c71d2-a4fb-40c4-dd66-97f2d786c0e6"
      },
      "execution_count": null,
      "outputs": [
        {
          "output_type": "stream",
          "name": "stdout",
          "text": [
            "1 2 3 4\n",
            "1, 2, 3, 4\n"
          ]
        }
      ]
    },
    {
      "cell_type": "markdown",
      "source": [
        "* Если значения по умолчанию нет, аргумент считается обязательным.  \n",
        "* При вызове функции мы по порядку передаём все обязательные аргументы, а потом необязательные.  \n",
        "* Мы можем не соблюдать порядок аргументов, если в явном виде указывать их имена.  "
      ],
      "metadata": {
        "id": "J-VfxkPml64N"
      }
    },
    {
      "cell_type": "code",
      "source": [
        "def power(number, number_2=2):\n",
        "    result = number ** number_2\n",
        "    return result\n",
        "\n",
        "print(power(10))\n",
        "print(power(10, 7))\n",
        "print(power(number_2=7, number=10))"
      ],
      "metadata": {
        "colab": {
          "base_uri": "https://localhost:8080/"
        },
        "id": "0WN7Du6Plwjj",
        "outputId": "1ea7ca40-528e-4560-c16e-39f90152b42a"
      },
      "execution_count": null,
      "outputs": [
        {
          "output_type": "stream",
          "name": "stdout",
          "text": [
            "100\n",
            "10000000\n",
            "10000000\n"
          ]
        }
      ]
    },
    {
      "cell_type": "markdown",
      "metadata": {
        "id": "BF7EhPbcSVBV"
      },
      "source": [
        "## Args / kwargs\n",
        "\n",
        "Иногда возникает ситуация, когда вы заранее не знаете, какое количество аргументов будет необходимо принять функции. В этом случае следует использовать [звёздочки](https://teletype.in/@pythontalk/python_asteriks)."
      ]
    },
    {
      "cell_type": "markdown",
      "source": [
        "### *args"
      ],
      "metadata": {
        "id": "cuEsAHrrRu4E"
      }
    },
    {
      "cell_type": "markdown",
      "source": [
        "Функция может принимать неопределённочи число позиционных аргументов. Используя одну звёздочку мы упакуем все аргументы в параметр-кортеж."
      ],
      "metadata": {
        "id": "imRUcYvwVZSl"
      }
    },
    {
      "cell_type": "code",
      "source": [
        "def multiply(*args):\n",
        "    print(args)\n",
        "    product = 1\n",
        "    for num in args:\n",
        "        product *= num\n",
        "    return product\n",
        "\n",
        "print(multiply(1, 2, 3, 4))\n",
        "print(multiply(1, 2, 3, 4, 5, 6))"
      ],
      "metadata": {
        "colab": {
          "base_uri": "https://localhost:8080/"
        },
        "id": "T08_SP57Rwow",
        "outputId": "56246d5a-533b-4799-9f71-4bc4e176feca"
      },
      "execution_count": null,
      "outputs": [
        {
          "output_type": "stream",
          "name": "stdout",
          "text": [
            "(1, 2, 3, 4)\n",
            "24\n",
            "(1, 2, 3, 4, 5, 6)\n",
            "720\n"
          ]
        }
      ]
    },
    {
      "cell_type": "markdown",
      "source": [
        "### **kwargs\n",
        "\n",
        "Аналогично функция может принимать произвольное число _именованных_ аргументов, используя две звёздочки (**kwargs). В этом случае они все упаковываются в словарь, в котором ключи - это имена аргументов, а значения - соответствующие им значения.\n",
        "\n"
      ],
      "metadata": {
        "id": "X60mZC1rR4cD"
      }
    },
    {
      "cell_type": "code",
      "source": [
        "def print_config(**kwargs):\n",
        "    print(kwargs)\n",
        "    for key, value in kwargs.items():\n",
        "        print(f'{key}: {value}')\n",
        "\n",
        "\n",
        "print_config(school=\"netology\")\n",
        "print_config(school=\"netology\", course=\"data analytics\", language=\"python\")\n"
      ],
      "metadata": {
        "colab": {
          "base_uri": "https://localhost:8080/"
        },
        "id": "l_c2GKEtSCYg",
        "outputId": "d0851a06-9463-4713-a18c-53fb07e1c44c"
      },
      "execution_count": null,
      "outputs": [
        {
          "output_type": "stream",
          "name": "stdout",
          "text": [
            "{'school': 'netology'}\n",
            "school: netology\n",
            "{'school': 'netology', 'course': 'data analytics', 'language': 'python'}\n",
            "school: netology\n",
            "course: data analytics\n",
            "language: python\n"
          ]
        }
      ]
    },
    {
      "cell_type": "markdown",
      "source": [
        "Для корректного разбора всех аргументов должен соблюдаться определённый порядок:\n",
        "\n",
        "1) обязательные аргументы;  \n",
        "2) \\*args;  \n",
        "3) необязательные аргументы;  \n",
        "4) **kwargs.  \n",
        "\n",
        "\n",
        "Например, правильная последовательность типов аргументов в определении функции может выглядеть так:\n",
        "\n"
      ],
      "metadata": {
        "id": "GiYISmcnSS0p"
      }
    },
    {
      "cell_type": "code",
      "source": [
        "def ideal_function(x, y, *args, p=10, q=20, **kwargs):\n",
        "    return x * y"
      ],
      "metadata": {
        "id": "E3POEdESSUCq"
      },
      "execution_count": null,
      "outputs": []
    },
    {
      "cell_type": "markdown",
      "source": [
        "При  этом любую часть из этих четырёх можно опустить."
      ],
      "metadata": {
        "id": "Ic4wIeJ-SVXP"
      }
    },
    {
      "cell_type": "markdown",
      "metadata": {
        "id": "6GGM5SzuRYl3"
      },
      "source": [
        "Напишем функцию, которая будет находить среднюю цену квартиры по всем переданным в нее районам города"
      ]
    },
    {
      "cell_type": "code",
      "metadata": {
        "id": "CRljX_0tRexA"
      },
      "source": [
        "district_1 = {'flat_1': 10500, 'flat_2': 11000}\n",
        "district_2 = {'flat_3': 15000}\n",
        "district_3 = {'flat_4': 6500, 'flat_5': 7000, 'flat_6': 6000}"
      ],
      "execution_count": null,
      "outputs": []
    },
    {
      "cell_type": "markdown",
      "source": [
        "1. Эта функция использует *args, чтобы принять только значения из каждого словаря в виде отдельных аргументов. Функция суммирует все эти значения и делит на их количество, чтобы получить среднее значение."
      ],
      "metadata": {
        "id": "pLOEjq3gUA69"
      }
    },
    {
      "cell_type": "code",
      "source": [
        "def get_avg_price(*districts):\n",
        "    print(districts) # получаем кортеж со всеми значениями\n",
        "    return round(sum(districts) / len(districts), 2)\n",
        "\n",
        "get_avg_price(*district_3.values(), *district_2.values(), *district_1.values())"
      ],
      "metadata": {
        "colab": {
          "base_uri": "https://localhost:8080/"
        },
        "id": "PLRHPNTQyuTD",
        "outputId": "d47d2c5c-31b8-4397-c85e-7a5692f7917d"
      },
      "execution_count": null,
      "outputs": [
        {
          "output_type": "stream",
          "name": "stdout",
          "text": [
            "(6500, 7000, 6000, 15000)\n"
          ]
        },
        {
          "output_type": "execute_result",
          "data": {
            "text/plain": [
              "8625.0"
            ]
          },
          "metadata": {},
          "execution_count": 16
        }
      ]
    },
    {
      "cell_type": "markdown",
      "source": [
        "2. Эта функция использует **kwargs, чтобы передавать словари как именованные аргументы, и функция автоматически объединяет их в один словарь. Однако, если у нас есть ключи с одинаковыми именами в разных словарях, значения будут перезаписаны, и некоторые данные могут быть потеряны."
      ],
      "metadata": {
        "id": "40Bmb9VxUJEb"
      }
    },
    {
      "cell_type": "code",
      "source": [
        "def get_avg_price(**districts):\n",
        "    print(districts) # получаем словарь\n",
        "    return round(sum(districts.values()) / len(districts), 2)\n",
        "\n",
        "get_avg_price(**district_3, **district_2, **district_1)"
      ],
      "metadata": {
        "colab": {
          "base_uri": "https://localhost:8080/"
        },
        "id": "Iit4jSvwaa3U",
        "outputId": "2e59e578-81a2-4b61-bcd2-6e9aaa1a7cd0"
      },
      "execution_count": null,
      "outputs": [
        {
          "output_type": "stream",
          "name": "stdout",
          "text": [
            "{'flat_4': 6500, 'flat_5': 7000, 'flat_6': 6000, 'flat_3': 15000, 'flat_1': 10500, 'flat_2': 11000}\n"
          ]
        },
        {
          "output_type": "execute_result",
          "data": {
            "text/plain": [
              "9333.33"
            ]
          },
          "metadata": {},
          "execution_count": 17
        }
      ]
    },
    {
      "cell_type": "markdown",
      "source": [
        "3. Эта функция принимает один аргумент - словарь. В функцию передаётся общий словарь, который получается путём распаковки всех исходных словарей в него. Этот метод также может привести к потере данных, если у нас есть ключи с одинаковыми именами в разных словарях."
      ],
      "metadata": {
        "id": "8Lmud11xUWqP"
      }
    },
    {
      "cell_type": "code",
      "source": [
        "def get_avg_price(districts):\n",
        "    print(districts) # получаем словарь\n",
        "    return round(sum(districts.values()) / len(districts), 2)\n",
        "\n",
        "get_avg_price({**district_3, **district_2, **district_1})"
      ],
      "metadata": {
        "colab": {
          "base_uri": "https://localhost:8080/"
        },
        "id": "O1H5pBmya6Jy",
        "outputId": "ba497d93-8949-4c84-841c-e026a16d04cb"
      },
      "execution_count": null,
      "outputs": [
        {
          "output_type": "stream",
          "name": "stdout",
          "text": [
            "{'flat_4': 6500, 'flat_5': 7000, 'flat_6': 6000, 'flat_3': 15000, 'flat_1': 10500, 'flat_2': 11000}\n"
          ]
        },
        {
          "output_type": "execute_result",
          "data": {
            "text/plain": [
              "9333.33"
            ]
          },
          "metadata": {},
          "execution_count": 18
        }
      ]
    },
    {
      "cell_type": "markdown",
      "metadata": {
        "id": "mgMjftejd7Ph"
      },
      "source": [
        "## Функции высшего порядка и lambda-функции\n",
        "\n",
        "\n"
      ]
    },
    {
      "cell_type": "markdown",
      "source": [
        "### Функция map\n",
        "\n",
        "В Python функции являются объектами, поэтому вы можете обращаться с ними, как и с любой другой переменной, например, передавать их в качестве аргумента в другую функцию. Функции, которые принимают в качестве аргумента другие функции, называются **функциями высшего порядка**.\n",
        "\n",
        "Функция map - одна из таких функций. Map применяет функцию-аргумент к каждому элементу итерируемого объекта, который мы передаём вторым аргументом.\n"
      ],
      "metadata": {
        "id": "QcydLLDxbUOb"
      }
    },
    {
      "cell_type": "markdown",
      "metadata": {
        "id": "1whxQleKMlLv"
      },
      "source": [
        "Получим список из средних цен в каждой категории товаров стандартным способом:"
      ]
    },
    {
      "cell_type": "code",
      "metadata": {
        "id": "xZTL8aTPMNEE"
      },
      "source": [
        "prices_by_categories = [[100, 200, 400, 600], [200, 500], [100, 200, 100, 100], [800, 900]]"
      ],
      "execution_count": null,
      "outputs": []
    },
    {
      "cell_type": "code",
      "metadata": {
        "colab": {
          "base_uri": "https://localhost:8080/"
        },
        "id": "m1DA5YEIMxw3",
        "outputId": "7b1c324b-1fb9-4e5c-f361-3e06b6d891d4"
      },
      "source": [
        "def get_avg_prices(prices):\n",
        "    mean_prices = []\n",
        "    for category in prices:\n",
        "        mean_prices.append(sum(category) / len(category))\n",
        "    return mean_prices\n",
        "\n",
        "print(get_avg_prices(prices_by_categories))"
      ],
      "execution_count": null,
      "outputs": [
        {
          "output_type": "stream",
          "name": "stdout",
          "text": [
            "[325.0, 350.0, 125.0, 850.0]\n"
          ]
        }
      ]
    },
    {
      "cell_type": "markdown",
      "source": [
        "А что если написать функцию для расчета среднего и использовать ее в map?"
      ],
      "metadata": {
        "id": "KtGIeA7sqfHm"
      }
    },
    {
      "cell_type": "code",
      "source": [
        "def get_avg(list_):\n",
        "    return sum(list_) / len(list_)\n",
        "\n",
        "print(list(map(get_avg, prices_by_categories)))"
      ],
      "metadata": {
        "colab": {
          "base_uri": "https://localhost:8080/"
        },
        "id": "Hr-la4Iaqm4X",
        "outputId": "93b66c04-4dca-41ac-bee2-b91a56308ac7"
      },
      "execution_count": null,
      "outputs": [
        {
          "output_type": "stream",
          "name": "stdout",
          "text": [
            "[325.0, 350.0, 125.0, 850.0]\n"
          ]
        }
      ]
    },
    {
      "cell_type": "markdown",
      "source": [
        "Мы использовали list потому, что map возвращает [итератор](https://teletype.in/@pythontalk/iterator_generator), напрямую его содержимое (без цикла) увидеть нельзя."
      ],
      "metadata": {
        "id": "Jxuj8-zsbajB"
      }
    },
    {
      "cell_type": "markdown",
      "source": [
        "Мы также можем использовать map со встроенными функциями.\n",
        "\n"
      ],
      "metadata": {
        "id": "DvkiiJBVbebz"
      }
    },
    {
      "cell_type": "code",
      "source": [
        "print(list(map(sum, prices_by_categories)))"
      ],
      "metadata": {
        "colab": {
          "base_uri": "https://localhost:8080/"
        },
        "id": "ZUXaLDqAsLun",
        "outputId": "5a426ff7-7666-471a-c686-ef76bc854f98"
      },
      "execution_count": null,
      "outputs": [
        {
          "output_type": "stream",
          "name": "stdout",
          "text": [
            "[1300, 700, 500, 1700]\n"
          ]
        }
      ]
    },
    {
      "cell_type": "markdown",
      "source": [
        "### Lambda-функции\n",
        "[Анонимные функции](https://teletype.in/@pythontalk/lambda_functions) могут содержать лишь одно выражение, и им необязательно давать имя. Выполняются быстрее обычных и не требуют инструкции return."
      ],
      "metadata": {
        "id": "3E7cGlHybmyn"
      }
    },
    {
      "cell_type": "code",
      "source": [
        "(lambda prices: sum(prices) / len(prices))([1, 2, 3, 4])"
      ],
      "metadata": {
        "colab": {
          "base_uri": "https://localhost:8080/"
        },
        "id": "Wk6ny_flrzkt",
        "outputId": "32e3ae92-011d-4024-a489-c45f05e5def8"
      },
      "execution_count": null,
      "outputs": [
        {
          "output_type": "execute_result",
          "data": {
            "text/plain": [
              "2.5"
            ]
          },
          "metadata": {},
          "execution_count": 23
        }
      ]
    },
    {
      "cell_type": "code",
      "source": [
        "l_func = lambda prices: sum(prices) / len(prices)\n",
        "\n",
        "l_func([1, 2, 3, 4])"
      ],
      "metadata": {
        "colab": {
          "base_uri": "https://localhost:8080/"
        },
        "id": "5Awh4cKjXjgs",
        "outputId": "c5542b70-4b36-4a25-ba10-88b454b7aa20"
      },
      "execution_count": null,
      "outputs": [
        {
          "output_type": "execute_result",
          "data": {
            "text/plain": [
              "2.5"
            ]
          },
          "metadata": {},
          "execution_count": 24
        }
      ]
    },
    {
      "cell_type": "markdown",
      "source": [
        "Связка lambda c map (и другими функциями высшего порядка) помогает реализовывать однострочные лаконмчные решения без циклов"
      ],
      "metadata": {
        "id": "L9xPbptBXN2B"
      }
    },
    {
      "cell_type": "code",
      "metadata": {
        "id": "zWKy77kXQaTT",
        "colab": {
          "base_uri": "https://localhost:8080/"
        },
        "outputId": "fa0236ec-848b-434a-8f47-6ee64b40adeb"
      },
      "source": [
        "print(list(map(lambda prices: sum(prices) / len(prices), prices_by_categories)))"
      ],
      "execution_count": null,
      "outputs": [
        {
          "output_type": "stream",
          "name": "stdout",
          "text": [
            "[325.0, 350.0, 125.0, 850.0]\n"
          ]
        }
      ]
    },
    {
      "cell_type": "markdown",
      "source": [
        "[Тут](https://teletype.in/@pythontalk/lambdas_examples) можете ознакомиться с доп. примерами применения lambda-функций"
      ],
      "metadata": {
        "id": "3ZhBjAqvuNTH"
      }
    },
    {
      "cell_type": "markdown",
      "source": [
        "### Функция filter\n",
        "\n",
        "filter также принимает на вход произвольную функцию и составной объект. Filter применяет переданную функцию последовательно к каждому элементу и ожидает, что функция вернёт логическое значение True/False. На выход она возвращает только те элементы, для которых значение было True."
      ],
      "metadata": {
        "id": "jFQ1NQwCcLc4"
      }
    },
    {
      "cell_type": "markdown",
      "metadata": {
        "id": "yH-gS2ATQesE"
      },
      "source": [
        "Решим задачу с фильтрацией структуры по гордам без цикла"
      ]
    },
    {
      "cell_type": "code",
      "metadata": {
        "id": "EBLHeZpvQnFZ"
      },
      "source": [
        "geo_logs = [\n",
        "    {'visit1': ['Москва', 'Россия']},\n",
        "    {'visit2': ['Дели', 'Индия']},\n",
        "    {'visit3': ['Владимир', 'Россия']},\n",
        "    {'visit4': ['Лиссабон', 'Португалия']},\n",
        "    {'visit5': ['Париж', 'Франция']},\n",
        "    {'visit7': ['Тула', 'Россия']},\n",
        "    {'visit9': ['Курск', 'Россия']},\n",
        "    {'visit10': ['Архангельск', 'Россия']}\n",
        "]"
      ],
      "execution_count": null,
      "outputs": []
    },
    {
      "cell_type": "code",
      "metadata": {
        "id": "DaRAQ3R1QsP1",
        "colab": {
          "base_uri": "https://localhost:8080/"
        },
        "outputId": "26ebdbaf-75d3-4a2a-b8d0-75ce91f7be6c"
      },
      "source": [
        "result = []\n",
        "for log in geo_logs:\n",
        "    # print(list(log.values()))\n",
        "    if 'Россия' in list(log.values())[0]:\n",
        "        result.append(log)\n",
        "\n",
        "print(result)"
      ],
      "execution_count": null,
      "outputs": [
        {
          "output_type": "stream",
          "name": "stdout",
          "text": [
            "[{'visit1': ['Москва', 'Россия']}, {'visit3': ['Владимир', 'Россия']}, {'visit7': ['Тула', 'Россия']}, {'visit9': ['Курск', 'Россия']}, {'visit10': ['Архангельск', 'Россия']}]\n"
          ]
        }
      ]
    },
    {
      "cell_type": "code",
      "metadata": {
        "id": "69ru-aTZQu8j",
        "colab": {
          "base_uri": "https://localhost:8080/"
        },
        "outputId": "4bc4c26e-f248-464b-cc2b-038d755a1afa"
      },
      "source": [
        "print(list(filter(lambda log: 'Россия' in list(log.values())[0], geo_logs)))"
      ],
      "execution_count": null,
      "outputs": [
        {
          "output_type": "stream",
          "name": "stdout",
          "text": [
            "[{'visit1': ['Москва', 'Россия']}, {'visit3': ['Владимир', 'Россия']}, {'visit7': ['Тула', 'Россия']}, {'visit9': ['Курск', 'Россия']}, {'visit10': ['Архангельск', 'Россия']}]\n"
          ]
        }
      ]
    },
    {
      "cell_type": "markdown",
      "metadata": {
        "id": "ONpdieq_fpaF"
      },
      "source": [
        "### Функция reduce\n",
        "\n",
        "* reduce() принимает два аргумента: функцию и итерируемый объект (например, список).\n",
        "* Функция, которая передается в reduce(), должна принимать два аргумента.\n",
        "reduce() применяет эту функцию к элементам итерируемого объекта следующим образом: сначала функция применяется к первым двум элементам и возвращает значение. Затем это значение становится первым аргументом функции для следующего вызова, а вторым аргументом становится следующий элемент итерируемого объекта.\n",
        "* Этот процесс продолжается до тех пор, пока не будут обработаны все элементы итерируемого объекта, и reduce() возвращает одно значение.\n"
      ]
    },
    {
      "cell_type": "markdown",
      "source": [
        "Напишем функцию, преобразующую произвольный список вида `['2018-01-01', 'yandex', 'cpc', 100]` (он может быть любой длины) в словарь `{'2018-01-01': {'yandex': {'cpc': 100}}}`"
      ],
      "metadata": {
        "id": "_Auo26Lrs2xR"
      }
    },
    {
      "cell_type": "code",
      "metadata": {
        "id": "GEn97dBdfxx_"
      },
      "source": [
        "some_list = ['2023-01-01', 'yandex', 'cpc', 100]"
      ],
      "execution_count": null,
      "outputs": []
    },
    {
      "cell_type": "code",
      "metadata": {
        "colab": {
          "base_uri": "https://localhost:8080/"
        },
        "id": "tpi4nSM-gLOh",
        "outputId": "d9d5ea36-ba73-4f23-a9a8-c23e0dba99cc"
      },
      "source": [
        "def get_crazy_nested_dict(some_list):\n",
        "    res = some_list[-1]\n",
        "    for el in reversed(some_list[:-1]):\n",
        "        res = {el: res}\n",
        "    return res\n",
        "\n",
        "print(get_crazy_nested_dict(some_list))"
      ],
      "execution_count": null,
      "outputs": [
        {
          "output_type": "stream",
          "name": "stdout",
          "text": [
            "{'2023-01-01': {'yandex': {'cpc': 100}}}\n"
          ]
        }
      ]
    },
    {
      "cell_type": "code",
      "source": [
        "from functools import reduce\n",
        "#  ['2023-01-01', 'yandex', 'cpc', 100]\n",
        "\n",
        "\n",
        "print(reduce(lambda el1, el2: {el2: el1}, reversed(some_list)))"
      ],
      "metadata": {
        "colab": {
          "base_uri": "https://localhost:8080/"
        },
        "id": "MB9kPPyItKAN",
        "outputId": "83399c85-3e22-4fcb-fff9-c813f258b1f5"
      },
      "execution_count": null,
      "outputs": [
        {
          "output_type": "stream",
          "name": "stdout",
          "text": [
            "{'2023-01-01': {'yandex': {'cpc': 100}}}\n"
          ]
        }
      ]
    },
    {
      "cell_type": "code",
      "source": [
        "prices_by_categories = [[100, 200, 400, 600], [200, 500], [100, 200, 100, 100], [800, 900]]\n",
        "\n",
        "sorted(prices_by_categories, key=lambda prices: sum(prices))"
      ],
      "metadata": {
        "colab": {
          "base_uri": "https://localhost:8080/"
        },
        "id": "Ivl8aoIdgQ34",
        "outputId": "42089b07-4f83-4a02-f73b-6fad206f1d49"
      },
      "execution_count": null,
      "outputs": [
        {
          "output_type": "execute_result",
          "data": {
            "text/plain": [
              "[[100, 200, 100, 100], [200, 500], [100, 200, 400, 600], [800, 900]]"
            ]
          },
          "metadata": {},
          "execution_count": 40
        }
      ]
    },
    {
      "cell_type": "markdown",
      "metadata": {
        "id": "_mY3dvurRsd4"
      },
      "source": [
        "## Попрактикуемся"
      ]
    },
    {
      "cell_type": "code",
      "metadata": {
        "id": "OPd5-8lVRuL5"
      },
      "source": [
        "students_list = [\n",
        "    {\"name\": \"Василий\", \"surname\": \"Теркин\", \"gender\": \"м\", \"program_exp\": True, \"grade\": [8, 8, 9, 10], \"exam\": 8},\n",
        "    {\"name\": \"Мария\", \"surname\": \"Павлова\", \"gender\": \"ж\", \"program_exp\": True, \"grade\": [7, 8, 9, 7, 9], \"exam\": 9},\n",
        "    {\"name\": \"Ирина\", \"surname\": \"Андреева\", \"gender\": \"ж\", \"program_exp\": False, \"grade\": [10, 9, 8, 10], \"exam\": 7},\n",
        "    {\"name\": \"Татьяна\", \"surname\": \"Сидорова\", \"gender\": \"ж\", \"program_exp\": False, \"grade\": [7, 8, 8, 9, 8],\"exam\": 10},\n",
        "    {\"name\": \"Иван\", \"surname\": \"Васильев\", \"gender\": \"м\", \"program_exp\": True, \"grade\": [9, 8, 9, 6, 9, 4], \"exam\": 5},\n",
        "    {\"name\": \"Роман\", \"surname\": \"Золотарев\", \"gender\": \"м\", \"program_exp\": False, \"grade\": [8, 9, 9, 6, 9], \"exam\": 6}\n",
        "]"
      ],
      "execution_count": null,
      "outputs": []
    },
    {
      "cell_type": "code",
      "source": [
        "def get_difference(students):\n",
        "    for student in students:\n",
        "        diff = sum(student[\"grade\"]) / len(student[\"grade\"]) - student[\"exam\"]\n",
        "        print(f'У {student[\"name\"]} {student[\"surname\"]} разница баллов: {diff :.2f}')\n",
        "\n",
        "get_difference(students_list)"
      ],
      "metadata": {
        "colab": {
          "base_uri": "https://localhost:8080/"
        },
        "id": "iZ088UYVisrT",
        "outputId": "3c95bcef-df12-4632-b18f-2bbea576ecdb"
      },
      "execution_count": null,
      "outputs": [
        {
          "output_type": "stream",
          "name": "stdout",
          "text": [
            "У Василий Теркин разница баллов: 0.75\n",
            "У Мария Павлова разница баллов: -1.00\n",
            "У Ирина Андреева разница баллов: 2.25\n",
            "У Татьяна Сидорова разница баллов: -2.00\n",
            "У Иван Васильев разница баллов: 2.50\n",
            "У Роман Золотарев разница баллов: 2.20\n"
          ]
        }
      ]
    },
    {
      "cell_type": "code",
      "source": [
        "def get_avg_grade(students):\n",
        "    sum_ = 0\n",
        "\n",
        "    for student in students:\n",
        "        sum_ += (sum(student[\"grade\"]) / len(student[\"grade\"]) + student[\"exam\"]) / 2\n",
        "\n",
        "    return round(sum_ / len(students), 2)\n",
        "\n",
        "print(get_avg_grade(students_list))\n",
        "\n",
        "def get_avg_grade(students):\n",
        "    return round(sum(map(lambda student: (sum(student[\"grade\"]) / len(student[\"grade\"]) + student[\"exam\"]) / 2, students)) / len(students), 2)\n",
        "\n",
        "print(get_avg_grade(students_list))"
      ],
      "metadata": {
        "colab": {
          "base_uri": "https://localhost:8080/"
        },
        "id": "erdFjugfisuI",
        "outputId": "3c4a464f-87bc-4e28-9a69-32a51ac9fe95"
      },
      "execution_count": null,
      "outputs": [
        {
          "output_type": "stream",
          "name": "stdout",
          "text": [
            "7.89\n",
            "7.89\n"
          ]
        }
      ]
    },
    {
      "cell_type": "code",
      "source": [
        "def filter_students(students, exp):\n",
        "    res = []\n",
        "\n",
        "    for student in students:\n",
        "        if student['program_exp'] == exp:\n",
        "            res.append(student)\n",
        "\n",
        "    return res\n",
        "\n",
        "print(filter_students(students_list, True))\n",
        "print(filter_students(students_list, False))\n",
        "\n",
        "def filter_students(students, exp):\n",
        "    return list(filter(lambda student: student['program_exp'] == exp, students))\n",
        "\n",
        "print(filter_students(students_list, True))\n",
        "print(filter_students(students_list, False))"
      ],
      "metadata": {
        "colab": {
          "base_uri": "https://localhost:8080/"
        },
        "id": "ZFJU3Ng2neFd",
        "outputId": "41e55f49-faf8-4aea-dc23-cfe5ea3ea981"
      },
      "execution_count": null,
      "outputs": [
        {
          "output_type": "stream",
          "name": "stdout",
          "text": [
            "[{'name': 'Василий', 'surname': 'Теркин', 'gender': 'м', 'program_exp': True, 'grade': [8, 8, 9, 10], 'exam': 8}, {'name': 'Мария', 'surname': 'Павлова', 'gender': 'ж', 'program_exp': True, 'grade': [7, 8, 9, 7, 9], 'exam': 9}, {'name': 'Иван', 'surname': 'Васильев', 'gender': 'м', 'program_exp': True, 'grade': [9, 8, 9, 6, 9, 4], 'exam': 5}]\n",
            "[{'name': 'Ирина', 'surname': 'Андреева', 'gender': 'ж', 'program_exp': False, 'grade': [10, 9, 8, 10], 'exam': 7}, {'name': 'Татьяна', 'surname': 'Сидорова', 'gender': 'ж', 'program_exp': False, 'grade': [7, 8, 8, 9, 8], 'exam': 10}, {'name': 'Роман', 'surname': 'Золотарев', 'gender': 'м', 'program_exp': False, 'grade': [8, 9, 9, 6, 9], 'exam': 6}]\n",
            "[{'name': 'Василий', 'surname': 'Теркин', 'gender': 'м', 'program_exp': True, 'grade': [8, 8, 9, 10], 'exam': 8}, {'name': 'Мария', 'surname': 'Павлова', 'gender': 'ж', 'program_exp': True, 'grade': [7, 8, 9, 7, 9], 'exam': 9}, {'name': 'Иван', 'surname': 'Васильев', 'gender': 'м', 'program_exp': True, 'grade': [9, 8, 9, 6, 9, 4], 'exam': 5}]\n",
            "[{'name': 'Ирина', 'surname': 'Андреева', 'gender': 'ж', 'program_exp': False, 'grade': [10, 9, 8, 10], 'exam': 7}, {'name': 'Татьяна', 'surname': 'Сидорова', 'gender': 'ж', 'program_exp': False, 'grade': [7, 8, 8, 9, 8], 'exam': 10}, {'name': 'Роман', 'surname': 'Золотарев', 'gender': 'м', 'program_exp': False, 'grade': [8, 9, 9, 6, 9], 'exam': 6}]\n"
          ]
        }
      ]
    },
    {
      "cell_type": "code",
      "source": [
        "print(get_avg_grade(students_list))\n",
        "print(get_avg_grade(filter_students(students_list, True)))\n",
        "print(get_avg_grade(filter_students(students_list, False)))"
      ],
      "metadata": {
        "colab": {
          "base_uri": "https://localhost:8080/"
        },
        "id": "ZX8f0GrEpG2Q",
        "outputId": "00abb08e-9710-408a-cf86-eac751aa2b4b"
      },
      "execution_count": null,
      "outputs": [
        {
          "output_type": "stream",
          "name": "stdout",
          "text": [
            "7.89\n",
            "7.71\n",
            "8.08\n"
          ]
        }
      ]
    },
    {
      "cell_type": "code",
      "source": [
        "def main(students):\n",
        "    while True:\n",
        "        comand = input('Введите команду: ')\n",
        "        if comand == '1':\n",
        "            print(get_avg_grade(students))\n",
        "        elif comand == '2':\n",
        "            print(get_avg_grade(filter_students(students, True)))\n",
        "        elif comand == '3':\n",
        "            print(get_avg_grade(filter_students(students, False)))\n",
        "        elif comand == 'q':\n",
        "            print('Выход из программы')\n",
        "            break\n",
        "\n",
        "main(students_list)"
      ],
      "metadata": {
        "colab": {
          "base_uri": "https://localhost:8080/"
        },
        "id": "4DENy1-7pgjl",
        "outputId": "7bce9ff8-6c2e-4b60-cda5-b19214ff6ff0"
      },
      "execution_count": null,
      "outputs": [
        {
          "output_type": "stream",
          "name": "stdout",
          "text": [
            "Введите команду: 1\n",
            "7.89\n",
            "Введите команду: 2\n",
            "7.71\n",
            "Введите команду: 3\n",
            "8.08\n",
            "Введите команду: 1\n",
            "7.89\n",
            "Введите команду: й\n",
            "Введите команду: q\n",
            "Выход из программы\n"
          ]
        }
      ]
    },
    {
      "cell_type": "markdown",
      "source": [
        "# Что ещё почитать?\n",
        "\n",
        "* Укус Питона, [глава про функции](https://python.swaroopch.com/functions.html)\n",
        "\n",
        "* Про [передачу аргументов по ссылке](https://teletype.in/@pythontalk/involuntary_borgs)"
      ],
      "metadata": {
        "id": "mwXhdgetiYiS"
      }
    },
    {
      "cell_type": "code",
      "source": [],
      "metadata": {
        "id": "3LT6ig_WibV6"
      },
      "execution_count": null,
      "outputs": []
    }
  ]
}