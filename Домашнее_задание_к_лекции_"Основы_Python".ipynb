{
  "nbformat": 4,
  "nbformat_minor": 0,
  "metadata": {
    "colab": {
      "provenance": [],
      "authorship_tag": "ABX9TyNfq9Fzf2nnUSYv6j20kbKu",
      "include_colab_link": true
    },
    "kernelspec": {
      "name": "python3",
      "display_name": "Python 3"
    },
    "language_info": {
      "name": "python"
    }
  },
  "cells": [
    {
      "cell_type": "markdown",
      "metadata": {
        "id": "view-in-github",
        "colab_type": "text"
      },
      "source": [
        "<a href=\"https://colab.research.google.com/github/DMITRIYAVDOTCHENKOV/Python_basics/blob/master/%D0%94%D0%BE%D0%BC%D0%B0%D1%88%D0%BD%D0%B5%D0%B5_%D0%B7%D0%B0%D0%B4%D0%B0%D0%BD%D0%B8%D0%B5_%D0%BA_%D0%BB%D0%B5%D0%BA%D1%86%D0%B8%D0%B8_%22%D0%9E%D1%81%D0%BD%D0%BE%D0%B2%D1%8B_Python%22.ipynb\" target=\"_parent\"><img src=\"https://colab.research.google.com/assets/colab-badge.svg\" alt=\"Open In Colab\"/></a>"
      ]
    },
    {
      "cell_type": "markdown",
      "source": [
        "# Задача 1:\n",
        "### Даны 2 переменных, в которых хранятся строки произвольной длины: phrase_1 и phrase_2. Напишите код, который проверяет какая из этих строк длиннее."
      ],
      "metadata": {
        "id": "mobeZr6dnXiR"
      }
    },
    {
      "cell_type": "code",
      "source": [
        "\n",
        "def checking_string_length(phrase_1,phrase_2):\n",
        "  if len(phrase_1) > len(phrase_2):\n",
        "    return (\"строка 'phrase_1' длинеее строки 'phrase_2'\")\n",
        "  elif len(phrase_1) < len(phrase_2):\n",
        "    return (\"строка 'phrase_2' длинеее строки 'phrase_1'\")\n",
        "  else :\n",
        "    return (\"Строки равны\")"
      ],
      "metadata": {
        "id": "lF5cb1ojne5j"
      },
      "execution_count": 8,
      "outputs": []
    },
    {
      "cell_type": "code",
      "source": [
        "phrase_1 = \"Меня зовут Дмитрий, и мне 33 года!\"\n",
        "phrase_2 = \"Меня зовут Дмитрий, и мне 33 года. Хочу стать великим Аналитиком\"\n",
        "\n",
        "result = checking_string_length(phrase_1,phrase_2)\n",
        "print(result)"
      ],
      "metadata": {
        "colab": {
          "base_uri": "https://localhost:8080/"
        },
        "id": "5LUu8iW6p0yC",
        "outputId": "089ba2e0-6845-4956-babe-75956f6473b1"
      },
      "execution_count": 17,
      "outputs": [
        {
          "output_type": "stream",
          "name": "stdout",
          "text": [
            "строка 'phrase_2' длинеее строки 'phrase_1'\n"
          ]
        }
      ]
    },
    {
      "cell_type": "markdown",
      "source": [
        "# Задание 2\n",
        "### Дана переменная, в которой хранится число (год). Необходимо написать программу, которая выведет, является ли данный год високосным или обычным."
      ],
      "metadata": {
        "id": "31z2ZIXTrEIT"
      }
    },
    {
      "cell_type": "code",
      "source": [
        "def search_for_high_year(year):\n",
        "  if ((year % 4 == 0) or (year % 100 != 0) and (year % 400 == 0)):\n",
        "    return (\"Год высокостный\")\n",
        "  else:\n",
        "    return (\"Год обычный\")\n"
      ],
      "metadata": {
        "id": "DfsWlhO1rLhL"
      },
      "execution_count": 20,
      "outputs": []
    },
    {
      "cell_type": "code",
      "source": [
        "year = 2020\n",
        "result = search_for_high_year(year)\n",
        "print(result)"
      ],
      "metadata": {
        "colab": {
          "base_uri": "https://localhost:8080/"
        },
        "id": "iSSgYuxAtUpE",
        "outputId": "5d5aa3bc-a92b-4119-a87e-fd38e31a39b7"
      },
      "execution_count": 50,
      "outputs": [
        {
          "output_type": "stream",
          "name": "stdout",
          "text": [
            "Год высокостный\n"
          ]
        }
      ]
    },
    {
      "cell_type": "markdown",
      "source": [
        "# Задание 3\n",
        "### Необходимо написать программу, которая будет запрашивать у пользователя месяц и дату рождения и выводить соответствующий знак зодиака."
      ],
      "metadata": {
        "id": "Xfn2r0aeuIMj"
      }
    },
    {
      "cell_type": "code",
      "source": [
        "def zodiac_sign(day, month):\n",
        "    if (month == 1 and day >= 20) or (month == 2 and day <= 18):\n",
        "        return \"Водолей\"\n",
        "    elif (month == 2 and day >= 19) or (month == 3 and day <= 20):\n",
        "        return \"Рыбы\"\n",
        "    elif (month == 3 and day >= 21) or (month == 4 and day <= 19):\n",
        "        return \"Овен\"\n",
        "    elif (month == 4 and day >= 20) or (month == 5 and day <= 20):\n",
        "        return \"Телец\"\n",
        "    elif (month == 5 and day >= 21) or (month == 6 and day <= 20):\n",
        "        return \"Близнецы\"\n",
        "    elif (month == 6 and day >= 21) or (month == 7 and day <= 22):\n",
        "        return \"Рак\"\n",
        "    elif (month == 7 and day >= 23) or (month == 8 and day <= 22):\n",
        "        return \"Лев\"\n",
        "    elif (month == 8 and day >= 23) or (month == 9 and day <= 22):\n",
        "        return \"Дева\"\n",
        "    elif (month == 9 and day >= 23) or (month == 10 and day <= 22):\n",
        "        return \"Весы\"\n",
        "    elif (month == 10 and day >= 23) or (month == 11 and day <= 21):\n",
        "        return \"Скорпион\"\n",
        "    elif (month == 11 and day >= 22) or (month == 12 and day <= 21):\n",
        "        return \"Стрелец\"\n",
        "    else:\n",
        "        return \"Козерог\"\n",
        "\n",
        "def main():\n",
        "    day = int(input(\"Введите день рождения: \"))\n",
        "    month = int(input(\"Введите месяц рождения: \"))\n",
        "\n",
        "    zodiac = zodiac_sign(day, month)\n",
        "    print(\"Ваш знак зодиака: \", zodiac)\n",
        "\n",
        "if __name__ == \"__main__\":\n",
        "    main()"
      ],
      "metadata": {
        "colab": {
          "base_uri": "https://localhost:8080/"
        },
        "id": "VV79xRzuuMSo",
        "outputId": "9ca4fa52-2f5c-41e0-8c00-6cb6da5e6cba"
      },
      "execution_count": 35,
      "outputs": [
        {
          "output_type": "stream",
          "name": "stdout",
          "text": [
            "Введите день рождения: 21\n",
            "Введите месяц рождения: 12\n",
            "Ваш знак зодиака:  Стрелец\n"
          ]
        }
      ]
    },
    {
      "cell_type": "markdown",
      "source": [
        "# Задание 4\n",
        "## Вам нужно написать программу для подбора упаковок по размерам товара. Размеры (ширина, длина, высота) хранятся в переменных (в сантиметрах):\n",
        "### Используйте следующие правила:\n",
        "* если каждое из трех измерений менее или равно 15 сантиметрам, то выведите на экран \"Коробка №1\";\n",
        "* если хотя бы одно из измерений больше 2 метров, то выводите \"Упаковка для лыж\";\n",
        "* если хотя бы одно из измерений больше 15 сантиметров, но менее 50 сантиметров, то выводите \"Коробка №2\";\n",
        "* во всех остальных случаях выводите \"Коробка №3\"."
      ],
      "metadata": {
        "id": "oZn8nFSlxAbS"
      }
    },
    {
      "cell_type": "code",
      "source": [
        "def Box_selection(width,length,height):\n",
        "  if (width <= 15 and length <= 15 and height <= 15):\n",
        "    return(\"Коробка №1\")\n",
        "  elif(width > 200 or length > 200 or height > 200):\n",
        "    return(\"Упаковка для лыж\")\n",
        "  elif width > 15 and length > 15 and height > 15 and height < 50 and width < 50 and length < 50 and height < 50:\n",
        "    return(\"Коробка №2\")\n",
        "  else:\n",
        "    return(\"Коробка №3\")"
      ],
      "metadata": {
        "id": "YXYgEmBKve_X"
      },
      "execution_count": 46,
      "outputs": []
    },
    {
      "cell_type": "code",
      "source": [
        "width = 45\n",
        "length = 205\n",
        "height = 45\n",
        "\n",
        "result = Box_selection(width, length, height)\n",
        "print(result)"
      ],
      "metadata": {
        "colab": {
          "base_uri": "https://localhost:8080/"
        },
        "id": "cc7H--srzIB4",
        "outputId": "12622c55-124f-4136-9c82-8bb5c6d1a070"
      },
      "execution_count": 48,
      "outputs": [
        {
          "output_type": "stream",
          "name": "stdout",
          "text": [
            "Упаковка для лыж\n"
          ]
        }
      ]
    },
    {
      "cell_type": "code",
      "source": [],
      "metadata": {
        "id": "E_uJAQvyzVMs"
      },
      "execution_count": null,
      "outputs": []
    }
  ]
}