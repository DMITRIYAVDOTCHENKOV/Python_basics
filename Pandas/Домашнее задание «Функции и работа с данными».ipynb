{
 "cells": [
  {
   "cell_type": "markdown",
   "source": [
    "# Задание"
   ],
   "metadata": {
    "collapsed": false
   },
   "id": "49aa34225cb600fa"
  },
  {
   "cell_type": "markdown",
   "source": [
    "## Задание 1\n",
    "Напишите функцию, которая классифицирует фильмы из материалов занятия по правилам:\n",
    "\n",
    "оценка 2 и ниже — низкий рейтинг;\n",
    "оценка 4 и ниже — средний рейтинг;\n",
    "оценка 4.5 и 5 — высокий рейтинг.\n",
    "Результат классификации запишите в столбец class."
   ],
   "metadata": {
    "collapsed": false
   },
   "id": "c0ab2cd536270bd4"
  },
  {
   "cell_type": "code",
   "execution_count": 2,
   "outputs": [],
   "source": [
    "import pandas as pd"
   ],
   "metadata": {
    "collapsed": false,
    "ExecuteTime": {
     "end_time": "2023-11-13T19:11:57.391664500Z",
     "start_time": "2023-11-13T19:11:57.383476300Z"
    }
   },
   "id": "ec4f6cfd73c2760e"
  },
  {
   "cell_type": "code",
   "execution_count": 22,
   "outputs": [
    {
     "data": {
      "text/plain": "   movieId             title                                       genres  \\\n0        1  Toy Story (1995)  Adventure|Animation|Children|Comedy|Fantasy   \n1        1  Toy Story (1995)  Adventure|Animation|Children|Comedy|Fantasy   \n2        1  Toy Story (1995)  Adventure|Animation|Children|Comedy|Fantasy   \n3        1  Toy Story (1995)  Adventure|Animation|Children|Comedy|Fantasy   \n4        1  Toy Story (1995)  Adventure|Animation|Children|Comedy|Fantasy   \n\n   userId  rating   timestamp  \n0       1     4.0   964982703  \n1       5     4.0   847434962  \n2       7     4.5  1106635946  \n3      15     2.5  1510577970  \n4      17     4.5  1305696483  ",
      "text/html": "<div>\n<style scoped>\n    .dataframe tbody tr th:only-of-type {\n        vertical-align: middle;\n    }\n\n    .dataframe tbody tr th {\n        vertical-align: top;\n    }\n\n    .dataframe thead th {\n        text-align: right;\n    }\n</style>\n<table border=\"1\" class=\"dataframe\">\n  <thead>\n    <tr style=\"text-align: right;\">\n      <th></th>\n      <th>movieId</th>\n      <th>title</th>\n      <th>genres</th>\n      <th>userId</th>\n      <th>rating</th>\n      <th>timestamp</th>\n    </tr>\n  </thead>\n  <tbody>\n    <tr>\n      <th>0</th>\n      <td>1</td>\n      <td>Toy Story (1995)</td>\n      <td>Adventure|Animation|Children|Comedy|Fantasy</td>\n      <td>1</td>\n      <td>4.0</td>\n      <td>964982703</td>\n    </tr>\n    <tr>\n      <th>1</th>\n      <td>1</td>\n      <td>Toy Story (1995)</td>\n      <td>Adventure|Animation|Children|Comedy|Fantasy</td>\n      <td>5</td>\n      <td>4.0</td>\n      <td>847434962</td>\n    </tr>\n    <tr>\n      <th>2</th>\n      <td>1</td>\n      <td>Toy Story (1995)</td>\n      <td>Adventure|Animation|Children|Comedy|Fantasy</td>\n      <td>7</td>\n      <td>4.5</td>\n      <td>1106635946</td>\n    </tr>\n    <tr>\n      <th>3</th>\n      <td>1</td>\n      <td>Toy Story (1995)</td>\n      <td>Adventure|Animation|Children|Comedy|Fantasy</td>\n      <td>15</td>\n      <td>2.5</td>\n      <td>1510577970</td>\n    </tr>\n    <tr>\n      <th>4</th>\n      <td>1</td>\n      <td>Toy Story (1995)</td>\n      <td>Adventure|Animation|Children|Comedy|Fantasy</td>\n      <td>17</td>\n      <td>4.5</td>\n      <td>1305696483</td>\n    </tr>\n  </tbody>\n</table>\n</div>"
     },
     "execution_count": 22,
     "metadata": {},
     "output_type": "execute_result"
    }
   ],
   "source": [
    "movies = pd.read_csv('D:\\\\Нетология python\\\\Pandas\\\\ml-latest-small\\\\ml-latest-small\\\\movies.csv')\n",
    "ratings = pd.read_csv(\n",
    "    'D:\\\\Нетология python\\\\Лекция _Библиотека_numpy\\\\10._Основы_pandas\\\\10._Основы_pandas\\\\Файлы к заданию №1\\\\ratings.csv')\n",
    "\n",
    "merged_movies_rating = pd.merge(movies, ratings, on='movieId', how='inner')\n",
    "merged_movies_rating.head()\n"
   ],
   "metadata": {
    "collapsed": false,
    "ExecuteTime": {
     "end_time": "2023-11-13T19:38:44.618602700Z",
     "start_time": "2023-11-13T19:38:44.553436700Z"
    }
   },
   "id": "a4467804002dacd6"
  },
  {
   "cell_type": "code",
   "execution_count": 28,
   "outputs": [],
   "source": [
    "# def classify_rating(row):\n",
    "#     if row['rating'] <= 2:\n",
    "#         return 'низкий рейтинг'\n",
    "#     elif row['rating'] <= 4:\n",
    "#         return 'средний рейтинг'\n",
    "#     elif row['rating'] >= 4.5:\n",
    "#         return 'высокий рейтинг'\n",
    "#     else:\n",
    "#         return 'не определен'\n",
    "\n",
    "merged_movies_rating['class'] = merged_movies_rating['rating'].apply(\n",
    "    lambda x: 'низкий рейтинг' if x <= 2 else ('средний рейтинг' if x <= 4 else 'высокий рейтинг'))"
   ],
   "metadata": {
    "collapsed": false,
    "ExecuteTime": {
     "end_time": "2023-11-13T19:47:10.551329100Z",
     "start_time": "2023-11-13T19:47:10.529133Z"
    }
   },
   "id": "1ea46717b5d7e5a5"
  },
  {
   "cell_type": "code",
   "execution_count": 29,
   "outputs": [
    {
     "data": {
      "text/plain": "   movieId             title                                       genres  \\\n0        1  Toy Story (1995)  Adventure|Animation|Children|Comedy|Fantasy   \n1        1  Toy Story (1995)  Adventure|Animation|Children|Comedy|Fantasy   \n2        1  Toy Story (1995)  Adventure|Animation|Children|Comedy|Fantasy   \n3        1  Toy Story (1995)  Adventure|Animation|Children|Comedy|Fantasy   \n4        1  Toy Story (1995)  Adventure|Animation|Children|Comedy|Fantasy   \n\n   userId  rating   timestamp            class  \n0       1     4.0   964982703  средний рейтинг  \n1       5     4.0   847434962  средний рейтинг  \n2       7     4.5  1106635946  высокий рейтинг  \n3      15     2.5  1510577970  средний рейтинг  \n4      17     4.5  1305696483  высокий рейтинг  ",
      "text/html": "<div>\n<style scoped>\n    .dataframe tbody tr th:only-of-type {\n        vertical-align: middle;\n    }\n\n    .dataframe tbody tr th {\n        vertical-align: top;\n    }\n\n    .dataframe thead th {\n        text-align: right;\n    }\n</style>\n<table border=\"1\" class=\"dataframe\">\n  <thead>\n    <tr style=\"text-align: right;\">\n      <th></th>\n      <th>movieId</th>\n      <th>title</th>\n      <th>genres</th>\n      <th>userId</th>\n      <th>rating</th>\n      <th>timestamp</th>\n      <th>class</th>\n    </tr>\n  </thead>\n  <tbody>\n    <tr>\n      <th>0</th>\n      <td>1</td>\n      <td>Toy Story (1995)</td>\n      <td>Adventure|Animation|Children|Comedy|Fantasy</td>\n      <td>1</td>\n      <td>4.0</td>\n      <td>964982703</td>\n      <td>средний рейтинг</td>\n    </tr>\n    <tr>\n      <th>1</th>\n      <td>1</td>\n      <td>Toy Story (1995)</td>\n      <td>Adventure|Animation|Children|Comedy|Fantasy</td>\n      <td>5</td>\n      <td>4.0</td>\n      <td>847434962</td>\n      <td>средний рейтинг</td>\n    </tr>\n    <tr>\n      <th>2</th>\n      <td>1</td>\n      <td>Toy Story (1995)</td>\n      <td>Adventure|Animation|Children|Comedy|Fantasy</td>\n      <td>7</td>\n      <td>4.5</td>\n      <td>1106635946</td>\n      <td>высокий рейтинг</td>\n    </tr>\n    <tr>\n      <th>3</th>\n      <td>1</td>\n      <td>Toy Story (1995)</td>\n      <td>Adventure|Animation|Children|Comedy|Fantasy</td>\n      <td>15</td>\n      <td>2.5</td>\n      <td>1510577970</td>\n      <td>средний рейтинг</td>\n    </tr>\n    <tr>\n      <th>4</th>\n      <td>1</td>\n      <td>Toy Story (1995)</td>\n      <td>Adventure|Animation|Children|Comedy|Fantasy</td>\n      <td>17</td>\n      <td>4.5</td>\n      <td>1305696483</td>\n      <td>высокий рейтинг</td>\n    </tr>\n  </tbody>\n</table>\n</div>"
     },
     "execution_count": 29,
     "metadata": {},
     "output_type": "execute_result"
    }
   ],
   "source": [
    "merged_movies_rating.head()"
   ],
   "metadata": {
    "collapsed": false,
    "ExecuteTime": {
     "end_time": "2023-11-13T19:47:24.941095100Z",
     "start_time": "2023-11-13T19:47:24.930694500Z"
    }
   },
   "id": "85d84038a86e4e4f"
  },
  {
   "cell_type": "markdown",
   "source": [
    "## Задание 2\n",
    "Используйте файл keywords.csv.\n",
    "\n",
    "Нужно написать гео-классификатор, который каждой строке сможет выставить географическую принадлежность определённому региону. Т. е. если поисковый запрос содержит название города региона, то в столбце ‘region’ пишется название этого региона. Если поисковый запрос не содержит названия города, то ставим ‘undefined’.\n",
    "\n",
    "Правила распределения по регионам Центр, Северо-Запад и Дальний Восток:\n",
    "\n",
    "geo_data = {\n",
    "\n",
    "1\n",
    "2\n",
    "3\n",
    "4\n",
    "5\n",
    "'Центр': ['москва', 'тула', 'ярославль'],\n",
    "\n",
    "'Северо-Запад': ['петербург', 'псков', 'мурманск'],\n",
    "\n",
    "'Дальний Восток': ['владивосток', 'сахалин', 'хабаровск']\n",
    "}\n",
    "\n",
    "Результат классификации запишите в отдельный столбец region"
   ],
   "metadata": {
    "collapsed": false
   },
   "id": "a6eda10ff6f5d9f6"
  },
  {
   "cell_type": "code",
   "execution_count": 30,
   "outputs": [
    {
     "data": {
      "text/plain": "                       keyword     shows\n0                           вк  64292779\n1                одноклассники  63810309\n2                        порно  41747114\n3                         ютуб  39995567\n4                    вконтакте  21014195\n...                        ...       ...\n99995   эльдорадо старый оскол      3705\n99996      frigate для firefox      3630\n99997                   укрсиб      3630\n99998  погода в ялте на неделю      3688\n99999                     ггму      3630\n\n[100000 rows x 2 columns]",
      "text/html": "<div>\n<style scoped>\n    .dataframe tbody tr th:only-of-type {\n        vertical-align: middle;\n    }\n\n    .dataframe tbody tr th {\n        vertical-align: top;\n    }\n\n    .dataframe thead th {\n        text-align: right;\n    }\n</style>\n<table border=\"1\" class=\"dataframe\">\n  <thead>\n    <tr style=\"text-align: right;\">\n      <th></th>\n      <th>keyword</th>\n      <th>shows</th>\n    </tr>\n  </thead>\n  <tbody>\n    <tr>\n      <th>0</th>\n      <td>вк</td>\n      <td>64292779</td>\n    </tr>\n    <tr>\n      <th>1</th>\n      <td>одноклассники</td>\n      <td>63810309</td>\n    </tr>\n    <tr>\n      <th>2</th>\n      <td>порно</td>\n      <td>41747114</td>\n    </tr>\n    <tr>\n      <th>3</th>\n      <td>ютуб</td>\n      <td>39995567</td>\n    </tr>\n    <tr>\n      <th>4</th>\n      <td>вконтакте</td>\n      <td>21014195</td>\n    </tr>\n    <tr>\n      <th>...</th>\n      <td>...</td>\n      <td>...</td>\n    </tr>\n    <tr>\n      <th>99995</th>\n      <td>эльдорадо старый оскол</td>\n      <td>3705</td>\n    </tr>\n    <tr>\n      <th>99996</th>\n      <td>frigate для firefox</td>\n      <td>3630</td>\n    </tr>\n    <tr>\n      <th>99997</th>\n      <td>укрсиб</td>\n      <td>3630</td>\n    </tr>\n    <tr>\n      <th>99998</th>\n      <td>погода в ялте на неделю</td>\n      <td>3688</td>\n    </tr>\n    <tr>\n      <th>99999</th>\n      <td>ггму</td>\n      <td>3630</td>\n    </tr>\n  </tbody>\n</table>\n<p>100000 rows × 2 columns</p>\n</div>"
     },
     "execution_count": 30,
     "metadata": {},
     "output_type": "execute_result"
    }
   ],
   "source": [
    "GEO = pd.read_csv('D:\\\\Нетология python\\\\Pandas\\\\ml-latest-small\\\\ml-latest-small\\\\keywords.csv')\n",
    "GEO"
   ],
   "metadata": {
    "collapsed": false,
    "ExecuteTime": {
     "end_time": "2023-11-13T19:50:11.188039Z",
     "start_time": "2023-11-13T19:50:11.094906600Z"
    }
   },
   "id": "65a6a084c7dbe856"
  },
  {
   "cell_type": "code",
   "execution_count": 33,
   "outputs": [],
   "source": [
    "\n",
    "# Словарь с правилами распределения по регионам\n",
    "geo_data = {\n",
    "    'Центр': ['москва', 'тула', 'ярославль'],\n",
    "    'Северо-Запад': ['петербург', 'псков', 'мурманск'],\n",
    "    'Дальний Восток': ['владивосток', 'сахалин', 'хабаровск']\n",
    "}\n",
    "\n",
    "\n",
    "# Функция для классификации географической принадлежности\n",
    "def classify_region(query):\n",
    "    for region, cities in geo_data.items():\n",
    "        for city in cities:\n",
    "            if city in query:\n",
    "                return region\n",
    "    return 'undefined'\n",
    "\n",
    "\n",
    "# Применение функции к столбцу 'keyword' и создание нового столбца 'region'\n",
    "GEO['region'] = GEO['keyword'].apply(classify_region)\n",
    "\n",
    "# Вывод обновленного датафрейма\n",
    "\n"
   ],
   "metadata": {
    "collapsed": false,
    "ExecuteTime": {
     "end_time": "2023-11-13T19:59:07.695850900Z",
     "start_time": "2023-11-13T19:59:07.609780300Z"
    }
   },
   "id": "8e8e9eb16e15cc21"
  },
  {
   "cell_type": "code",
   "execution_count": 35,
   "outputs": [
    {
     "data": {
      "text/plain": "                       keyword     shows     region\n0                           вк  64292779  undefined\n1                одноклассники  63810309  undefined\n2                        порно  41747114  undefined\n3                         ютуб  39995567  undefined\n4                    вконтакте  21014195  undefined\n...                        ...       ...        ...\n99995   эльдорадо старый оскол      3705  undefined\n99996      frigate для firefox      3630  undefined\n99997                   укрсиб      3630  undefined\n99998  погода в ялте на неделю      3688  undefined\n99999                     ггму      3630  undefined\n\n[100000 rows x 3 columns]",
      "text/html": "<div>\n<style scoped>\n    .dataframe tbody tr th:only-of-type {\n        vertical-align: middle;\n    }\n\n    .dataframe tbody tr th {\n        vertical-align: top;\n    }\n\n    .dataframe thead th {\n        text-align: right;\n    }\n</style>\n<table border=\"1\" class=\"dataframe\">\n  <thead>\n    <tr style=\"text-align: right;\">\n      <th></th>\n      <th>keyword</th>\n      <th>shows</th>\n      <th>region</th>\n    </tr>\n  </thead>\n  <tbody>\n    <tr>\n      <th>0</th>\n      <td>вк</td>\n      <td>64292779</td>\n      <td>undefined</td>\n    </tr>\n    <tr>\n      <th>1</th>\n      <td>одноклассники</td>\n      <td>63810309</td>\n      <td>undefined</td>\n    </tr>\n    <tr>\n      <th>2</th>\n      <td>порно</td>\n      <td>41747114</td>\n      <td>undefined</td>\n    </tr>\n    <tr>\n      <th>3</th>\n      <td>ютуб</td>\n      <td>39995567</td>\n      <td>undefined</td>\n    </tr>\n    <tr>\n      <th>4</th>\n      <td>вконтакте</td>\n      <td>21014195</td>\n      <td>undefined</td>\n    </tr>\n    <tr>\n      <th>...</th>\n      <td>...</td>\n      <td>...</td>\n      <td>...</td>\n    </tr>\n    <tr>\n      <th>99995</th>\n      <td>эльдорадо старый оскол</td>\n      <td>3705</td>\n      <td>undefined</td>\n    </tr>\n    <tr>\n      <th>99996</th>\n      <td>frigate для firefox</td>\n      <td>3630</td>\n      <td>undefined</td>\n    </tr>\n    <tr>\n      <th>99997</th>\n      <td>укрсиб</td>\n      <td>3630</td>\n      <td>undefined</td>\n    </tr>\n    <tr>\n      <th>99998</th>\n      <td>погода в ялте на неделю</td>\n      <td>3688</td>\n      <td>undefined</td>\n    </tr>\n    <tr>\n      <th>99999</th>\n      <td>ггму</td>\n      <td>3630</td>\n      <td>undefined</td>\n    </tr>\n  </tbody>\n</table>\n<p>100000 rows × 3 columns</p>\n</div>"
     },
     "execution_count": 35,
     "metadata": {},
     "output_type": "execute_result"
    }
   ],
   "source": [
    "GEO\n"
   ],
   "metadata": {
    "collapsed": false,
    "ExecuteTime": {
     "end_time": "2023-11-13T19:59:17.567568900Z",
     "start_time": "2023-11-13T19:59:17.559048500Z"
    }
   },
   "id": "c542b25652b2c768"
  },
  {
   "cell_type": "code",
   "execution_count": 43,
   "outputs": [
    {
     "data": {
      "text/plain": "                        keyword   shows          region\n127                авито москва  979292           Центр\n370    авито ру санкт петербург  425134    Северо-Запад\n564   погода в санкт петербурге  292489    Северо-Запад\n849             авито ярославль  209581           Центр\n1063        фарпост владивосток  176951  Дальний Восток",
      "text/html": "<div>\n<style scoped>\n    .dataframe tbody tr th:only-of-type {\n        vertical-align: middle;\n    }\n\n    .dataframe tbody tr th {\n        vertical-align: top;\n    }\n\n    .dataframe thead th {\n        text-align: right;\n    }\n</style>\n<table border=\"1\" class=\"dataframe\">\n  <thead>\n    <tr style=\"text-align: right;\">\n      <th></th>\n      <th>keyword</th>\n      <th>shows</th>\n      <th>region</th>\n    </tr>\n  </thead>\n  <tbody>\n    <tr>\n      <th>127</th>\n      <td>авито москва</td>\n      <td>979292</td>\n      <td>Центр</td>\n    </tr>\n    <tr>\n      <th>370</th>\n      <td>авито ру санкт петербург</td>\n      <td>425134</td>\n      <td>Северо-Запад</td>\n    </tr>\n    <tr>\n      <th>564</th>\n      <td>погода в санкт петербурге</td>\n      <td>292489</td>\n      <td>Северо-Запад</td>\n    </tr>\n    <tr>\n      <th>849</th>\n      <td>авито ярославль</td>\n      <td>209581</td>\n      <td>Центр</td>\n    </tr>\n    <tr>\n      <th>1063</th>\n      <td>фарпост владивосток</td>\n      <td>176951</td>\n      <td>Дальний Восток</td>\n    </tr>\n  </tbody>\n</table>\n</div>"
     },
     "execution_count": 43,
     "metadata": {},
     "output_type": "execute_result"
    }
   ],
   "source": [
    "non_undefined_values = GEO[GEO['region'] != 'undefined']\n",
    "non_undefined_values.head()\n"
   ],
   "metadata": {
    "collapsed": false,
    "ExecuteTime": {
     "end_time": "2023-11-13T20:05:20.488479600Z",
     "start_time": "2023-11-13T20:05:20.472855300Z"
    }
   },
   "id": "110d6b3fc37d46b6"
  },
  {
   "cell_type": "markdown",
   "source": [
    "## Задание 3 (бонусное)\n",
    "\n",
    "Есть мнение, что раньше снимали настоящее кино, не то что сейчас. Ваша задача — проверить это утверждение, используя файлы с рейтингами фильмов из прошлого домашнего занятия: файл movies.csv и ratings.csv из базы. Нужно проверить, верно ли, что с ростом года выпуска фильма его средний рейтинг становится ниже.\n",
    "\n",
    "Вы не будете затрагивать субьективные факторы выставления этих рейтингов, а пройдётесь по алгоритму:\n",
    "\n",
    "В переменную years запишите список из всех годов с 1950 по 2010 года.\n",
    "\n",
    "Напишите функцию production_year, которая каждой строке из названия фильма выставляет год выпуска. Не все названия фильмов содержат год выпуска в одинаковом формате, поэтому используйте алгоритм:\n",
    "\n",
    "для каждой строки пройдите по всем годам списка years;\n",
    "если номер года присутствует в названии фильма, то функция возвращает этот год, как год выпуска;\n",
    "если ни один из номеров года списка years не встретился в названии фильма, то возвращается 1900 год.\n",
    "Запишите год выпуска фильма по алгоритму пункта 2 в новый столбец ‘year’.\n",
    "\n",
    "Посчитайте средний рейтинг всех фильмов для каждого значения столбца ‘year’ и отсортируйте результат по убыванию рейтинга.\n",
    "\n",
    "Все файлы находятся в архиве «Дополнительные файлы к лекции и дз».\n",
    "\n",
    "Важно! При копировании юпитер ноутбука изменяет кавычки ’ на ` , что может вызывать ошибку в коде. В этом случае их нужно просто заменить."
   ],
   "metadata": {
    "collapsed": false
   },
   "id": "5bbc099b0190642c"
  },
  {
   "cell_type": "markdown",
   "source": [],
   "metadata": {
    "collapsed": false
   },
   "id": "ce92d486892d2336"
  },
  {
   "cell_type": "code",
   "execution_count": 38,
   "outputs": [],
   "source": [
    "years = list(range(1950, 2011))"
   ],
   "metadata": {
    "collapsed": false,
    "ExecuteTime": {
     "end_time": "2023-11-13T20:02:16.487965200Z",
     "start_time": "2023-11-13T20:02:16.480448Z"
    }
   },
   "id": "a568a417fccb16ce"
  },
  {
   "cell_type": "code",
   "execution_count": 39,
   "id": "initial_id",
   "metadata": {
    "collapsed": true,
    "ExecuteTime": {
     "end_time": "2023-11-13T20:02:18.347441800Z",
     "start_time": "2023-11-13T20:02:18.343178100Z"
    }
   },
   "outputs": [],
   "source": [
    "def production_year(title):\n",
    "    for year in years:\n",
    "        if str(year) in title:\n",
    "            return year\n",
    "    return 1900"
   ]
  },
  {
   "cell_type": "code",
   "execution_count": 45,
   "outputs": [],
   "source": [
    "merged_movies_rating['year'] = merged_movies_rating['title'].apply(production_year)"
   ],
   "metadata": {
    "collapsed": false,
    "ExecuteTime": {
     "end_time": "2023-11-13T20:09:24.363363300Z",
     "start_time": "2023-11-13T20:09:23.747502900Z"
    }
   },
   "id": "e0059ca5a3449881"
  },
  {
   "cell_type": "code",
   "execution_count": 48,
   "outputs": [
    {
     "data": {
      "text/plain": "   year    rating\n0  1900  3.559462\n1  1950  3.830128\n2  1951  3.807471\n3  1952  3.994565\n4  1953  3.644295",
      "text/html": "<div>\n<style scoped>\n    .dataframe tbody tr th:only-of-type {\n        vertical-align: middle;\n    }\n\n    .dataframe tbody tr th {\n        vertical-align: top;\n    }\n\n    .dataframe thead th {\n        text-align: right;\n    }\n</style>\n<table border=\"1\" class=\"dataframe\">\n  <thead>\n    <tr style=\"text-align: right;\">\n      <th></th>\n      <th>year</th>\n      <th>rating</th>\n    </tr>\n  </thead>\n  <tbody>\n    <tr>\n      <th>0</th>\n      <td>1900</td>\n      <td>3.559462</td>\n    </tr>\n    <tr>\n      <th>1</th>\n      <td>1950</td>\n      <td>3.830128</td>\n    </tr>\n    <tr>\n      <th>2</th>\n      <td>1951</td>\n      <td>3.807471</td>\n    </tr>\n    <tr>\n      <th>3</th>\n      <td>1952</td>\n      <td>3.994565</td>\n    </tr>\n    <tr>\n      <th>4</th>\n      <td>1953</td>\n      <td>3.644295</td>\n    </tr>\n  </tbody>\n</table>\n</div>"
     },
     "execution_count": 48,
     "metadata": {},
     "output_type": "execute_result"
    }
   ],
   "source": [
    "avg_ratings = merged_movies_rating.groupby('year')['rating'].mean().reset_index()\n",
    "avg_ratings.head()"
   ],
   "metadata": {
    "collapsed": false,
    "ExecuteTime": {
     "end_time": "2023-11-13T20:09:38.268571300Z",
     "start_time": "2023-11-13T20:09:38.249719600Z"
    }
   },
   "id": "9089adb99a3cd300"
  }
 ],
 "metadata": {
  "kernelspec": {
   "display_name": "Python 3",
   "language": "python",
   "name": "python3"
  },
  "language_info": {
   "codemirror_mode": {
    "name": "ipython",
    "version": 2
   },
   "file_extension": ".py",
   "mimetype": "text/x-python",
   "name": "python",
   "nbconvert_exporter": "python",
   "pygments_lexer": "ipython2",
   "version": "2.7.6"
  }
 },
 "nbformat": 4,
 "nbformat_minor": 5
}
