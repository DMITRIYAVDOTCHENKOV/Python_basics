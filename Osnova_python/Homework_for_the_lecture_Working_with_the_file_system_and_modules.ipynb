{
 "cells": [
  {
   "cell_type": "markdown",
   "source": [
    "# Переведите содержимое файла purchase_log.txt* в словарь purchases вида:\n",
    "{‘1840e0b9d4’: ‘Продукты’, …}\n",
    "\n",
    "## Для каждого user_id в файле visit_log.csv определите третий столбец с категорией покупки, если покупка была, сам файл visit_log.csv* изменять не надо. Запишите в файл funnel.csv визиты из файла visit_log.csv*, в которых были покупки с указанием категории.\n",
    "\n",
    "### Учтите условия на данные:\n",
    "1. содержимое purchase_log.txt* помещается в оперативную память компьютера;\n",
    "2. содержимое visit_log.csv* — нет; используйте только построчную обработку этого файла.\n",
    "\n",
    "*Все файлы, необходимые для выполнения домашнего задания, находятся в разделе “Дополнительные материалы к домашнему заданию” (нужно скачать архив)."
   ],
   "metadata": {
    "collapsed": false
   },
   "id": "67f6d35359cf552e"
  },
  {
   "cell_type": "code",
   "execution_count": 25,
   "outputs": [],
   "source": [
    "\n",
    "import json\n",
    "# Создаем словарь purchases из файла purchase_log.txt*\n",
    "purchases = {}\n",
    "with open('purchase_log.txt', 'r',encoding='UTF-8' ) as file:\n",
    "    for line in file:\n",
    "        data = json.loads(line)\n",
    "        purchases[data['user_id']] = data['category']\n",
    "\n"
   ],
   "metadata": {
    "collapsed": false,
    "ExecuteTime": {
     "end_time": "2023-10-26T18:23:53.320289300Z",
     "start_time": "2023-10-26T18:23:53.061222700Z"
    }
   },
   "id": "1dde3ac86e5d68b9"
  },
  {
   "cell_type": "code",
   "execution_count": 26,
   "outputs": [],
   "source": [
    "purchases_list = [(user_id, category) for user_id, category in purchases.items()]"
   ],
   "metadata": {
    "collapsed": false,
    "ExecuteTime": {
     "end_time": "2023-10-26T18:23:55.488061600Z",
     "start_time": "2023-10-26T18:23:55.468576600Z"
    }
   },
   "id": "d273ce1b9f86bd71"
  },
  {
   "cell_type": "code",
   "execution_count": 27,
   "outputs": [
    {
     "name": "stdout",
     "output_type": "stream",
     "text": [
      "user_id: category\n",
      "1840e0b9d4: Продукты\n",
      "4e4f90fcfb: Электроника\n",
      "afea8d72fc: Электроника\n",
      "373a6055fe: Бытовая техника\n"
     ]
    }
   ],
   "source": [
    "for user_id, category in purchases_list[:5]:\n",
    "    print(f\"{user_id}: {category}\")"
   ],
   "metadata": {
    "collapsed": false,
    "ExecuteTime": {
     "end_time": "2023-10-26T18:23:56.709256100Z",
     "start_time": "2023-10-26T18:23:56.699893200Z"
    }
   },
   "id": "2d8a727dc17dc9e3"
  },
  {
   "cell_type": "code",
   "execution_count": 29,
   "outputs": [],
   "source": [
    "# Добавляем категорию покупки в файл visit_log.csv* и записываем результат в funnel.csv\n",
    "with open('visit_log.csv', 'r', encoding='UTF-8') as input_file, open('funnel.csv', 'w', encoding='UTF-8') as output_file:\n",
    "    for line in input_file:\n",
    "        user_id, source = line.strip().split(',')\n",
    "        category = purchases.get(user_id)\n",
    "        if category:\n",
    "            output_file.write(f'{user_id},{source},{category}\\n')"
   ],
   "metadata": {
    "collapsed": false,
    "ExecuteTime": {
     "end_time": "2023-10-26T18:25:47.699064800Z",
     "start_time": "2023-10-26T18:25:47.563988100Z"
    }
   },
   "id": "e111f8b25ee7b72b"
  }
 ],
 "metadata": {
  "kernelspec": {
   "display_name": "Python 3",
   "language": "python",
   "name": "python3"
  },
  "language_info": {
   "codemirror_mode": {
    "name": "ipython",
    "version": 2
   },
   "file_extension": ".py",
   "mimetype": "text/x-python",
   "name": "python",
   "nbconvert_exporter": "python",
   "pygments_lexer": "ipython2",
   "version": "2.7.6"
  }
 },
 "nbformat": 4,
 "nbformat_minor": 5
}
