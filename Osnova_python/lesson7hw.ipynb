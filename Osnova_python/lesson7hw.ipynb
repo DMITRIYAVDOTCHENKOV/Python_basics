{
 "cells": [
  {
   "cell_type": "markdown",
   "source": [
    "# Задание 1\n",
    "Печатные газеты использовали свой формат дат для каждого выпуска. Для каждой газеты из списка напишите формат указанной даты для перевода в объект datetime:\n",
    "The Moscow Times — Wednesday, October 2, 2002\n",
    "The Guardian — Friday, 11.10.13\n",
    "Daily News — Thursday, 18 August 1977\n",
    "\n"
   ],
   "metadata": {
    "collapsed": false
   },
   "id": "2f778bb134291777"
  },
  {
   "cell_type": "code",
   "execution_count": 7,
   "outputs": [
    {
     "name": "stdout",
     "output_type": "stream",
     "text": [
      "2002-10-02 00:00:00\n",
      "2013-10-11 00:00:00\n",
      "1977-08-18 00:00:00\n"
     ]
    }
   ],
   "source": [
    "from datetime import timedelta\n",
    "from datetime import datetime\n",
    "newspaper_dates = [\n",
    "    datetime.strptime(\"Wednesday, October 2, 2002\", \"%A, %B %d, %Y\"),\n",
    "    datetime.strptime('Friday, 11.10.13', '%A, %d.%m.%y'),\n",
    "    datetime.strptime('Thursday, 18 August 1977', '%A, %d %B %Y')\n",
    "]\n",
    "\n",
    "print(*newspaper_dates, sep=\"\\n\")\n"
   ],
   "metadata": {
    "collapsed": false,
    "ExecuteTime": {
     "end_time": "2023-10-31T19:01:11.119844100Z",
     "start_time": "2023-10-31T19:01:11.095780300Z"
    }
   },
   "id": "d9e9bf88cb815975"
  },
  {
   "cell_type": "markdown",
   "source": [
    "# Задание 2\n",
    "Дан поток дат в формате YYYY-MM-DD, в которых встречаются некорректные значения:\n",
    "stream = [‘2018-04-02’, ‘2018-02-29’, ‘2018-19-02’]\n",
    "\n",
    "Напишите функцию, которая проверяет эти даты на корректность. То есть для каждой даты возвращает True — дата корректна или False — некорректная.\n",
    "\n"
   ],
   "metadata": {
    "collapsed": false
   },
   "id": "f98818f111cbda72"
  },
  {
   "cell_type": "code",
   "execution_count": 2,
   "outputs": [
    {
     "name": "stdout",
     "output_type": "stream",
     "text": [
      "[True, False, False]\n"
     ]
    }
   ],
   "source": [
    "from datetime import datetime\n",
    "\n",
    "def check_dates(dates):\n",
    "    correct_dates = []\n",
    "    for date in dates:\n",
    "        try:\n",
    "            datetime.strptime(date, \"%Y-%m-%d\")\n",
    "            correct_dates.append(True)\n",
    "        except ValueError:\n",
    "            correct_dates.append(False)\n",
    "    return correct_dates\n",
    "\n"
   ],
   "metadata": {
    "collapsed": false,
    "ExecuteTime": {
     "end_time": "2023-10-31T18:54:17.635741400Z",
     "start_time": "2023-10-31T18:54:17.606754Z"
    }
   },
   "id": "61404c81aa10a36a"
  },
  {
   "cell_type": "code",
   "execution_count": 3,
   "outputs": [
    {
     "name": "stdout",
     "output_type": "stream",
     "text": [
      "[True, False, False]\n"
     ]
    }
   ],
   "source": [
    "stream = ['2018-04-02', '2018-02-29', '2018-19-02']\n",
    "print(check_dates(stream))"
   ],
   "metadata": {
    "collapsed": false,
    "ExecuteTime": {
     "end_time": "2023-10-31T18:56:35.826076600Z",
     "start_time": "2023-10-31T18:56:35.807199200Z"
    }
   },
   "id": "56cfcd8363a2ce0a"
  },
  {
   "cell_type": "markdown",
   "source": [
    "# Задание 3\n",
    "Напишите функцию date_range, которая возвращает список дат за период от start_date до end_date. Даты должны вводиться в формате YYYY-MM-DD. В случае неверного формата или при start_date > end_date должен возвращаться пустой список."
   ],
   "metadata": {
    "collapsed": false
   },
   "id": "3adceb717adc987d"
  },
  {
   "cell_type": "code",
   "execution_count": 9,
   "id": "initial_id",
   "metadata": {
    "collapsed": true,
    "ExecuteTime": {
     "end_time": "2023-10-31T19:02:21.467296800Z",
     "start_time": "2023-10-31T19:02:21.450541900Z"
    }
   },
   "outputs": [
    {
     "name": "stdout",
     "output_type": "stream",
     "text": [
      "['2023-10-25', '2023-10-26', '2023-10-27', '2023-10-28', '2023-10-29', '2023-10-30']\n"
     ]
    }
   ],
   "source": [
    "from datetime import datetime, timedelta\n",
    "\n",
    "def date_range(start_date, end_date):\n",
    "    try:\n",
    "        start = datetime.strptime(start_date, '%Y-%m-%d')\n",
    "        end = datetime.strptime(end_date, '%Y-%m-%d')\n",
    "\n",
    "        if start > end:\n",
    "            return []\n",
    "\n",
    "        dates = []\n",
    "        current_date = start\n",
    "        while current_date <= end:\n",
    "            dates.append(current_date.strftime('%Y-%m-%d'))\n",
    "            current_date += timedelta(days=1)\n",
    "        return dates\n",
    "\n",
    "    except ValueError:\n",
    "        return []\n",
    "\n",
    "start_date = '2023-10-25'\n",
    "end_date = '2023-10-30'\n",
    "print(date_range(start_date, end_date))"
   ]
  }
 ],
 "metadata": {
  "kernelspec": {
   "display_name": "Python 3",
   "language": "python",
   "name": "python3"
  },
  "language_info": {
   "codemirror_mode": {
    "name": "ipython",
    "version": 2
   },
   "file_extension": ".py",
   "mimetype": "text/x-python",
   "name": "python",
   "nbconvert_exporter": "python",
   "pygments_lexer": "ipython2",
   "version": "2.7.6"
  }
 },
 "nbformat": 4,
 "nbformat_minor": 5
}
