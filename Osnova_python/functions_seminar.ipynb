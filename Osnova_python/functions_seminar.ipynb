{
 "cells": [
  {
   "cell_type": "code",
   "execution_count": 1,
   "metadata": {},
   "outputs": [
    {
     "name": "stdout",
     "output_type": "stream",
     "text": [
      "True\n",
      "False\n"
     ]
    }
   ],
   "source": [
    "def is_palindrom(string_):\n",
    "    string_ = string_.replace(' ', '') #убираем пробелы\n",
    "    return string_.lower() == string_.lower()[::-1]# сравниваем строку с перевернутой\n",
    "\n",
    "\n",
    "print(is_palindrom('А роза упала на лапу Азора'))\n",
    "print(is_palindrom('Не могу сказать, что это палидром'))"
   ]
  },
  {
   "cell_type": "markdown",
   "metadata": {},
   "source": [
    "Есть тамблица даннымми ( $ ) хотим перевести все в рубли"
   ]
  },
  {
   "cell_type": "code",
   "execution_count": 8,
   "metadata": {},
   "outputs": [
    {
     "name": "stdout",
     "output_type": "stream",
     "text": [
      "['E 4.0', 'E 2.0', 'E 1.5']\n"
     ]
    }
   ],
   "source": [
    "Ticket_db = [{'price': 400}, {'price': 200}, {'price': 150}]\n",
    "\n",
    "Ticket_euro = []\n",
    "for ticket in Ticket_db:\n",
    "    converted = ticket['price'] / 100 \n",
    "    rounded = round(converted, 2)# огрунлям до 2 сиволов\n",
    "    formatted = 'E ' + str(rounded) # ставил слева знак \n",
    "    Ticket_euro.append(formatted)\n",
    "\n",
    "print(Ticket_euro)"
   ]
  },
  {
   "cell_type": "code",
   "execution_count": 11,
   "metadata": {},
   "outputs": [
    {
     "name": "stdout",
     "output_type": "stream",
     "text": [
      "['euro 3.81', 'euro 1.9', 'euro 1.43'] ['euro 0.48', 'euro 0.35', 'euro 0.76'] ['euro 158.84', 'euro 3.17', 'euro 42.3']\n"
     ]
    }
   ],
   "source": [
    "def to_euro(price):\n",
    "    exchange_rate = 105\n",
    "    rounded = round(price/exchange_rate, 2)\n",
    "    return 'euro ' + str(rounded)\n",
    "\n",
    "def db_to_euro(db):\n",
    "    return[to_euro(item['price']) for item in db]  # листк комприкейш, принимаем функцию для каждого значения и формирует список результатов\n",
    "\n",
    "Ticket_db = [{'price': 400}, {'price': 200}, {'price': 150}]# сами списки \n",
    "Guide_db = [{'price': 50}, {'price': 37}, {'price': 80}]# сами списки \n",
    "Snack_db = [{'price': 16678}, {'price': 333}, {'price': 4442}]# сами списки \n",
    "\n",
    "ticket_euro = db_to_euro(Ticket_db)# вызываем функцию \n",
    "guide_euro = db_to_euro(Guide_db)\n",
    "snack_euro = db_to_euro(Snack_db)\n",
    "\n",
    "\n",
    "print(ticket_euro, guide_euro, snack_euro)"
   ]
  },
  {
   "cell_type": "code",
   "execution_count": 12,
   "metadata": {},
   "outputs": [
    {
     "name": "stdout",
     "output_type": "stream",
     "text": [
      "24\n",
      "12\n"
     ]
    }
   ],
   "source": [
    "def multiply(*args):\n",
    "    product = 1\n",
    "    for num in args:\n",
    "        product *= num\n",
    "    return product\n",
    "\n",
    "print(multiply(1,2,3,4))\n",
    "print(multiply(3,4))\n"
   ]
  },
  {
   "cell_type": "code",
   "execution_count": 13,
   "metadata": {},
   "outputs": [
    {
     "name": "stdout",
     "output_type": "stream",
     "text": [
      "{'school': 'netology'}\n",
      "school: netology\n",
      "{'school': 'netology', 'course': 'data analitic'}\n",
      "school: netology\n",
      "course: data analitic\n"
     ]
    }
   ],
   "source": [
    "def print_config(**kwargs):\n",
    "    print(kwargs)\n",
    "    for key, value in kwargs.items():\n",
    "        print(f'{key}: {value}')\n",
    "\n",
    "print_config(school = \"netology\")\n",
    "print_config(school = \"netology\", course = \"data analitic\")\n",
    "\n"
   ]
  },
  {
   "cell_type": "code",
   "execution_count": null,
   "metadata": {},
   "outputs": [],
   "source": []
  }
 ],
 "metadata": {
  "kernelspec": {
   "display_name": "base",
   "language": "python",
   "name": "python3"
  },
  "language_info": {
   "codemirror_mode": {
    "name": "ipython",
    "version": 3
   },
   "file_extension": ".py",
   "mimetype": "text/x-python",
   "name": "python",
   "nbconvert_exporter": "python",
   "pygments_lexer": "ipython3",
   "version": "3.9.13"
  }
 },
 "nbformat": 4,
 "nbformat_minor": 2
}
