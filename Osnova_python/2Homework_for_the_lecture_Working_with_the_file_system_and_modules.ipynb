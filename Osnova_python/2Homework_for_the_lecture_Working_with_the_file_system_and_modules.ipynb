{
 "cells": [
  {
   "cell_type": "code",
   "execution_count": 7,
   "metadata": {},
   "outputs": [],
   "source": [
    "def purchases_dictionary():\n",
    "    purchases = {}\n",
    "    with open('purchase_log.txt', 'r', encoding='UTF-8') as file:\n",
    "        for line in file:\n",
    "            data = json.loads(line)\n",
    "            purchases[data['user_id']] = data['category']\n",
    "    return purchases\n"
   ]
  },
  {
   "cell_type": "code",
   "execution_count": 8,
   "metadata": {},
   "outputs": [
    {
     "data": {
      "text/plain": [
       "<function __main__.purchases_dictionary()>"
      ]
     },
     "execution_count": 8,
     "metadata": {},
     "output_type": "execute_result"
    }
   ],
   "source": [
    "purchases_dictionary"
   ]
  },
  {
   "cell_type": "code",
   "execution_count": 9,
   "metadata": {},
   "outputs": [],
   "source": [
    "purchases_list = [(user_id, category)\n",
    "                  for user_id, category in purchases.items()]\n"
   ]
  },
  {
   "cell_type": "code",
   "execution_count": 10,
   "metadata": {},
   "outputs": [
    {
     "name": "stdout",
     "output_type": "stream",
     "text": [
      "user_id: category\n",
      "1840e0b9d4: Продукты\n",
      "4e4f90fcfb: Электроника\n",
      "afea8d72fc: Электроника\n",
      "373a6055fe: Бытовая техника\n"
     ]
    }
   ],
   "source": [
    "for user_id, category in purchases_list[:5]:\n",
    "    print(f\"{user_id}: {category}\")\n"
   ]
  },
  {
   "cell_type": "code",
   "execution_count": 6,
   "metadata": {},
   "outputs": [],
   "source": [
    "# Добавляем категорию покупки в файл visit_log.csv* и записываем результат в funnel.csv\n",
    "with open('visit_log.csv', 'r', encoding='UTF-8') as input_file, open('funnel.csv', 'w', encoding='UTF-8') as output_file:\n",
    "    for line in input_file:\n",
    "        user_id, source = line.strip().split(',')\n",
    "        category = purchases.get(user_id)\n",
    "        if category:\n",
    "            output_file.write(f'{user_id},{source},{category}\\n')\n"
   ]
  }
 ],
 "metadata": {
  "kernelspec": {
   "display_name": "base",
   "language": "python",
   "name": "python3"
  },
  "language_info": {
   "codemirror_mode": {
    "name": "ipython",
    "version": 3
   },
   "file_extension": ".py",
   "mimetype": "text/x-python",
   "name": "python",
   "nbconvert_exporter": "python",
   "pygments_lexer": "ipython3",
   "version": "3.9.13"
  }
 },
 "nbformat": 4,
 "nbformat_minor": 2
}
