{
 "cells": [
  {
   "cell_type": "markdown",
   "source": [
    "# Библиотека Pandas\n",
    "Когда и зачем использовать\n",
    "\n",
    "Режим презентации jupyter nbconvert my_script.ipynb --to slides --post serve\n",
    "\n",
    "https://medium.com/@mjspeck/presenting-code-using-jupyter-notebook-slides-a8a3c3b59d67"
   ],
   "metadata": {
    "collapsed": false
   }
  },
  {
   "cell_type": "code",
   "execution_count": 4,
   "metadata": {
    "slideshow": {
     "slide_type": "skip"
    },
    "ExecuteTime": {
     "end_time": "2023-11-11T20:10:34.591956700Z",
     "start_time": "2023-11-11T20:10:31.607131100Z"
    }
   },
   "outputs": [
    {
     "name": "stderr",
     "output_type": "stream",
     "text": [
      "[NbConvertApp] Converting notebook Python_10_pandas_presentation_mode.ipynb to slides\n",
      "[NbConvertApp] Writing 606233 bytes to Python_10_pandas_presentation_mode.slides.html\n",
      "[NbConvertApp] Redirecting reveal.js requests to https://cdnjs.cloudflare.com/ajax/libs/reveal.js/3.5.0\n",
      "Traceback (most recent call last):\n",
      "  File \"C:\\Users\\Dmitrii\\anaconda3\\envs\\pythonProject\\Scripts\\jupyter-nbconvert-script.py\", line 10, in <module>\n",
      "    sys.exit(main())\n",
      "             ^^^^^^\n",
      "  File \"C:\\Users\\Dmitrii\\anaconda3\\envs\\pythonProject\\Lib\\site-packages\\jupyter_core\\application.py\", line 277, in launch_instance\n",
      "    return super().launch_instance(argv=argv, **kwargs)\n",
      "           ^^^^^^^^^^^^^^^^^^^^^^^^^^^^^^^^^^^^^^^^^^^^\n",
      "  File \"C:\\Users\\Dmitrii\\anaconda3\\envs\\pythonProject\\Lib\\site-packages\\traitlets\\config\\application.py\", line 992, in launch_instance\n",
      "    app.start()\n",
      "  File \"C:\\Users\\Dmitrii\\anaconda3\\envs\\pythonProject\\Lib\\site-packages\\nbconvert\\nbconvertapp.py\", line 423, in start\n",
      "    self.convert_notebooks()\n",
      "  File \"C:\\Users\\Dmitrii\\anaconda3\\envs\\pythonProject\\Lib\\site-packages\\nbconvert\\nbconvertapp.py\", line 597, in convert_notebooks\n",
      "    self.convert_single_notebook(notebook_filename)\n",
      "  File \"C:\\Users\\Dmitrii\\anaconda3\\envs\\pythonProject\\Lib\\site-packages\\nbconvert\\nbconvertapp.py\", line 564, in convert_single_notebook\n",
      "    self.postprocess_single_notebook(write_results)\n",
      "  File \"C:\\Users\\Dmitrii\\anaconda3\\envs\\pythonProject\\Lib\\site-packages\\nbconvert\\nbconvertapp.py\", line 534, in postprocess_single_notebook\n",
      "    self.postprocessor(write_results)\n",
      "  File \"C:\\Users\\Dmitrii\\anaconda3\\envs\\pythonProject\\Lib\\site-packages\\nbconvert\\postprocessors\\base.py\", line 27, in __call__\n",
      "    self.postprocess(input)\n",
      "  File \"C:\\Users\\Dmitrii\\anaconda3\\envs\\pythonProject\\Lib\\site-packages\\nbconvert\\postprocessors\\serve.py\", line 91, in postprocess\n",
      "    http_server.listen(self.port, address=self.ip)\n",
      "  File \"C:\\Users\\Dmitrii\\anaconda3\\envs\\pythonProject\\Lib\\site-packages\\tornado\\tcpserver.py\", line 183, in listen\n",
      "    sockets = bind_sockets(\n",
      "              ^^^^^^^^^^^^^\n",
      "  File \"C:\\Users\\Dmitrii\\anaconda3\\envs\\pythonProject\\Lib\\site-packages\\tornado\\netutil.py\", line 162, in bind_sockets\n",
      "    sock.bind(sockaddr)\n",
      "OSError: [WinError 10048] Обычно разрешается только одно использование адреса сокета (протокол/сетевой адрес/порт)\n",
      "[NbConvertApp] Converting notebook Python_10_pandas_presentation_mode.ipynb to slides\n",
      "[NbConvertApp] Writing 606233 bytes to Python_10_pandas_presentation_mode.slides.html\n",
      "[NbConvertApp] Redirecting reveal.js requests to https://cdnjs.cloudflare.com/ajax/libs/reveal.js/3.5.0\n",
      "Traceback (most recent call last):\n",
      "  File \"C:\\Users\\Dmitrii\\anaconda3\\envs\\pythonProject\\Scripts\\jupyter-nbconvert-script.py\", line 10, in <module>\n",
      "    sys.exit(main())\n",
      "             ^^^^^^\n",
      "  File \"C:\\Users\\Dmitrii\\anaconda3\\envs\\pythonProject\\Lib\\site-packages\\jupyter_core\\application.py\", line 277, in launch_instance\n",
      "    return super().launch_instance(argv=argv, **kwargs)\n",
      "           ^^^^^^^^^^^^^^^^^^^^^^^^^^^^^^^^^^^^^^^^^^^^\n",
      "  File \"C:\\Users\\Dmitrii\\anaconda3\\envs\\pythonProject\\Lib\\site-packages\\traitlets\\config\\application.py\", line 992, in launch_instance\n",
      "    app.start()\n",
      "  File \"C:\\Users\\Dmitrii\\anaconda3\\envs\\pythonProject\\Lib\\site-packages\\nbconvert\\nbconvertapp.py\", line 423, in start\n",
      "    self.convert_notebooks()\n",
      "  File \"C:\\Users\\Dmitrii\\anaconda3\\envs\\pythonProject\\Lib\\site-packages\\nbconvert\\nbconvertapp.py\", line 597, in convert_notebooks\n",
      "    self.convert_single_notebook(notebook_filename)\n",
      "  File \"C:\\Users\\Dmitrii\\anaconda3\\envs\\pythonProject\\Lib\\site-packages\\nbconvert\\nbconvertapp.py\", line 564, in convert_single_notebook\n",
      "    self.postprocess_single_notebook(write_results)\n",
      "  File \"C:\\Users\\Dmitrii\\anaconda3\\envs\\pythonProject\\Lib\\site-packages\\nbconvert\\nbconvertapp.py\", line 534, in postprocess_single_notebook\n",
      "    self.postprocessor(write_results)\n",
      "  File \"C:\\Users\\Dmitrii\\anaconda3\\envs\\pythonProject\\Lib\\site-packages\\nbconvert\\postprocessors\\base.py\", line 27, in __call__\n",
      "    self.postprocess(input)\n",
      "  File \"C:\\Users\\Dmitrii\\anaconda3\\envs\\pythonProject\\Lib\\site-packages\\nbconvert\\postprocessors\\serve.py\", line 91, in postprocess\n",
      "    http_server.listen(self.port, address=self.ip)\n",
      "  File \"C:\\Users\\Dmitrii\\anaconda3\\envs\\pythonProject\\Lib\\site-packages\\tornado\\tcpserver.py\", line 183, in listen\n",
      "    sockets = bind_sockets(\n",
      "              ^^^^^^^^^^^^^\n",
      "  File \"C:\\Users\\Dmitrii\\anaconda3\\envs\\pythonProject\\Lib\\site-packages\\tornado\\netutil.py\", line 162, in bind_sockets\n",
      "    sock.bind(sockaddr)\n",
      "OSError: [WinError 10048] Обычно разрешается только одно использование адреса сокета (протокол/сетевой адрес/порт)\n"
     ]
    }
   ],
   "source": [
    "# запуск презентации\n",
    "!jupyter nbconvert Python_10_pandas_presentation_mode.ipynb --to slides --post serve"
   ]
  },
  {
   "cell_type": "code",
   "execution_count": 16,
   "metadata": {
    "slideshow": {
     "slide_type": "skip"
    },
    "ExecuteTime": {
     "end_time": "2023-11-11T20:16:43.313919400Z",
     "start_time": "2023-11-11T20:16:43.247527400Z"
    }
   },
   "outputs": [
    {
     "ename": "AttributeError",
     "evalue": "partially initialized module 'pandas' has no attribute '_pandas_datetime_CAPI' (most likely due to a circular import)",
     "output_type": "error",
     "traceback": [
      "\u001B[1;31m---------------------------------------------------------------------------\u001B[0m",
      "\u001B[1;31mAttributeError\u001B[0m                            Traceback (most recent call last)",
      "Cell \u001B[1;32mIn[16], line 1\u001B[0m\n\u001B[1;32m----> 1\u001B[0m \u001B[38;5;28;01mimport\u001B[39;00m \u001B[38;5;21;01mpandas\u001B[39;00m \u001B[38;5;28;01mas\u001B[39;00m \u001B[38;5;21;01mpd\u001B[39;00m\n",
      "File \u001B[1;32m~\\anaconda3\\envs\\pythonProject\\Lib\\site-packages\\pandas\\__init__.py:59\u001B[0m\n\u001B[0;32m     43\u001B[0m \u001B[38;5;66;03m# let init-time option registration happen\u001B[39;00m\n\u001B[0;32m     44\u001B[0m \u001B[38;5;28;01mimport\u001B[39;00m \u001B[38;5;21;01mpandas\u001B[39;00m\u001B[38;5;21;01m.\u001B[39;00m\u001B[38;5;21;01mcore\u001B[39;00m\u001B[38;5;21;01m.\u001B[39;00m\u001B[38;5;21;01mconfig_init\u001B[39;00m  \u001B[38;5;66;03m# pyright: ignore[reportUnusedImport] # noqa: F401\u001B[39;00m\n\u001B[0;32m     46\u001B[0m \u001B[38;5;28;01mfrom\u001B[39;00m \u001B[38;5;21;01mpandas\u001B[39;00m\u001B[38;5;21;01m.\u001B[39;00m\u001B[38;5;21;01mcore\u001B[39;00m\u001B[38;5;21;01m.\u001B[39;00m\u001B[38;5;21;01mapi\u001B[39;00m \u001B[38;5;28;01mimport\u001B[39;00m (\n\u001B[0;32m     47\u001B[0m     \u001B[38;5;66;03m# dtype\u001B[39;00m\n\u001B[0;32m     48\u001B[0m     ArrowDtype,\n\u001B[0;32m     49\u001B[0m     Int8Dtype,\n\u001B[0;32m     50\u001B[0m     Int16Dtype,\n\u001B[0;32m     51\u001B[0m     Int32Dtype,\n\u001B[0;32m     52\u001B[0m     Int64Dtype,\n\u001B[0;32m     53\u001B[0m     UInt8Dtype,\n\u001B[0;32m     54\u001B[0m     UInt16Dtype,\n\u001B[0;32m     55\u001B[0m     UInt32Dtype,\n\u001B[0;32m     56\u001B[0m     UInt64Dtype,\n\u001B[0;32m     57\u001B[0m     Float32Dtype,\n\u001B[0;32m     58\u001B[0m     Float64Dtype,\n\u001B[1;32m---> 59\u001B[0m     CategoricalDtype,\n\u001B[0;32m     60\u001B[0m     PeriodDtype,\n\u001B[0;32m     61\u001B[0m     IntervalDtype,\n\u001B[0;32m     62\u001B[0m     DatetimeTZDtype,\n\u001B[0;32m     63\u001B[0m     StringDtype,\n\u001B[0;32m     64\u001B[0m     BooleanDtype,\n\u001B[0;32m     65\u001B[0m     \u001B[38;5;66;03m# missing\u001B[39;00m\n\u001B[0;32m     66\u001B[0m     NA,\n\u001B[0;32m     67\u001B[0m     isna,\n\u001B[0;32m     68\u001B[0m     isnull,\n\u001B[0;32m     69\u001B[0m     notna,\n\u001B[0;32m     70\u001B[0m     notnull,\n\u001B[0;32m     71\u001B[0m     \u001B[38;5;66;03m# indexes\u001B[39;00m\n\u001B[0;32m     72\u001B[0m     Index,\n\u001B[0;32m     73\u001B[0m     CategoricalIndex,\n\u001B[0;32m     74\u001B[0m     RangeIndex,\n\u001B[0;32m     75\u001B[0m     MultiIndex,\n\u001B[0;32m     76\u001B[0m     IntervalIndex,\n\u001B[0;32m     77\u001B[0m     TimedeltaIndex,\n\u001B[0;32m     78\u001B[0m     DatetimeIndex,\n\u001B[0;32m     79\u001B[0m     PeriodIndex,\n\u001B[0;32m     80\u001B[0m     IndexSlice,\n\u001B[0;32m     81\u001B[0m     \u001B[38;5;66;03m# tseries\u001B[39;00m\n\u001B[0;32m     82\u001B[0m     NaT,\n\u001B[0;32m     83\u001B[0m     Period,\n\u001B[0;32m     84\u001B[0m     period_range,\n\u001B[0;32m     85\u001B[0m     Timedelta,\n\u001B[0;32m     86\u001B[0m     timedelta_range,\n\u001B[0;32m     87\u001B[0m     Timestamp,\n\u001B[0;32m     88\u001B[0m     date_range,\n\u001B[0;32m     89\u001B[0m     bdate_range,\n\u001B[0;32m     90\u001B[0m     Interval,\n\u001B[0;32m     91\u001B[0m     interval_range,\n\u001B[0;32m     92\u001B[0m     DateOffset,\n\u001B[0;32m     93\u001B[0m     \u001B[38;5;66;03m# conversion\u001B[39;00m\n\u001B[0;32m     94\u001B[0m     to_numeric,\n\u001B[0;32m     95\u001B[0m     to_datetime,\n\u001B[0;32m     96\u001B[0m     to_timedelta,\n\u001B[0;32m     97\u001B[0m     \u001B[38;5;66;03m# misc\u001B[39;00m\n\u001B[0;32m     98\u001B[0m     Flags,\n\u001B[0;32m     99\u001B[0m     Grouper,\n\u001B[0;32m    100\u001B[0m     factorize,\n\u001B[0;32m    101\u001B[0m     unique,\n\u001B[0;32m    102\u001B[0m     value_counts,\n\u001B[0;32m    103\u001B[0m     NamedAgg,\n\u001B[0;32m    104\u001B[0m     array,\n\u001B[0;32m    105\u001B[0m     Categorical,\n\u001B[0;32m    106\u001B[0m     set_eng_float_format,\n\u001B[0;32m    107\u001B[0m     Series,\n\u001B[0;32m    108\u001B[0m     DataFrame,\n\u001B[0;32m    109\u001B[0m )\n\u001B[0;32m    111\u001B[0m \u001B[38;5;28;01mfrom\u001B[39;00m \u001B[38;5;21;01mpandas\u001B[39;00m\u001B[38;5;21;01m.\u001B[39;00m\u001B[38;5;21;01mcore\u001B[39;00m\u001B[38;5;21;01m.\u001B[39;00m\u001B[38;5;21;01mdtypes\u001B[39;00m\u001B[38;5;21;01m.\u001B[39;00m\u001B[38;5;21;01mdtypes\u001B[39;00m \u001B[38;5;28;01mimport\u001B[39;00m SparseDtype\n\u001B[0;32m    113\u001B[0m \u001B[38;5;28;01mfrom\u001B[39;00m \u001B[38;5;21;01mpandas\u001B[39;00m\u001B[38;5;21;01m.\u001B[39;00m\u001B[38;5;21;01mtseries\u001B[39;00m\u001B[38;5;21;01m.\u001B[39;00m\u001B[38;5;21;01mapi\u001B[39;00m \u001B[38;5;28;01mimport\u001B[39;00m infer_freq\n",
      "File \u001B[1;32m~\\anaconda3\\envs\\pythonProject\\Lib\\site-packages\\pandas\\core\\api.py:1\u001B[0m\n\u001B[1;32m----> 1\u001B[0m \u001B[38;5;28;01mfrom\u001B[39;00m \u001B[38;5;21;01mpandas\u001B[39;00m\u001B[38;5;21;01m.\u001B[39;00m\u001B[38;5;21;01m_libs\u001B[39;00m \u001B[38;5;28;01mimport\u001B[39;00m (\n\u001B[0;32m      2\u001B[0m     NaT,\n\u001B[0;32m      3\u001B[0m     Period,\n\u001B[0;32m      4\u001B[0m     Timedelta,\n\u001B[0;32m      5\u001B[0m     Timestamp,\n\u001B[0;32m      6\u001B[0m )\n\u001B[0;32m      7\u001B[0m \u001B[38;5;28;01mfrom\u001B[39;00m \u001B[38;5;21;01mpandas\u001B[39;00m\u001B[38;5;21;01m.\u001B[39;00m\u001B[38;5;21;01m_libs\u001B[39;00m\u001B[38;5;21;01m.\u001B[39;00m\u001B[38;5;21;01mmissing\u001B[39;00m \u001B[38;5;28;01mimport\u001B[39;00m NA\n\u001B[0;32m      9\u001B[0m \u001B[38;5;28;01mfrom\u001B[39;00m \u001B[38;5;21;01mpandas\u001B[39;00m\u001B[38;5;21;01m.\u001B[39;00m\u001B[38;5;21;01mcore\u001B[39;00m\u001B[38;5;21;01m.\u001B[39;00m\u001B[38;5;21;01mdtypes\u001B[39;00m\u001B[38;5;21;01m.\u001B[39;00m\u001B[38;5;21;01mdtypes\u001B[39;00m \u001B[38;5;28;01mimport\u001B[39;00m (\n\u001B[0;32m     10\u001B[0m     ArrowDtype,\n\u001B[0;32m     11\u001B[0m     CategoricalDtype,\n\u001B[1;32m   (...)\u001B[0m\n\u001B[0;32m     14\u001B[0m     PeriodDtype,\n\u001B[0;32m     15\u001B[0m )\n",
      "File \u001B[1;32m~\\anaconda3\\envs\\pythonProject\\Lib\\site-packages\\pandas\\_libs\\__init__.py:18\u001B[0m\n\u001B[0;32m     16\u001B[0m \u001B[38;5;28;01mimport\u001B[39;00m \u001B[38;5;21;01mpandas\u001B[39;00m\u001B[38;5;21;01m.\u001B[39;00m\u001B[38;5;21;01m_libs\u001B[39;00m\u001B[38;5;21;01m.\u001B[39;00m\u001B[38;5;21;01mpandas_parser\u001B[39;00m  \u001B[38;5;66;03m# noqa: E501 # isort: skip # type: ignore[reportUnusedImport]\u001B[39;00m\n\u001B[0;32m     17\u001B[0m \u001B[38;5;28;01mimport\u001B[39;00m \u001B[38;5;21;01mpandas\u001B[39;00m\u001B[38;5;21;01m.\u001B[39;00m\u001B[38;5;21;01m_libs\u001B[39;00m\u001B[38;5;21;01m.\u001B[39;00m\u001B[38;5;21;01mpandas_datetime\u001B[39;00m  \u001B[38;5;66;03m# noqa: F401,E501 # isort: skip # type: ignore[reportUnusedImport]\u001B[39;00m\n\u001B[1;32m---> 18\u001B[0m \u001B[38;5;28;01mfrom\u001B[39;00m \u001B[38;5;21;01mpandas\u001B[39;00m\u001B[38;5;21;01m.\u001B[39;00m\u001B[38;5;21;01m_libs\u001B[39;00m\u001B[38;5;21;01m.\u001B[39;00m\u001B[38;5;21;01minterval\u001B[39;00m \u001B[38;5;28;01mimport\u001B[39;00m Interval\n\u001B[0;32m     19\u001B[0m \u001B[38;5;28;01mfrom\u001B[39;00m \u001B[38;5;21;01mpandas\u001B[39;00m\u001B[38;5;21;01m.\u001B[39;00m\u001B[38;5;21;01m_libs\u001B[39;00m\u001B[38;5;21;01m.\u001B[39;00m\u001B[38;5;21;01mtslibs\u001B[39;00m \u001B[38;5;28;01mimport\u001B[39;00m (\n\u001B[0;32m     20\u001B[0m     NaT,\n\u001B[0;32m     21\u001B[0m     NaTType,\n\u001B[1;32m   (...)\u001B[0m\n\u001B[0;32m     26\u001B[0m     iNaT,\n\u001B[0;32m     27\u001B[0m )\n",
      "File \u001B[1;32minterval.pyx:1\u001B[0m, in \u001B[0;36minit pandas._libs.interval\u001B[1;34m()\u001B[0m\n",
      "File \u001B[1;32mhashtable.pyx:1\u001B[0m, in \u001B[0;36minit pandas._libs.hashtable\u001B[1;34m()\u001B[0m\n",
      "File \u001B[1;32mmissing.pyx:42\u001B[0m, in \u001B[0;36minit pandas._libs.missing\u001B[1;34m()\u001B[0m\n",
      "\u001B[1;31mAttributeError\u001B[0m: partially initialized module 'pandas' has no attribute '_pandas_datetime_CAPI' (most likely due to a circular import)"
     ]
    }
   ],
   "source": [
    "import pandas as pd"
   ]
  },
  {
   "cell_type": "code",
   "execution_count": 13,
   "metadata": {
    "slideshow": {
     "slide_type": "slide"
    },
    "ExecuteTime": {
     "end_time": "2023-11-11T20:16:25.279395300Z",
     "start_time": "2023-11-11T20:16:25.264706800Z"
    }
   },
   "outputs": [
    {
     "ename": "NameError",
     "evalue": "name 'pd' is not defined",
     "output_type": "error",
     "traceback": [
      "\u001B[1;31m---------------------------------------------------------------------------\u001B[0m",
      "\u001B[1;31mNameError\u001B[0m                                 Traceback (most recent call last)",
      "Cell \u001B[1;32mIn[13], line 3\u001B[0m\n\u001B[0;32m      1\u001B[0m \u001B[38;5;66;03m# https://grouplens.org/datasets/movielens/\u001B[39;00m\n\u001B[1;32m----> 3\u001B[0m ratings \u001B[38;5;241m=\u001B[39m pd\u001B[38;5;241m.\u001B[39mread_csv(\u001B[38;5;124m'\u001B[39m\u001B[38;5;124mD:\u001B[39m\u001B[38;5;130;01m\\\\\u001B[39;00m\u001B[38;5;124mНетология python\u001B[39m\u001B[38;5;130;01m\\\\\u001B[39;00m\u001B[38;5;124mЛекция _Библиотека_numpy\u001B[39m\u001B[38;5;130;01m\\\\\u001B[39;00m\u001B[38;5;124m10._Основы_pandas\u001B[39m\u001B[38;5;130;01m\\\\\u001B[39;00m\u001B[38;5;124m10._Основы_pandas\u001B[39m\u001B[38;5;130;01m\\\\\u001B[39;00m\u001B[38;5;124mФайлы к заданию №1\u001B[39m\u001B[38;5;130;01m\\\\\u001B[39;00m\u001B[38;5;124mratings.csv\u001B[39m\u001B[38;5;124m'\u001B[39m)\n\u001B[0;32m      4\u001B[0m ratings\u001B[38;5;241m.\u001B[39mhead()\n",
      "\u001B[1;31mNameError\u001B[0m: name 'pd' is not defined"
     ]
    }
   ],
   "source": [
    "# https://grouplens.org/datasets/movielens/\n",
    "\n",
    "ratings = pd.read_csv('D:\\\\Нетология python\\\\Лекция _Библиотека_numpy\\\\10._Основы_pandas\\\\10._Основы_pandas\\\\Файлы к заданию №1\\\\ratings.csv')\n",
    "ratings.head()"
   ]
  },
  {
   "cell_type": "code",
   "execution_count": 20,
   "metadata": {
    "slideshow": {
     "slide_type": "slide"
    },
    "ExecuteTime": {
     "end_time": "2023-11-11T20:16:51.478862100Z",
     "start_time": "2023-11-11T20:16:51.465931Z"
    }
   },
   "outputs": [
    {
     "ename": "NameError",
     "evalue": "name 'ratings' is not defined",
     "output_type": "error",
     "traceback": [
      "\u001B[1;31m---------------------------------------------------------------------------\u001B[0m",
      "\u001B[1;31mNameError\u001B[0m                                 Traceback (most recent call last)",
      "Cell \u001B[1;32mIn[20], line 1\u001B[0m\n\u001B[1;32m----> 1\u001B[0m ratings\u001B[38;5;241m.\u001B[39minfo()\n",
      "\u001B[1;31mNameError\u001B[0m: name 'ratings' is not defined"
     ]
    }
   ],
   "source": [
    "ratings.info()"
   ]
  },
  {
   "cell_type": "code",
   "execution_count": 9,
   "metadata": {
    "slideshow": {
     "slide_type": "slide"
    },
    "ExecuteTime": {
     "end_time": "2023-11-11T08:00:32.742300200Z",
     "start_time": "2023-11-11T08:00:32.736091600Z"
    }
   },
   "outputs": [
    {
     "data": {
      "text/plain": "9724"
     },
     "execution_count": 9,
     "metadata": {},
     "output_type": "execute_result"
    }
   ],
   "source": [
    "# сколько фильмов в коллекции\n",
    "len(ratings.movieId.unique())"
   ]
  },
  {
   "cell_type": "code",
   "execution_count": 10,
   "metadata": {
    "slideshow": {
     "slide_type": "slide"
    },
    "ExecuteTime": {
     "end_time": "2023-11-11T08:00:34.931688300Z",
     "start_time": "2023-11-11T08:00:34.918215Z"
    }
   },
   "outputs": [
    {
     "name": "stdout",
     "output_type": "stream",
     "text": [
      "CPU times: total: 0 ns\n",
      "Wall time: 6 ms\n"
     ]
    },
    {
     "data": {
      "text/plain": "        movieId  rating  timestamp\nuserId                            \n414        2698    2698       2698\n599        2478    2478       2478\n474        2108    2108       2108\n448        1864    1864       1864\n274        1346    1346       1346",
      "text/html": "<div>\n<style scoped>\n    .dataframe tbody tr th:only-of-type {\n        vertical-align: middle;\n    }\n\n    .dataframe tbody tr th {\n        vertical-align: top;\n    }\n\n    .dataframe thead th {\n        text-align: right;\n    }\n</style>\n<table border=\"1\" class=\"dataframe\">\n  <thead>\n    <tr style=\"text-align: right;\">\n      <th></th>\n      <th>movieId</th>\n      <th>rating</th>\n      <th>timestamp</th>\n    </tr>\n    <tr>\n      <th>userId</th>\n      <th></th>\n      <th></th>\n      <th></th>\n    </tr>\n  </thead>\n  <tbody>\n    <tr>\n      <th>414</th>\n      <td>2698</td>\n      <td>2698</td>\n      <td>2698</td>\n    </tr>\n    <tr>\n      <th>599</th>\n      <td>2478</td>\n      <td>2478</td>\n      <td>2478</td>\n    </tr>\n    <tr>\n      <th>474</th>\n      <td>2108</td>\n      <td>2108</td>\n      <td>2108</td>\n    </tr>\n    <tr>\n      <th>448</th>\n      <td>1864</td>\n      <td>1864</td>\n      <td>1864</td>\n    </tr>\n    <tr>\n      <th>274</th>\n      <td>1346</td>\n      <td>1346</td>\n      <td>1346</td>\n    </tr>\n  </tbody>\n</table>\n</div>"
     },
     "execution_count": 10,
     "metadata": {},
     "output_type": "execute_result"
    }
   ],
   "source": [
    "%%time\n",
    "\n",
    "# топ пользователей по количеству оценок\n",
    "ratings.groupby('userId').count().sort_values('movieId', ascending=False).head()"
   ]
  },
  {
   "cell_type": "markdown",
   "metadata": {
    "slideshow": {
     "slide_type": "slide"
    }
   },
   "source": [
    "# Lifetime"
   ]
  },
  {
   "cell_type": "code",
   "execution_count": 11,
   "metadata": {
    "slideshow": {
     "slide_type": "subslide"
    },
    "ExecuteTime": {
     "end_time": "2023-11-11T08:00:40.474706900Z",
     "start_time": "2023-11-11T08:00:40.445990Z"
    }
   },
   "outputs": [
    {
     "name": "stderr",
     "output_type": "stream",
     "text": [
      "C:\\Users\\Dmitrii\\AppData\\Local\\Temp\\ipykernel_13024\\493006525.py:1: FutureWarning: The provided callable <built-in function min> is currently using SeriesGroupBy.min. In a future version of pandas, the provided callable will be used directly. To keep current behavior pass the string \"min\" instead.\n",
      "  ratings_grouped = ratings.groupby('userId').agg([min, max])\n",
      "C:\\Users\\Dmitrii\\AppData\\Local\\Temp\\ipykernel_13024\\493006525.py:1: FutureWarning: The provided callable <built-in function max> is currently using SeriesGroupBy.max. In a future version of pandas, the provided callable will be used directly. To keep current behavior pass the string \"max\" instead.\n",
      "  ratings_grouped = ratings.groupby('userId').agg([min, max])\n"
     ]
    },
    {
     "data": {
      "text/plain": "       movieId         rating        timestamp            \n           min     max    min  max         min         max\nuserId                                                    \n1            1    5060    1.0  5.0   964980499   965719662\n2          318  131724    2.0  5.0  1445714835  1445715340\n3           31   72378    0.5  5.0  1306463323  1306464293\n4           21    4967    1.0  5.0   945078428  1007574542\n5            1     608    1.0  5.0   847434747   847435337",
      "text/html": "<div>\n<style scoped>\n    .dataframe tbody tr th:only-of-type {\n        vertical-align: middle;\n    }\n\n    .dataframe tbody tr th {\n        vertical-align: top;\n    }\n\n    .dataframe thead tr th {\n        text-align: left;\n    }\n\n    .dataframe thead tr:last-of-type th {\n        text-align: right;\n    }\n</style>\n<table border=\"1\" class=\"dataframe\">\n  <thead>\n    <tr>\n      <th></th>\n      <th colspan=\"2\" halign=\"left\">movieId</th>\n      <th colspan=\"2\" halign=\"left\">rating</th>\n      <th colspan=\"2\" halign=\"left\">timestamp</th>\n    </tr>\n    <tr>\n      <th></th>\n      <th>min</th>\n      <th>max</th>\n      <th>min</th>\n      <th>max</th>\n      <th>min</th>\n      <th>max</th>\n    </tr>\n    <tr>\n      <th>userId</th>\n      <th></th>\n      <th></th>\n      <th></th>\n      <th></th>\n      <th></th>\n      <th></th>\n    </tr>\n  </thead>\n  <tbody>\n    <tr>\n      <th>1</th>\n      <td>1</td>\n      <td>5060</td>\n      <td>1.0</td>\n      <td>5.0</td>\n      <td>964980499</td>\n      <td>965719662</td>\n    </tr>\n    <tr>\n      <th>2</th>\n      <td>318</td>\n      <td>131724</td>\n      <td>2.0</td>\n      <td>5.0</td>\n      <td>1445714835</td>\n      <td>1445715340</td>\n    </tr>\n    <tr>\n      <th>3</th>\n      <td>31</td>\n      <td>72378</td>\n      <td>0.5</td>\n      <td>5.0</td>\n      <td>1306463323</td>\n      <td>1306464293</td>\n    </tr>\n    <tr>\n      <th>4</th>\n      <td>21</td>\n      <td>4967</td>\n      <td>1.0</td>\n      <td>5.0</td>\n      <td>945078428</td>\n      <td>1007574542</td>\n    </tr>\n    <tr>\n      <th>5</th>\n      <td>1</td>\n      <td>608</td>\n      <td>1.0</td>\n      <td>5.0</td>\n      <td>847434747</td>\n      <td>847435337</td>\n    </tr>\n  </tbody>\n</table>\n</div>"
     },
     "execution_count": 11,
     "metadata": {},
     "output_type": "execute_result"
    }
   ],
   "source": [
    "ratings_grouped = ratings.groupby('userId').agg([min, max])\n",
    "ratings_grouped.head()"
   ]
  },
  {
   "cell_type": "code",
   "execution_count": 13,
   "metadata": {
    "slideshow": {
     "slide_type": "slide"
    },
    "ExecuteTime": {
     "end_time": "2023-11-11T08:01:03.442424200Z",
     "start_time": "2023-11-11T08:01:03.422017Z"
    }
   },
   "outputs": [
    {
     "data": {
      "text/plain": "       movieId         rating        timestamp                  diff\n           min     max    min  max         min         max          \nuserId                                                              \n1            1    5060    1.0  5.0   964980499   965719662    739163\n2          318  131724    2.0  5.0  1445714835  1445715340       505\n3           31   72378    0.5  5.0  1306463323  1306464293       970\n4           21    4967    1.0  5.0   945078428  1007574542  62496114\n5            1     608    1.0  5.0   847434747   847435337       590",
      "text/html": "<div>\n<style scoped>\n    .dataframe tbody tr th:only-of-type {\n        vertical-align: middle;\n    }\n\n    .dataframe tbody tr th {\n        vertical-align: top;\n    }\n\n    .dataframe thead tr th {\n        text-align: left;\n    }\n\n    .dataframe thead tr:last-of-type th {\n        text-align: right;\n    }\n</style>\n<table border=\"1\" class=\"dataframe\">\n  <thead>\n    <tr>\n      <th></th>\n      <th colspan=\"2\" halign=\"left\">movieId</th>\n      <th colspan=\"2\" halign=\"left\">rating</th>\n      <th colspan=\"2\" halign=\"left\">timestamp</th>\n      <th>diff</th>\n    </tr>\n    <tr>\n      <th></th>\n      <th>min</th>\n      <th>max</th>\n      <th>min</th>\n      <th>max</th>\n      <th>min</th>\n      <th>max</th>\n      <th></th>\n    </tr>\n    <tr>\n      <th>userId</th>\n      <th></th>\n      <th></th>\n      <th></th>\n      <th></th>\n      <th></th>\n      <th></th>\n      <th></th>\n    </tr>\n  </thead>\n  <tbody>\n    <tr>\n      <th>1</th>\n      <td>1</td>\n      <td>5060</td>\n      <td>1.0</td>\n      <td>5.0</td>\n      <td>964980499</td>\n      <td>965719662</td>\n      <td>739163</td>\n    </tr>\n    <tr>\n      <th>2</th>\n      <td>318</td>\n      <td>131724</td>\n      <td>2.0</td>\n      <td>5.0</td>\n      <td>1445714835</td>\n      <td>1445715340</td>\n      <td>505</td>\n    </tr>\n    <tr>\n      <th>3</th>\n      <td>31</td>\n      <td>72378</td>\n      <td>0.5</td>\n      <td>5.0</td>\n      <td>1306463323</td>\n      <td>1306464293</td>\n      <td>970</td>\n    </tr>\n    <tr>\n      <th>4</th>\n      <td>21</td>\n      <td>4967</td>\n      <td>1.0</td>\n      <td>5.0</td>\n      <td>945078428</td>\n      <td>1007574542</td>\n      <td>62496114</td>\n    </tr>\n    <tr>\n      <th>5</th>\n      <td>1</td>\n      <td>608</td>\n      <td>1.0</td>\n      <td>5.0</td>\n      <td>847434747</td>\n      <td>847435337</td>\n      <td>590</td>\n    </tr>\n  </tbody>\n</table>\n</div>"
     },
     "execution_count": 13,
     "metadata": {},
     "output_type": "execute_result"
    }
   ],
   "source": [
    "ratings_grouped['diff'] = ratings_grouped['timestamp']['max'] - ratings_grouped['timestamp']['min']\n",
    "ratings_grouped.head()"
   ]
  },
  {
   "cell_type": "code",
   "execution_count": 15,
   "metadata": {
    "slideshow": {
     "slide_type": "slide"
    },
    "ExecuteTime": {
     "end_time": "2023-11-11T08:01:11.759566900Z",
     "start_time": "2023-11-11T08:01:11.752209700Z"
    }
   },
   "outputs": [
    {
     "data": {
      "text/plain": "234.29512251442014"
     },
     "execution_count": 15,
     "metadata": {},
     "output_type": "execute_result"
    }
   ],
   "source": [
    "ratings_grouped['diff'].mean() / 24 / 3600"
   ]
  },
  {
   "cell_type": "code",
   "execution_count": 17,
   "metadata": {
    "slideshow": {
     "slide_type": "slide"
    },
    "ExecuteTime": {
     "end_time": "2023-11-11T08:01:40.036855900Z",
     "start_time": "2023-11-11T08:01:39.984191400Z"
    }
   },
   "outputs": [
    {
     "name": "stdout",
     "output_type": "stream",
     "text": [
      "CPU times: total: 62.5 ms\n",
      "Wall time: 44 ms\n"
     ]
    },
    {
     "name": "stderr",
     "output_type": "stream",
     "text": [
      "<timed exec>:2: FutureWarning: The provided callable <built-in function min> is currently using SeriesGroupBy.min. In a future version of pandas, the provided callable will be used directly. To keep current behavior pass the string \"min\" instead.\n",
      "<timed exec>:2: FutureWarning: The provided callable <built-in function max> is currently using SeriesGroupBy.max. In a future version of pandas, the provided callable will be used directly. To keep current behavior pass the string \"max\" instead.\n"
     ]
    },
    {
     "data": {
      "text/plain": "234.29512251442014"
     },
     "execution_count": 17,
     "metadata": {},
     "output_type": "execute_result"
    }
   ],
   "source": [
    "%%time\n",
    "\n",
    "ratings = pd.read_csv('D:\\\\Нетология python\\\\Лекция _Библиотека_numpy\\\\10._Основы_pandas\\\\10._Основы_pandas\\\\Файлы к заданию №1\\\\ratings.csv')\n",
    "ratings_grouped = ratings.groupby('userId').agg([min, max])\n",
    "ratings_grouped['diff'] = ratings_grouped['timestamp']['max'] - ratings_grouped['timestamp']['min']\n",
    "\n",
    "ratings_grouped['diff'].mean() / 24 / 3600"
   ]
  },
  {
   "cell_type": "markdown",
   "metadata": {
    "slideshow": {
     "slide_type": "slide"
    }
   },
   "source": [
    "# JOIN как в SQL"
   ]
  },
  {
   "cell_type": "code",
   "execution_count": 10,
   "metadata": {
    "slideshow": {
     "slide_type": "subslide"
    }
   },
   "outputs": [
    {
     "data": {
      "text/html": [
       "<div>\n",
       "<style scoped>\n",
       "    .dataframe tbody tr th:only-of-type {\n",
       "        vertical-align: middle;\n",
       "    }\n",
       "\n",
       "    .dataframe tbody tr th {\n",
       "        vertical-align: top;\n",
       "    }\n",
       "\n",
       "    .dataframe thead th {\n",
       "        text-align: right;\n",
       "    }\n",
       "</style>\n",
       "<table border=\"1\" class=\"dataframe\">\n",
       "  <thead>\n",
       "    <tr style=\"text-align: right;\">\n",
       "      <th></th>\n",
       "      <th>movieId</th>\n",
       "      <th>title</th>\n",
       "      <th>genres</th>\n",
       "    </tr>\n",
       "  </thead>\n",
       "  <tbody>\n",
       "    <tr>\n",
       "      <th>0</th>\n",
       "      <td>1</td>\n",
       "      <td>Toy Story (1995)</td>\n",
       "      <td>Adventure|Animation|Children|Comedy|Fantasy</td>\n",
       "    </tr>\n",
       "    <tr>\n",
       "      <th>1</th>\n",
       "      <td>2</td>\n",
       "      <td>Jumanji (1995)</td>\n",
       "      <td>Adventure|Children|Fantasy</td>\n",
       "    </tr>\n",
       "    <tr>\n",
       "      <th>2</th>\n",
       "      <td>3</td>\n",
       "      <td>Grumpier Old Men (1995)</td>\n",
       "      <td>Comedy|Romance</td>\n",
       "    </tr>\n",
       "    <tr>\n",
       "      <th>3</th>\n",
       "      <td>4</td>\n",
       "      <td>Waiting to Exhale (1995)</td>\n",
       "      <td>Comedy|Drama|Romance</td>\n",
       "    </tr>\n",
       "    <tr>\n",
       "      <th>4</th>\n",
       "      <td>5</td>\n",
       "      <td>Father of the Bride Part II (1995)</td>\n",
       "      <td>Comedy</td>\n",
       "    </tr>\n",
       "  </tbody>\n",
       "</table>\n",
       "</div>"
      ],
      "text/plain": [
       "   movieId                               title  \\\n",
       "0        1                    Toy Story (1995)   \n",
       "1        2                      Jumanji (1995)   \n",
       "2        3             Grumpier Old Men (1995)   \n",
       "3        4            Waiting to Exhale (1995)   \n",
       "4        5  Father of the Bride Part II (1995)   \n",
       "\n",
       "                                        genres  \n",
       "0  Adventure|Animation|Children|Comedy|Fantasy  \n",
       "1                   Adventure|Children|Fantasy  \n",
       "2                               Comedy|Romance  \n",
       "3                         Comedy|Drama|Romance  \n",
       "4                                       Comedy  "
      ]
     },
     "execution_count": 10,
     "metadata": {},
     "output_type": "execute_result"
    }
   ],
   "source": [
    "movies = pd.read_csv('ml-latest/movies.csv')\n",
    "movies.head()"
   ]
  },
  {
   "cell_type": "code",
   "execution_count": 11,
   "metadata": {
    "slideshow": {
     "slide_type": "slide"
    }
   },
   "outputs": [
    {
     "data": {
      "text/html": [
       "<div>\n",
       "<style scoped>\n",
       "    .dataframe tbody tr th:only-of-type {\n",
       "        vertical-align: middle;\n",
       "    }\n",
       "\n",
       "    .dataframe tbody tr th {\n",
       "        vertical-align: top;\n",
       "    }\n",
       "\n",
       "    .dataframe thead th {\n",
       "        text-align: right;\n",
       "    }\n",
       "</style>\n",
       "<table border=\"1\" class=\"dataframe\">\n",
       "  <thead>\n",
       "    <tr style=\"text-align: right;\">\n",
       "      <th></th>\n",
       "      <th>userId</th>\n",
       "      <th>movieId</th>\n",
       "      <th>rating</th>\n",
       "      <th>timestamp</th>\n",
       "      <th>title</th>\n",
       "      <th>genres</th>\n",
       "    </tr>\n",
       "  </thead>\n",
       "  <tbody>\n",
       "    <tr>\n",
       "      <th>0</th>\n",
       "      <td>1</td>\n",
       "      <td>110</td>\n",
       "      <td>1.0</td>\n",
       "      <td>1425941529</td>\n",
       "      <td>Braveheart (1995)</td>\n",
       "      <td>Action|Drama|War</td>\n",
       "    </tr>\n",
       "    <tr>\n",
       "      <th>1</th>\n",
       "      <td>1</td>\n",
       "      <td>147</td>\n",
       "      <td>4.5</td>\n",
       "      <td>1425942435</td>\n",
       "      <td>Basketball Diaries, The (1995)</td>\n",
       "      <td>Drama</td>\n",
       "    </tr>\n",
       "    <tr>\n",
       "      <th>2</th>\n",
       "      <td>1</td>\n",
       "      <td>858</td>\n",
       "      <td>5.0</td>\n",
       "      <td>1425941523</td>\n",
       "      <td>Godfather, The (1972)</td>\n",
       "      <td>Crime|Drama</td>\n",
       "    </tr>\n",
       "    <tr>\n",
       "      <th>3</th>\n",
       "      <td>1</td>\n",
       "      <td>1221</td>\n",
       "      <td>5.0</td>\n",
       "      <td>1425941546</td>\n",
       "      <td>Godfather: Part II, The (1974)</td>\n",
       "      <td>Crime|Drama</td>\n",
       "    </tr>\n",
       "    <tr>\n",
       "      <th>4</th>\n",
       "      <td>1</td>\n",
       "      <td>1246</td>\n",
       "      <td>5.0</td>\n",
       "      <td>1425941556</td>\n",
       "      <td>Dead Poets Society (1989)</td>\n",
       "      <td>Drama</td>\n",
       "    </tr>\n",
       "  </tbody>\n",
       "</table>\n",
       "</div>"
      ],
      "text/plain": [
       "   userId  movieId  rating   timestamp                           title  \\\n",
       "0       1      110     1.0  1425941529               Braveheart (1995)   \n",
       "1       1      147     4.5  1425942435  Basketball Diaries, The (1995)   \n",
       "2       1      858     5.0  1425941523           Godfather, The (1972)   \n",
       "3       1     1221     5.0  1425941546  Godfather: Part II, The (1974)   \n",
       "4       1     1246     5.0  1425941556       Dead Poets Society (1989)   \n",
       "\n",
       "             genres  \n",
       "0  Action|Drama|War  \n",
       "1             Drama  \n",
       "2       Crime|Drama  \n",
       "3       Crime|Drama  \n",
       "4             Drama  "
      ]
     },
     "execution_count": 11,
     "metadata": {},
     "output_type": "execute_result"
    }
   ],
   "source": [
    "joined = ratings.merge(movies, on='movieId', how='left')\n",
    "joined.head()"
   ]
  }
 ],
 "metadata": {
  "celltoolbar": "Slideshow",
  "kernelspec": {
   "display_name": "Python 3",
   "language": "python",
   "name": "python3"
  },
  "language_info": {
   "codemirror_mode": {
    "name": "ipython",
    "version": 3
   },
   "file_extension": ".py",
   "mimetype": "text/x-python",
   "name": "python",
   "nbconvert_exporter": "python",
   "pygments_lexer": "ipython3",
   "version": "3.7.0"
  }
 },
 "nbformat": 4,
 "nbformat_minor": 2
}
