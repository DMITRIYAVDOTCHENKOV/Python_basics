{
 "cells": [
  {
   "cell_type": "markdown",
   "metadata": {},
   "source": [
    "# Что будет\n",
    "- сводные таблицы\n",
    "- фильтры и вычисления с помощью метода loc\n",
    "- фильтрация пустых значений через isnull\n",
    "- время в pandas\n",
    "- строковые методы\n",
    "- немного про учет форм слов"
   ]
  },
  {
   "cell_type": "markdown",
   "metadata": {},
   "source": [
    "# Сводные таблицы\n",
    "Прям как в экселе"
   ]
  },
  {
   "cell_type": "code",
   "execution_count": 1,
   "metadata": {
    "ExecuteTime": {
     "end_time": "2023-11-18T08:49:45.165858900Z",
     "start_time": "2023-11-18T08:49:44.698272200Z"
    }
   },
   "outputs": [],
   "source": [
    "import pandas as pd"
   ]
  },
  {
   "cell_type": "code",
   "execution_count": 2,
   "metadata": {
    "scrolled": true,
    "ExecuteTime": {
     "end_time": "2023-11-18T08:50:48.642791Z",
     "start_time": "2023-11-18T08:50:48.585587600Z"
    }
   },
   "outputs": [
    {
     "data": {
      "text/plain": "   userId  movieId  rating  timestamp\n0       1        1     4.0  964982703\n1       1        3     4.0  964981247\n2       1        6     4.0  964982224\n3       1       47     5.0  964983815\n4       1       50     5.0  964982931",
      "text/html": "<div>\n<style scoped>\n    .dataframe tbody tr th:only-of-type {\n        vertical-align: middle;\n    }\n\n    .dataframe tbody tr th {\n        vertical-align: top;\n    }\n\n    .dataframe thead th {\n        text-align: right;\n    }\n</style>\n<table border=\"1\" class=\"dataframe\">\n  <thead>\n    <tr style=\"text-align: right;\">\n      <th></th>\n      <th>userId</th>\n      <th>movieId</th>\n      <th>rating</th>\n      <th>timestamp</th>\n    </tr>\n  </thead>\n  <tbody>\n    <tr>\n      <th>0</th>\n      <td>1</td>\n      <td>1</td>\n      <td>4.0</td>\n      <td>964982703</td>\n    </tr>\n    <tr>\n      <th>1</th>\n      <td>1</td>\n      <td>3</td>\n      <td>4.0</td>\n      <td>964981247</td>\n    </tr>\n    <tr>\n      <th>2</th>\n      <td>1</td>\n      <td>6</td>\n      <td>4.0</td>\n      <td>964982224</td>\n    </tr>\n    <tr>\n      <th>3</th>\n      <td>1</td>\n      <td>47</td>\n      <td>5.0</td>\n      <td>964983815</td>\n    </tr>\n    <tr>\n      <th>4</th>\n      <td>1</td>\n      <td>50</td>\n      <td>5.0</td>\n      <td>964982931</td>\n    </tr>\n  </tbody>\n</table>\n</div>"
     },
     "execution_count": 2,
     "metadata": {},
     "output_type": "execute_result"
    }
   ],
   "source": [
    "ratings = pd.read_csv('D:\\\\Нетология python\\\\Лекция _Библиотека_numpy\\\\10._Основы_pandas\\\\10._Основы_pandas\\\\Файлы к заданию №1\\\\ratings.csv')\n",
    "ratings.head()"
   ]
  },
  {
   "cell_type": "markdown",
   "metadata": {},
   "source": [
    "### Вопрос аналитику\n",
    "Какие оценки поставил пользователь №1 и в каком количестве?\n",
    "\n",
    "Что сделаем:\n",
    "1. Фильтруем датафрейм ratings для userId = 1\n",
    "2. Считаем для этого пользователя сколько он выставил единиц, двоек итд"
   ]
  },
  {
   "cell_type": "code",
   "execution_count": 4,
   "metadata": {
    "ExecuteTime": {
     "end_time": "2023-11-18T08:52:07.308398600Z",
     "start_time": "2023-11-18T08:52:07.285275700Z"
    }
   },
   "outputs": [
    {
     "data": {
      "text/plain": "        userId  movieId  timestamp\nrating                            \n1.0          1        1          1\n2.0          5        5          5\n3.0         26       26         26\n4.0         76       76         76\n5.0        124      124        124",
      "text/html": "<div>\n<style scoped>\n    .dataframe tbody tr th:only-of-type {\n        vertical-align: middle;\n    }\n\n    .dataframe tbody tr th {\n        vertical-align: top;\n    }\n\n    .dataframe thead th {\n        text-align: right;\n    }\n</style>\n<table border=\"1\" class=\"dataframe\">\n  <thead>\n    <tr style=\"text-align: right;\">\n      <th></th>\n      <th>userId</th>\n      <th>movieId</th>\n      <th>timestamp</th>\n    </tr>\n    <tr>\n      <th>rating</th>\n      <th></th>\n      <th></th>\n      <th></th>\n    </tr>\n  </thead>\n  <tbody>\n    <tr>\n      <th>1.0</th>\n      <td>1</td>\n      <td>1</td>\n      <td>1</td>\n    </tr>\n    <tr>\n      <th>2.0</th>\n      <td>5</td>\n      <td>5</td>\n      <td>5</td>\n    </tr>\n    <tr>\n      <th>3.0</th>\n      <td>26</td>\n      <td>26</td>\n      <td>26</td>\n    </tr>\n    <tr>\n      <th>4.0</th>\n      <td>76</td>\n      <td>76</td>\n      <td>76</td>\n    </tr>\n    <tr>\n      <th>5.0</th>\n      <td>124</td>\n      <td>124</td>\n      <td>124</td>\n    </tr>\n  </tbody>\n</table>\n</div>"
     },
     "execution_count": 4,
     "metadata": {},
     "output_type": "execute_result"
    }
   ],
   "source": [
    "ratings[ratings['userId'] == 1].groupby('rating').count()"
   ]
  },
  {
   "cell_type": "code",
   "execution_count": 5,
   "metadata": {
    "ExecuteTime": {
     "end_time": "2023-11-18T08:53:30.666758100Z",
     "start_time": "2023-11-18T08:53:30.642451100Z"
    }
   },
   "outputs": [
    {
     "data": {
      "text/plain": "rating\n5.0    124\n4.0     76\n3.0     26\n2.0      5\n1.0      1\nName: count, dtype: int64"
     },
     "execution_count": 5,
     "metadata": {},
     "output_type": "execute_result"
    }
   ],
   "source": [
    "ratings[ratings['userId'] == 1].rating.value_counts()"
   ]
  },
  {
   "cell_type": "code",
   "execution_count": 6,
   "metadata": {
    "ExecuteTime": {
     "end_time": "2023-11-18T08:54:46.531947700Z",
     "start_time": "2023-11-18T08:54:46.491724300Z"
    }
   },
   "outputs": [
    {
     "data": {
      "text/plain": "               movieId  timestamp\nuserId rating                    \n1      1.0           1          1\n       2.0           5          5\n       3.0          26         26\n       4.0          76         76\n       5.0         124        124\n2      2.0           1          1\n       2.5           1          1\n       3.0           4          4\n       3.5           4          4\n       4.0           9          9",
      "text/html": "<div>\n<style scoped>\n    .dataframe tbody tr th:only-of-type {\n        vertical-align: middle;\n    }\n\n    .dataframe tbody tr th {\n        vertical-align: top;\n    }\n\n    .dataframe thead th {\n        text-align: right;\n    }\n</style>\n<table border=\"1\" class=\"dataframe\">\n  <thead>\n    <tr style=\"text-align: right;\">\n      <th></th>\n      <th></th>\n      <th>movieId</th>\n      <th>timestamp</th>\n    </tr>\n    <tr>\n      <th>userId</th>\n      <th>rating</th>\n      <th></th>\n      <th></th>\n    </tr>\n  </thead>\n  <tbody>\n    <tr>\n      <th rowspan=\"5\" valign=\"top\">1</th>\n      <th>1.0</th>\n      <td>1</td>\n      <td>1</td>\n    </tr>\n    <tr>\n      <th>2.0</th>\n      <td>5</td>\n      <td>5</td>\n    </tr>\n    <tr>\n      <th>3.0</th>\n      <td>26</td>\n      <td>26</td>\n    </tr>\n    <tr>\n      <th>4.0</th>\n      <td>76</td>\n      <td>76</td>\n    </tr>\n    <tr>\n      <th>5.0</th>\n      <td>124</td>\n      <td>124</td>\n    </tr>\n    <tr>\n      <th rowspan=\"5\" valign=\"top\">2</th>\n      <th>2.0</th>\n      <td>1</td>\n      <td>1</td>\n    </tr>\n    <tr>\n      <th>2.5</th>\n      <td>1</td>\n      <td>1</td>\n    </tr>\n    <tr>\n      <th>3.0</th>\n      <td>4</td>\n      <td>4</td>\n    </tr>\n    <tr>\n      <th>3.5</th>\n      <td>4</td>\n      <td>4</td>\n    </tr>\n    <tr>\n      <th>4.0</th>\n      <td>9</td>\n      <td>9</td>\n    </tr>\n  </tbody>\n</table>\n</div>"
     },
     "execution_count": 6,
     "metadata": {},
     "output_type": "execute_result"
    }
   ],
   "source": [
    "ratings.groupby(['userId','rating']).count().head(10)"
   ]
  },
  {
   "cell_type": "markdown",
   "metadata": {},
   "source": [
    "Как это сделать для всех пользователей сразу:"
   ]
  },
  {
   "cell_type": "code",
   "execution_count": 7,
   "metadata": {
    "ExecuteTime": {
     "end_time": "2023-11-18T08:56:00.828601300Z",
     "start_time": "2023-11-18T08:56:00.787178300Z"
    }
   },
   "outputs": [
    {
     "data": {
      "text/plain": "rating  0.5  1.0  1.5  2.0  2.5  3.0  3.5  4.0  4.5  5.0\nuserId                                                  \n1         0    1    0    5    0   26    0   76    0  124\n2         0    0    0    1    1    4    4    9    4    6\n3        20    0    0    1    0    1    1    1    5   10\n4         0   23    0   26    0   39    0   64    0   64\n5         0    1    0    3    0   17    0   13    0   10",
      "text/html": "<div>\n<style scoped>\n    .dataframe tbody tr th:only-of-type {\n        vertical-align: middle;\n    }\n\n    .dataframe tbody tr th {\n        vertical-align: top;\n    }\n\n    .dataframe thead th {\n        text-align: right;\n    }\n</style>\n<table border=\"1\" class=\"dataframe\">\n  <thead>\n    <tr style=\"text-align: right;\">\n      <th>rating</th>\n      <th>0.5</th>\n      <th>1.0</th>\n      <th>1.5</th>\n      <th>2.0</th>\n      <th>2.5</th>\n      <th>3.0</th>\n      <th>3.5</th>\n      <th>4.0</th>\n      <th>4.5</th>\n      <th>5.0</th>\n    </tr>\n    <tr>\n      <th>userId</th>\n      <th></th>\n      <th></th>\n      <th></th>\n      <th></th>\n      <th></th>\n      <th></th>\n      <th></th>\n      <th></th>\n      <th></th>\n      <th></th>\n    </tr>\n  </thead>\n  <tbody>\n    <tr>\n      <th>1</th>\n      <td>0</td>\n      <td>1</td>\n      <td>0</td>\n      <td>5</td>\n      <td>0</td>\n      <td>26</td>\n      <td>0</td>\n      <td>76</td>\n      <td>0</td>\n      <td>124</td>\n    </tr>\n    <tr>\n      <th>2</th>\n      <td>0</td>\n      <td>0</td>\n      <td>0</td>\n      <td>1</td>\n      <td>1</td>\n      <td>4</td>\n      <td>4</td>\n      <td>9</td>\n      <td>4</td>\n      <td>6</td>\n    </tr>\n    <tr>\n      <th>3</th>\n      <td>20</td>\n      <td>0</td>\n      <td>0</td>\n      <td>1</td>\n      <td>0</td>\n      <td>1</td>\n      <td>1</td>\n      <td>1</td>\n      <td>5</td>\n      <td>10</td>\n    </tr>\n    <tr>\n      <th>4</th>\n      <td>0</td>\n      <td>23</td>\n      <td>0</td>\n      <td>26</td>\n      <td>0</td>\n      <td>39</td>\n      <td>0</td>\n      <td>64</td>\n      <td>0</td>\n      <td>64</td>\n    </tr>\n    <tr>\n      <th>5</th>\n      <td>0</td>\n      <td>1</td>\n      <td>0</td>\n      <td>3</td>\n      <td>0</td>\n      <td>17</td>\n      <td>0</td>\n      <td>13</td>\n      <td>0</td>\n      <td>10</td>\n    </tr>\n  </tbody>\n</table>\n</div>"
     },
     "execution_count": 7,
     "metadata": {},
     "output_type": "execute_result"
    }
   ],
   "source": [
    "ratings.pivot_table(index = 'userId', columns = 'rating', values = 'timestamp', aggfunc = 'count', fill_value = 0).head()\n"
   ]
  },
  {
   "cell_type": "code",
   "execution_count": 8,
   "metadata": {
    "scrolled": true,
    "ExecuteTime": {
     "end_time": "2023-11-18T08:56:05.388179500Z",
     "start_time": "2023-11-18T08:56:05.332379600Z"
    }
   },
   "outputs": [
    {
     "data": {
      "text/plain": "rating  0.5  1.0  1.5  2.0  2.5  3.0  3.5  4.0  4.5  5.0  All\nuserId                                                       \n1         0    1    0    5    0   26    0   76    0  124  232\n2         0    0    0    1    1    4    4    9    4    6   29\n3        20    0    0    1    0    1    1    1    5   10   39\n4         0   23    0   26    0   39    0   64    0   64  216\n5         0    1    0    3    0   17    0   13    0   10   44",
      "text/html": "<div>\n<style scoped>\n    .dataframe tbody tr th:only-of-type {\n        vertical-align: middle;\n    }\n\n    .dataframe tbody tr th {\n        vertical-align: top;\n    }\n\n    .dataframe thead th {\n        text-align: right;\n    }\n</style>\n<table border=\"1\" class=\"dataframe\">\n  <thead>\n    <tr style=\"text-align: right;\">\n      <th>rating</th>\n      <th>0.5</th>\n      <th>1.0</th>\n      <th>1.5</th>\n      <th>2.0</th>\n      <th>2.5</th>\n      <th>3.0</th>\n      <th>3.5</th>\n      <th>4.0</th>\n      <th>4.5</th>\n      <th>5.0</th>\n      <th>All</th>\n    </tr>\n    <tr>\n      <th>userId</th>\n      <th></th>\n      <th></th>\n      <th></th>\n      <th></th>\n      <th></th>\n      <th></th>\n      <th></th>\n      <th></th>\n      <th></th>\n      <th></th>\n      <th></th>\n    </tr>\n  </thead>\n  <tbody>\n    <tr>\n      <th>1</th>\n      <td>0</td>\n      <td>1</td>\n      <td>0</td>\n      <td>5</td>\n      <td>0</td>\n      <td>26</td>\n      <td>0</td>\n      <td>76</td>\n      <td>0</td>\n      <td>124</td>\n      <td>232</td>\n    </tr>\n    <tr>\n      <th>2</th>\n      <td>0</td>\n      <td>0</td>\n      <td>0</td>\n      <td>1</td>\n      <td>1</td>\n      <td>4</td>\n      <td>4</td>\n      <td>9</td>\n      <td>4</td>\n      <td>6</td>\n      <td>29</td>\n    </tr>\n    <tr>\n      <th>3</th>\n      <td>20</td>\n      <td>0</td>\n      <td>0</td>\n      <td>1</td>\n      <td>0</td>\n      <td>1</td>\n      <td>1</td>\n      <td>1</td>\n      <td>5</td>\n      <td>10</td>\n      <td>39</td>\n    </tr>\n    <tr>\n      <th>4</th>\n      <td>0</td>\n      <td>23</td>\n      <td>0</td>\n      <td>26</td>\n      <td>0</td>\n      <td>39</td>\n      <td>0</td>\n      <td>64</td>\n      <td>0</td>\n      <td>64</td>\n      <td>216</td>\n    </tr>\n    <tr>\n      <th>5</th>\n      <td>0</td>\n      <td>1</td>\n      <td>0</td>\n      <td>3</td>\n      <td>0</td>\n      <td>17</td>\n      <td>0</td>\n      <td>13</td>\n      <td>0</td>\n      <td>10</td>\n      <td>44</td>\n    </tr>\n  </tbody>\n</table>\n</div>"
     },
     "execution_count": 8,
     "metadata": {},
     "output_type": "execute_result"
    }
   ],
   "source": [
    "# можно итоги добавить\n",
    "ratings.pivot_table(index = 'userId', columns = 'rating', values = 'timestamp', aggfunc = 'count', fill_value = 0, \n",
    "                    margins = True).head()"
   ]
  },
  {
   "cell_type": "markdown",
   "metadata": {},
   "source": [
    "### Фильтры и вычисления с помощью loc и iloc"
   ]
  },
  {
   "cell_type": "code",
   "execution_count": 9,
   "metadata": {
    "ExecuteTime": {
     "end_time": "2023-11-18T09:05:39.961565Z",
     "start_time": "2023-11-18T09:05:39.920043900Z"
    }
   },
   "outputs": [
    {
     "data": {
      "text/plain": "    timestamp    visit_id                                 url  region  \\\n0  1549980692  e3b0c44298  https://host.ru/3c19b4ef7371864fa3  Russia   \n1  1549980704  6e340b9cff  https://host.ru/c8d9213a31839f9a3a  Russia   \n2  1549980715  96a296d224  https://host.ru/b8b58337d272ee7b15  Russia   \n3  1549980725  709e80c884  https://host.ru/b8b58337d272ee7b15  Russia   \n4  1549980736  df3f619804  https://host.ru/b8b58337d272ee7b15  Russia   \n\n      user_id traffic_source  \n0  b1613cc09f         yandex  \n1  4c3ec14bee         direct  \n2  a8c40697fb         yandex  \n3  521ac1d6a0         yandex  \n4  d7323c571c         yandex  ",
      "text/html": "<div>\n<style scoped>\n    .dataframe tbody tr th:only-of-type {\n        vertical-align: middle;\n    }\n\n    .dataframe tbody tr th {\n        vertical-align: top;\n    }\n\n    .dataframe thead th {\n        text-align: right;\n    }\n</style>\n<table border=\"1\" class=\"dataframe\">\n  <thead>\n    <tr style=\"text-align: right;\">\n      <th></th>\n      <th>timestamp</th>\n      <th>visit_id</th>\n      <th>url</th>\n      <th>region</th>\n      <th>user_id</th>\n      <th>traffic_source</th>\n    </tr>\n  </thead>\n  <tbody>\n    <tr>\n      <th>0</th>\n      <td>1549980692</td>\n      <td>e3b0c44298</td>\n      <td>https://host.ru/3c19b4ef7371864fa3</td>\n      <td>Russia</td>\n      <td>b1613cc09f</td>\n      <td>yandex</td>\n    </tr>\n    <tr>\n      <th>1</th>\n      <td>1549980704</td>\n      <td>6e340b9cff</td>\n      <td>https://host.ru/c8d9213a31839f9a3a</td>\n      <td>Russia</td>\n      <td>4c3ec14bee</td>\n      <td>direct</td>\n    </tr>\n    <tr>\n      <th>2</th>\n      <td>1549980715</td>\n      <td>96a296d224</td>\n      <td>https://host.ru/b8b58337d272ee7b15</td>\n      <td>Russia</td>\n      <td>a8c40697fb</td>\n      <td>yandex</td>\n    </tr>\n    <tr>\n      <th>3</th>\n      <td>1549980725</td>\n      <td>709e80c884</td>\n      <td>https://host.ru/b8b58337d272ee7b15</td>\n      <td>Russia</td>\n      <td>521ac1d6a0</td>\n      <td>yandex</td>\n    </tr>\n    <tr>\n      <th>4</th>\n      <td>1549980736</td>\n      <td>df3f619804</td>\n      <td>https://host.ru/b8b58337d272ee7b15</td>\n      <td>Russia</td>\n      <td>d7323c571c</td>\n      <td>yandex</td>\n    </tr>\n  </tbody>\n</table>\n</div>"
     },
     "execution_count": 9,
     "metadata": {},
     "output_type": "execute_result"
    }
   ],
   "source": [
    "log = pd.read_csv('D:\\\\Нетология python\\\\Лекция _Библиотека_numpy\\\\доп_материалы_к_пандас_1_и_2\\\\visit_log.csv', sep=';')\n",
    "log.head()"
   ]
  },
  {
   "cell_type": "code",
   "execution_count": 10,
   "metadata": {
    "ExecuteTime": {
     "end_time": "2023-11-18T09:08:32.567240900Z",
     "start_time": "2023-11-18T09:08:32.530538900Z"
    }
   },
   "outputs": [
    {
     "data": {
      "text/plain": "      user_id  region\n0  b1613cc09f  Russia\n1  4c3ec14bee  Russia\n2  a8c40697fb  Russia\n3  521ac1d6a0  Russia\n4  d7323c571c  Russia",
      "text/html": "<div>\n<style scoped>\n    .dataframe tbody tr th:only-of-type {\n        vertical-align: middle;\n    }\n\n    .dataframe tbody tr th {\n        vertical-align: top;\n    }\n\n    .dataframe thead th {\n        text-align: right;\n    }\n</style>\n<table border=\"1\" class=\"dataframe\">\n  <thead>\n    <tr style=\"text-align: right;\">\n      <th></th>\n      <th>user_id</th>\n      <th>region</th>\n    </tr>\n  </thead>\n  <tbody>\n    <tr>\n      <th>0</th>\n      <td>b1613cc09f</td>\n      <td>Russia</td>\n    </tr>\n    <tr>\n      <th>1</th>\n      <td>4c3ec14bee</td>\n      <td>Russia</td>\n    </tr>\n    <tr>\n      <th>2</th>\n      <td>a8c40697fb</td>\n      <td>Russia</td>\n    </tr>\n    <tr>\n      <th>3</th>\n      <td>521ac1d6a0</td>\n      <td>Russia</td>\n    </tr>\n    <tr>\n      <th>4</th>\n      <td>d7323c571c</td>\n      <td>Russia</td>\n    </tr>\n  </tbody>\n</table>\n</div>"
     },
     "execution_count": 10,
     "metadata": {},
     "output_type": "execute_result"
    }
   ],
   "source": [
    "# метод loc позволяет выбрать строки и столбцы в соответствии с условиями\n",
    "# двоеточие означает выбор всех значений\n",
    "\n",
    "log.loc[:, ['user_id', 'region']].head()"
   ]
  },
  {
   "cell_type": "code",
   "execution_count": 12,
   "metadata": {
    "ExecuteTime": {
     "end_time": "2023-11-18T09:10:45.196631900Z",
     "start_time": "2023-11-18T09:10:45.189746700Z"
    }
   },
   "outputs": [
    {
     "data": {
      "text/plain": "     visit_id     user_id\n0  e3b0c44298  b1613cc09f\n1  6e340b9cff  4c3ec14bee\n2  96a296d224  a8c40697fb\n3  709e80c884  521ac1d6a0\n4  df3f619804  d7323c571c",
      "text/html": "<div>\n<style scoped>\n    .dataframe tbody tr th:only-of-type {\n        vertical-align: middle;\n    }\n\n    .dataframe tbody tr th {\n        vertical-align: top;\n    }\n\n    .dataframe thead th {\n        text-align: right;\n    }\n</style>\n<table border=\"1\" class=\"dataframe\">\n  <thead>\n    <tr style=\"text-align: right;\">\n      <th></th>\n      <th>visit_id</th>\n      <th>user_id</th>\n    </tr>\n  </thead>\n  <tbody>\n    <tr>\n      <th>0</th>\n      <td>e3b0c44298</td>\n      <td>b1613cc09f</td>\n    </tr>\n    <tr>\n      <th>1</th>\n      <td>6e340b9cff</td>\n      <td>4c3ec14bee</td>\n    </tr>\n    <tr>\n      <th>2</th>\n      <td>96a296d224</td>\n      <td>a8c40697fb</td>\n    </tr>\n    <tr>\n      <th>3</th>\n      <td>709e80c884</td>\n      <td>521ac1d6a0</td>\n    </tr>\n    <tr>\n      <th>4</th>\n      <td>df3f619804</td>\n      <td>d7323c571c</td>\n    </tr>\n  </tbody>\n</table>\n</div>"
     },
     "execution_count": 12,
     "metadata": {},
     "output_type": "execute_result"
    }
   ],
   "source": [
    "# iloc работает аналогично, но с указанием номера строки / столбца\n",
    "\n",
    "log.iloc[:, [1, -3]].head()"
   ]
  },
  {
   "cell_type": "code",
   "execution_count": 13,
   "metadata": {
    "ExecuteTime": {
     "end_time": "2023-11-18T09:10:59.781582500Z",
     "start_time": "2023-11-18T09:10:59.764475100Z"
    }
   },
   "outputs": [
    {
     "data": {
      "text/plain": "    timestamp    visit_id                                 url  region  \\\n0  1549980692  e3b0c44298  https://host.ru/3c19b4ef7371864fa3  Russia   \n1  1549980704  6e340b9cff  https://host.ru/c8d9213a31839f9a3a  Russia   \n2  1549980715  96a296d224  https://host.ru/b8b58337d272ee7b15  Russia   \n3  1549980725  709e80c884  https://host.ru/b8b58337d272ee7b15  Russia   \n4  1549980736  df3f619804  https://host.ru/b8b58337d272ee7b15  Russia   \n\n      user_id traffic_source  VAT  \n0  b1613cc09f         yandex  1.2  \n1  4c3ec14bee         direct  1.2  \n2  a8c40697fb         yandex  1.2  \n3  521ac1d6a0         yandex  1.2  \n4  d7323c571c         yandex  1.2  ",
      "text/html": "<div>\n<style scoped>\n    .dataframe tbody tr th:only-of-type {\n        vertical-align: middle;\n    }\n\n    .dataframe tbody tr th {\n        vertical-align: top;\n    }\n\n    .dataframe thead th {\n        text-align: right;\n    }\n</style>\n<table border=\"1\" class=\"dataframe\">\n  <thead>\n    <tr style=\"text-align: right;\">\n      <th></th>\n      <th>timestamp</th>\n      <th>visit_id</th>\n      <th>url</th>\n      <th>region</th>\n      <th>user_id</th>\n      <th>traffic_source</th>\n      <th>VAT</th>\n    </tr>\n  </thead>\n  <tbody>\n    <tr>\n      <th>0</th>\n      <td>1549980692</td>\n      <td>e3b0c44298</td>\n      <td>https://host.ru/3c19b4ef7371864fa3</td>\n      <td>Russia</td>\n      <td>b1613cc09f</td>\n      <td>yandex</td>\n      <td>1.2</td>\n    </tr>\n    <tr>\n      <th>1</th>\n      <td>1549980704</td>\n      <td>6e340b9cff</td>\n      <td>https://host.ru/c8d9213a31839f9a3a</td>\n      <td>Russia</td>\n      <td>4c3ec14bee</td>\n      <td>direct</td>\n      <td>1.2</td>\n    </tr>\n    <tr>\n      <th>2</th>\n      <td>1549980715</td>\n      <td>96a296d224</td>\n      <td>https://host.ru/b8b58337d272ee7b15</td>\n      <td>Russia</td>\n      <td>a8c40697fb</td>\n      <td>yandex</td>\n      <td>1.2</td>\n    </tr>\n    <tr>\n      <th>3</th>\n      <td>1549980725</td>\n      <td>709e80c884</td>\n      <td>https://host.ru/b8b58337d272ee7b15</td>\n      <td>Russia</td>\n      <td>521ac1d6a0</td>\n      <td>yandex</td>\n      <td>1.2</td>\n    </tr>\n    <tr>\n      <th>4</th>\n      <td>1549980736</td>\n      <td>df3f619804</td>\n      <td>https://host.ru/b8b58337d272ee7b15</td>\n      <td>Russia</td>\n      <td>d7323c571c</td>\n      <td>yandex</td>\n      <td>1.2</td>\n    </tr>\n  </tbody>\n</table>\n</div>"
     },
     "execution_count": 13,
     "metadata": {},
     "output_type": "execute_result"
    }
   ],
   "source": [
    "# пример фильтра на страну\n",
    "# если столбцы не надо фильтровать, то второй параметр можно не указывать\n",
    "\n",
    "log.loc[log.region == 'Russia'].head()"
   ]
  },
  {
   "cell_type": "code",
   "execution_count": 14,
   "metadata": {
    "scrolled": true,
    "ExecuteTime": {
     "end_time": "2023-11-18T09:11:33.291341700Z",
     "start_time": "2023-11-18T09:11:33.264476100Z"
    }
   },
   "outputs": [
    {
     "data": {
      "text/plain": "    timestamp    visit_id                                 url  region  \\\n0  1549980692  e3b0c44298  https://host.ru/3c19b4ef7371864fa3  Russia   \n1  1549980704  6e340b9cff  https://host.ru/c8d9213a31839f9a3a  Russia   \n2  1549980715  96a296d224  https://host.ru/b8b58337d272ee7b15  Russia   \n3  1549980725  709e80c884  https://host.ru/b8b58337d272ee7b15  Russia   \n4  1549980736  df3f619804  https://host.ru/b8b58337d272ee7b15  Russia   \n5  1549980742  8855508aad  https://host.ru/df646c3676cc259fa0  Russia   \n6  1549980742  b0f66adc83  https://host.ru/b8b58337d272ee7b15  Russia   \n7  1549980754  837885c8f8  https://host.ru/108ce4b365afb7b88e  Russia   \n8  1549980760  af5570f5a1  https://host.ru/3004a8273caeef2867   China   \n9  1549980765  3e7077fd2f  https://host.ru/df646c3676cc259fa0  Russia   \n\n      user_id traffic_source  VAT  \n0  b1613cc09f         yandex  1.2  \n1  4c3ec14bee         direct  1.2  \n2  a8c40697fb         yandex  1.2  \n3  521ac1d6a0         yandex  1.2  \n4  d7323c571c         yandex  1.2  \n5  fc43898e47         yandex  1.2  \n6  13fc55e781           paid  1.2  \n7  cb5082b6f6         direct  1.2  \n8  45664f7af2         direct  NaN  \n9  6f9de8c8b6          email  1.2  ",
      "text/html": "<div>\n<style scoped>\n    .dataframe tbody tr th:only-of-type {\n        vertical-align: middle;\n    }\n\n    .dataframe tbody tr th {\n        vertical-align: top;\n    }\n\n    .dataframe thead th {\n        text-align: right;\n    }\n</style>\n<table border=\"1\" class=\"dataframe\">\n  <thead>\n    <tr style=\"text-align: right;\">\n      <th></th>\n      <th>timestamp</th>\n      <th>visit_id</th>\n      <th>url</th>\n      <th>region</th>\n      <th>user_id</th>\n      <th>traffic_source</th>\n      <th>VAT</th>\n    </tr>\n  </thead>\n  <tbody>\n    <tr>\n      <th>0</th>\n      <td>1549980692</td>\n      <td>e3b0c44298</td>\n      <td>https://host.ru/3c19b4ef7371864fa3</td>\n      <td>Russia</td>\n      <td>b1613cc09f</td>\n      <td>yandex</td>\n      <td>1.2</td>\n    </tr>\n    <tr>\n      <th>1</th>\n      <td>1549980704</td>\n      <td>6e340b9cff</td>\n      <td>https://host.ru/c8d9213a31839f9a3a</td>\n      <td>Russia</td>\n      <td>4c3ec14bee</td>\n      <td>direct</td>\n      <td>1.2</td>\n    </tr>\n    <tr>\n      <th>2</th>\n      <td>1549980715</td>\n      <td>96a296d224</td>\n      <td>https://host.ru/b8b58337d272ee7b15</td>\n      <td>Russia</td>\n      <td>a8c40697fb</td>\n      <td>yandex</td>\n      <td>1.2</td>\n    </tr>\n    <tr>\n      <th>3</th>\n      <td>1549980725</td>\n      <td>709e80c884</td>\n      <td>https://host.ru/b8b58337d272ee7b15</td>\n      <td>Russia</td>\n      <td>521ac1d6a0</td>\n      <td>yandex</td>\n      <td>1.2</td>\n    </tr>\n    <tr>\n      <th>4</th>\n      <td>1549980736</td>\n      <td>df3f619804</td>\n      <td>https://host.ru/b8b58337d272ee7b15</td>\n      <td>Russia</td>\n      <td>d7323c571c</td>\n      <td>yandex</td>\n      <td>1.2</td>\n    </tr>\n    <tr>\n      <th>5</th>\n      <td>1549980742</td>\n      <td>8855508aad</td>\n      <td>https://host.ru/df646c3676cc259fa0</td>\n      <td>Russia</td>\n      <td>fc43898e47</td>\n      <td>yandex</td>\n      <td>1.2</td>\n    </tr>\n    <tr>\n      <th>6</th>\n      <td>1549980742</td>\n      <td>b0f66adc83</td>\n      <td>https://host.ru/b8b58337d272ee7b15</td>\n      <td>Russia</td>\n      <td>13fc55e781</td>\n      <td>paid</td>\n      <td>1.2</td>\n    </tr>\n    <tr>\n      <th>7</th>\n      <td>1549980754</td>\n      <td>837885c8f8</td>\n      <td>https://host.ru/108ce4b365afb7b88e</td>\n      <td>Russia</td>\n      <td>cb5082b6f6</td>\n      <td>direct</td>\n      <td>1.2</td>\n    </tr>\n    <tr>\n      <th>8</th>\n      <td>1549980760</td>\n      <td>af5570f5a1</td>\n      <td>https://host.ru/3004a8273caeef2867</td>\n      <td>China</td>\n      <td>45664f7af2</td>\n      <td>direct</td>\n      <td>NaN</td>\n    </tr>\n    <tr>\n      <th>9</th>\n      <td>1549980765</td>\n      <td>3e7077fd2f</td>\n      <td>https://host.ru/df646c3676cc259fa0</td>\n      <td>Russia</td>\n      <td>6f9de8c8b6</td>\n      <td>email</td>\n      <td>1.2</td>\n    </tr>\n  </tbody>\n</table>\n</div>"
     },
     "execution_count": 14,
     "metadata": {},
     "output_type": "execute_result"
    }
   ],
   "source": [
    "# пример вычисления нового столбца с НДС для страны\n",
    "\n",
    "log.loc[log.region == 'Russia', 'VAT'] = 1.2\n",
    "log.head(10)"
   ]
  },
  {
   "cell_type": "code",
   "execution_count": null,
   "outputs": [],
   "source": [],
   "metadata": {
    "collapsed": false
   }
  },
  {
   "cell_type": "code",
   "execution_count": 15,
   "metadata": {
    "ExecuteTime": {
     "end_time": "2023-11-18T09:12:52.500319900Z",
     "start_time": "2023-11-18T09:12:52.484633700Z"
    }
   },
   "outputs": [
    {
     "data": {
      "text/plain": "     timestamp    visit_id                                 url  region  \\\n0   1549980692  e3b0c44298  https://host.ru/3c19b4ef7371864fa3  Russia   \n1   1549980704  6e340b9cff  https://host.ru/c8d9213a31839f9a3a  Russia   \n2   1549980715  96a296d224  https://host.ru/b8b58337d272ee7b15  Russia   \n3   1549980725  709e80c884  https://host.ru/b8b58337d272ee7b15  Russia   \n4   1549980736  df3f619804  https://host.ru/b8b58337d272ee7b15  Russia   \n5   1549980742  8855508aad  https://host.ru/df646c3676cc259fa0  Russia   \n6   1549980742  b0f66adc83  https://host.ru/b8b58337d272ee7b15  Russia   \n7   1549980754  837885c8f8  https://host.ru/108ce4b365afb7b88e  Russia   \n9   1549980765  3e7077fd2f  https://host.ru/df646c3676cc259fa0  Russia   \n12  1549980789  15ec7bf0b5  https://host.ru/8e88d4703848cc0ec4  Russia   \n\n       user_id traffic_source  VAT  \n0   b1613cc09f         yandex  1.2  \n1   4c3ec14bee         direct  1.2  \n2   a8c40697fb         yandex  1.2  \n3   521ac1d6a0         yandex  1.2  \n4   d7323c571c         yandex  1.2  \n5   fc43898e47         yandex  1.2  \n6   13fc55e781           paid  1.2  \n7   cb5082b6f6         direct  1.2  \n9   6f9de8c8b6          email  1.2  \n12  6d1d81f7f8           paid  1.2  ",
      "text/html": "<div>\n<style scoped>\n    .dataframe tbody tr th:only-of-type {\n        vertical-align: middle;\n    }\n\n    .dataframe tbody tr th {\n        vertical-align: top;\n    }\n\n    .dataframe thead th {\n        text-align: right;\n    }\n</style>\n<table border=\"1\" class=\"dataframe\">\n  <thead>\n    <tr style=\"text-align: right;\">\n      <th></th>\n      <th>timestamp</th>\n      <th>visit_id</th>\n      <th>url</th>\n      <th>region</th>\n      <th>user_id</th>\n      <th>traffic_source</th>\n      <th>VAT</th>\n    </tr>\n  </thead>\n  <tbody>\n    <tr>\n      <th>0</th>\n      <td>1549980692</td>\n      <td>e3b0c44298</td>\n      <td>https://host.ru/3c19b4ef7371864fa3</td>\n      <td>Russia</td>\n      <td>b1613cc09f</td>\n      <td>yandex</td>\n      <td>1.2</td>\n    </tr>\n    <tr>\n      <th>1</th>\n      <td>1549980704</td>\n      <td>6e340b9cff</td>\n      <td>https://host.ru/c8d9213a31839f9a3a</td>\n      <td>Russia</td>\n      <td>4c3ec14bee</td>\n      <td>direct</td>\n      <td>1.2</td>\n    </tr>\n    <tr>\n      <th>2</th>\n      <td>1549980715</td>\n      <td>96a296d224</td>\n      <td>https://host.ru/b8b58337d272ee7b15</td>\n      <td>Russia</td>\n      <td>a8c40697fb</td>\n      <td>yandex</td>\n      <td>1.2</td>\n    </tr>\n    <tr>\n      <th>3</th>\n      <td>1549980725</td>\n      <td>709e80c884</td>\n      <td>https://host.ru/b8b58337d272ee7b15</td>\n      <td>Russia</td>\n      <td>521ac1d6a0</td>\n      <td>yandex</td>\n      <td>1.2</td>\n    </tr>\n    <tr>\n      <th>4</th>\n      <td>1549980736</td>\n      <td>df3f619804</td>\n      <td>https://host.ru/b8b58337d272ee7b15</td>\n      <td>Russia</td>\n      <td>d7323c571c</td>\n      <td>yandex</td>\n      <td>1.2</td>\n    </tr>\n    <tr>\n      <th>5</th>\n      <td>1549980742</td>\n      <td>8855508aad</td>\n      <td>https://host.ru/df646c3676cc259fa0</td>\n      <td>Russia</td>\n      <td>fc43898e47</td>\n      <td>yandex</td>\n      <td>1.2</td>\n    </tr>\n    <tr>\n      <th>6</th>\n      <td>1549980742</td>\n      <td>b0f66adc83</td>\n      <td>https://host.ru/b8b58337d272ee7b15</td>\n      <td>Russia</td>\n      <td>13fc55e781</td>\n      <td>paid</td>\n      <td>1.2</td>\n    </tr>\n    <tr>\n      <th>7</th>\n      <td>1549980754</td>\n      <td>837885c8f8</td>\n      <td>https://host.ru/108ce4b365afb7b88e</td>\n      <td>Russia</td>\n      <td>cb5082b6f6</td>\n      <td>direct</td>\n      <td>1.2</td>\n    </tr>\n    <tr>\n      <th>9</th>\n      <td>1549980765</td>\n      <td>3e7077fd2f</td>\n      <td>https://host.ru/df646c3676cc259fa0</td>\n      <td>Russia</td>\n      <td>6f9de8c8b6</td>\n      <td>email</td>\n      <td>1.2</td>\n    </tr>\n    <tr>\n      <th>12</th>\n      <td>1549980789</td>\n      <td>15ec7bf0b5</td>\n      <td>https://host.ru/8e88d4703848cc0ec4</td>\n      <td>Russia</td>\n      <td>6d1d81f7f8</td>\n      <td>paid</td>\n      <td>1.2</td>\n    </tr>\n  </tbody>\n</table>\n</div>"
     },
     "execution_count": 15,
     "metadata": {},
     "output_type": "execute_result"
    }
   ],
   "source": [
    "# вариант с вычисляемым фильтром\n",
    "\n",
    "log.loc[lambda row: row.region == 'Russia'].head(10)"
   ]
  },
  {
   "cell_type": "markdown",
   "metadata": {},
   "source": [
    "### Скорость метода loc\n",
    "Посчитаем средний рейтинг разных жанров. Метод merge взят из материалов следующего занятия ¯ \\ _ (ツ) _ / ¯"
   ]
  },
  {
   "cell_type": "code",
   "execution_count": 16,
   "metadata": {
    "ExecuteTime": {
     "end_time": "2023-11-18T09:13:46.175734200Z",
     "start_time": "2023-11-18T09:13:46.094425300Z"
    }
   },
   "outputs": [
    {
     "data": {
      "text/plain": "   userId  movieId  rating  timestamp                        title  \\\n0       1        1     4.0  964982703             Toy Story (1995)   \n1       1        3     4.0  964981247      Grumpier Old Men (1995)   \n2       1        6     4.0  964982224                  Heat (1995)   \n3       1       47     5.0  964983815  Seven (a.k.a. Se7en) (1995)   \n4       1       50     5.0  964982931   Usual Suspects, The (1995)   \n\n                                        genres  \n0  Adventure|Animation|Children|Comedy|Fantasy  \n1                               Comedy|Romance  \n2                        Action|Crime|Thriller  \n3                             Mystery|Thriller  \n4                       Crime|Mystery|Thriller  ",
      "text/html": "<div>\n<style scoped>\n    .dataframe tbody tr th:only-of-type {\n        vertical-align: middle;\n    }\n\n    .dataframe tbody tr th {\n        vertical-align: top;\n    }\n\n    .dataframe thead th {\n        text-align: right;\n    }\n</style>\n<table border=\"1\" class=\"dataframe\">\n  <thead>\n    <tr style=\"text-align: right;\">\n      <th></th>\n      <th>userId</th>\n      <th>movieId</th>\n      <th>rating</th>\n      <th>timestamp</th>\n      <th>title</th>\n      <th>genres</th>\n    </tr>\n  </thead>\n  <tbody>\n    <tr>\n      <th>0</th>\n      <td>1</td>\n      <td>1</td>\n      <td>4.0</td>\n      <td>964982703</td>\n      <td>Toy Story (1995)</td>\n      <td>Adventure|Animation|Children|Comedy|Fantasy</td>\n    </tr>\n    <tr>\n      <th>1</th>\n      <td>1</td>\n      <td>3</td>\n      <td>4.0</td>\n      <td>964981247</td>\n      <td>Grumpier Old Men (1995)</td>\n      <td>Comedy|Romance</td>\n    </tr>\n    <tr>\n      <th>2</th>\n      <td>1</td>\n      <td>6</td>\n      <td>4.0</td>\n      <td>964982224</td>\n      <td>Heat (1995)</td>\n      <td>Action|Crime|Thriller</td>\n    </tr>\n    <tr>\n      <th>3</th>\n      <td>1</td>\n      <td>47</td>\n      <td>5.0</td>\n      <td>964983815</td>\n      <td>Seven (a.k.a. Se7en) (1995)</td>\n      <td>Mystery|Thriller</td>\n    </tr>\n    <tr>\n      <th>4</th>\n      <td>1</td>\n      <td>50</td>\n      <td>5.0</td>\n      <td>964982931</td>\n      <td>Usual Suspects, The (1995)</td>\n      <td>Crime|Mystery|Thriller</td>\n    </tr>\n  </tbody>\n</table>\n</div>"
     },
     "execution_count": 16,
     "metadata": {},
     "output_type": "execute_result"
    }
   ],
   "source": [
    "ratings = pd.read_csv('D:\\\\Нетология python\\\\Лекция _Библиотека_numpy\\\\10._Основы_pandas\\\\10._Основы_pandas\\\\Файлы к заданию №1\\\\ratings.csv')\n",
    "movies = pd.read_csv('D:\\\\Нетология python\\\\Лекция _Библиотека_numpy\\\\10._Основы_pandas\\\\10._Основы_pandas\\\\Файлы к заданию №1\\\\movies.csv')\n",
    "joined = ratings.merge(movies, how='left', on='movieId')\n",
    "joined.head()"
   ]
  },
  {
   "cell_type": "code",
   "execution_count": 17,
   "metadata": {
    "scrolled": true,
    "ExecuteTime": {
     "end_time": "2023-11-18T09:14:37.045265400Z",
     "start_time": "2023-11-18T09:14:36.066551800Z"
    }
   },
   "outputs": [
    {
     "data": {
      "text/plain": "   userId  movieId  rating  timestamp                        title  \\\n0       1        1     4.0  964982703             Toy Story (1995)   \n1       1        3     4.0  964981247      Grumpier Old Men (1995)   \n2       1        6     4.0  964982224                  Heat (1995)   \n3       1       47     5.0  964983815  Seven (a.k.a. Se7en) (1995)   \n4       1       50     5.0  964982931   Usual Suspects, The (1995)   \n\n                                        genres  Adventure  \n0  Adventure|Animation|Children|Comedy|Fantasy        4.0  \n1                               Comedy|Romance        NaN  \n2                        Action|Crime|Thriller        NaN  \n3                             Mystery|Thriller        NaN  \n4                       Crime|Mystery|Thriller        NaN  ",
      "text/html": "<div>\n<style scoped>\n    .dataframe tbody tr th:only-of-type {\n        vertical-align: middle;\n    }\n\n    .dataframe tbody tr th {\n        vertical-align: top;\n    }\n\n    .dataframe thead th {\n        text-align: right;\n    }\n</style>\n<table border=\"1\" class=\"dataframe\">\n  <thead>\n    <tr style=\"text-align: right;\">\n      <th></th>\n      <th>userId</th>\n      <th>movieId</th>\n      <th>rating</th>\n      <th>timestamp</th>\n      <th>title</th>\n      <th>genres</th>\n      <th>Adventure</th>\n    </tr>\n  </thead>\n  <tbody>\n    <tr>\n      <th>0</th>\n      <td>1</td>\n      <td>1</td>\n      <td>4.0</td>\n      <td>964982703</td>\n      <td>Toy Story (1995)</td>\n      <td>Adventure|Animation|Children|Comedy|Fantasy</td>\n      <td>4.0</td>\n    </tr>\n    <tr>\n      <th>1</th>\n      <td>1</td>\n      <td>3</td>\n      <td>4.0</td>\n      <td>964981247</td>\n      <td>Grumpier Old Men (1995)</td>\n      <td>Comedy|Romance</td>\n      <td>NaN</td>\n    </tr>\n    <tr>\n      <th>2</th>\n      <td>1</td>\n      <td>6</td>\n      <td>4.0</td>\n      <td>964982224</td>\n      <td>Heat (1995)</td>\n      <td>Action|Crime|Thriller</td>\n      <td>NaN</td>\n    </tr>\n    <tr>\n      <th>3</th>\n      <td>1</td>\n      <td>47</td>\n      <td>5.0</td>\n      <td>964983815</td>\n      <td>Seven (a.k.a. Se7en) (1995)</td>\n      <td>Mystery|Thriller</td>\n      <td>NaN</td>\n    </tr>\n    <tr>\n      <th>4</th>\n      <td>1</td>\n      <td>50</td>\n      <td>5.0</td>\n      <td>964982931</td>\n      <td>Usual Suspects, The (1995)</td>\n      <td>Crime|Mystery|Thriller</td>\n      <td>NaN</td>\n    </tr>\n  </tbody>\n</table>\n</div>"
     },
     "execution_count": 17,
     "metadata": {},
     "output_type": "execute_result"
    }
   ],
   "source": [
    "joined['Adventure'] = joined.apply(lambda row: row.rating if 'Adventure' in row.genres else None, axis=1)\n",
    "joined.head()"
   ]
  },
  {
   "cell_type": "markdown",
   "metadata": {},
   "source": [
    "Можно и через loc"
   ]
  },
  {
   "cell_type": "code",
   "execution_count": 18,
   "metadata": {
    "ExecuteTime": {
     "end_time": "2023-11-18T09:17:21.526723700Z",
     "start_time": "2023-11-18T09:17:21.476137200Z"
    }
   },
   "outputs": [
    {
     "data": {
      "text/plain": "   userId  movieId  rating  timestamp                        title  \\\n0       1        1     4.0  964982703             Toy Story (1995)   \n1       1        3     4.0  964981247      Grumpier Old Men (1995)   \n2       1        6     4.0  964982224                  Heat (1995)   \n3       1       47     5.0  964983815  Seven (a.k.a. Se7en) (1995)   \n4       1       50     5.0  964982931   Usual Suspects, The (1995)   \n\n                                        genres  Adventure  \n0  Adventure|Animation|Children|Comedy|Fantasy        4.0  \n1                               Comedy|Romance        NaN  \n2                        Action|Crime|Thriller        NaN  \n3                             Mystery|Thriller        NaN  \n4                       Crime|Mystery|Thriller        NaN  ",
      "text/html": "<div>\n<style scoped>\n    .dataframe tbody tr th:only-of-type {\n        vertical-align: middle;\n    }\n\n    .dataframe tbody tr th {\n        vertical-align: top;\n    }\n\n    .dataframe thead th {\n        text-align: right;\n    }\n</style>\n<table border=\"1\" class=\"dataframe\">\n  <thead>\n    <tr style=\"text-align: right;\">\n      <th></th>\n      <th>userId</th>\n      <th>movieId</th>\n      <th>rating</th>\n      <th>timestamp</th>\n      <th>title</th>\n      <th>genres</th>\n      <th>Adventure</th>\n    </tr>\n  </thead>\n  <tbody>\n    <tr>\n      <th>0</th>\n      <td>1</td>\n      <td>1</td>\n      <td>4.0</td>\n      <td>964982703</td>\n      <td>Toy Story (1995)</td>\n      <td>Adventure|Animation|Children|Comedy|Fantasy</td>\n      <td>4.0</td>\n    </tr>\n    <tr>\n      <th>1</th>\n      <td>1</td>\n      <td>3</td>\n      <td>4.0</td>\n      <td>964981247</td>\n      <td>Grumpier Old Men (1995)</td>\n      <td>Comedy|Romance</td>\n      <td>NaN</td>\n    </tr>\n    <tr>\n      <th>2</th>\n      <td>1</td>\n      <td>6</td>\n      <td>4.0</td>\n      <td>964982224</td>\n      <td>Heat (1995)</td>\n      <td>Action|Crime|Thriller</td>\n      <td>NaN</td>\n    </tr>\n    <tr>\n      <th>3</th>\n      <td>1</td>\n      <td>47</td>\n      <td>5.0</td>\n      <td>964983815</td>\n      <td>Seven (a.k.a. Se7en) (1995)</td>\n      <td>Mystery|Thriller</td>\n      <td>NaN</td>\n    </tr>\n    <tr>\n      <th>4</th>\n      <td>1</td>\n      <td>50</td>\n      <td>5.0</td>\n      <td>964982931</td>\n      <td>Usual Suspects, The (1995)</td>\n      <td>Crime|Mystery|Thriller</td>\n      <td>NaN</td>\n    </tr>\n  </tbody>\n</table>\n</div>"
     },
     "execution_count": 18,
     "metadata": {},
     "output_type": "execute_result"
    }
   ],
   "source": [
    "joined['Adventure'] = joined.loc[joined.genres.str.contains('Adventure'), 'rating']\n",
    "joined.head()"
   ]
  },
  {
   "cell_type": "markdown",
   "metadata": {},
   "source": [
    "Для замера времени сделаем эти операции для набор жанров"
   ]
  },
  {
   "cell_type": "code",
   "execution_count": 19,
   "metadata": {
    "ExecuteTime": {
     "end_time": "2023-11-18T09:17:26.669072200Z",
     "start_time": "2023-11-18T09:17:26.661220900Z"
    }
   },
   "outputs": [],
   "source": [
    "genres = ['Adventure', 'Animation', 'Children', 'Drama', 'Musical', 'Thriller']"
   ]
  },
  {
   "cell_type": "code",
   "execution_count": 20,
   "metadata": {
    "ExecuteTime": {
     "end_time": "2023-11-18T09:18:03.317293200Z",
     "start_time": "2023-11-18T09:17:57.495527100Z"
    }
   },
   "outputs": [
    {
     "name": "stdout",
     "output_type": "stream",
     "text": [
      "CPU times: total: 5.75 s\n",
      "Wall time: 5.81 s\n"
     ]
    }
   ],
   "source": [
    "%%time\n",
    "joined = ratings.merge(movies, how='left', on='movieId')\n",
    "\n",
    "for genre in genres:\n",
    "    joined[genre] = joined.apply(lambda row: row.rating if genre in row.genres else None, axis=1)"
   ]
  },
  {
   "cell_type": "code",
   "execution_count": 21,
   "metadata": {
    "ExecuteTime": {
     "end_time": "2023-11-18T09:18:40.436821500Z",
     "start_time": "2023-11-18T09:18:40.196793200Z"
    }
   },
   "outputs": [
    {
     "name": "stdout",
     "output_type": "stream",
     "text": [
      "CPU times: total: 234 ms\n",
      "Wall time: 234 ms\n"
     ]
    }
   ],
   "source": [
    "%%time\n",
    "joined = ratings.merge(movies, how='left', on='movieId')\n",
    "\n",
    "for genre in genres:\n",
    "    joined[genre] = joined.loc[joined.genres.str.contains(genre), 'rating']"
   ]
  },
  {
   "cell_type": "markdown",
   "metadata": {},
   "source": [
    "### Упражнение\n",
    "Какие варианты источников трафика есть в столбце traffic_source?\n",
    "\n",
    "Создайте столбец traffic_type, в котором для источников 'yandex' и 'google' будет стоять значение 'organic'. А для остальных вариантов - NaN."
   ]
  },
  {
   "cell_type": "code",
   "execution_count": null,
   "metadata": {},
   "outputs": [],
   "source": []
  },
  {
   "cell_type": "code",
   "execution_count": null,
   "metadata": {},
   "outputs": [],
   "source": []
  },
  {
   "cell_type": "code",
   "execution_count": null,
   "metadata": {},
   "outputs": [],
   "source": []
  },
  {
   "cell_type": "markdown",
   "metadata": {},
   "source": [
    "### Методы isnull, isna\n",
    "Определение пустых или None значений. По сути одинаковые методы"
   ]
  },
  {
   "cell_type": "code",
   "execution_count": 22,
   "metadata": {
    "ExecuteTime": {
     "end_time": "2023-11-18T09:22:45.847094300Z",
     "start_time": "2023-11-18T09:22:45.839579300Z"
    }
   },
   "outputs": [],
   "source": [
    "import numpy as np"
   ]
  },
  {
   "cell_type": "code",
   "execution_count": 23,
   "metadata": {
    "ExecuteTime": {
     "end_time": "2023-11-18T09:22:48.343586200Z",
     "start_time": "2023-11-18T09:22:48.339392200Z"
    }
   },
   "outputs": [
    {
     "data": {
      "text/plain": "   value\n0  123.0\n1    NaN\n2    NaN\n3    NaN\n4    NaN\n5  456.0",
      "text/html": "<div>\n<style scoped>\n    .dataframe tbody tr th:only-of-type {\n        vertical-align: middle;\n    }\n\n    .dataframe tbody tr th {\n        vertical-align: top;\n    }\n\n    .dataframe thead th {\n        text-align: right;\n    }\n</style>\n<table border=\"1\" class=\"dataframe\">\n  <thead>\n    <tr style=\"text-align: right;\">\n      <th></th>\n      <th>value</th>\n    </tr>\n  </thead>\n  <tbody>\n    <tr>\n      <th>0</th>\n      <td>123.0</td>\n    </tr>\n    <tr>\n      <th>1</th>\n      <td>NaN</td>\n    </tr>\n    <tr>\n      <th>2</th>\n      <td>NaN</td>\n    </tr>\n    <tr>\n      <th>3</th>\n      <td>NaN</td>\n    </tr>\n    <tr>\n      <th>4</th>\n      <td>NaN</td>\n    </tr>\n    <tr>\n      <th>5</th>\n      <td>456.0</td>\n    </tr>\n  </tbody>\n</table>\n</div>"
     },
     "execution_count": 23,
     "metadata": {},
     "output_type": "execute_result"
    }
   ],
   "source": [
    "df = pd.DataFrame({'value': [123, None, np.nan, np.NaN, np.NAN, 456]})\n",
    "df"
   ]
  },
  {
   "cell_type": "code",
   "execution_count": 24,
   "metadata": {
    "ExecuteTime": {
     "end_time": "2023-11-18T09:22:52.204936100Z",
     "start_time": "2023-11-18T09:22:52.196315600Z"
    }
   },
   "outputs": [
    {
     "data": {
      "text/plain": "   value\n1    NaN\n2    NaN\n3    NaN\n4    NaN",
      "text/html": "<div>\n<style scoped>\n    .dataframe tbody tr th:only-of-type {\n        vertical-align: middle;\n    }\n\n    .dataframe tbody tr th {\n        vertical-align: top;\n    }\n\n    .dataframe thead th {\n        text-align: right;\n    }\n</style>\n<table border=\"1\" class=\"dataframe\">\n  <thead>\n    <tr style=\"text-align: right;\">\n      <th></th>\n      <th>value</th>\n    </tr>\n  </thead>\n  <tbody>\n    <tr>\n      <th>1</th>\n      <td>NaN</td>\n    </tr>\n    <tr>\n      <th>2</th>\n      <td>NaN</td>\n    </tr>\n    <tr>\n      <th>3</th>\n      <td>NaN</td>\n    </tr>\n    <tr>\n      <th>4</th>\n      <td>NaN</td>\n    </tr>\n  </tbody>\n</table>\n</div>"
     },
     "execution_count": 24,
     "metadata": {},
     "output_type": "execute_result"
    }
   ],
   "source": [
    "# фильтр на пустые значения в столбце value\n",
    "\n",
    "df.loc[pd.isnull(df.value), :]"
   ]
  },
  {
   "cell_type": "markdown",
   "metadata": {},
   "source": [
    "### Упражнение\n",
    "Для пустых значений в столбце traffic_type выставьте значение 'other'"
   ]
  },
  {
   "cell_type": "code",
   "execution_count": 26,
   "metadata": {
    "ExecuteTime": {
     "end_time": "2023-11-18T09:26:52.686495600Z",
     "start_time": "2023-11-18T09:26:52.664591300Z"
    }
   },
   "outputs": [
    {
     "data": {
      "text/plain": "   traffic_type\n0         123.0\n1           NaN\n2           NaN\n3           NaN\n4           NaN\n5         456.0",
      "text/html": "<div>\n<style scoped>\n    .dataframe tbody tr th:only-of-type {\n        vertical-align: middle;\n    }\n\n    .dataframe tbody tr th {\n        vertical-align: top;\n    }\n\n    .dataframe thead th {\n        text-align: right;\n    }\n</style>\n<table border=\"1\" class=\"dataframe\">\n  <thead>\n    <tr style=\"text-align: right;\">\n      <th></th>\n      <th>traffic_type</th>\n    </tr>\n  </thead>\n  <tbody>\n    <tr>\n      <th>0</th>\n      <td>123.0</td>\n    </tr>\n    <tr>\n      <th>1</th>\n      <td>NaN</td>\n    </tr>\n    <tr>\n      <th>2</th>\n      <td>NaN</td>\n    </tr>\n    <tr>\n      <th>3</th>\n      <td>NaN</td>\n    </tr>\n    <tr>\n      <th>4</th>\n      <td>NaN</td>\n    </tr>\n    <tr>\n      <th>5</th>\n      <td>456.0</td>\n    </tr>\n  </tbody>\n</table>\n</div>"
     },
     "execution_count": 26,
     "metadata": {},
     "output_type": "execute_result"
    }
   ],
   "source": []
  },
  {
   "cell_type": "code",
   "execution_count": null,
   "metadata": {},
   "outputs": [],
   "source": []
  },
  {
   "cell_type": "code",
   "execution_count": null,
   "metadata": {},
   "outputs": [],
   "source": []
  },
  {
   "cell_type": "markdown",
   "metadata": {},
   "source": [
    "### Дата и время в pandas"
   ]
  },
  {
   "cell_type": "code",
   "execution_count": 25,
   "metadata": {
    "ExecuteTime": {
     "end_time": "2023-11-18T09:25:33.979918200Z",
     "start_time": "2023-11-18T09:25:33.964400600Z"
    }
   },
   "outputs": [
    {
     "data": {
      "text/plain": "    timestamp    visit_id                                 url  region  \\\n0  1549980692  e3b0c44298  https://host.ru/3c19b4ef7371864fa3  Russia   \n1  1549980704  6e340b9cff  https://host.ru/c8d9213a31839f9a3a  Russia   \n2  1549980715  96a296d224  https://host.ru/b8b58337d272ee7b15  Russia   \n3  1549980725  709e80c884  https://host.ru/b8b58337d272ee7b15  Russia   \n4  1549980736  df3f619804  https://host.ru/b8b58337d272ee7b15  Russia   \n\n      user_id traffic_source  VAT                date  \n0  b1613cc09f         yandex  1.2 2019-02-12 14:11:32  \n1  4c3ec14bee         direct  1.2 2019-02-12 14:11:44  \n2  a8c40697fb         yandex  1.2 2019-02-12 14:11:55  \n3  521ac1d6a0         yandex  1.2 2019-02-12 14:12:05  \n4  d7323c571c         yandex  1.2 2019-02-12 14:12:16  ",
      "text/html": "<div>\n<style scoped>\n    .dataframe tbody tr th:only-of-type {\n        vertical-align: middle;\n    }\n\n    .dataframe tbody tr th {\n        vertical-align: top;\n    }\n\n    .dataframe thead th {\n        text-align: right;\n    }\n</style>\n<table border=\"1\" class=\"dataframe\">\n  <thead>\n    <tr style=\"text-align: right;\">\n      <th></th>\n      <th>timestamp</th>\n      <th>visit_id</th>\n      <th>url</th>\n      <th>region</th>\n      <th>user_id</th>\n      <th>traffic_source</th>\n      <th>VAT</th>\n      <th>date</th>\n    </tr>\n  </thead>\n  <tbody>\n    <tr>\n      <th>0</th>\n      <td>1549980692</td>\n      <td>e3b0c44298</td>\n      <td>https://host.ru/3c19b4ef7371864fa3</td>\n      <td>Russia</td>\n      <td>b1613cc09f</td>\n      <td>yandex</td>\n      <td>1.2</td>\n      <td>2019-02-12 14:11:32</td>\n    </tr>\n    <tr>\n      <th>1</th>\n      <td>1549980704</td>\n      <td>6e340b9cff</td>\n      <td>https://host.ru/c8d9213a31839f9a3a</td>\n      <td>Russia</td>\n      <td>4c3ec14bee</td>\n      <td>direct</td>\n      <td>1.2</td>\n      <td>2019-02-12 14:11:44</td>\n    </tr>\n    <tr>\n      <th>2</th>\n      <td>1549980715</td>\n      <td>96a296d224</td>\n      <td>https://host.ru/b8b58337d272ee7b15</td>\n      <td>Russia</td>\n      <td>a8c40697fb</td>\n      <td>yandex</td>\n      <td>1.2</td>\n      <td>2019-02-12 14:11:55</td>\n    </tr>\n    <tr>\n      <th>3</th>\n      <td>1549980725</td>\n      <td>709e80c884</td>\n      <td>https://host.ru/b8b58337d272ee7b15</td>\n      <td>Russia</td>\n      <td>521ac1d6a0</td>\n      <td>yandex</td>\n      <td>1.2</td>\n      <td>2019-02-12 14:12:05</td>\n    </tr>\n    <tr>\n      <th>4</th>\n      <td>1549980736</td>\n      <td>df3f619804</td>\n      <td>https://host.ru/b8b58337d272ee7b15</td>\n      <td>Russia</td>\n      <td>d7323c571c</td>\n      <td>yandex</td>\n      <td>1.2</td>\n      <td>2019-02-12 14:12:16</td>\n    </tr>\n  </tbody>\n</table>\n</div>"
     },
     "execution_count": 25,
     "metadata": {},
     "output_type": "execute_result"
    }
   ],
   "source": [
    "log['date'] = pd.to_datetime(log['timestamp'], unit='s')\n",
    "log.head()"
   ]
  },
  {
   "cell_type": "code",
   "execution_count": null,
   "metadata": {},
   "outputs": [],
   "source": [
    "# столбец datetime64[ns] теперь имеет тип даты\n",
    "log.info()"
   ]
  },
  {
   "cell_type": "code",
   "execution_count": null,
   "metadata": {},
   "outputs": [],
   "source": [
    "# получим час визита\n",
    "\n",
    "log['hour'] = log.date.dt.hour\n",
    "log.head()"
   ]
  },
  {
   "cell_type": "markdown",
   "metadata": {},
   "source": [
    "### Методы работы со строками"
   ]
  },
  {
   "cell_type": "code",
   "execution_count": 7,
   "metadata": {
    "ExecuteTime": {
     "end_time": "2023-11-18T17:52:16.689942Z",
     "start_time": "2023-11-18T17:52:16.670347100Z"
    }
   },
   "outputs": [
    {
     "ename": "NameError",
     "evalue": "name 'pd' is not defined",
     "output_type": "error",
     "traceback": [
      "\u001B[1;31m---------------------------------------------------------------------------\u001B[0m",
      "\u001B[1;31mNameError\u001B[0m                                 Traceback (most recent call last)",
      "Cell \u001B[1;32mIn[7], line 1\u001B[0m\n\u001B[1;32m----> 1\u001B[0m stats \u001B[38;5;241m=\u001B[39m pd\u001B[38;5;241m.\u001B[39mread_csv(\u001B[38;5;124m'\u001B[39m\u001B[38;5;124mD:\u001B[39m\u001B[38;5;130;01m\\\\\u001B[39;00m\u001B[38;5;124mНетология python\u001B[39m\u001B[38;5;130;01m\\\\\u001B[39;00m\u001B[38;5;124mЛекция _Библиотека_numpy\u001B[39m\u001B[38;5;130;01m\\\\\u001B[39;00m\u001B[38;5;124mдоп_материалы_к_пандас_1_и_2\u001B[39m\u001B[38;5;130;01m\\\\\u001B[39;00m\u001B[38;5;124mkeywords.csv\u001B[39m\u001B[38;5;124m'\u001B[39m)\n\u001B[0;32m      2\u001B[0m stats\u001B[38;5;241m.\u001B[39mhead()\n",
      "\u001B[1;31mNameError\u001B[0m: name 'pd' is not defined"
     ]
    }
   ],
   "source": [
    "stats = pd.read_csv('D:\\\\Нетология python\\\\Лекция _Библиотека_numpy\\\\доп_материалы_к_пандас_1_и_2\\\\keywords.csv')\n",
    "stats.head()"
   ]
  },
  {
   "cell_type": "markdown",
   "metadata": {},
   "source": [
    "Проверка наличия подстроки в строке в питоне:"
   ]
  },
  {
   "cell_type": "code",
   "execution_count": 8,
   "metadata": {
    "ExecuteTime": {
     "end_time": "2023-11-18T17:52:19.297083900Z",
     "start_time": "2023-11-18T17:52:19.282328300Z"
    }
   },
   "outputs": [
    {
     "data": {
      "text/plain": "True"
     },
     "execution_count": 8,
     "metadata": {},
     "output_type": "execute_result"
    }
   ],
   "source": [
    "'охотник' in 'каждый охотник желает знать...'"
   ]
  },
  {
   "cell_type": "markdown",
   "metadata": {},
   "source": [
    "Аналог в pandas:"
   ]
  },
  {
   "cell_type": "code",
   "execution_count": 10,
   "metadata": {
    "ExecuteTime": {
     "end_time": "2023-11-18T17:52:34.133561400Z",
     "start_time": "2023-11-18T17:52:34.118640400Z"
    }
   },
   "outputs": [
    {
     "ename": "NameError",
     "evalue": "name 'stats' is not defined",
     "output_type": "error",
     "traceback": [
      "\u001B[1;31m---------------------------------------------------------------------------\u001B[0m",
      "\u001B[1;31mNameError\u001B[0m                                 Traceback (most recent call last)",
      "Cell \u001B[1;32mIn[10], line 1\u001B[0m\n\u001B[1;32m----> 1\u001B[0m stats[stats\u001B[38;5;241m.\u001B[39mkeyword\u001B[38;5;241m.\u001B[39mstr\u001B[38;5;241m.\u001B[39mcontains(\u001B[38;5;124m'\u001B[39m\u001B[38;5;124mохотник\u001B[39m\u001B[38;5;124m'\u001B[39m)]\u001B[38;5;241m.\u001B[39mhead()\n",
      "\u001B[1;31mNameError\u001B[0m: name 'stats' is not defined"
     ]
    }
   ],
   "source": [
    "stats[stats.keyword.str.contains('охотник')].head()"
   ]
  },
  {
   "cell_type": "markdown",
   "metadata": {},
   "source": [
    "[Документация](https://www.geeksforgeeks.org/python-pandas-series-str-contains/)\n",
    "\n",
    "Syntax: Series.str.contains(pat, case=True, flags=0, na=nan, regex=True)\n",
    "\n",
    "Parameter :\n",
    "- pat : Character sequence or regular expression.\n",
    "- case : If True, case sensitive.\n",
    "- flags : Flags to pass through to the re module, e.g. re.IGNORECASE.\n",
    "- na : Fill value for missing values.\n",
    "- regex : If True, assumes the pat is a regular expression."
   ]
  },
  {
   "cell_type": "code",
   "execution_count": null,
   "metadata": {},
   "outputs": [],
   "source": [
    "# поиск одного из нескольких слов\n",
    "\n",
    "stats[stats.keyword.str.contains('охотник|фильм|2016')].head()"
   ]
  },
  {
   "cell_type": "markdown",
   "metadata": {},
   "source": [
    "### Упражнение\n",
    "Отфильтруйте датафрейм stats по поисковым запросам, которые содержат строку \"погода в\" и упоминают один из городов: Москва, Новосибирск, Краснодар."
   ]
  },
  {
   "cell_type": "code",
   "execution_count": null,
   "metadata": {},
   "outputs": [],
   "source": []
  },
  {
   "cell_type": "code",
   "execution_count": null,
   "metadata": {},
   "outputs": [],
   "source": []
  },
  {
   "cell_type": "code",
   "execution_count": null,
   "metadata": {},
   "outputs": [],
   "source": []
  },
  {
   "cell_type": "markdown",
   "metadata": {},
   "source": [
    "### replace"
   ]
  },
  {
   "cell_type": "code",
   "execution_count": null,
   "metadata": {},
   "outputs": [],
   "source": [
    "'отпуск начнется завтра'.replace('завтра', 'через месяц')"
   ]
  },
  {
   "cell_type": "markdown",
   "metadata": {},
   "source": [
    "Аналог в pandas на запросах про сериалы:"
   ]
  },
  {
   "cell_type": "code",
   "execution_count": null,
   "metadata": {},
   "outputs": [],
   "source": [
    "serial = stats[stats.keyword.str.contains('сериалы')]\n",
    "serial.head()"
   ]
  },
  {
   "cell_type": "code",
   "execution_count": null,
   "metadata": {},
   "outputs": [],
   "source": [
    "serial.keyword.str.replace('сериалы', 'книги').head()"
   ]
  },
  {
   "cell_type": "markdown",
   "metadata": {},
   "source": [
    "### Как учитывать разное написание слов\n",
    "Самое простое - методы upper и lower"
   ]
  },
  {
   "cell_type": "code",
   "execution_count": 11,
   "metadata": {
    "ExecuteTime": {
     "end_time": "2023-11-18T17:55:31.001216Z",
     "start_time": "2023-11-18T17:55:30.986531900Z"
    }
   },
   "outputs": [
    {
     "ename": "NameError",
     "evalue": "name 'serial' is not defined",
     "output_type": "error",
     "traceback": [
      "\u001B[1;31m---------------------------------------------------------------------------\u001B[0m",
      "\u001B[1;31mNameError\u001B[0m                                 Traceback (most recent call last)",
      "Cell \u001B[1;32mIn[11], line 1\u001B[0m\n\u001B[1;32m----> 1\u001B[0m serial\u001B[38;5;241m.\u001B[39mkeyword\u001B[38;5;241m.\u001B[39mstr\u001B[38;5;241m.\u001B[39mupper()\u001B[38;5;241m.\u001B[39mhead()\n",
      "\u001B[1;31mNameError\u001B[0m: name 'serial' is not defined"
     ]
    }
   ],
   "source": [
    "serial.keyword.str.upper().head()"
   ]
  },
  {
   "cell_type": "code",
   "execution_count": null,
   "metadata": {},
   "outputs": [],
   "source": [
    "serial.keyword.str.lower().head()"
   ]
  },
  {
   "cell_type": "markdown",
   "metadata": {},
   "source": [
    "### Что делать если нужно учесть формы написания слов?"
   ]
  },
  {
   "cell_type": "code",
   "execution_count": null,
   "metadata": {},
   "outputs": [],
   "source": [
    "stats[stats.keyword.str.contains('рубл')].head()"
   ]
  },
  {
   "cell_type": "markdown",
   "metadata": {},
   "source": [
    "Почему нельзя просто оставить str.contains('рубл'):"
   ]
  },
  {
   "cell_type": "code",
   "execution_count": null,
   "metadata": {},
   "outputs": [],
   "source": [
    "non_financial_search = 'рубленая котлетка'"
   ]
  },
  {
   "cell_type": "markdown",
   "metadata": {},
   "source": [
    "### Библиотека [pymystem](https://pypi.org/project/pymystem3/)"
   ]
  },
  {
   "cell_type": "code",
   "execution_count": 2,
   "metadata": {
    "ExecuteTime": {
     "end_time": "2023-11-18T17:51:03.171803Z",
     "start_time": "2023-11-18T17:51:03.145258900Z"
    }
   },
   "outputs": [],
   "source": [
    "from pymystem3 import Mystem"
   ]
  },
  {
   "cell_type": "code",
   "execution_count": 12,
   "metadata": {
    "ExecuteTime": {
     "end_time": "2023-11-18T17:57:46.044185800Z",
     "start_time": "2023-11-18T17:57:46.036672400Z"
    }
   },
   "outputs": [],
   "source": [
    "search = 'курс гривны к рублю рубли рублях'"
   ]
  },
  {
   "cell_type": "code",
   "execution_count": 13,
   "metadata": {
    "ExecuteTime": {
     "end_time": "2023-11-18T17:58:38.366403300Z",
     "start_time": "2023-11-18T17:58:36.411453Z"
    }
   },
   "outputs": [
    {
     "name": "stderr",
     "output_type": "stream",
     "text": [
      "Installing mystem to C:\\Users\\Dmitrii/.local/bin\\mystem.exe from http://download.cdn.yandex.net/mystem/mystem-3.1-win-64bit.zip\n"
     ]
    },
    {
     "data": {
      "text/plain": "['курс',\n ' ',\n 'гривна',\n ' ',\n 'к',\n ' ',\n 'рубль',\n ' ',\n 'рубль',\n ' ',\n 'рубль',\n '\\n']"
     },
     "execution_count": 13,
     "metadata": {},
     "output_type": "execute_result"
    }
   ],
   "source": [
    "m = Mystem()\n",
    "lemmas = m.lemmatize(search)\n",
    "lemmas"
   ]
  },
  {
   "cell_type": "code",
   "execution_count": 14,
   "metadata": {
    "ExecuteTime": {
     "end_time": "2023-11-18T18:00:08.698147800Z",
     "start_time": "2023-11-18T18:00:08.683045800Z"
    }
   },
   "outputs": [
    {
     "data": {
      "text/plain": "'курс   гривна   к   рубль   рубль   рубль \\n'"
     },
     "execution_count": 14,
     "metadata": {},
     "output_type": "execute_result"
    }
   ],
   "source": [
    "' '.join(lemmas)"
   ]
  }
 ],
 "metadata": {
  "kernelspec": {
   "display_name": "Python 3",
   "language": "python",
   "name": "python3"
  },
  "language_info": {
   "codemirror_mode": {
    "name": "ipython",
    "version": 3
   },
   "file_extension": ".py",
   "mimetype": "text/x-python",
   "name": "python",
   "nbconvert_exporter": "python",
   "pygments_lexer": "ipython3",
   "version": "3.7.0"
  }
 },
 "nbformat": 4,
 "nbformat_minor": 2
}
