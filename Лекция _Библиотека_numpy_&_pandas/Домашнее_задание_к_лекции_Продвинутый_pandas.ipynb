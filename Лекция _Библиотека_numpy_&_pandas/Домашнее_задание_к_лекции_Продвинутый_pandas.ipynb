{
 "cells": [
  {
   "cell_type": "markdown",
   "source": [
    "## Домашнее задание\n",
    "\n",
    "# Задание 1\n",
    "Для датафрейма log из материалов занятия создайте столбец source_type по правилам:\n",
    "\n",
    "если источник traffic_source равен Yandex или Google, то в source_type ставится organic;\n",
    "для источников paid и email из России ставим ad;\n",
    "для источников paid и email не из России ставим other;\n",
    "все остальные варианты берём из traffic_source без изменений.\n"
   ],
   "metadata": {
    "collapsed": false
   },
   "id": "c0b4bc82b8511717"
  },
  {
   "cell_type": "code",
   "execution_count": 1,
   "outputs": [],
   "source": [
    "import pandas as pd"
   ],
   "metadata": {
    "collapsed": false,
    "ExecuteTime": {
     "end_time": "2023-11-20T17:13:28.755891300Z",
     "start_time": "2023-11-20T17:13:28.091213Z"
    }
   },
   "id": "d82dc218ae500806"
  },
  {
   "cell_type": "code",
   "execution_count": 3,
   "outputs": [
    {
     "data": {
      "text/plain": "    timestamp    visit_id                                 url  region  \\\n0  1549980692  e3b0c44298  https://host.ru/3c19b4ef7371864fa3  Russia   \n1  1549980704  6e340b9cff  https://host.ru/c8d9213a31839f9a3a  Russia   \n2  1549980715  96a296d224  https://host.ru/b8b58337d272ee7b15  Russia   \n3  1549980725  709e80c884  https://host.ru/b8b58337d272ee7b15  Russia   \n4  1549980736  df3f619804  https://host.ru/b8b58337d272ee7b15  Russia   \n\n      user_id traffic_source  \n0  b1613cc09f         yandex  \n1  4c3ec14bee         direct  \n2  a8c40697fb         yandex  \n3  521ac1d6a0         yandex  \n4  d7323c571c         yandex  ",
      "text/html": "<div>\n<style scoped>\n    .dataframe tbody tr th:only-of-type {\n        vertical-align: middle;\n    }\n\n    .dataframe tbody tr th {\n        vertical-align: top;\n    }\n\n    .dataframe thead th {\n        text-align: right;\n    }\n</style>\n<table border=\"1\" class=\"dataframe\">\n  <thead>\n    <tr style=\"text-align: right;\">\n      <th></th>\n      <th>timestamp</th>\n      <th>visit_id</th>\n      <th>url</th>\n      <th>region</th>\n      <th>user_id</th>\n      <th>traffic_source</th>\n    </tr>\n  </thead>\n  <tbody>\n    <tr>\n      <th>0</th>\n      <td>1549980692</td>\n      <td>e3b0c44298</td>\n      <td>https://host.ru/3c19b4ef7371864fa3</td>\n      <td>Russia</td>\n      <td>b1613cc09f</td>\n      <td>yandex</td>\n    </tr>\n    <tr>\n      <th>1</th>\n      <td>1549980704</td>\n      <td>6e340b9cff</td>\n      <td>https://host.ru/c8d9213a31839f9a3a</td>\n      <td>Russia</td>\n      <td>4c3ec14bee</td>\n      <td>direct</td>\n    </tr>\n    <tr>\n      <th>2</th>\n      <td>1549980715</td>\n      <td>96a296d224</td>\n      <td>https://host.ru/b8b58337d272ee7b15</td>\n      <td>Russia</td>\n      <td>a8c40697fb</td>\n      <td>yandex</td>\n    </tr>\n    <tr>\n      <th>3</th>\n      <td>1549980725</td>\n      <td>709e80c884</td>\n      <td>https://host.ru/b8b58337d272ee7b15</td>\n      <td>Russia</td>\n      <td>521ac1d6a0</td>\n      <td>yandex</td>\n    </tr>\n    <tr>\n      <th>4</th>\n      <td>1549980736</td>\n      <td>df3f619804</td>\n      <td>https://host.ru/b8b58337d272ee7b15</td>\n      <td>Russia</td>\n      <td>d7323c571c</td>\n      <td>yandex</td>\n    </tr>\n  </tbody>\n</table>\n</div>"
     },
     "execution_count": 3,
     "metadata": {},
     "output_type": "execute_result"
    }
   ],
   "source": [
    "log = pd.read_csv('D:\\\\Нетология python\\\\Лекция _Библиотека_numpy_&_pandas\\\\доп_материалы_к_пандас_1_и_2\\\\visit_log.csv', sep=';')\n",
    "log.head()"
   ],
   "metadata": {
    "collapsed": false,
    "ExecuteTime": {
     "end_time": "2023-11-19T18:23:42.494018Z",
     "start_time": "2023-11-19T18:23:42.421198500Z"
    }
   },
   "id": "2360fd7cd75d54e3"
  },
  {
   "cell_type": "code",
   "execution_count": 14,
   "outputs": [],
   "source": [
    "log.loc[log['traffic_source'].isin(['yandex', 'google']), 'source_type'] = 'organic'\n",
    "log.loc[(log['traffic_source'].isin(['paid', 'email'])) & (log['region'] == 'Russia'), 'source_type'] = 'ad'\n",
    "log.loc[(log['traffic_source'].isin(['paid', 'email'])) & (log['region'] != 'Russia'), 'source_type'] = 'other'\n",
    "log['source_type'].fillna(log['traffic_source'], inplace=True)\n",
    "\n"
   ],
   "metadata": {
    "collapsed": false,
    "ExecuteTime": {
     "end_time": "2023-11-19T18:38:06.691915500Z",
     "start_time": "2023-11-19T18:38:06.676140300Z"
    }
   },
   "id": "fb0ba7885b702227"
  },
  {
   "cell_type": "code",
   "execution_count": 16,
   "outputs": [
    {
     "data": {
      "text/plain": "     timestamp    visit_id                                 url   region  \\\n0   1549980692  e3b0c44298  https://host.ru/3c19b4ef7371864fa3   Russia   \n1   1549980704  6e340b9cff  https://host.ru/c8d9213a31839f9a3a   Russia   \n2   1549980715  96a296d224  https://host.ru/b8b58337d272ee7b15   Russia   \n3   1549980725  709e80c884  https://host.ru/b8b58337d272ee7b15   Russia   \n4   1549980736  df3f619804  https://host.ru/b8b58337d272ee7b15   Russia   \n..         ...         ...                                 ...      ...   \n65  1549981098  98ce42deef  https://host.ru/8e88d4703848cc0ec4  Ukraine   \n66  1549981098  efbb03b7a7  https://host.ru/f2297425e1328e9e35   Russia   \n67  1549981103  1be2b3990b  https://host.ru/f2297425e1328e9e35  Belarus   \n68  1549981106  1751ac12e7  https://host.ru/c2382eb3d6afc8d0f3    China   \n69  1549981109  cd05c2283f  https://host.ru/39fa884393666d45fc  Ukraine   \n\n       user_id traffic_source source_type  \n0   b1613cc09f         yandex     organic  \n1   4c3ec14bee         direct      direct  \n2   a8c40697fb         yandex     organic  \n3   521ac1d6a0         yandex     organic  \n4   d7323c571c         yandex     organic  \n..         ...            ...         ...  \n65  5392839dfe         yandex     organic  \n66  6a6cc1f6aa          email          ad  \n67  5719d95d7b          email       other  \n68  81c4917b0d         direct      direct  \n69  c32afb3dc3         yandex     organic  \n\n[70 rows x 7 columns]",
      "text/html": "<div>\n<style scoped>\n    .dataframe tbody tr th:only-of-type {\n        vertical-align: middle;\n    }\n\n    .dataframe tbody tr th {\n        vertical-align: top;\n    }\n\n    .dataframe thead th {\n        text-align: right;\n    }\n</style>\n<table border=\"1\" class=\"dataframe\">\n  <thead>\n    <tr style=\"text-align: right;\">\n      <th></th>\n      <th>timestamp</th>\n      <th>visit_id</th>\n      <th>url</th>\n      <th>region</th>\n      <th>user_id</th>\n      <th>traffic_source</th>\n      <th>source_type</th>\n    </tr>\n  </thead>\n  <tbody>\n    <tr>\n      <th>0</th>\n      <td>1549980692</td>\n      <td>e3b0c44298</td>\n      <td>https://host.ru/3c19b4ef7371864fa3</td>\n      <td>Russia</td>\n      <td>b1613cc09f</td>\n      <td>yandex</td>\n      <td>organic</td>\n    </tr>\n    <tr>\n      <th>1</th>\n      <td>1549980704</td>\n      <td>6e340b9cff</td>\n      <td>https://host.ru/c8d9213a31839f9a3a</td>\n      <td>Russia</td>\n      <td>4c3ec14bee</td>\n      <td>direct</td>\n      <td>direct</td>\n    </tr>\n    <tr>\n      <th>2</th>\n      <td>1549980715</td>\n      <td>96a296d224</td>\n      <td>https://host.ru/b8b58337d272ee7b15</td>\n      <td>Russia</td>\n      <td>a8c40697fb</td>\n      <td>yandex</td>\n      <td>organic</td>\n    </tr>\n    <tr>\n      <th>3</th>\n      <td>1549980725</td>\n      <td>709e80c884</td>\n      <td>https://host.ru/b8b58337d272ee7b15</td>\n      <td>Russia</td>\n      <td>521ac1d6a0</td>\n      <td>yandex</td>\n      <td>organic</td>\n    </tr>\n    <tr>\n      <th>4</th>\n      <td>1549980736</td>\n      <td>df3f619804</td>\n      <td>https://host.ru/b8b58337d272ee7b15</td>\n      <td>Russia</td>\n      <td>d7323c571c</td>\n      <td>yandex</td>\n      <td>organic</td>\n    </tr>\n    <tr>\n      <th>...</th>\n      <td>...</td>\n      <td>...</td>\n      <td>...</td>\n      <td>...</td>\n      <td>...</td>\n      <td>...</td>\n      <td>...</td>\n    </tr>\n    <tr>\n      <th>65</th>\n      <td>1549981098</td>\n      <td>98ce42deef</td>\n      <td>https://host.ru/8e88d4703848cc0ec4</td>\n      <td>Ukraine</td>\n      <td>5392839dfe</td>\n      <td>yandex</td>\n      <td>organic</td>\n    </tr>\n    <tr>\n      <th>66</th>\n      <td>1549981098</td>\n      <td>efbb03b7a7</td>\n      <td>https://host.ru/f2297425e1328e9e35</td>\n      <td>Russia</td>\n      <td>6a6cc1f6aa</td>\n      <td>email</td>\n      <td>ad</td>\n    </tr>\n    <tr>\n      <th>67</th>\n      <td>1549981103</td>\n      <td>1be2b3990b</td>\n      <td>https://host.ru/f2297425e1328e9e35</td>\n      <td>Belarus</td>\n      <td>5719d95d7b</td>\n      <td>email</td>\n      <td>other</td>\n    </tr>\n    <tr>\n      <th>68</th>\n      <td>1549981106</td>\n      <td>1751ac12e7</td>\n      <td>https://host.ru/c2382eb3d6afc8d0f3</td>\n      <td>China</td>\n      <td>81c4917b0d</td>\n      <td>direct</td>\n      <td>direct</td>\n    </tr>\n    <tr>\n      <th>69</th>\n      <td>1549981109</td>\n      <td>cd05c2283f</td>\n      <td>https://host.ru/39fa884393666d45fc</td>\n      <td>Ukraine</td>\n      <td>c32afb3dc3</td>\n      <td>yandex</td>\n      <td>organic</td>\n    </tr>\n  </tbody>\n</table>\n<p>70 rows × 7 columns</p>\n</div>"
     },
     "execution_count": 16,
     "metadata": {},
     "output_type": "execute_result"
    }
   ],
   "source": [
    "\n",
    "log.head(70)"
   ],
   "metadata": {
    "collapsed": false,
    "ExecuteTime": {
     "end_time": "2023-11-19T18:44:44.337560Z",
     "start_time": "2023-11-19T18:44:44.321930700Z"
    }
   },
   "id": "a87182ed624cfccd"
  },
  {
   "cell_type": "markdown",
   "source": [
    "# Задание 2\n",
    "В файле URLs.txt содержатся URL страниц новостного сайта. Вам нужно отфильтровать его по адресам страниц с текстами новостей. Известно, что шаблон страницы новостей имеет внутри URL конструкцию: /, затем 8 цифр, затем дефис. Выполните действия:\n",
    "\n",
    "Прочитайте содержимое файла с датафрейм.\n",
    "Отфильтруйте страницы с текстом новостей, используя метод str.contains и регулярное выражение в соответствие с заданным шаблоном."
   ],
   "metadata": {
    "collapsed": false
   },
   "id": "1b96b19b312ce8f0"
  },
  {
   "cell_type": "code",
   "execution_count": 19,
   "outputs": [
    {
     "data": {
      "text/plain": "                                                 url\n0                                            /world/\n1                                           /latest/\n2                                      /?updated=top\n3  /politics/36188461-s-marta-zhizn-rossiyan-susc...\n4  /world/36007585-tramp-pridumal-kak-reshit-ukra...",
      "text/html": "<div>\n<style scoped>\n    .dataframe tbody tr th:only-of-type {\n        vertical-align: middle;\n    }\n\n    .dataframe tbody tr th {\n        vertical-align: top;\n    }\n\n    .dataframe thead th {\n        text-align: right;\n    }\n</style>\n<table border=\"1\" class=\"dataframe\">\n  <thead>\n    <tr style=\"text-align: right;\">\n      <th></th>\n      <th>url</th>\n    </tr>\n  </thead>\n  <tbody>\n    <tr>\n      <th>0</th>\n      <td>/world/</td>\n    </tr>\n    <tr>\n      <th>1</th>\n      <td>/latest/</td>\n    </tr>\n    <tr>\n      <th>2</th>\n      <td>/?updated=top</td>\n    </tr>\n    <tr>\n      <th>3</th>\n      <td>/politics/36188461-s-marta-zhizn-rossiyan-susc...</td>\n    </tr>\n    <tr>\n      <th>4</th>\n      <td>/world/36007585-tramp-pridumal-kak-reshit-ukra...</td>\n    </tr>\n  </tbody>\n</table>\n</div>"
     },
     "execution_count": 19,
     "metadata": {},
     "output_type": "execute_result"
    }
   ],
   "source": [
    "df = pd.read_csv('D:\\\\Нетология python\\\\Лекция _Библиотека_numpy_&_pandas\\\\доп_материалы_к_пандас_1_и_2\\\\URLs.txt', sep=';')\n",
    "df.head()"
   ],
   "metadata": {
    "collapsed": false,
    "ExecuteTime": {
     "end_time": "2023-11-19T18:55:05.204845200Z",
     "start_time": "2023-11-19T18:55:05.194006300Z"
    }
   },
   "id": "69b1fba4aaf8dde"
  },
  {
   "cell_type": "code",
   "execution_count": 26,
   "outputs": [],
   "source": [
    "pattern = r'\\/\\d{8}-'\n",
    "news = df[df['url'].str.contains(pattern)]"
   ],
   "metadata": {
    "collapsed": false,
    "ExecuteTime": {
     "end_time": "2023-11-19T18:59:24.340186500Z",
     "start_time": "2023-11-19T18:59:24.323344300Z"
    }
   },
   "id": "d54acf99acc59468"
  },
  {
   "cell_type": "code",
   "execution_count": 28,
   "outputs": [
    {
     "data": {
      "text/plain": "                                                 url\n3  /politics/36188461-s-marta-zhizn-rossiyan-susc...\n4  /world/36007585-tramp-pridumal-kak-reshit-ukra...\n5  /science/36157853-nasa-sobiraet-ekstrennuyu-pr...\n6  /video/36001498-poyavilis-pervye-podrobnosti-g...\n7  /world/36007585-tramp-pridumal-kak-reshit-ukra...",
      "text/html": "<div>\n<style scoped>\n    .dataframe tbody tr th:only-of-type {\n        vertical-align: middle;\n    }\n\n    .dataframe tbody tr th {\n        vertical-align: top;\n    }\n\n    .dataframe thead th {\n        text-align: right;\n    }\n</style>\n<table border=\"1\" class=\"dataframe\">\n  <thead>\n    <tr style=\"text-align: right;\">\n      <th></th>\n      <th>url</th>\n    </tr>\n  </thead>\n  <tbody>\n    <tr>\n      <th>3</th>\n      <td>/politics/36188461-s-marta-zhizn-rossiyan-susc...</td>\n    </tr>\n    <tr>\n      <th>4</th>\n      <td>/world/36007585-tramp-pridumal-kak-reshit-ukra...</td>\n    </tr>\n    <tr>\n      <th>5</th>\n      <td>/science/36157853-nasa-sobiraet-ekstrennuyu-pr...</td>\n    </tr>\n    <tr>\n      <th>6</th>\n      <td>/video/36001498-poyavilis-pervye-podrobnosti-g...</td>\n    </tr>\n    <tr>\n      <th>7</th>\n      <td>/world/36007585-tramp-pridumal-kak-reshit-ukra...</td>\n    </tr>\n  </tbody>\n</table>\n</div>"
     },
     "execution_count": 28,
     "metadata": {},
     "output_type": "execute_result"
    }
   ],
   "source": [
    "news.head()"
   ],
   "metadata": {
    "collapsed": false,
    "ExecuteTime": {
     "end_time": "2023-11-19T18:59:33.410643100Z",
     "start_time": "2023-11-19T18:59:33.396957Z"
    }
   },
   "id": "b0146e691ba767b5"
  },
  {
   "cell_type": "markdown",
   "source": [
    "# Задание 3\n",
    "Используйте файл с оценками фильмов ml-latest-small/ratings.csv. Посчитайте среднее время жизни пользователей, которые выставили более 100 оценок. Под временем жизни понимается разница между максимальным и минимальным значениями столбца timestamp для данного значения userId."
   ],
   "metadata": {
    "collapsed": false
   },
   "id": "f6ed40d3ff8285d3"
  },
  {
   "cell_type": "code",
   "execution_count": 31,
   "outputs": [
    {
     "data": {
      "text/plain": "   userId  movieId  rating   timestamp\n0       1       31     2.5  1260759144\n1       1     1029     3.0  1260759179\n2       1     1061     3.0  1260759182\n3       1     1129     2.0  1260759185\n4       1     1172     4.0  1260759205",
      "text/html": "<div>\n<style scoped>\n    .dataframe tbody tr th:only-of-type {\n        vertical-align: middle;\n    }\n\n    .dataframe tbody tr th {\n        vertical-align: top;\n    }\n\n    .dataframe thead th {\n        text-align: right;\n    }\n</style>\n<table border=\"1\" class=\"dataframe\">\n  <thead>\n    <tr style=\"text-align: right;\">\n      <th></th>\n      <th>userId</th>\n      <th>movieId</th>\n      <th>rating</th>\n      <th>timestamp</th>\n    </tr>\n  </thead>\n  <tbody>\n    <tr>\n      <th>0</th>\n      <td>1</td>\n      <td>31</td>\n      <td>2.5</td>\n      <td>1260759144</td>\n    </tr>\n    <tr>\n      <th>1</th>\n      <td>1</td>\n      <td>1029</td>\n      <td>3.0</td>\n      <td>1260759179</td>\n    </tr>\n    <tr>\n      <th>2</th>\n      <td>1</td>\n      <td>1061</td>\n      <td>3.0</td>\n      <td>1260759182</td>\n    </tr>\n    <tr>\n      <th>3</th>\n      <td>1</td>\n      <td>1129</td>\n      <td>2.0</td>\n      <td>1260759185</td>\n    </tr>\n    <tr>\n      <th>4</th>\n      <td>1</td>\n      <td>1172</td>\n      <td>4.0</td>\n      <td>1260759205</td>\n    </tr>\n  </tbody>\n</table>\n</div>"
     },
     "execution_count": 31,
     "metadata": {},
     "output_type": "execute_result"
    }
   ],
   "source": [
    "df = pd.read_csv('D:\\\\Нетология python\\\\Лекция _Библиотека_numpy_&_pandas\\\\доп_материалы_к_пандас_1_и_2\\\\ml-latest-small\\\\ratings.csv')\n",
    "df.head()"
   ],
   "metadata": {
    "collapsed": false,
    "ExecuteTime": {
     "end_time": "2023-11-19T19:01:49.285321300Z",
     "start_time": "2023-11-19T19:01:49.243870900Z"
    }
   },
   "id": "5ed635c28a32ffa1"
  },
  {
   "cell_type": "code",
   "execution_count": 32,
   "outputs": [],
   "source": [
    "# Посчитать количество оценок для каждого пользователя\n",
    "ratings_count = df['userId'].value_counts()"
   ],
   "metadata": {
    "collapsed": false,
    "ExecuteTime": {
     "end_time": "2023-11-19T20:23:34.361470Z",
     "start_time": "2023-11-19T20:23:34.347533Z"
    }
   },
   "id": "3f007280f0babd5b"
  },
  {
   "cell_type": "code",
   "execution_count": 33,
   "outputs": [],
   "source": [
    "# Отфильтровать пользователей, которые выставили более 100 оценок\n",
    "active_users = ratings_count[ratings_count > 100]\n"
   ],
   "metadata": {
    "collapsed": false,
    "ExecuteTime": {
     "end_time": "2023-11-19T20:23:40.251679900Z",
     "start_time": "2023-11-19T20:23:40.244163700Z"
    }
   },
   "id": "97c26bf8d1c86d1"
  },
  {
   "cell_type": "code",
   "execution_count": 35,
   "outputs": [],
   "source": [
    "# Вычислить время жизни для каждого активного пользователя\n",
    "user_lifetime = df.groupby('userId')['timestamp'].apply(lambda x: x.max() - x.min())"
   ],
   "metadata": {
    "collapsed": false,
    "ExecuteTime": {
     "end_time": "2023-11-19T20:24:18.515346600Z",
     "start_time": "2023-11-19T20:24:18.473336800Z"
    }
   },
   "id": "46f7d628823b4581"
  },
  {
   "cell_type": "code",
   "execution_count": 36,
   "outputs": [],
   "source": [
    "# Посчитать среднее значение времени жизни для активных пользователей\n",
    "avg_lifetime = user_lifetime[active_users.index].mean()"
   ],
   "metadata": {
    "collapsed": false,
    "ExecuteTime": {
     "end_time": "2023-11-19T20:24:20.753447100Z",
     "start_time": "2023-11-19T20:24:20.748573600Z"
    }
   },
   "id": "200c9541c825d444"
  },
  {
   "cell_type": "code",
   "execution_count": 37,
   "outputs": [
    {
     "name": "stdout",
     "output_type": "stream",
     "text": [
      "Среднее время жизни пользователей, которые выставили более 100 оценок: 40080507.4496124\n"
     ]
    }
   ],
   "source": [
    "\n",
    "# Вывести результат\n",
    "print('Среднее время жизни пользователей, которые выставили более 100 оценок:', avg_lifetime)\n"
   ],
   "metadata": {
    "collapsed": false,
    "ExecuteTime": {
     "end_time": "2023-11-19T20:24:22.505554700Z",
     "start_time": "2023-11-19T20:24:22.501038200Z"
    }
   },
   "id": "ea9e8f88f6e85d66"
  },
  {
   "cell_type": "markdown",
   "source": [],
   "metadata": {
    "collapsed": false
   },
   "id": "f9e98aa5e3c96767"
  },
  {
   "cell_type": "markdown",
   "source": [],
   "metadata": {
    "collapsed": false
   },
   "id": "d50ae52c69a76458"
  },
  {
   "cell_type": "markdown",
   "source": [
    "# Задание 4\n",
    " Дана статистика услуг перевозок клиентов компании по типам (см. файл “Python_13_join.ipynb” в разделе «Материалы для лекции “Продвинутый pandas”» ---- Ноутбуки к лекции «Продвинутый pandas»).\n",
    "Нужно сформировать две таблицы:\n",
    "\n",
    "таблицу с тремя типами выручки для каждого client_id без указания адреса клиента;\n",
    "аналогичную таблицу по типам выручки с указанием адреса клиента.\n",
    "Обратите внимание, что в процессе объединения таблиц данные не должны теряться."
   ],
   "metadata": {
    "collapsed": false
   },
   "id": "a2465f9f129b378d"
  },
  {
   "cell_type": "markdown",
   "source": [
    "Дана статистика услуг перевозок клиентов компании по типам:\n",
    "rzd - железнодорожные перевозки\n",
    "auto - автомобильные перевозки\n",
    "air - воздушные перевозки\n",
    "client_base - адреса клиентов"
   ],
   "metadata": {
    "collapsed": false
   },
   "id": "1ed89b4773abc3c9"
  },
  {
   "cell_type": "code",
   "execution_count": 2,
   "outputs": [
    {
     "data": {
      "text/plain": "   client_id  rzd_revenue\n0        111         1093\n1        112         2810\n2        113        10283\n3        114         5774\n4        115          981",
      "text/html": "<div>\n<style scoped>\n    .dataframe tbody tr th:only-of-type {\n        vertical-align: middle;\n    }\n\n    .dataframe tbody tr th {\n        vertical-align: top;\n    }\n\n    .dataframe thead th {\n        text-align: right;\n    }\n</style>\n<table border=\"1\" class=\"dataframe\">\n  <thead>\n    <tr style=\"text-align: right;\">\n      <th></th>\n      <th>client_id</th>\n      <th>rzd_revenue</th>\n    </tr>\n  </thead>\n  <tbody>\n    <tr>\n      <th>0</th>\n      <td>111</td>\n      <td>1093</td>\n    </tr>\n    <tr>\n      <th>1</th>\n      <td>112</td>\n      <td>2810</td>\n    </tr>\n    <tr>\n      <th>2</th>\n      <td>113</td>\n      <td>10283</td>\n    </tr>\n    <tr>\n      <th>3</th>\n      <td>114</td>\n      <td>5774</td>\n    </tr>\n    <tr>\n      <th>4</th>\n      <td>115</td>\n      <td>981</td>\n    </tr>\n  </tbody>\n</table>\n</div>"
     },
     "execution_count": 2,
     "metadata": {},
     "output_type": "execute_result"
    }
   ],
   "source": [
    "rzd = pd.DataFrame(\n",
    "    {\n",
    "        'client_id': [111, 112, 113, 114, 115],\n",
    "        'rzd_revenue': [1093, 2810, 10283, 5774, 981]\n",
    "    }\n",
    ")\n",
    "rzd"
   ],
   "metadata": {
    "collapsed": false,
    "ExecuteTime": {
     "end_time": "2023-11-20T17:13:42.505102800Z",
     "start_time": "2023-11-20T17:13:42.482019500Z"
    }
   },
   "id": "40d9e7488d3c1322"
  },
  {
   "cell_type": "code",
   "execution_count": 3,
   "outputs": [
    {
     "data": {
      "text/plain": "   client_id  auto_revenue\n0        113         57483\n1        114            83\n2        115           912\n3        116          4834\n4        117            98",
      "text/html": "<div>\n<style scoped>\n    .dataframe tbody tr th:only-of-type {\n        vertical-align: middle;\n    }\n\n    .dataframe tbody tr th {\n        vertical-align: top;\n    }\n\n    .dataframe thead th {\n        text-align: right;\n    }\n</style>\n<table border=\"1\" class=\"dataframe\">\n  <thead>\n    <tr style=\"text-align: right;\">\n      <th></th>\n      <th>client_id</th>\n      <th>auto_revenue</th>\n    </tr>\n  </thead>\n  <tbody>\n    <tr>\n      <th>0</th>\n      <td>113</td>\n      <td>57483</td>\n    </tr>\n    <tr>\n      <th>1</th>\n      <td>114</td>\n      <td>83</td>\n    </tr>\n    <tr>\n      <th>2</th>\n      <td>115</td>\n      <td>912</td>\n    </tr>\n    <tr>\n      <th>3</th>\n      <td>116</td>\n      <td>4834</td>\n    </tr>\n    <tr>\n      <th>4</th>\n      <td>117</td>\n      <td>98</td>\n    </tr>\n  </tbody>\n</table>\n</div>"
     },
     "execution_count": 3,
     "metadata": {},
     "output_type": "execute_result"
    }
   ],
   "source": [
    "auto = pd.DataFrame(\n",
    "    {\n",
    "        'client_id': [113, 114, 115, 116, 117],\n",
    "        'auto_revenue': [57483, 83, 912, 4834, 98]\n",
    "    }\n",
    ")\n",
    "auto"
   ],
   "metadata": {
    "collapsed": false,
    "ExecuteTime": {
     "end_time": "2023-11-20T17:13:44.757403Z",
     "start_time": "2023-11-20T17:13:44.750197200Z"
    }
   },
   "id": "ed1fccf51bba0b72"
  },
  {
   "cell_type": "code",
   "execution_count": 4,
   "outputs": [
    {
     "data": {
      "text/plain": "   client_id  air_revenue\n0        115           81\n1        116            4\n2        117           13\n3        118          173",
      "text/html": "<div>\n<style scoped>\n    .dataframe tbody tr th:only-of-type {\n        vertical-align: middle;\n    }\n\n    .dataframe tbody tr th {\n        vertical-align: top;\n    }\n\n    .dataframe thead th {\n        text-align: right;\n    }\n</style>\n<table border=\"1\" class=\"dataframe\">\n  <thead>\n    <tr style=\"text-align: right;\">\n      <th></th>\n      <th>client_id</th>\n      <th>air_revenue</th>\n    </tr>\n  </thead>\n  <tbody>\n    <tr>\n      <th>0</th>\n      <td>115</td>\n      <td>81</td>\n    </tr>\n    <tr>\n      <th>1</th>\n      <td>116</td>\n      <td>4</td>\n    </tr>\n    <tr>\n      <th>2</th>\n      <td>117</td>\n      <td>13</td>\n    </tr>\n    <tr>\n      <th>3</th>\n      <td>118</td>\n      <td>173</td>\n    </tr>\n  </tbody>\n</table>\n</div>"
     },
     "execution_count": 4,
     "metadata": {},
     "output_type": "execute_result"
    }
   ],
   "source": [
    "air = pd.DataFrame(\n",
    "    {\n",
    "        'client_id': [115, 116, 117, 118],\n",
    "        'air_revenue': [81, 4, 13, 173]\n",
    "    }\n",
    ")\n",
    "air"
   ],
   "metadata": {
    "collapsed": false,
    "ExecuteTime": {
     "end_time": "2023-11-20T17:13:46.986420200Z",
     "start_time": "2023-11-20T17:13:46.979086500Z"
    }
   },
   "id": "4df1abcc9b77049"
  },
  {
   "cell_type": "code",
   "execution_count": 5,
   "outputs": [
    {
     "data": {
      "text/plain": "   client_id          address\n0        111  Комсомольская 4\n1        112   Энтузиастов 8а\n2        113  Левобережная 1а\n3        114          Мира 14\n4        115        ЗЖБИиДК 1\n5        116    Строителей 18\n6        117  Панфиловская 33\n7        118     Мастеркова 4",
      "text/html": "<div>\n<style scoped>\n    .dataframe tbody tr th:only-of-type {\n        vertical-align: middle;\n    }\n\n    .dataframe tbody tr th {\n        vertical-align: top;\n    }\n\n    .dataframe thead th {\n        text-align: right;\n    }\n</style>\n<table border=\"1\" class=\"dataframe\">\n  <thead>\n    <tr style=\"text-align: right;\">\n      <th></th>\n      <th>client_id</th>\n      <th>address</th>\n    </tr>\n  </thead>\n  <tbody>\n    <tr>\n      <th>0</th>\n      <td>111</td>\n      <td>Комсомольская 4</td>\n    </tr>\n    <tr>\n      <th>1</th>\n      <td>112</td>\n      <td>Энтузиастов 8а</td>\n    </tr>\n    <tr>\n      <th>2</th>\n      <td>113</td>\n      <td>Левобережная 1а</td>\n    </tr>\n    <tr>\n      <th>3</th>\n      <td>114</td>\n      <td>Мира 14</td>\n    </tr>\n    <tr>\n      <th>4</th>\n      <td>115</td>\n      <td>ЗЖБИиДК 1</td>\n    </tr>\n    <tr>\n      <th>5</th>\n      <td>116</td>\n      <td>Строителей 18</td>\n    </tr>\n    <tr>\n      <th>6</th>\n      <td>117</td>\n      <td>Панфиловская 33</td>\n    </tr>\n    <tr>\n      <th>7</th>\n      <td>118</td>\n      <td>Мастеркова 4</td>\n    </tr>\n  </tbody>\n</table>\n</div>"
     },
     "execution_count": 5,
     "metadata": {},
     "output_type": "execute_result"
    }
   ],
   "source": [
    "\n",
    "client_base = pd.DataFrame(\n",
    "    {\n",
    "        'client_id': [111, 112, 113, 114, 115, 116, 117, 118],\n",
    "        'address': ['Комсомольская 4', 'Энтузиастов 8а', 'Левобережная 1а', 'Мира 14', 'ЗЖБИиДК 1',\n",
    "                    'Строителей 18', 'Панфиловская 33', 'Мастеркова 4']\n",
    "    }\n",
    ")\n",
    "client_base"
   ],
   "metadata": {
    "collapsed": false,
    "ExecuteTime": {
     "end_time": "2023-11-20T17:13:49.176152500Z",
     "start_time": "2023-11-20T17:13:49.157557900Z"
    }
   },
   "id": "a36763b1832bea55"
  },
  {
   "cell_type": "code",
   "execution_count": 13,
   "outputs": [],
   "source": [
    "# Используем мердж \n",
    "# без адреса \n",
    "revenue_without_address = pd.merge(rzd, auto, on='client_id', how='outer')\n",
    "revenue_without_address = pd.merge(revenue_without_address, air, on='client_id', how='outer')\n",
    "\n",
    "# С адресом\n",
    "revenue_with_address = pd.merge(revenue_without_address, client_base, on='client_id', how='left')"
   ],
   "metadata": {
    "collapsed": false,
    "ExecuteTime": {
     "end_time": "2023-11-20T17:16:06.455927800Z",
     "start_time": "2023-11-20T17:16:06.443Z"
    }
   },
   "id": "78095140f54f384b"
  },
  {
   "cell_type": "code",
   "execution_count": 11,
   "outputs": [
    {
     "name": "stdout",
     "output_type": "stream",
     "text": [
      "Таблица без адреса клиента:\n"
     ]
    },
    {
     "data": {
      "text/plain": "   client_id  rzd_revenue  auto_revenue  air_revenue\n0        111       1093.0           NaN          NaN\n1        112       2810.0           NaN          NaN\n2        113      10283.0       57483.0          NaN\n3        114       5774.0          83.0          NaN\n4        115        981.0         912.0         81.0",
      "text/html": "<div>\n<style scoped>\n    .dataframe tbody tr th:only-of-type {\n        vertical-align: middle;\n    }\n\n    .dataframe tbody tr th {\n        vertical-align: top;\n    }\n\n    .dataframe thead th {\n        text-align: right;\n    }\n</style>\n<table border=\"1\" class=\"dataframe\">\n  <thead>\n    <tr style=\"text-align: right;\">\n      <th></th>\n      <th>client_id</th>\n      <th>rzd_revenue</th>\n      <th>auto_revenue</th>\n      <th>air_revenue</th>\n    </tr>\n  </thead>\n  <tbody>\n    <tr>\n      <th>0</th>\n      <td>111</td>\n      <td>1093.0</td>\n      <td>NaN</td>\n      <td>NaN</td>\n    </tr>\n    <tr>\n      <th>1</th>\n      <td>112</td>\n      <td>2810.0</td>\n      <td>NaN</td>\n      <td>NaN</td>\n    </tr>\n    <tr>\n      <th>2</th>\n      <td>113</td>\n      <td>10283.0</td>\n      <td>57483.0</td>\n      <td>NaN</td>\n    </tr>\n    <tr>\n      <th>3</th>\n      <td>114</td>\n      <td>5774.0</td>\n      <td>83.0</td>\n      <td>NaN</td>\n    </tr>\n    <tr>\n      <th>4</th>\n      <td>115</td>\n      <td>981.0</td>\n      <td>912.0</td>\n      <td>81.0</td>\n    </tr>\n  </tbody>\n</table>\n</div>"
     },
     "execution_count": 11,
     "metadata": {},
     "output_type": "execute_result"
    }
   ],
   "source": [
    "print(\"Таблица без адреса клиента:\")\n",
    "revenue_without_address.head()\n",
    "\n"
   ],
   "metadata": {
    "collapsed": false,
    "ExecuteTime": {
     "end_time": "2023-11-20T17:14:50.456306700Z",
     "start_time": "2023-11-20T17:14:50.436984300Z"
    }
   },
   "id": "e79e28cba36585ad"
  },
  {
   "cell_type": "code",
   "execution_count": 12,
   "outputs": [
    {
     "name": "stdout",
     "output_type": "stream",
     "text": [
      "\n",
      "Таблица с адресом клиента:\n"
     ]
    },
    {
     "data": {
      "text/plain": "   client_id  rzd_revenue  auto_revenue  air_revenue          address\n0        111       1093.0           NaN          NaN  Комсомольская 4\n1        112       2810.0           NaN          NaN   Энтузиастов 8а\n2        113      10283.0       57483.0          NaN  Левобережная 1а\n3        114       5774.0          83.0          NaN          Мира 14\n4        115        981.0         912.0         81.0        ЗЖБИиДК 1",
      "text/html": "<div>\n<style scoped>\n    .dataframe tbody tr th:only-of-type {\n        vertical-align: middle;\n    }\n\n    .dataframe tbody tr th {\n        vertical-align: top;\n    }\n\n    .dataframe thead th {\n        text-align: right;\n    }\n</style>\n<table border=\"1\" class=\"dataframe\">\n  <thead>\n    <tr style=\"text-align: right;\">\n      <th></th>\n      <th>client_id</th>\n      <th>rzd_revenue</th>\n      <th>auto_revenue</th>\n      <th>air_revenue</th>\n      <th>address</th>\n    </tr>\n  </thead>\n  <tbody>\n    <tr>\n      <th>0</th>\n      <td>111</td>\n      <td>1093.0</td>\n      <td>NaN</td>\n      <td>NaN</td>\n      <td>Комсомольская 4</td>\n    </tr>\n    <tr>\n      <th>1</th>\n      <td>112</td>\n      <td>2810.0</td>\n      <td>NaN</td>\n      <td>NaN</td>\n      <td>Энтузиастов 8а</td>\n    </tr>\n    <tr>\n      <th>2</th>\n      <td>113</td>\n      <td>10283.0</td>\n      <td>57483.0</td>\n      <td>NaN</td>\n      <td>Левобережная 1а</td>\n    </tr>\n    <tr>\n      <th>3</th>\n      <td>114</td>\n      <td>5774.0</td>\n      <td>83.0</td>\n      <td>NaN</td>\n      <td>Мира 14</td>\n    </tr>\n    <tr>\n      <th>4</th>\n      <td>115</td>\n      <td>981.0</td>\n      <td>912.0</td>\n      <td>81.0</td>\n      <td>ЗЖБИиДК 1</td>\n    </tr>\n  </tbody>\n</table>\n</div>"
     },
     "execution_count": 12,
     "metadata": {},
     "output_type": "execute_result"
    }
   ],
   "source": [
    "print(\"\\nТаблица с адресом клиента:\")\n",
    "revenue_with_address.head()"
   ],
   "metadata": {
    "collapsed": false,
    "ExecuteTime": {
     "end_time": "2023-11-20T17:15:02.574842200Z",
     "start_time": "2023-11-20T17:15:02.551945500Z"
    }
   },
   "id": "8a0ed12a96affde4"
  },
  {
   "cell_type": "code",
   "execution_count": 45,
   "outputs": [
    {
     "data": {
      "text/plain": "   client_id  rzd_revenue  auto_revenue  air_revenue\n0        111       1093.0           NaN          NaN\n1        112       2810.0           NaN          NaN\n2        113      10283.0           NaN          NaN\n3        114       5774.0           NaN          NaN\n4        115        981.0           NaN          NaN\n0        113          NaN       57483.0          NaN\n1        114          NaN          83.0          NaN\n2        115          NaN         912.0          NaN\n3        116          NaN        4834.0          NaN\n4        117          NaN          98.0          NaN\n0        115          NaN           NaN         81.0\n1        116          NaN           NaN          4.0\n2        117          NaN           NaN         13.0\n3        118          NaN           NaN        173.0",
      "text/html": "<div>\n<style scoped>\n    .dataframe tbody tr th:only-of-type {\n        vertical-align: middle;\n    }\n\n    .dataframe tbody tr th {\n        vertical-align: top;\n    }\n\n    .dataframe thead th {\n        text-align: right;\n    }\n</style>\n<table border=\"1\" class=\"dataframe\">\n  <thead>\n    <tr style=\"text-align: right;\">\n      <th></th>\n      <th>client_id</th>\n      <th>rzd_revenue</th>\n      <th>auto_revenue</th>\n      <th>air_revenue</th>\n    </tr>\n  </thead>\n  <tbody>\n    <tr>\n      <th>0</th>\n      <td>111</td>\n      <td>1093.0</td>\n      <td>NaN</td>\n      <td>NaN</td>\n    </tr>\n    <tr>\n      <th>1</th>\n      <td>112</td>\n      <td>2810.0</td>\n      <td>NaN</td>\n      <td>NaN</td>\n    </tr>\n    <tr>\n      <th>2</th>\n      <td>113</td>\n      <td>10283.0</td>\n      <td>NaN</td>\n      <td>NaN</td>\n    </tr>\n    <tr>\n      <th>3</th>\n      <td>114</td>\n      <td>5774.0</td>\n      <td>NaN</td>\n      <td>NaN</td>\n    </tr>\n    <tr>\n      <th>4</th>\n      <td>115</td>\n      <td>981.0</td>\n      <td>NaN</td>\n      <td>NaN</td>\n    </tr>\n    <tr>\n      <th>0</th>\n      <td>113</td>\n      <td>NaN</td>\n      <td>57483.0</td>\n      <td>NaN</td>\n    </tr>\n    <tr>\n      <th>1</th>\n      <td>114</td>\n      <td>NaN</td>\n      <td>83.0</td>\n      <td>NaN</td>\n    </tr>\n    <tr>\n      <th>2</th>\n      <td>115</td>\n      <td>NaN</td>\n      <td>912.0</td>\n      <td>NaN</td>\n    </tr>\n    <tr>\n      <th>3</th>\n      <td>116</td>\n      <td>NaN</td>\n      <td>4834.0</td>\n      <td>NaN</td>\n    </tr>\n    <tr>\n      <th>4</th>\n      <td>117</td>\n      <td>NaN</td>\n      <td>98.0</td>\n      <td>NaN</td>\n    </tr>\n    <tr>\n      <th>0</th>\n      <td>115</td>\n      <td>NaN</td>\n      <td>NaN</td>\n      <td>81.0</td>\n    </tr>\n    <tr>\n      <th>1</th>\n      <td>116</td>\n      <td>NaN</td>\n      <td>NaN</td>\n      <td>4.0</td>\n    </tr>\n    <tr>\n      <th>2</th>\n      <td>117</td>\n      <td>NaN</td>\n      <td>NaN</td>\n      <td>13.0</td>\n    </tr>\n    <tr>\n      <th>3</th>\n      <td>118</td>\n      <td>NaN</td>\n      <td>NaN</td>\n      <td>173.0</td>\n    </tr>\n  </tbody>\n</table>\n</div>"
     },
     "execution_count": 45,
     "metadata": {},
     "output_type": "execute_result"
    }
   ],
   "source": [
    "pd.concat([rzd,auto,air])"
   ],
   "metadata": {
    "collapsed": false,
    "ExecuteTime": {
     "end_time": "2023-11-19T20:35:50.210856400Z",
     "start_time": "2023-11-19T20:35:50.193795Z"
    }
   },
   "id": "d414b194cc5a460b"
  },
  {
   "cell_type": "code",
   "execution_count": 46,
   "outputs": [
    {
     "data": {
      "text/plain": "   client_id          address  rzd_revenue  auto_revenue  air_revenue\n0        111  Комсомольская 4          NaN           NaN          NaN\n1        112   Энтузиастов 8а          NaN           NaN          NaN\n2        113  Левобережная 1а          NaN           NaN          NaN\n3        114          Мира 14          NaN           NaN          NaN\n4        115        ЗЖБИиДК 1          NaN           NaN          NaN\n5        116    Строителей 18          NaN           NaN          NaN\n6        117  Панфиловская 33          NaN           NaN          NaN\n7        118     Мастеркова 4          NaN           NaN          NaN\n0        111              NaN       1093.0           NaN          NaN\n1        112              NaN       2810.0           NaN          NaN\n2        113              NaN      10283.0           NaN          NaN\n3        114              NaN       5774.0           NaN          NaN\n4        115              NaN        981.0           NaN          NaN\n0        113              NaN          NaN       57483.0          NaN\n1        114              NaN          NaN          83.0          NaN\n2        115              NaN          NaN         912.0          NaN\n3        116              NaN          NaN        4834.0          NaN\n4        117              NaN          NaN          98.0          NaN\n0        115              NaN          NaN           NaN         81.0\n1        116              NaN          NaN           NaN          4.0\n2        117              NaN          NaN           NaN         13.0\n3        118              NaN          NaN           NaN        173.0",
      "text/html": "<div>\n<style scoped>\n    .dataframe tbody tr th:only-of-type {\n        vertical-align: middle;\n    }\n\n    .dataframe tbody tr th {\n        vertical-align: top;\n    }\n\n    .dataframe thead th {\n        text-align: right;\n    }\n</style>\n<table border=\"1\" class=\"dataframe\">\n  <thead>\n    <tr style=\"text-align: right;\">\n      <th></th>\n      <th>client_id</th>\n      <th>address</th>\n      <th>rzd_revenue</th>\n      <th>auto_revenue</th>\n      <th>air_revenue</th>\n    </tr>\n  </thead>\n  <tbody>\n    <tr>\n      <th>0</th>\n      <td>111</td>\n      <td>Комсомольская 4</td>\n      <td>NaN</td>\n      <td>NaN</td>\n      <td>NaN</td>\n    </tr>\n    <tr>\n      <th>1</th>\n      <td>112</td>\n      <td>Энтузиастов 8а</td>\n      <td>NaN</td>\n      <td>NaN</td>\n      <td>NaN</td>\n    </tr>\n    <tr>\n      <th>2</th>\n      <td>113</td>\n      <td>Левобережная 1а</td>\n      <td>NaN</td>\n      <td>NaN</td>\n      <td>NaN</td>\n    </tr>\n    <tr>\n      <th>3</th>\n      <td>114</td>\n      <td>Мира 14</td>\n      <td>NaN</td>\n      <td>NaN</td>\n      <td>NaN</td>\n    </tr>\n    <tr>\n      <th>4</th>\n      <td>115</td>\n      <td>ЗЖБИиДК 1</td>\n      <td>NaN</td>\n      <td>NaN</td>\n      <td>NaN</td>\n    </tr>\n    <tr>\n      <th>5</th>\n      <td>116</td>\n      <td>Строителей 18</td>\n      <td>NaN</td>\n      <td>NaN</td>\n      <td>NaN</td>\n    </tr>\n    <tr>\n      <th>6</th>\n      <td>117</td>\n      <td>Панфиловская 33</td>\n      <td>NaN</td>\n      <td>NaN</td>\n      <td>NaN</td>\n    </tr>\n    <tr>\n      <th>7</th>\n      <td>118</td>\n      <td>Мастеркова 4</td>\n      <td>NaN</td>\n      <td>NaN</td>\n      <td>NaN</td>\n    </tr>\n    <tr>\n      <th>0</th>\n      <td>111</td>\n      <td>NaN</td>\n      <td>1093.0</td>\n      <td>NaN</td>\n      <td>NaN</td>\n    </tr>\n    <tr>\n      <th>1</th>\n      <td>112</td>\n      <td>NaN</td>\n      <td>2810.0</td>\n      <td>NaN</td>\n      <td>NaN</td>\n    </tr>\n    <tr>\n      <th>2</th>\n      <td>113</td>\n      <td>NaN</td>\n      <td>10283.0</td>\n      <td>NaN</td>\n      <td>NaN</td>\n    </tr>\n    <tr>\n      <th>3</th>\n      <td>114</td>\n      <td>NaN</td>\n      <td>5774.0</td>\n      <td>NaN</td>\n      <td>NaN</td>\n    </tr>\n    <tr>\n      <th>4</th>\n      <td>115</td>\n      <td>NaN</td>\n      <td>981.0</td>\n      <td>NaN</td>\n      <td>NaN</td>\n    </tr>\n    <tr>\n      <th>0</th>\n      <td>113</td>\n      <td>NaN</td>\n      <td>NaN</td>\n      <td>57483.0</td>\n      <td>NaN</td>\n    </tr>\n    <tr>\n      <th>1</th>\n      <td>114</td>\n      <td>NaN</td>\n      <td>NaN</td>\n      <td>83.0</td>\n      <td>NaN</td>\n    </tr>\n    <tr>\n      <th>2</th>\n      <td>115</td>\n      <td>NaN</td>\n      <td>NaN</td>\n      <td>912.0</td>\n      <td>NaN</td>\n    </tr>\n    <tr>\n      <th>3</th>\n      <td>116</td>\n      <td>NaN</td>\n      <td>NaN</td>\n      <td>4834.0</td>\n      <td>NaN</td>\n    </tr>\n    <tr>\n      <th>4</th>\n      <td>117</td>\n      <td>NaN</td>\n      <td>NaN</td>\n      <td>98.0</td>\n      <td>NaN</td>\n    </tr>\n    <tr>\n      <th>0</th>\n      <td>115</td>\n      <td>NaN</td>\n      <td>NaN</td>\n      <td>NaN</td>\n      <td>81.0</td>\n    </tr>\n    <tr>\n      <th>1</th>\n      <td>116</td>\n      <td>NaN</td>\n      <td>NaN</td>\n      <td>NaN</td>\n      <td>4.0</td>\n    </tr>\n    <tr>\n      <th>2</th>\n      <td>117</td>\n      <td>NaN</td>\n      <td>NaN</td>\n      <td>NaN</td>\n      <td>13.0</td>\n    </tr>\n    <tr>\n      <th>3</th>\n      <td>118</td>\n      <td>NaN</td>\n      <td>NaN</td>\n      <td>NaN</td>\n      <td>173.0</td>\n    </tr>\n  </tbody>\n</table>\n</div>"
     },
     "execution_count": 46,
     "metadata": {},
     "output_type": "execute_result"
    }
   ],
   "source": [
    "pd.concat([client_base,rzd,auto,air])"
   ],
   "metadata": {
    "collapsed": false,
    "ExecuteTime": {
     "end_time": "2023-11-19T20:36:19.648369800Z",
     "start_time": "2023-11-19T20:36:19.625793800Z"
    }
   },
   "id": "f2b19f318114eb2f"
  }
 ],
 "metadata": {
  "kernelspec": {
   "display_name": "Python 3",
   "language": "python",
   "name": "python3"
  },
  "language_info": {
   "codemirror_mode": {
    "name": "ipython",
    "version": 2
   },
   "file_extension": ".py",
   "mimetype": "text/x-python",
   "name": "python",
   "nbconvert_exporter": "python",
   "pygments_lexer": "ipython2",
   "version": "2.7.6"
  }
 },
 "nbformat": 4,
 "nbformat_minor": 5
}
