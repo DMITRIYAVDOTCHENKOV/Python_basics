{
 "cells": [
  {
   "cell_type": "markdown",
   "source": [
    "# Обязательная часть\n",
    "Вам необходимо написать функцию, которая будет основана на поиске по сайту habr.com. Функция в качестве параметра должна принимать список запросов для поиска (например, ['python', 'анализ данных']) и на основе материалов, попавших в результаты поиска по каждому запросу, возвращать датафрейм вида:\n",
    "\n",
    "<дата> - <заголовок> - <ссылка на материал>\n",
    "В рамках задания предполагается работа только с одной (первой) страницей результатов поисковой выдачи для каждого запроса. Материалы в датафрейме не должны дублироваться, если они попадали в результаты поиска для нескольких запросов из списка.\n",
    "\n"
   ],
   "metadata": {
    "collapsed": false
   },
   "id": "c4a59fc7abdc0664"
  },
  {
   "cell_type": "code",
   "execution_count": 8,
   "outputs": [],
   "source": [
    "import pandas as pd\n",
    "import time\n",
    "import requests\n",
    "from bs4 import BeautifulSoup"
   ],
   "metadata": {
    "collapsed": false,
    "ExecuteTime": {
     "end_time": "2023-12-12T17:41:56.863421400Z",
     "start_time": "2023-12-12T17:41:56.857426700Z"
    }
   },
   "id": "339d117518eda007"
  },
  {
   "cell_type": "code",
   "execution_count": 12,
   "outputs": [
    {
     "data": {
      "text/plain": "                                                 link               date  \\\n0                https://habr.com/ru/articles/226641/  2014-06-18, 15:19   \n1                https://habr.com/ru/articles/228187/  2014-06-30, 23:06   \n2                https://habr.com/ru/articles/232879/  2014-08-11, 10:47   \n3                https://habr.com/ru/articles/236757/  2014-09-14, 19:54   \n4                https://habr.com/ru/articles/240139/  2014-10-13, 14:00   \n5                https://habr.com/ru/articles/298670/  2016-02-14, 23:32   \n6                https://habr.com/ru/articles/756548/  2023-08-23, 20:26   \n7                https://habr.com/ru/articles/763942/  2023-09-27, 19:55   \n8                https://habr.com/ru/articles/774918/  2023-11-19, 14:05   \n9                https://habr.com/ru/articles/775440/  2023-11-21, 17:13   \n10               https://habr.com/ru/articles/775898/  2023-11-23, 13:18   \n11               https://habr.com/ru/articles/777232/  2023-11-29, 15:09   \n12               https://habr.com/ru/articles/779210/  2023-12-07, 22:42   \n13               https://habr.com/ru/articles/779370/  2023-12-08, 16:22   \n14               https://habr.com/ru/articles/779624/  2023-12-10, 19:50   \n15  https://habr.com/ru/companies/factory5/article...  2022-08-10, 15:52   \n16  https://habr.com/ru/companies/first/articles/7...  2023-11-29, 11:00   \n17  https://habr.com/ru/companies/gazprommedia/art...  2023-11-27, 08:45   \n18  https://habr.com/ru/companies/itsumma/news/490...  2020-03-03, 13:22   \n19  https://habr.com/ru/companies/lanit/articles/7...  2023-12-05, 10:01   \n20  https://habr.com/ru/companies/microsoft/articl...  2021-01-14, 10:00   \n21  https://habr.com/ru/companies/netologyru/news/...  2021-12-10, 13:15   \n22  https://habr.com/ru/companies/otus/articles/33...  2017-06-27, 13:51   \n23  https://habr.com/ru/companies/sibur_official/a...  2019-01-21, 11:21   \n24  https://habr.com/ru/companies/slurm/articles/5...  2021-06-30, 09:00   \n25  https://habr.com/ru/companies/slurm/articles/6...  2022-01-19, 09:00   \n26  https://habr.com/ru/companies/yandex/articles/...  2012-07-25, 13:29   \n27  https://habr.com/ru/companies/yandex/articles/...  2017-07-25, 13:47   \n28                   https://habr.com/ru/news/497474/  2020-04-16, 07:10   \n29                   https://habr.com/ru/news/498364/  2020-04-21, 18:35   \n30                   https://habr.com/ru/news/501944/  2020-05-14, 13:39   \n31                   https://habr.com/ru/news/505096/  2020-06-03, 09:00   \n32                   https://habr.com/ru/news/531402/  2020-12-04, 21:03   \n33                   https://habr.com/ru/news/588991/  2021-11-13, 19:15   \n34                   https://habr.com/ru/news/740666/  2023-06-08, 13:18   \n35                   https://habr.com/ru/news/756266/  2023-08-22, 20:14   \n36                   https://habr.com/ru/news/761862/  2023-09-19, 07:42   \n37                   https://habr.com/ru/news/772872/  2023-11-09, 14:05   \n38                   https://habr.com/ru/news/778926/  2023-12-06, 21:04   \n39               https://habr.com/ru/specials/344806/  2017-12-25, 15:07   \n\n                                                title  \n0   Обзор наиболее интересных материалов по анализ...  \n1   Обзор наиболее интересных материалов по анализ...  \n2   Обзор наиболее интересных материалов по анализ...  \n3   Обзор наиболее интересных материалов по анализ...  \n4   Обзор наиболее интересных материалов по анализ...  \n5   Почему так много «липовых» специалистов по ана...  \n6   Разработка RESTful API на Python с помощью HappyX  \n7   Становясь Пангеей: будущее современного стека ...  \n8              Змеиная наука: Химия в Python, часть 1  \n9   Внедрение Автоматизации в Проект с Python: Шаг...  \n10  Создание фреймворка автоматизации на Python с ...  \n11                 Профилирование асинхронного Python  \n12       Python лёгкий. Go простой. Простой != лёгкий  \n13                         Использование Nim В Python  \n14  Пишем приложение на Python для подготовки к со...  \n15  Как за две недели проверить гипотезы применимо...  \n16  Вероятно, вы неправильно используете метод __i...  \n17  Make It Right! Максимум пользы, минимум пробле...  \n18  В начале этого года Python сместил Java и стал...  \n19  Как мы научили заводчан строить красивые инжен...  \n20  Что такое бессерверный SQL? И как использовать...  \n21  Интенсив для повышения квалификации: как испол...  \n22  Использование Python и Excel для обработки и а...  \n23  Как мы строим систему обработки, хранения и ан...  \n24  Зачем инженеру эксплуатации знать Python: три ...  \n25            Пишем свои модули для Ansible на Python  \n26                      Пять лет Школе анализа данных  \n27                10 лет Школе анализа данных Яндекса  \n28  Microsoft анонсировала запуск «Планетарного ко...  \n29  Вышел Python 2.7.18, последний релиз ветки Pyt...  \n30  Ubic создаст платформу для анализа данных о мо...  \n31  Вышла версия 0.0.2 snakeware — дистрибутива Li...  \n32  Python как компилируемый статически типизирова...  \n33  Владимир Путин выступил с Германом Грефом на к...  \n34  В VK Cloud стал доступен инструмент поиска и а...  \n35                  Microsoft добавила Python в Excel  \n36  Microsoft представила дополнение Python Editor...  \n37  Alchemer совместно с JetBrains и Python Softwa...  \n38  «Яндекс» открыл новую площадку Школы анализа д...  \n39  Новый подход к спортивному анализу данных: как...  ",
      "text/html": "<div>\n<style scoped>\n    .dataframe tbody tr th:only-of-type {\n        vertical-align: middle;\n    }\n\n    .dataframe tbody tr th {\n        vertical-align: top;\n    }\n\n    .dataframe thead th {\n        text-align: right;\n    }\n</style>\n<table border=\"1\" class=\"dataframe\">\n  <thead>\n    <tr style=\"text-align: right;\">\n      <th></th>\n      <th>link</th>\n      <th>date</th>\n      <th>title</th>\n    </tr>\n  </thead>\n  <tbody>\n    <tr>\n      <th>0</th>\n      <td>https://habr.com/ru/articles/226641/</td>\n      <td>2014-06-18, 15:19</td>\n      <td>Обзор наиболее интересных материалов по анализ...</td>\n    </tr>\n    <tr>\n      <th>1</th>\n      <td>https://habr.com/ru/articles/228187/</td>\n      <td>2014-06-30, 23:06</td>\n      <td>Обзор наиболее интересных материалов по анализ...</td>\n    </tr>\n    <tr>\n      <th>2</th>\n      <td>https://habr.com/ru/articles/232879/</td>\n      <td>2014-08-11, 10:47</td>\n      <td>Обзор наиболее интересных материалов по анализ...</td>\n    </tr>\n    <tr>\n      <th>3</th>\n      <td>https://habr.com/ru/articles/236757/</td>\n      <td>2014-09-14, 19:54</td>\n      <td>Обзор наиболее интересных материалов по анализ...</td>\n    </tr>\n    <tr>\n      <th>4</th>\n      <td>https://habr.com/ru/articles/240139/</td>\n      <td>2014-10-13, 14:00</td>\n      <td>Обзор наиболее интересных материалов по анализ...</td>\n    </tr>\n    <tr>\n      <th>5</th>\n      <td>https://habr.com/ru/articles/298670/</td>\n      <td>2016-02-14, 23:32</td>\n      <td>Почему так много «липовых» специалистов по ана...</td>\n    </tr>\n    <tr>\n      <th>6</th>\n      <td>https://habr.com/ru/articles/756548/</td>\n      <td>2023-08-23, 20:26</td>\n      <td>Разработка RESTful API на Python с помощью HappyX</td>\n    </tr>\n    <tr>\n      <th>7</th>\n      <td>https://habr.com/ru/articles/763942/</td>\n      <td>2023-09-27, 19:55</td>\n      <td>Становясь Пангеей: будущее современного стека ...</td>\n    </tr>\n    <tr>\n      <th>8</th>\n      <td>https://habr.com/ru/articles/774918/</td>\n      <td>2023-11-19, 14:05</td>\n      <td>Змеиная наука: Химия в Python, часть 1</td>\n    </tr>\n    <tr>\n      <th>9</th>\n      <td>https://habr.com/ru/articles/775440/</td>\n      <td>2023-11-21, 17:13</td>\n      <td>Внедрение Автоматизации в Проект с Python: Шаг...</td>\n    </tr>\n    <tr>\n      <th>10</th>\n      <td>https://habr.com/ru/articles/775898/</td>\n      <td>2023-11-23, 13:18</td>\n      <td>Создание фреймворка автоматизации на Python с ...</td>\n    </tr>\n    <tr>\n      <th>11</th>\n      <td>https://habr.com/ru/articles/777232/</td>\n      <td>2023-11-29, 15:09</td>\n      <td>Профилирование асинхронного Python</td>\n    </tr>\n    <tr>\n      <th>12</th>\n      <td>https://habr.com/ru/articles/779210/</td>\n      <td>2023-12-07, 22:42</td>\n      <td>Python лёгкий. Go простой. Простой != лёгкий</td>\n    </tr>\n    <tr>\n      <th>13</th>\n      <td>https://habr.com/ru/articles/779370/</td>\n      <td>2023-12-08, 16:22</td>\n      <td>Использование Nim В Python</td>\n    </tr>\n    <tr>\n      <th>14</th>\n      <td>https://habr.com/ru/articles/779624/</td>\n      <td>2023-12-10, 19:50</td>\n      <td>Пишем приложение на Python для подготовки к со...</td>\n    </tr>\n    <tr>\n      <th>15</th>\n      <td>https://habr.com/ru/companies/factory5/article...</td>\n      <td>2022-08-10, 15:52</td>\n      <td>Как за две недели проверить гипотезы применимо...</td>\n    </tr>\n    <tr>\n      <th>16</th>\n      <td>https://habr.com/ru/companies/first/articles/7...</td>\n      <td>2023-11-29, 11:00</td>\n      <td>Вероятно, вы неправильно используете метод __i...</td>\n    </tr>\n    <tr>\n      <th>17</th>\n      <td>https://habr.com/ru/companies/gazprommedia/art...</td>\n      <td>2023-11-27, 08:45</td>\n      <td>Make It Right! Максимум пользы, минимум пробле...</td>\n    </tr>\n    <tr>\n      <th>18</th>\n      <td>https://habr.com/ru/companies/itsumma/news/490...</td>\n      <td>2020-03-03, 13:22</td>\n      <td>В начале этого года Python сместил Java и стал...</td>\n    </tr>\n    <tr>\n      <th>19</th>\n      <td>https://habr.com/ru/companies/lanit/articles/7...</td>\n      <td>2023-12-05, 10:01</td>\n      <td>Как мы научили заводчан строить красивые инжен...</td>\n    </tr>\n    <tr>\n      <th>20</th>\n      <td>https://habr.com/ru/companies/microsoft/articl...</td>\n      <td>2021-01-14, 10:00</td>\n      <td>Что такое бессерверный SQL? И как использовать...</td>\n    </tr>\n    <tr>\n      <th>21</th>\n      <td>https://habr.com/ru/companies/netologyru/news/...</td>\n      <td>2021-12-10, 13:15</td>\n      <td>Интенсив для повышения квалификации: как испол...</td>\n    </tr>\n    <tr>\n      <th>22</th>\n      <td>https://habr.com/ru/companies/otus/articles/33...</td>\n      <td>2017-06-27, 13:51</td>\n      <td>Использование Python и Excel для обработки и а...</td>\n    </tr>\n    <tr>\n      <th>23</th>\n      <td>https://habr.com/ru/companies/sibur_official/a...</td>\n      <td>2019-01-21, 11:21</td>\n      <td>Как мы строим систему обработки, хранения и ан...</td>\n    </tr>\n    <tr>\n      <th>24</th>\n      <td>https://habr.com/ru/companies/slurm/articles/5...</td>\n      <td>2021-06-30, 09:00</td>\n      <td>Зачем инженеру эксплуатации знать Python: три ...</td>\n    </tr>\n    <tr>\n      <th>25</th>\n      <td>https://habr.com/ru/companies/slurm/articles/6...</td>\n      <td>2022-01-19, 09:00</td>\n      <td>Пишем свои модули для Ansible на Python</td>\n    </tr>\n    <tr>\n      <th>26</th>\n      <td>https://habr.com/ru/companies/yandex/articles/...</td>\n      <td>2012-07-25, 13:29</td>\n      <td>Пять лет Школе анализа данных</td>\n    </tr>\n    <tr>\n      <th>27</th>\n      <td>https://habr.com/ru/companies/yandex/articles/...</td>\n      <td>2017-07-25, 13:47</td>\n      <td>10 лет Школе анализа данных Яндекса</td>\n    </tr>\n    <tr>\n      <th>28</th>\n      <td>https://habr.com/ru/news/497474/</td>\n      <td>2020-04-16, 07:10</td>\n      <td>Microsoft анонсировала запуск «Планетарного ко...</td>\n    </tr>\n    <tr>\n      <th>29</th>\n      <td>https://habr.com/ru/news/498364/</td>\n      <td>2020-04-21, 18:35</td>\n      <td>Вышел Python 2.7.18, последний релиз ветки Pyt...</td>\n    </tr>\n    <tr>\n      <th>30</th>\n      <td>https://habr.com/ru/news/501944/</td>\n      <td>2020-05-14, 13:39</td>\n      <td>Ubic создаст платформу для анализа данных о мо...</td>\n    </tr>\n    <tr>\n      <th>31</th>\n      <td>https://habr.com/ru/news/505096/</td>\n      <td>2020-06-03, 09:00</td>\n      <td>Вышла версия 0.0.2 snakeware — дистрибутива Li...</td>\n    </tr>\n    <tr>\n      <th>32</th>\n      <td>https://habr.com/ru/news/531402/</td>\n      <td>2020-12-04, 21:03</td>\n      <td>Python как компилируемый статически типизирова...</td>\n    </tr>\n    <tr>\n      <th>33</th>\n      <td>https://habr.com/ru/news/588991/</td>\n      <td>2021-11-13, 19:15</td>\n      <td>Владимир Путин выступил с Германом Грефом на к...</td>\n    </tr>\n    <tr>\n      <th>34</th>\n      <td>https://habr.com/ru/news/740666/</td>\n      <td>2023-06-08, 13:18</td>\n      <td>В VK Cloud стал доступен инструмент поиска и а...</td>\n    </tr>\n    <tr>\n      <th>35</th>\n      <td>https://habr.com/ru/news/756266/</td>\n      <td>2023-08-22, 20:14</td>\n      <td>Microsoft добавила Python в Excel</td>\n    </tr>\n    <tr>\n      <th>36</th>\n      <td>https://habr.com/ru/news/761862/</td>\n      <td>2023-09-19, 07:42</td>\n      <td>Microsoft представила дополнение Python Editor...</td>\n    </tr>\n    <tr>\n      <th>37</th>\n      <td>https://habr.com/ru/news/772872/</td>\n      <td>2023-11-09, 14:05</td>\n      <td>Alchemer совместно с JetBrains и Python Softwa...</td>\n    </tr>\n    <tr>\n      <th>38</th>\n      <td>https://habr.com/ru/news/778926/</td>\n      <td>2023-12-06, 21:04</td>\n      <td>«Яндекс» открыл новую площадку Школы анализа д...</td>\n    </tr>\n    <tr>\n      <th>39</th>\n      <td>https://habr.com/ru/specials/344806/</td>\n      <td>2017-12-25, 15:07</td>\n      <td>Новый подход к спортивному анализу данных: как...</td>\n    </tr>\n  </tbody>\n</table>\n</div>"
     },
     "execution_count": 12,
     "metadata": {},
     "output_type": "execute_result"
    }
   ],
   "source": [
    "\n",
    "def get_habr_posts(query):\n",
    "    habr_articles = pd.DataFrame()\n",
    "    url = 'https://habr.com/ru/search/'\n",
    "    pre_link_news = 'https://habr.com'\n",
    "\n",
    "    for q in query:\n",
    "        params = {'q': q, 'target_type': 'posts', 'order': 'relevance'}\n",
    "        req = requests.get(url, params=params).text\n",
    "        time.sleep(0.3)\n",
    "        soup = BeautifulSoup(req)\n",
    "        articles = soup.find_all('article', class_='tm-articles-list__item')\n",
    "        for i, article in enumerate(articles):\n",
    "            if article.find('a', 'tm-title__link'):\n",
    "                title = article.find('a', 'tm-title__link').text\n",
    "            else:\n",
    "                title = article.find('h2', 'tm-megapost-snippet__title').text\n",
    "            date = article.find('time').get('title')\n",
    "            if article.find('a', 'tm-title__link'):\n",
    "                link = pre_link_news + article.find('a', 'tm-title__link').get('href')\n",
    "            else:\n",
    "                link = pre_link_news + article.find('a', 'tm-megapost-snippet__link').get('href')\n",
    "            row = {'date': date, 'title': title, 'link': link}\n",
    "            habr_articles = pd.concat([habr_articles, pd.DataFrame([row])])\n",
    "    return habr_articles.groupby('link').max().reset_index()\n",
    "\n",
    "get_habr_posts(['python', 'анализ данных'])"
   ],
   "metadata": {
    "collapsed": false,
    "ExecuteTime": {
     "end_time": "2023-12-12T17:48:01.463236700Z",
     "start_time": "2023-12-12T17:47:59.391914200Z"
    }
   },
   "id": "7b7f710676976abe"
  },
  {
   "cell_type": "markdown",
   "source": [
    "# Дополнительная часть (необязательная)\n",
    "Функция из обязательной части задания должна быть расширена следующим образом:\n",
    "\n",
    "кроме списка ключевых слов для поиска необходимо объявить параметр с количеством страниц поисковой выдачи. Т.е. при передаче в функцию аргумента 4 необходимо получить материалы с первых 4 страниц результатов;\n",
    "в датафрейме должны быть столбцы с полным текстом найденных материалов и количеством лайков:\n",
    "<дата> - <заголовок> - <ссылка на материал> - <текст материала> - <количество лайков>\n",
    "ПРИМЕЧАНИЕ\n",
    "Домашнее задание сдается ссылкой Google Colab. Не сможем проверить или помочь, если вы пришлете:\n"
   ],
   "metadata": {
    "collapsed": false
   },
   "id": "e5923e7b4b972ff2"
  },
  {
   "cell_type": "code",
   "execution_count": 10,
   "outputs": [
    {
     "data": {
      "text/plain": "                                    link        date  \\\n0   https://habr.com/ru/articles/226641/  2014-06-18   \n1   https://habr.com/ru/articles/228187/  2014-06-30   \n2   https://habr.com/ru/articles/231323/  2014-07-28   \n3   https://habr.com/ru/articles/232879/  2014-08-11   \n4   https://habr.com/ru/articles/236757/  2014-09-14   \n..                                   ...         ...   \n75      https://habr.com/ru/news/768702/  2023-10-20   \n76      https://habr.com/ru/news/772872/  2023-11-09   \n77      https://habr.com/ru/news/775270/  2023-11-21   \n78      https://habr.com/ru/news/778926/  2023-12-06   \n79  https://habr.com/ru/specials/344806/  2017-12-25   \n\n                                                title likes  \\\n0   Обзор наиболее интересных материалов по анализ...   +19   \n1   Обзор наиболее интересных материалов по анализ...   +24   \n2   Обзор наиболее интересных материалов по анализ...   +20   \n3   Обзор наиболее интересных материалов по анализ...   +23   \n4   Обзор наиболее интересных материалов по анализ...   +25   \n..                                                ...   ...   \n75  Автор курсов по Python и Pandas жалуется на ве...   +13   \n76  Alchemer совместно с JetBrains и Python Softwa...    +3   \n77  Исследование: ChatGPT работает лучше на Julia,...     0   \n78  «Яндекс» открыл новую площадку Школы анализа д...    +6   \n79  Новый подход к спортивному анализу данных: как...   +21   \n\n                                                 text  \n0   \\r\\nДанный выпуск дайджеста наиболее интересны...  \n1   \\r\\nДанный выпуск обзора наиболее интересных м...  \n2   \\r\\nВ очередном выпуске обзора наиболее интере...  \n3   \\r\\nПредставляю вашему вниманию очередной выпу...  \n4   \\r\\nПредставляю вашему вниманию очередной выпу...  \n..                                                ...  \n75  \\nDALL-E 3\\n\\r\\nПреподаватель языка Python Рев...  \n76  Alchemer совместно с JetBrains и Python Softwa...  \n77  Исследователь из Массачусетского технологическ...  \n78  «Яндекс» открыл в Санкт‑Петербурге пространств...  \n79  Специалистам по data science сейчас есть где р...  \n\n[80 rows x 5 columns]",
      "text/html": "<div>\n<style scoped>\n    .dataframe tbody tr th:only-of-type {\n        vertical-align: middle;\n    }\n\n    .dataframe tbody tr th {\n        vertical-align: top;\n    }\n\n    .dataframe thead th {\n        text-align: right;\n    }\n</style>\n<table border=\"1\" class=\"dataframe\">\n  <thead>\n    <tr style=\"text-align: right;\">\n      <th></th>\n      <th>link</th>\n      <th>date</th>\n      <th>title</th>\n      <th>likes</th>\n      <th>text</th>\n    </tr>\n  </thead>\n  <tbody>\n    <tr>\n      <th>0</th>\n      <td>https://habr.com/ru/articles/226641/</td>\n      <td>2014-06-18</td>\n      <td>Обзор наиболее интересных материалов по анализ...</td>\n      <td>+19</td>\n      <td>\\r\\nДанный выпуск дайджеста наиболее интересны...</td>\n    </tr>\n    <tr>\n      <th>1</th>\n      <td>https://habr.com/ru/articles/228187/</td>\n      <td>2014-06-30</td>\n      <td>Обзор наиболее интересных материалов по анализ...</td>\n      <td>+24</td>\n      <td>\\r\\nДанный выпуск обзора наиболее интересных м...</td>\n    </tr>\n    <tr>\n      <th>2</th>\n      <td>https://habr.com/ru/articles/231323/</td>\n      <td>2014-07-28</td>\n      <td>Обзор наиболее интересных материалов по анализ...</td>\n      <td>+20</td>\n      <td>\\r\\nВ очередном выпуске обзора наиболее интере...</td>\n    </tr>\n    <tr>\n      <th>3</th>\n      <td>https://habr.com/ru/articles/232879/</td>\n      <td>2014-08-11</td>\n      <td>Обзор наиболее интересных материалов по анализ...</td>\n      <td>+23</td>\n      <td>\\r\\nПредставляю вашему вниманию очередной выпу...</td>\n    </tr>\n    <tr>\n      <th>4</th>\n      <td>https://habr.com/ru/articles/236757/</td>\n      <td>2014-09-14</td>\n      <td>Обзор наиболее интересных материалов по анализ...</td>\n      <td>+25</td>\n      <td>\\r\\nПредставляю вашему вниманию очередной выпу...</td>\n    </tr>\n    <tr>\n      <th>...</th>\n      <td>...</td>\n      <td>...</td>\n      <td>...</td>\n      <td>...</td>\n      <td>...</td>\n    </tr>\n    <tr>\n      <th>75</th>\n      <td>https://habr.com/ru/news/768702/</td>\n      <td>2023-10-20</td>\n      <td>Автор курсов по Python и Pandas жалуется на ве...</td>\n      <td>+13</td>\n      <td>\\nDALL-E 3\\n\\r\\nПреподаватель языка Python Рев...</td>\n    </tr>\n    <tr>\n      <th>76</th>\n      <td>https://habr.com/ru/news/772872/</td>\n      <td>2023-11-09</td>\n      <td>Alchemer совместно с JetBrains и Python Softwa...</td>\n      <td>+3</td>\n      <td>Alchemer совместно с JetBrains и Python Softwa...</td>\n    </tr>\n    <tr>\n      <th>77</th>\n      <td>https://habr.com/ru/news/775270/</td>\n      <td>2023-11-21</td>\n      <td>Исследование: ChatGPT работает лучше на Julia,...</td>\n      <td>0</td>\n      <td>Исследователь из Массачусетского технологическ...</td>\n    </tr>\n    <tr>\n      <th>78</th>\n      <td>https://habr.com/ru/news/778926/</td>\n      <td>2023-12-06</td>\n      <td>«Яндекс» открыл новую площадку Школы анализа д...</td>\n      <td>+6</td>\n      <td>«Яндекс» открыл в Санкт‑Петербурге пространств...</td>\n    </tr>\n    <tr>\n      <th>79</th>\n      <td>https://habr.com/ru/specials/344806/</td>\n      <td>2017-12-25</td>\n      <td>Новый подход к спортивному анализу данных: как...</td>\n      <td>+21</td>\n      <td>Специалистам по data science сейчас есть где р...</td>\n    </tr>\n  </tbody>\n</table>\n<p>80 rows × 5 columns</p>\n</div>"
     },
     "execution_count": 10,
     "metadata": {},
     "output_type": "execute_result"
    }
   ],
   "source": [
    "\n",
    "\n",
    "def search_habr (query, pages=1):\n",
    "    habr_articles = pd.DataFrame()\n",
    "    url = 'https://habr.com/ru/search/'\n",
    "    pre_link_news = 'https://habr.com'\n",
    "    for q in query:\n",
    "        params = {'q': q, 'target_type': 'posts', 'order': 'relevance'}\n",
    "        for i in range(1, pages+1):\n",
    "            url_ = url\n",
    "            if i > 1:\n",
    "                url_ = url + f'page{i}'\n",
    "            req = requests.get(url_, params=params).text\n",
    "            time.sleep(0.3)\n",
    "            soup = BeautifulSoup(req)\n",
    "            articles = soup.find_all('article', class_='tm-articles-list__item')\n",
    "            for i, article in enumerate(articles):\n",
    "                if article.find('a', 'tm-title__link'):\n",
    "                    title = article.find('a', 'tm-title__link').text\n",
    "                else:\n",
    "                    title = article.find('h2', 'tm-megapost-snippet__title').text\n",
    "                date = article.find('time').get('title')\n",
    "                if article.find('a', 'tm-title__link'):\n",
    "                    link = pre_link_news + article.find('a', 'tm-title__link').get('href')\n",
    "                else:\n",
    "                    link = pre_link_news + article.find('a', 'tm-megapost-snippet__link').get('href')\n",
    "                likes = article.find('span', 'tm-votes-meter__value').text\n",
    "                req_full = requests.get(link).text\n",
    "                time.sleep(0.3)\n",
    "                soup_full = BeautifulSoup(req_full)\n",
    "                try:\n",
    "                    if soup_full.find('div', 'article-formatted-body'):\n",
    "                        text_full = soup_full.find('div', 'article-formatted-body').text\n",
    "                    else:\n",
    "                        text_full = \" \".join(soup_full.find('div', 't-records').text.split())\n",
    "                except:\n",
    "                    text_full = None \n",
    "                row = {'date': date, 'title': title, 'link': link, 'likes': likes, 'text': text_full}\n",
    "                habr_articles = pd.concat([habr_articles, pd.DataFrame([row])])\n",
    "    return habr_articles.groupby('link').max().reset_index()\n",
    "\n",
    "search_habr(['python', 'анализ данных'], 2)\n"
   ],
   "metadata": {
    "collapsed": false,
    "ExecuteTime": {
     "end_time": "2023-12-12T17:44:29.024428800Z",
     "start_time": "2023-12-12T17:43:03.296216Z"
    }
   },
   "id": "f7d9de51378f7165"
  }
 ],
 "metadata": {
  "kernelspec": {
   "display_name": "Python 3",
   "language": "python",
   "name": "python3"
  },
  "language_info": {
   "codemirror_mode": {
    "name": "ipython",
    "version": 2
   },
   "file_extension": ".py",
   "mimetype": "text/x-python",
   "name": "python",
   "nbconvert_exporter": "python",
   "pygments_lexer": "ipython2",
   "version": "2.7.6"
  }
 },
 "nbformat": 4,
 "nbformat_minor": 5
}
