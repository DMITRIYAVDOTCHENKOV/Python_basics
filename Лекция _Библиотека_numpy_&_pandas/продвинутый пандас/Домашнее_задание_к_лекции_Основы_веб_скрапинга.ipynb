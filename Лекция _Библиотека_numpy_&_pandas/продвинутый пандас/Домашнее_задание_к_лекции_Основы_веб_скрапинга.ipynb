{
 "cells": [
  {
   "cell_type": "markdown",
   "source": [
    "# Обязательная часть\n",
    "Вам необходимо написать функцию, которая будет основана на поиске по сайту habr.com. Функция в качестве параметра должна принимать список запросов для поиска (например, ['python', 'анализ данных']) и на основе материалов, попавших в результаты поиска по каждому запросу, возвращать датафрейм вида:\n",
    "\n",
    "<дата> - <заголовок> - <ссылка на материал>\n",
    "В рамках задания предполагается работа только с одной (первой) страницей результатов поисковой выдачи для каждого запроса. Материалы в датафрейме не должны дублироваться, если они попадали в результаты поиска для нескольких запросов из списка.\n",
    "\n",
    "# Дополнительная часть (необязательная)\n",
    "Функция из обязательной части задания должна быть расширена следующим образом:\n",
    "\n",
    "кроме списка ключевых слов для поиска необходимо объявить параметр с количеством страниц поисковой выдачи. Т.е. при передаче в функцию аргумента 4 необходимо получить материалы с первых 4 страниц результатов;\n",
    "в датафрейме должны быть столбцы с полным текстом найденных материалов и количеством лайков:\n",
    "<дата> - <заголовок> - <ссылка на материал> - <текст материала> - <количество лайков>\n",
    "ПРИМЕЧАНИЕ\n",
    "Домашнее задание сдается ссылкой Google Colab. Не сможем проверить или помочь, если вы пришлете:\n",
    "\n",
    "файлы;\n",
    "архивы;\n",
    "скриншоты кода.\n",
    "Все обсуждения и консультации по выполнению домашнего задания ведутся только на соответствующем канале в Discord.\n",
    "\n",
    "Как правильно задавать вопросы аспирантам, преподавателям и коллегам?\n",
    "Прежде чем задать вопрос необходимо попробовать найти ответ самому в интернете. Навык самостоятельного поиска информации – один из важнейших, и каждый практикующий специалист любого уровня это делает каждый день.\n",
    "\n",
    "Любой вопрос должен быть сформулирован по алгоритму:\n",
    "\n",
    "Что я делаю?\n",
    "Какого результата я ожидаю?\n",
    "Как фактический результат отличается от ожидаемого?\n",
    "Что я уже попробовал сделать, чтобы исправить проблему?\n",
    "По возможности, прикрепляйте к вопросу скриншоты, либо ссылки на код. Оставляйте только проблемный и воспроизводимый участок кода, все решение выкладывать не допускается."
   ],
   "metadata": {
    "collapsed": false
   },
   "id": "c4a59fc7abdc0664"
  },
  {
   "cell_type": "code",
   "execution_count": 69,
   "outputs": [],
   "source": [
    "import requests\n",
    "from bs4 import BeautifulSoup\n",
    "import pandas as pd"
   ],
   "metadata": {
    "collapsed": false,
    "ExecuteTime": {
     "end_time": "2023-12-02T08:37:27.501269100Z",
     "start_time": "2023-12-02T08:37:27.494641200Z"
    }
   },
   "id": "7b7f710676976abe"
  },
  {
   "cell_type": "code",
   "execution_count": 88,
   "id": "initial_id",
   "metadata": {
    "collapsed": true,
    "ExecuteTime": {
     "end_time": "2023-12-02T09:03:08.351887700Z",
     "start_time": "2023-12-02T09:03:05.817045400Z"
    }
   },
   "outputs": [
    {
     "data": {
      "text/plain": "                     date                                              title  \\\n0   30  июн  2021 в 09:00  Зачем инженеру эксплуатации знать Python: три ...   \n1       20  ноя   в 12:01  Две мощных возможности Python, упрощающие код ...   \n2   19  янв  2022 в 09:00            Пишем свои модули для Ansible на Python   \n3       17  ноя   в 09:23  Разработка алгоритмов обработки данных в реаль...   \n4       27  ноя   в 08:45  Make It Right! Максимум пользы, минимум пробле...   \n5       20  ноя   в 11:10  Время изменений: депрекация datetime.utcnow() ...   \n6       29  ноя   в 11:00  Вероятно, вы неправильно используете метод __i...   \n7   21  апр  2020 в 18:35  Вышел Python 2.7.18, последний релиз ветки Pyt...   \n8       23  ноя   в 13:18  Создание фреймворка автоматизации на Python с ...   \n9       17  ноя   в 13:22     Асинхронный python без головной боли (часть 3)   \n10   4  дек  2020 в 21:03  Python как компилируемый статически типизирова...   \n11      23  авг   в 20:26  Разработка RESTful API на Python с помощью HappyX   \n12      19  ноя   в 14:05             Змеиная наука: Химия в Python, часть 1   \n13      19  сен   в 07:42  Microsoft представила дополнение Python Editor...   \n14       9  ноя   в 14:05  Alchemer совместно с JetBrains и Python Softwa...   \n15   3  мар  2020 в 13:22  В начале этого года Python сместил Java и стал...   \n16      29  ноя   в 15:09                 Профилирование асинхронного Python   \n17      21  ноя   в 17:13  Внедрение Автоматизации в Проект с Python: Шаг...   \n18      26  окт   в 20:57  “Ну и долго мне ещё до магазина?” Или пара сло...   \n19      22  авг   в 20:14                  Microsoft добавила Python в Excel   \n20   8  фев  2018 в 13:34  7 бесплатных курсов по Data Science для начина...   \n21  11  мар  2021 в 15:57  Как мы сделали первый Data Science Акселератор...   \n22      27  ноя   в 10:30  Из пенсионного фонда в Data Science: как я ушл...   \n23      23  ноя   в 15:58  В AgroCode Hack и AgroCode Data Science Cup пр...   \n24  26  авг  2019 в 15:43  Moscow Data Science Major August 2019: програм...   \n25      16  янв   в 15:09    Новый сезон про Data Science уже в подкасте ВТБ   \n26      27  ноя   в 11:56  Приглашаем на форсайт-сессию «Искусственный ин...   \n27      26  мая   в 17:42  Материалы с нашего первого X5 Data Science Meetup   \n28      19  июн   в 15:11    Приглашаем на наш второй X5 Data Science Meetup   \n29   3  окт  2020 в 12:45           Data Fest: трек МегаФона по data science   \n30      22  ноя   в 16:08  Новые чипы от Microsoft, Git для аналитиков и ...   \n31  24  окт  2021 в 18:46                           Citymobil Data Meetup №3   \n32  15  дек  2021 в 20:17  МКБ подвел итоги первого хакатона для специали...   \n33  26  мая  2020 в 12:14                               Квиз, плиз! BIG DATA   \n34       2  ноя   в 16:13  Приглашаем на ежегодный чемпионат для студенто...   \n35  29  июл  2022 в 20:09  Data Science Meet Up #2: LTV, Uplift, совершен...   \n36  27  апр  2021 в 15:45        Соревнования по Data Science от OTUS и КРОК   \n37  25  фев  2020 в 14:30  29 февраля в ЦДП состоится X5 RetailHero: как ...   \n38  18  ноя  2021 в 15:55                           Citymobil Data Meetup №4   \n39  20  дек  2021 в 16:19                              Citymobil Data Meetup   \n\n                                               link category  \n0              /ru/companies/slurm/articles/563802/       []  \n1         /ru/companies/wunderfund/articles/775052/       []  \n2              /ru/companies/slurm/articles/646147/       []  \n3             /ru/companies/mvideo/articles/773420/       []  \n4       /ru/companies/gazprommedia/articles/772888/       []  \n5                              /ru/articles/775024/       []  \n6              /ru/companies/first/articles/775656/       []  \n7                                  /ru/news/498364/       []  \n8                              /ru/articles/775898/       []  \n9                              /ru/articles/774582/       []  \n10                                 /ru/news/531402/       []  \n11                             /ru/articles/756548/       []  \n12                             /ru/articles/774918/       []  \n13                                 /ru/news/761862/       []  \n14                                 /ru/news/772872/       []  \n15               /ru/companies/itsumma/news/490834/       []  \n16                             /ru/articles/777232/       []  \n17                             /ru/articles/775440/       []  \n18                             /ru/articles/770216/       []  \n19                                 /ru/news/756266/       []  \n20        /ru/companies/icanchoose/articles/348570/       []  \n21          /ru/companies/skillfactory/news/546090/       []  \n22  /ru/companies/yandex_praktikum/articles/775710/       []  \n23                  /ru/companies/rshb/news/775956/       []  \n24                    /ru/companies/vk/news/465035/       []  \n25                   /ru/companies/vtb/news/710884/       []  \n26               /ru/companies/usetech/news/776632/       []  \n27                /ru/companies/X5Tech/news/737904/       []  \n28                /ru/companies/X5Tech/news/742596/       []  \n29               /ru/companies/megafon/news/521886/       []  \n30          /ru/companies/selectel/articles/775418/       []  \n31             /ru/companies/citymobil/news/585214/       []  \n32                   /ru/companies/mkb/news/595849/       []  \n33               /ru/companies/megafon/news/503870/       []  \n34                  /ru/companies/rshb/news/771538/       []  \n35                  /ru/companies/alfa/news/679928/       []  \n36                  /ru/companies/otus/news/554690/       []  \n37                                 /ru/news/489866/       []  \n38             /ru/companies/citymobil/news/590047/       []  \n39             /ru/companies/citymobil/news/596707/       []  ",
      "text/html": "<div>\n<style scoped>\n    .dataframe tbody tr th:only-of-type {\n        vertical-align: middle;\n    }\n\n    .dataframe tbody tr th {\n        vertical-align: top;\n    }\n\n    .dataframe thead th {\n        text-align: right;\n    }\n</style>\n<table border=\"1\" class=\"dataframe\">\n  <thead>\n    <tr style=\"text-align: right;\">\n      <th></th>\n      <th>date</th>\n      <th>title</th>\n      <th>link</th>\n      <th>category</th>\n    </tr>\n  </thead>\n  <tbody>\n    <tr>\n      <th>0</th>\n      <td>30  июн  2021 в 09:00</td>\n      <td>Зачем инженеру эксплуатации знать Python: три ...</td>\n      <td>/ru/companies/slurm/articles/563802/</td>\n      <td>[]</td>\n    </tr>\n    <tr>\n      <th>1</th>\n      <td>20  ноя   в 12:01</td>\n      <td>Две мощных возможности Python, упрощающие код ...</td>\n      <td>/ru/companies/wunderfund/articles/775052/</td>\n      <td>[]</td>\n    </tr>\n    <tr>\n      <th>2</th>\n      <td>19  янв  2022 в 09:00</td>\n      <td>Пишем свои модули для Ansible на Python</td>\n      <td>/ru/companies/slurm/articles/646147/</td>\n      <td>[]</td>\n    </tr>\n    <tr>\n      <th>3</th>\n      <td>17  ноя   в 09:23</td>\n      <td>Разработка алгоритмов обработки данных в реаль...</td>\n      <td>/ru/companies/mvideo/articles/773420/</td>\n      <td>[]</td>\n    </tr>\n    <tr>\n      <th>4</th>\n      <td>27  ноя   в 08:45</td>\n      <td>Make It Right! Максимум пользы, минимум пробле...</td>\n      <td>/ru/companies/gazprommedia/articles/772888/</td>\n      <td>[]</td>\n    </tr>\n    <tr>\n      <th>5</th>\n      <td>20  ноя   в 11:10</td>\n      <td>Время изменений: депрекация datetime.utcnow() ...</td>\n      <td>/ru/articles/775024/</td>\n      <td>[]</td>\n    </tr>\n    <tr>\n      <th>6</th>\n      <td>29  ноя   в 11:00</td>\n      <td>Вероятно, вы неправильно используете метод __i...</td>\n      <td>/ru/companies/first/articles/775656/</td>\n      <td>[]</td>\n    </tr>\n    <tr>\n      <th>7</th>\n      <td>21  апр  2020 в 18:35</td>\n      <td>Вышел Python 2.7.18, последний релиз ветки Pyt...</td>\n      <td>/ru/news/498364/</td>\n      <td>[]</td>\n    </tr>\n    <tr>\n      <th>8</th>\n      <td>23  ноя   в 13:18</td>\n      <td>Создание фреймворка автоматизации на Python с ...</td>\n      <td>/ru/articles/775898/</td>\n      <td>[]</td>\n    </tr>\n    <tr>\n      <th>9</th>\n      <td>17  ноя   в 13:22</td>\n      <td>Асинхронный python без головной боли (часть 3)</td>\n      <td>/ru/articles/774582/</td>\n      <td>[]</td>\n    </tr>\n    <tr>\n      <th>10</th>\n      <td>4  дек  2020 в 21:03</td>\n      <td>Python как компилируемый статически типизирова...</td>\n      <td>/ru/news/531402/</td>\n      <td>[]</td>\n    </tr>\n    <tr>\n      <th>11</th>\n      <td>23  авг   в 20:26</td>\n      <td>Разработка RESTful API на Python с помощью HappyX</td>\n      <td>/ru/articles/756548/</td>\n      <td>[]</td>\n    </tr>\n    <tr>\n      <th>12</th>\n      <td>19  ноя   в 14:05</td>\n      <td>Змеиная наука: Химия в Python, часть 1</td>\n      <td>/ru/articles/774918/</td>\n      <td>[]</td>\n    </tr>\n    <tr>\n      <th>13</th>\n      <td>19  сен   в 07:42</td>\n      <td>Microsoft представила дополнение Python Editor...</td>\n      <td>/ru/news/761862/</td>\n      <td>[]</td>\n    </tr>\n    <tr>\n      <th>14</th>\n      <td>9  ноя   в 14:05</td>\n      <td>Alchemer совместно с JetBrains и Python Softwa...</td>\n      <td>/ru/news/772872/</td>\n      <td>[]</td>\n    </tr>\n    <tr>\n      <th>15</th>\n      <td>3  мар  2020 в 13:22</td>\n      <td>В начале этого года Python сместил Java и стал...</td>\n      <td>/ru/companies/itsumma/news/490834/</td>\n      <td>[]</td>\n    </tr>\n    <tr>\n      <th>16</th>\n      <td>29  ноя   в 15:09</td>\n      <td>Профилирование асинхронного Python</td>\n      <td>/ru/articles/777232/</td>\n      <td>[]</td>\n    </tr>\n    <tr>\n      <th>17</th>\n      <td>21  ноя   в 17:13</td>\n      <td>Внедрение Автоматизации в Проект с Python: Шаг...</td>\n      <td>/ru/articles/775440/</td>\n      <td>[]</td>\n    </tr>\n    <tr>\n      <th>18</th>\n      <td>26  окт   в 20:57</td>\n      <td>“Ну и долго мне ещё до магазина?” Или пара сло...</td>\n      <td>/ru/articles/770216/</td>\n      <td>[]</td>\n    </tr>\n    <tr>\n      <th>19</th>\n      <td>22  авг   в 20:14</td>\n      <td>Microsoft добавила Python в Excel</td>\n      <td>/ru/news/756266/</td>\n      <td>[]</td>\n    </tr>\n    <tr>\n      <th>20</th>\n      <td>8  фев  2018 в 13:34</td>\n      <td>7 бесплатных курсов по Data Science для начина...</td>\n      <td>/ru/companies/icanchoose/articles/348570/</td>\n      <td>[]</td>\n    </tr>\n    <tr>\n      <th>21</th>\n      <td>11  мар  2021 в 15:57</td>\n      <td>Как мы сделали первый Data Science Акселератор...</td>\n      <td>/ru/companies/skillfactory/news/546090/</td>\n      <td>[]</td>\n    </tr>\n    <tr>\n      <th>22</th>\n      <td>27  ноя   в 10:30</td>\n      <td>Из пенсионного фонда в Data Science: как я ушл...</td>\n      <td>/ru/companies/yandex_praktikum/articles/775710/</td>\n      <td>[]</td>\n    </tr>\n    <tr>\n      <th>23</th>\n      <td>23  ноя   в 15:58</td>\n      <td>В AgroCode Hack и AgroCode Data Science Cup пр...</td>\n      <td>/ru/companies/rshb/news/775956/</td>\n      <td>[]</td>\n    </tr>\n    <tr>\n      <th>24</th>\n      <td>26  авг  2019 в 15:43</td>\n      <td>Moscow Data Science Major August 2019: програм...</td>\n      <td>/ru/companies/vk/news/465035/</td>\n      <td>[]</td>\n    </tr>\n    <tr>\n      <th>25</th>\n      <td>16  янв   в 15:09</td>\n      <td>Новый сезон про Data Science уже в подкасте ВТБ</td>\n      <td>/ru/companies/vtb/news/710884/</td>\n      <td>[]</td>\n    </tr>\n    <tr>\n      <th>26</th>\n      <td>27  ноя   в 11:56</td>\n      <td>Приглашаем на форсайт-сессию «Искусственный ин...</td>\n      <td>/ru/companies/usetech/news/776632/</td>\n      <td>[]</td>\n    </tr>\n    <tr>\n      <th>27</th>\n      <td>26  мая   в 17:42</td>\n      <td>Материалы с нашего первого X5 Data Science Meetup</td>\n      <td>/ru/companies/X5Tech/news/737904/</td>\n      <td>[]</td>\n    </tr>\n    <tr>\n      <th>28</th>\n      <td>19  июн   в 15:11</td>\n      <td>Приглашаем на наш второй X5 Data Science Meetup</td>\n      <td>/ru/companies/X5Tech/news/742596/</td>\n      <td>[]</td>\n    </tr>\n    <tr>\n      <th>29</th>\n      <td>3  окт  2020 в 12:45</td>\n      <td>Data Fest: трек МегаФона по data science</td>\n      <td>/ru/companies/megafon/news/521886/</td>\n      <td>[]</td>\n    </tr>\n    <tr>\n      <th>30</th>\n      <td>22  ноя   в 16:08</td>\n      <td>Новые чипы от Microsoft, Git для аналитиков и ...</td>\n      <td>/ru/companies/selectel/articles/775418/</td>\n      <td>[]</td>\n    </tr>\n    <tr>\n      <th>31</th>\n      <td>24  окт  2021 в 18:46</td>\n      <td>Citymobil Data Meetup №3</td>\n      <td>/ru/companies/citymobil/news/585214/</td>\n      <td>[]</td>\n    </tr>\n    <tr>\n      <th>32</th>\n      <td>15  дек  2021 в 20:17</td>\n      <td>МКБ подвел итоги первого хакатона для специали...</td>\n      <td>/ru/companies/mkb/news/595849/</td>\n      <td>[]</td>\n    </tr>\n    <tr>\n      <th>33</th>\n      <td>26  мая  2020 в 12:14</td>\n      <td>Квиз, плиз! BIG DATA</td>\n      <td>/ru/companies/megafon/news/503870/</td>\n      <td>[]</td>\n    </tr>\n    <tr>\n      <th>34</th>\n      <td>2  ноя   в 16:13</td>\n      <td>Приглашаем на ежегодный чемпионат для студенто...</td>\n      <td>/ru/companies/rshb/news/771538/</td>\n      <td>[]</td>\n    </tr>\n    <tr>\n      <th>35</th>\n      <td>29  июл  2022 в 20:09</td>\n      <td>Data Science Meet Up #2: LTV, Uplift, совершен...</td>\n      <td>/ru/companies/alfa/news/679928/</td>\n      <td>[]</td>\n    </tr>\n    <tr>\n      <th>36</th>\n      <td>27  апр  2021 в 15:45</td>\n      <td>Соревнования по Data Science от OTUS и КРОК</td>\n      <td>/ru/companies/otus/news/554690/</td>\n      <td>[]</td>\n    </tr>\n    <tr>\n      <th>37</th>\n      <td>25  фев  2020 в 14:30</td>\n      <td>29 февраля в ЦДП состоится X5 RetailHero: как ...</td>\n      <td>/ru/news/489866/</td>\n      <td>[]</td>\n    </tr>\n    <tr>\n      <th>38</th>\n      <td>18  ноя  2021 в 15:55</td>\n      <td>Citymobil Data Meetup №4</td>\n      <td>/ru/companies/citymobil/news/590047/</td>\n      <td>[]</td>\n    </tr>\n    <tr>\n      <th>39</th>\n      <td>20  дек  2021 в 16:19</td>\n      <td>Citymobil Data Meetup</td>\n      <td>/ru/companies/citymobil/news/596707/</td>\n      <td>[]</td>\n    </tr>\n  </tbody>\n</table>\n</div>"
     },
     "execution_count": 88,
     "metadata": {},
     "output_type": "execute_result"
    }
   ],
   "source": [
    "import time\n",
    "\n",
    "\n",
    "def search_habr(query_list):\n",
    "    habr_posts = pd.DataFrame()\n",
    "    URL = 'https://habr.com/ru/search/'\n",
    "    for q in query_list:\n",
    "        params = {\n",
    "            'q': q\n",
    "        }\n",
    "        req = requests.get(URL, params=params)\n",
    "        time.sleep(0.3)\n",
    "        soup = BeautifulSoup(req.text)\n",
    "        articles = soup.find_all('article', class_='tm-articles-list__item')\n",
    "        for article in articles:\n",
    "            title = article.find('h2', class_='tm-title tm-title_h2').text\n",
    "            link = article.find('h2', class_='tm-title tm-title_h2').find('a').get('href')\n",
    "            date = article.find('span', class_='tm-article-datetime-published').text\n",
    "            categories = article.find_all('a', class_='tm-publication-hub__link')\n",
    "            category_list = [category.text for category in categories] if categories else []\n",
    "            if not category_list:\n",
    "                categories = article.find_all('div', class_='tm-publication-hubs__container')\n",
    "                category_list = [category.text for category in categories] if categories else []\n",
    "            row = {'date': date, 'title': title, 'link': link, 'category': category_list}\n",
    "            habr_posts = pd.concat([habr_posts, pd.DataFrame([row])])\n",
    "    return habr_posts.reset_index(drop=True)\n",
    "\n",
    "\n",
    "search_habr(['python', 'data science'])\n",
    "\n",
    "\n"
   ]
  },
  {
   "cell_type": "code",
   "execution_count": 92,
   "outputs": [
    {
     "ename": "KeyboardInterrupt",
     "evalue": "",
     "output_type": "error",
     "traceback": [
      "\u001B[1;31m---------------------------------------------------------------------------\u001B[0m",
      "\u001B[1;31mKeyboardInterrupt\u001B[0m                         Traceback (most recent call last)",
      "Cell \u001B[1;32mIn[92], line 54\u001B[0m\n\u001B[0;32m     50\u001B[0m                                     habr_posts \u001B[38;5;241m=\u001B[39m pd\u001B[38;5;241m.\u001B[39mconcat([habr_posts, pd\u001B[38;5;241m.\u001B[39mDataFrame([row])])\n\u001B[0;32m     51\u001B[0m     \u001B[38;5;28;01mreturn\u001B[39;00m habr_posts\u001B[38;5;241m.\u001B[39mreset_index(drop\u001B[38;5;241m=\u001B[39m\u001B[38;5;28;01mTrue\u001B[39;00m)\n\u001B[1;32m---> 54\u001B[0m search_habr([\u001B[38;5;124m'\u001B[39m\u001B[38;5;124mpython\u001B[39m\u001B[38;5;124m'\u001B[39m, \u001B[38;5;124m'\u001B[39m\u001B[38;5;124mdata science\u001B[39m\u001B[38;5;124m'\u001B[39m], \u001B[38;5;241m4\u001B[39m)\n",
      "Cell \u001B[1;32mIn[92], line 34\u001B[0m, in \u001B[0;36msearch_habr\u001B[1;34m(query_list, num_pages)\u001B[0m\n\u001B[0;32m     32\u001B[0m \u001B[38;5;28;01mif\u001B[39;00m likes_element:\n\u001B[0;32m     33\u001B[0m     likes \u001B[38;5;241m=\u001B[39m likes_element\u001B[38;5;241m.\u001B[39mtext\n\u001B[1;32m---> 34\u001B[0m     req_post \u001B[38;5;241m=\u001B[39m requests\u001B[38;5;241m.\u001B[39mget(link)\n\u001B[0;32m     35\u001B[0m     time\u001B[38;5;241m.\u001B[39msleep(\u001B[38;5;241m0.3\u001B[39m)\n\u001B[0;32m     36\u001B[0m     soup_post \u001B[38;5;241m=\u001B[39m BeautifulSoup(req_post\u001B[38;5;241m.\u001B[39mtext)\n",
      "File \u001B[1;32m~\\anaconda3\\envs\\pythonProject\\Lib\\site-packages\\requests\\api.py:73\u001B[0m, in \u001B[0;36mget\u001B[1;34m(url, params, **kwargs)\u001B[0m\n\u001B[0;32m     62\u001B[0m \u001B[38;5;28;01mdef\u001B[39;00m \u001B[38;5;21mget\u001B[39m(url, params\u001B[38;5;241m=\u001B[39m\u001B[38;5;28;01mNone\u001B[39;00m, \u001B[38;5;241m*\u001B[39m\u001B[38;5;241m*\u001B[39mkwargs):\n\u001B[0;32m     63\u001B[0m \u001B[38;5;250m    \u001B[39m\u001B[38;5;124mr\u001B[39m\u001B[38;5;124;03m\"\"\"Sends a GET request.\u001B[39;00m\n\u001B[0;32m     64\u001B[0m \n\u001B[0;32m     65\u001B[0m \u001B[38;5;124;03m    :param url: URL for the new :class:`Request` object.\u001B[39;00m\n\u001B[1;32m   (...)\u001B[0m\n\u001B[0;32m     70\u001B[0m \u001B[38;5;124;03m    :rtype: requests.Response\u001B[39;00m\n\u001B[0;32m     71\u001B[0m \u001B[38;5;124;03m    \"\"\"\u001B[39;00m\n\u001B[1;32m---> 73\u001B[0m     \u001B[38;5;28;01mreturn\u001B[39;00m request(\u001B[38;5;124m\"\u001B[39m\u001B[38;5;124mget\u001B[39m\u001B[38;5;124m\"\u001B[39m, url, params\u001B[38;5;241m=\u001B[39mparams, \u001B[38;5;241m*\u001B[39m\u001B[38;5;241m*\u001B[39mkwargs)\n",
      "File \u001B[1;32m~\\anaconda3\\envs\\pythonProject\\Lib\\site-packages\\requests\\api.py:59\u001B[0m, in \u001B[0;36mrequest\u001B[1;34m(method, url, **kwargs)\u001B[0m\n\u001B[0;32m     55\u001B[0m \u001B[38;5;66;03m# By using the 'with' statement we are sure the session is closed, thus we\u001B[39;00m\n\u001B[0;32m     56\u001B[0m \u001B[38;5;66;03m# avoid leaving sockets open which can trigger a ResourceWarning in some\u001B[39;00m\n\u001B[0;32m     57\u001B[0m \u001B[38;5;66;03m# cases, and look like a memory leak in others.\u001B[39;00m\n\u001B[0;32m     58\u001B[0m \u001B[38;5;28;01mwith\u001B[39;00m sessions\u001B[38;5;241m.\u001B[39mSession() \u001B[38;5;28;01mas\u001B[39;00m session:\n\u001B[1;32m---> 59\u001B[0m     \u001B[38;5;28;01mreturn\u001B[39;00m session\u001B[38;5;241m.\u001B[39mrequest(method\u001B[38;5;241m=\u001B[39mmethod, url\u001B[38;5;241m=\u001B[39murl, \u001B[38;5;241m*\u001B[39m\u001B[38;5;241m*\u001B[39mkwargs)\n",
      "File \u001B[1;32m~\\anaconda3\\envs\\pythonProject\\Lib\\site-packages\\requests\\sessions.py:589\u001B[0m, in \u001B[0;36mSession.request\u001B[1;34m(self, method, url, params, data, headers, cookies, files, auth, timeout, allow_redirects, proxies, hooks, stream, verify, cert, json)\u001B[0m\n\u001B[0;32m    584\u001B[0m send_kwargs \u001B[38;5;241m=\u001B[39m {\n\u001B[0;32m    585\u001B[0m     \u001B[38;5;124m\"\u001B[39m\u001B[38;5;124mtimeout\u001B[39m\u001B[38;5;124m\"\u001B[39m: timeout,\n\u001B[0;32m    586\u001B[0m     \u001B[38;5;124m\"\u001B[39m\u001B[38;5;124mallow_redirects\u001B[39m\u001B[38;5;124m\"\u001B[39m: allow_redirects,\n\u001B[0;32m    587\u001B[0m }\n\u001B[0;32m    588\u001B[0m send_kwargs\u001B[38;5;241m.\u001B[39mupdate(settings)\n\u001B[1;32m--> 589\u001B[0m resp \u001B[38;5;241m=\u001B[39m \u001B[38;5;28mself\u001B[39m\u001B[38;5;241m.\u001B[39msend(prep, \u001B[38;5;241m*\u001B[39m\u001B[38;5;241m*\u001B[39msend_kwargs)\n\u001B[0;32m    591\u001B[0m \u001B[38;5;28;01mreturn\u001B[39;00m resp\n",
      "File \u001B[1;32m~\\anaconda3\\envs\\pythonProject\\Lib\\site-packages\\requests\\sessions.py:703\u001B[0m, in \u001B[0;36mSession.send\u001B[1;34m(self, request, **kwargs)\u001B[0m\n\u001B[0;32m    700\u001B[0m start \u001B[38;5;241m=\u001B[39m preferred_clock()\n\u001B[0;32m    702\u001B[0m \u001B[38;5;66;03m# Send the request\u001B[39;00m\n\u001B[1;32m--> 703\u001B[0m r \u001B[38;5;241m=\u001B[39m adapter\u001B[38;5;241m.\u001B[39msend(request, \u001B[38;5;241m*\u001B[39m\u001B[38;5;241m*\u001B[39mkwargs)\n\u001B[0;32m    705\u001B[0m \u001B[38;5;66;03m# Total elapsed time of the request (approximately)\u001B[39;00m\n\u001B[0;32m    706\u001B[0m elapsed \u001B[38;5;241m=\u001B[39m preferred_clock() \u001B[38;5;241m-\u001B[39m start\n",
      "File \u001B[1;32m~\\anaconda3\\envs\\pythonProject\\Lib\\site-packages\\requests\\adapters.py:486\u001B[0m, in \u001B[0;36mHTTPAdapter.send\u001B[1;34m(self, request, stream, timeout, verify, cert, proxies)\u001B[0m\n\u001B[0;32m    483\u001B[0m     timeout \u001B[38;5;241m=\u001B[39m TimeoutSauce(connect\u001B[38;5;241m=\u001B[39mtimeout, read\u001B[38;5;241m=\u001B[39mtimeout)\n\u001B[0;32m    485\u001B[0m \u001B[38;5;28;01mtry\u001B[39;00m:\n\u001B[1;32m--> 486\u001B[0m     resp \u001B[38;5;241m=\u001B[39m conn\u001B[38;5;241m.\u001B[39murlopen(\n\u001B[0;32m    487\u001B[0m         method\u001B[38;5;241m=\u001B[39mrequest\u001B[38;5;241m.\u001B[39mmethod,\n\u001B[0;32m    488\u001B[0m         url\u001B[38;5;241m=\u001B[39murl,\n\u001B[0;32m    489\u001B[0m         body\u001B[38;5;241m=\u001B[39mrequest\u001B[38;5;241m.\u001B[39mbody,\n\u001B[0;32m    490\u001B[0m         headers\u001B[38;5;241m=\u001B[39mrequest\u001B[38;5;241m.\u001B[39mheaders,\n\u001B[0;32m    491\u001B[0m         redirect\u001B[38;5;241m=\u001B[39m\u001B[38;5;28;01mFalse\u001B[39;00m,\n\u001B[0;32m    492\u001B[0m         assert_same_host\u001B[38;5;241m=\u001B[39m\u001B[38;5;28;01mFalse\u001B[39;00m,\n\u001B[0;32m    493\u001B[0m         preload_content\u001B[38;5;241m=\u001B[39m\u001B[38;5;28;01mFalse\u001B[39;00m,\n\u001B[0;32m    494\u001B[0m         decode_content\u001B[38;5;241m=\u001B[39m\u001B[38;5;28;01mFalse\u001B[39;00m,\n\u001B[0;32m    495\u001B[0m         retries\u001B[38;5;241m=\u001B[39m\u001B[38;5;28mself\u001B[39m\u001B[38;5;241m.\u001B[39mmax_retries,\n\u001B[0;32m    496\u001B[0m         timeout\u001B[38;5;241m=\u001B[39mtimeout,\n\u001B[0;32m    497\u001B[0m         chunked\u001B[38;5;241m=\u001B[39mchunked,\n\u001B[0;32m    498\u001B[0m     )\n\u001B[0;32m    500\u001B[0m \u001B[38;5;28;01mexcept\u001B[39;00m (ProtocolError, \u001B[38;5;167;01mOSError\u001B[39;00m) \u001B[38;5;28;01mas\u001B[39;00m err:\n\u001B[0;32m    501\u001B[0m     \u001B[38;5;28;01mraise\u001B[39;00m \u001B[38;5;167;01mConnectionError\u001B[39;00m(err, request\u001B[38;5;241m=\u001B[39mrequest)\n",
      "File \u001B[1;32m~\\anaconda3\\envs\\pythonProject\\Lib\\site-packages\\urllib3\\connectionpool.py:714\u001B[0m, in \u001B[0;36mHTTPConnectionPool.urlopen\u001B[1;34m(self, method, url, body, headers, retries, redirect, assert_same_host, timeout, pool_timeout, release_conn, chunked, body_pos, **response_kw)\u001B[0m\n\u001B[0;32m    711\u001B[0m     \u001B[38;5;28mself\u001B[39m\u001B[38;5;241m.\u001B[39m_prepare_proxy(conn)\n\u001B[0;32m    713\u001B[0m \u001B[38;5;66;03m# Make the request on the httplib connection object.\u001B[39;00m\n\u001B[1;32m--> 714\u001B[0m httplib_response \u001B[38;5;241m=\u001B[39m \u001B[38;5;28mself\u001B[39m\u001B[38;5;241m.\u001B[39m_make_request(\n\u001B[0;32m    715\u001B[0m     conn,\n\u001B[0;32m    716\u001B[0m     method,\n\u001B[0;32m    717\u001B[0m     url,\n\u001B[0;32m    718\u001B[0m     timeout\u001B[38;5;241m=\u001B[39mtimeout_obj,\n\u001B[0;32m    719\u001B[0m     body\u001B[38;5;241m=\u001B[39mbody,\n\u001B[0;32m    720\u001B[0m     headers\u001B[38;5;241m=\u001B[39mheaders,\n\u001B[0;32m    721\u001B[0m     chunked\u001B[38;5;241m=\u001B[39mchunked,\n\u001B[0;32m    722\u001B[0m )\n\u001B[0;32m    724\u001B[0m \u001B[38;5;66;03m# If we're going to release the connection in ``finally:``, then\u001B[39;00m\n\u001B[0;32m    725\u001B[0m \u001B[38;5;66;03m# the response doesn't need to know about the connection. Otherwise\u001B[39;00m\n\u001B[0;32m    726\u001B[0m \u001B[38;5;66;03m# it will also try to release it and we'll have a double-release\u001B[39;00m\n\u001B[0;32m    727\u001B[0m \u001B[38;5;66;03m# mess.\u001B[39;00m\n\u001B[0;32m    728\u001B[0m response_conn \u001B[38;5;241m=\u001B[39m conn \u001B[38;5;28;01mif\u001B[39;00m \u001B[38;5;129;01mnot\u001B[39;00m release_conn \u001B[38;5;28;01melse\u001B[39;00m \u001B[38;5;28;01mNone\u001B[39;00m\n",
      "File \u001B[1;32m~\\anaconda3\\envs\\pythonProject\\Lib\\site-packages\\urllib3\\connectionpool.py:403\u001B[0m, in \u001B[0;36mHTTPConnectionPool._make_request\u001B[1;34m(self, conn, method, url, timeout, chunked, **httplib_request_kw)\u001B[0m\n\u001B[0;32m    401\u001B[0m \u001B[38;5;66;03m# Trigger any extra validation we need to do.\u001B[39;00m\n\u001B[0;32m    402\u001B[0m \u001B[38;5;28;01mtry\u001B[39;00m:\n\u001B[1;32m--> 403\u001B[0m     \u001B[38;5;28mself\u001B[39m\u001B[38;5;241m.\u001B[39m_validate_conn(conn)\n\u001B[0;32m    404\u001B[0m \u001B[38;5;28;01mexcept\u001B[39;00m (SocketTimeout, BaseSSLError) \u001B[38;5;28;01mas\u001B[39;00m e:\n\u001B[0;32m    405\u001B[0m     \u001B[38;5;66;03m# Py2 raises this as a BaseSSLError, Py3 raises it as socket timeout.\u001B[39;00m\n\u001B[0;32m    406\u001B[0m     \u001B[38;5;28mself\u001B[39m\u001B[38;5;241m.\u001B[39m_raise_timeout(err\u001B[38;5;241m=\u001B[39me, url\u001B[38;5;241m=\u001B[39murl, timeout_value\u001B[38;5;241m=\u001B[39mconn\u001B[38;5;241m.\u001B[39mtimeout)\n",
      "File \u001B[1;32m~\\anaconda3\\envs\\pythonProject\\Lib\\site-packages\\urllib3\\connectionpool.py:1053\u001B[0m, in \u001B[0;36mHTTPSConnectionPool._validate_conn\u001B[1;34m(self, conn)\u001B[0m\n\u001B[0;32m   1051\u001B[0m \u001B[38;5;66;03m# Force connect early to allow us to validate the connection.\u001B[39;00m\n\u001B[0;32m   1052\u001B[0m \u001B[38;5;28;01mif\u001B[39;00m \u001B[38;5;129;01mnot\u001B[39;00m \u001B[38;5;28mgetattr\u001B[39m(conn, \u001B[38;5;124m\"\u001B[39m\u001B[38;5;124msock\u001B[39m\u001B[38;5;124m\"\u001B[39m, \u001B[38;5;28;01mNone\u001B[39;00m):  \u001B[38;5;66;03m# AppEngine might not have  `.sock`\u001B[39;00m\n\u001B[1;32m-> 1053\u001B[0m     conn\u001B[38;5;241m.\u001B[39mconnect()\n\u001B[0;32m   1055\u001B[0m \u001B[38;5;28;01mif\u001B[39;00m \u001B[38;5;129;01mnot\u001B[39;00m conn\u001B[38;5;241m.\u001B[39mis_verified:\n\u001B[0;32m   1056\u001B[0m     warnings\u001B[38;5;241m.\u001B[39mwarn(\n\u001B[0;32m   1057\u001B[0m         (\n\u001B[0;32m   1058\u001B[0m             \u001B[38;5;124m\"\u001B[39m\u001B[38;5;124mUnverified HTTPS request is being made to host \u001B[39m\u001B[38;5;124m'\u001B[39m\u001B[38;5;132;01m%s\u001B[39;00m\u001B[38;5;124m'\u001B[39m\u001B[38;5;124m. \u001B[39m\u001B[38;5;124m\"\u001B[39m\n\u001B[1;32m   (...)\u001B[0m\n\u001B[0;32m   1063\u001B[0m         InsecureRequestWarning,\n\u001B[0;32m   1064\u001B[0m     )\n",
      "File \u001B[1;32m~\\anaconda3\\envs\\pythonProject\\Lib\\site-packages\\urllib3\\connection.py:419\u001B[0m, in \u001B[0;36mHTTPSConnection.connect\u001B[1;34m(self)\u001B[0m\n\u001B[0;32m    410\u001B[0m \u001B[38;5;28;01mif\u001B[39;00m (\n\u001B[0;32m    411\u001B[0m     \u001B[38;5;129;01mnot\u001B[39;00m \u001B[38;5;28mself\u001B[39m\u001B[38;5;241m.\u001B[39mca_certs\n\u001B[0;32m    412\u001B[0m     \u001B[38;5;129;01mand\u001B[39;00m \u001B[38;5;129;01mnot\u001B[39;00m \u001B[38;5;28mself\u001B[39m\u001B[38;5;241m.\u001B[39mca_cert_dir\n\u001B[1;32m   (...)\u001B[0m\n\u001B[0;32m    415\u001B[0m     \u001B[38;5;129;01mand\u001B[39;00m \u001B[38;5;28mhasattr\u001B[39m(context, \u001B[38;5;124m\"\u001B[39m\u001B[38;5;124mload_default_certs\u001B[39m\u001B[38;5;124m\"\u001B[39m)\n\u001B[0;32m    416\u001B[0m ):\n\u001B[0;32m    417\u001B[0m     context\u001B[38;5;241m.\u001B[39mload_default_certs()\n\u001B[1;32m--> 419\u001B[0m \u001B[38;5;28mself\u001B[39m\u001B[38;5;241m.\u001B[39msock \u001B[38;5;241m=\u001B[39m ssl_wrap_socket(\n\u001B[0;32m    420\u001B[0m     sock\u001B[38;5;241m=\u001B[39mconn,\n\u001B[0;32m    421\u001B[0m     keyfile\u001B[38;5;241m=\u001B[39m\u001B[38;5;28mself\u001B[39m\u001B[38;5;241m.\u001B[39mkey_file,\n\u001B[0;32m    422\u001B[0m     certfile\u001B[38;5;241m=\u001B[39m\u001B[38;5;28mself\u001B[39m\u001B[38;5;241m.\u001B[39mcert_file,\n\u001B[0;32m    423\u001B[0m     key_password\u001B[38;5;241m=\u001B[39m\u001B[38;5;28mself\u001B[39m\u001B[38;5;241m.\u001B[39mkey_password,\n\u001B[0;32m    424\u001B[0m     ca_certs\u001B[38;5;241m=\u001B[39m\u001B[38;5;28mself\u001B[39m\u001B[38;5;241m.\u001B[39mca_certs,\n\u001B[0;32m    425\u001B[0m     ca_cert_dir\u001B[38;5;241m=\u001B[39m\u001B[38;5;28mself\u001B[39m\u001B[38;5;241m.\u001B[39mca_cert_dir,\n\u001B[0;32m    426\u001B[0m     ca_cert_data\u001B[38;5;241m=\u001B[39m\u001B[38;5;28mself\u001B[39m\u001B[38;5;241m.\u001B[39mca_cert_data,\n\u001B[0;32m    427\u001B[0m     server_hostname\u001B[38;5;241m=\u001B[39mserver_hostname,\n\u001B[0;32m    428\u001B[0m     ssl_context\u001B[38;5;241m=\u001B[39mcontext,\n\u001B[0;32m    429\u001B[0m     tls_in_tls\u001B[38;5;241m=\u001B[39mtls_in_tls,\n\u001B[0;32m    430\u001B[0m )\n\u001B[0;32m    432\u001B[0m \u001B[38;5;66;03m# If we're using all defaults and the connection\u001B[39;00m\n\u001B[0;32m    433\u001B[0m \u001B[38;5;66;03m# is TLSv1 or TLSv1.1 we throw a DeprecationWarning\u001B[39;00m\n\u001B[0;32m    434\u001B[0m \u001B[38;5;66;03m# for the host.\u001B[39;00m\n\u001B[0;32m    435\u001B[0m \u001B[38;5;28;01mif\u001B[39;00m (\n\u001B[0;32m    436\u001B[0m     default_ssl_context\n\u001B[0;32m    437\u001B[0m     \u001B[38;5;129;01mand\u001B[39;00m \u001B[38;5;28mself\u001B[39m\u001B[38;5;241m.\u001B[39mssl_version \u001B[38;5;129;01mis\u001B[39;00m \u001B[38;5;28;01mNone\u001B[39;00m\n\u001B[0;32m    438\u001B[0m     \u001B[38;5;129;01mand\u001B[39;00m \u001B[38;5;28mhasattr\u001B[39m(\u001B[38;5;28mself\u001B[39m\u001B[38;5;241m.\u001B[39msock, \u001B[38;5;124m\"\u001B[39m\u001B[38;5;124mversion\u001B[39m\u001B[38;5;124m\"\u001B[39m)\n\u001B[0;32m    439\u001B[0m     \u001B[38;5;129;01mand\u001B[39;00m \u001B[38;5;28mself\u001B[39m\u001B[38;5;241m.\u001B[39msock\u001B[38;5;241m.\u001B[39mversion() \u001B[38;5;129;01min\u001B[39;00m {\u001B[38;5;124m\"\u001B[39m\u001B[38;5;124mTLSv1\u001B[39m\u001B[38;5;124m\"\u001B[39m, \u001B[38;5;124m\"\u001B[39m\u001B[38;5;124mTLSv1.1\u001B[39m\u001B[38;5;124m\"\u001B[39m}\n\u001B[0;32m    440\u001B[0m ):\n",
      "File \u001B[1;32m~\\anaconda3\\envs\\pythonProject\\Lib\\site-packages\\urllib3\\util\\ssl_.py:402\u001B[0m, in \u001B[0;36mssl_wrap_socket\u001B[1;34m(sock, keyfile, certfile, cert_reqs, ca_certs, server_hostname, ssl_version, ciphers, ssl_context, ca_cert_dir, key_password, ca_cert_data, tls_in_tls)\u001B[0m\n\u001B[0;32m    400\u001B[0m \u001B[38;5;28;01mif\u001B[39;00m ca_certs \u001B[38;5;129;01mor\u001B[39;00m ca_cert_dir \u001B[38;5;129;01mor\u001B[39;00m ca_cert_data:\n\u001B[0;32m    401\u001B[0m     \u001B[38;5;28;01mtry\u001B[39;00m:\n\u001B[1;32m--> 402\u001B[0m         context\u001B[38;5;241m.\u001B[39mload_verify_locations(ca_certs, ca_cert_dir, ca_cert_data)\n\u001B[0;32m    403\u001B[0m     \u001B[38;5;28;01mexcept\u001B[39;00m (\u001B[38;5;167;01mIOError\u001B[39;00m, \u001B[38;5;167;01mOSError\u001B[39;00m) \u001B[38;5;28;01mas\u001B[39;00m e:\n\u001B[0;32m    404\u001B[0m         \u001B[38;5;28;01mraise\u001B[39;00m SSLError(e)\n",
      "\u001B[1;31mKeyboardInterrupt\u001B[0m: "
     ]
    }
   ],
   "source": [
    "import time\n",
    "import pandas as pd\n",
    "import requests\n",
    "from bs4 import BeautifulSoup\n",
    "from urllib.parse import urljoin\n",
    "\n",
    "\n",
    "def search_habr(query_list, num_pages):\n",
    "    habr_posts = pd.DataFrame()\n",
    "    URL = 'https://habr.com/ru/search/'\n",
    "    for q in query_list:\n",
    "        for page in range(1, num_pages + 1):\n",
    "            params = {\n",
    "                'q': q,\n",
    "                'page': page\n",
    "            }\n",
    "            req = requests.get(URL, params=params)\n",
    "            time.sleep(0.3)\n",
    "            soup = BeautifulSoup(req.text)\n",
    "            articles = soup.find_all('article', class_='tm-articles-list__item')\n",
    "            for article in articles:\n",
    "                title_element = article.find('h2', class_='tm-title tm-title_h2')\n",
    "                if title_element:\n",
    "                    title = title_element.text\n",
    "                    link_element = title_element.find('a')\n",
    "                    if link_element:\n",
    "                        link = urljoin(URL, link_element.get('href'))\n",
    "                        date_element = article.find('span', class_='tm-article-datetime-published')\n",
    "                        if date_element:\n",
    "                            date = date_element.text\n",
    "                            likes_element = article.find('span', class_='tm-icon-counter__value')\n",
    "                            if likes_element:\n",
    "                                likes = likes_element.text\n",
    "                                req_post = requests.get(link)\n",
    "                                time.sleep(0.3)\n",
    "                                soup_post = BeautifulSoup(req_post.text)\n",
    "                                post_text_element = soup_post.find('div',\n",
    "                                                                   class_='article-formatted-body article-formatted-body article-formatted-body_version-1')\n",
    "                                if post_text_element:\n",
    "                                    post_text = post_text_element.get_text()\n",
    "                                    categories = article.find_all('a', class_='tm-publication-hub__link')\n",
    "                                    category_list = [category.text for category in categories] if categories else []\n",
    "\n",
    "                                    if not category_list:\n",
    "                                        categories = article.find_all('a', class_='tm-navigation-menu__link_dark')\n",
    "                                        category_list = [category.text for category in categories] if categories else []\n",
    "\n",
    "                                    row = {'date': date, 'title': title, 'link': link, 'text': post_text,\n",
    "                                           'likes': likes, 'categories': category_list}\n",
    "                                    habr_posts = pd.concat([habr_posts, pd.DataFrame([row])])\n",
    "    return habr_posts.reset_index(drop=True)\n",
    "\n",
    "\n",
    "search_habr(['python', 'data science'], 4)\n",
    "\n",
    "\n"
   ],
   "metadata": {
    "collapsed": false,
    "ExecuteTime": {
     "end_time": "2023-12-02T09:11:39.996101700Z",
     "start_time": "2023-12-02T09:09:24.776519800Z"
    }
   },
   "id": "aceef99bd4baf90c"
  }
 ],
 "metadata": {
  "kernelspec": {
   "display_name": "Python 3",
   "language": "python",
   "name": "python3"
  },
  "language_info": {
   "codemirror_mode": {
    "name": "ipython",
    "version": 2
   },
   "file_extension": ".py",
   "mimetype": "text/x-python",
   "name": "python",
   "nbconvert_exporter": "python",
   "pygments_lexer": "ipython2",
   "version": "2.7.6"
  }
 },
 "nbformat": 4,
 "nbformat_minor": 5
}
