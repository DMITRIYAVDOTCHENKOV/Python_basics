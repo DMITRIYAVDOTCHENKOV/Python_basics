{
 "cells": [
  {
   "cell_type": "markdown",
   "source": [
    "# Обязательная часть\n",
    "Вам необходимо написать функцию, которая будет основана на поиске по сайту habr.com. Функция в качестве параметра должна принимать список запросов для поиска (например, ['python', 'анализ данных']) и на основе материалов, попавших в результаты поиска по каждому запросу, возвращать датафрейм вида:\n",
    "\n",
    "<дата> - <заголовок> - <ссылка на материал>\n",
    "В рамках задания предполагается работа только с одной (первой) страницей результатов поисковой выдачи для каждого запроса. Материалы в датафрейме не должны дублироваться, если они попадали в результаты поиска для нескольких запросов из списка.\n",
    "\n",
    "# Дополнительная часть (необязательная)\n",
    "Функция из обязательной части задания должна быть расширена следующим образом:\n",
    "\n",
    "кроме списка ключевых слов для поиска необходимо объявить параметр с количеством страниц поисковой выдачи. Т.е. при передаче в функцию аргумента 4 необходимо получить материалы с первых 4 страниц результатов;\n",
    "в датафрейме должны быть столбцы с полным текстом найденных материалов и количеством лайков:\n",
    "<дата> - <заголовок> - <ссылка на материал> - <текст материала> - <количество лайков>\n",
    "ПРИМЕЧАНИЕ\n",
    "Домашнее задание сдается ссылкой Google Colab. Не сможем проверить или помочь, если вы пришлете:\n",
    "\n",
    "файлы;\n",
    "архивы;\n",
    "скриншоты кода.\n",
    "Все обсуждения и консультации по выполнению домашнего задания ведутся только на соответствующем канале в Discord.\n",
    "\n",
    "Как правильно задавать вопросы аспирантам, преподавателям и коллегам?\n",
    "Прежде чем задать вопрос необходимо попробовать найти ответ самому в интернете. Навык самостоятельного поиска информации – один из важнейших, и каждый практикующий специалист любого уровня это делает каждый день.\n",
    "\n",
    "Любой вопрос должен быть сформулирован по алгоритму:\n",
    "\n",
    "Что я делаю?\n",
    "Какого результата я ожидаю?\n",
    "Как фактический результат отличается от ожидаемого?\n",
    "Что я уже попробовал сделать, чтобы исправить проблему?\n",
    "По возможности, прикрепляйте к вопросу скриншоты, либо ссылки на код. Оставляйте только проблемный и воспроизводимый участок кода, все решение выкладывать не допускается."
   ],
   "metadata": {
    "collapsed": false
   },
   "id": "c4a59fc7abdc0664"
  },
  {
   "cell_type": "code",
   "execution_count": 69,
   "outputs": [],
   "source": [
    "import requests\n",
    "from bs4 import BeautifulSoup\n",
    "import pandas as pd"
   ],
   "metadata": {
    "collapsed": false,
    "ExecuteTime": {
     "end_time": "2023-12-02T08:37:27.501269100Z",
     "start_time": "2023-12-02T08:37:27.494641200Z"
    }
   },
   "id": "7b7f710676976abe"
  },
  {
   "cell_type": "code",
   "execution_count": 70,
   "id": "initial_id",
   "metadata": {
    "collapsed": true,
    "ExecuteTime": {
     "end_time": "2023-12-02T08:37:29.653169100Z",
     "start_time": "2023-12-02T08:37:28.444174900Z"
    }
   },
   "outputs": [
    {
     "data": {
      "text/plain": "                     date                                              title  \\\n0   30  июн  2021 в 09:00  Зачем инженеру эксплуатации знать Python: три ...   \n1       20  ноя   в 12:01  Две мощных возможности Python, упрощающие код ...   \n2   19  янв  2022 в 09:00            Пишем свои модули для Ansible на Python   \n3       17  ноя   в 09:23  Разработка алгоритмов обработки данных в реаль...   \n4       27  ноя   в 08:45  Make It Right! Максимум пользы, минимум пробле...   \n5       20  ноя   в 11:10  Время изменений: депрекация datetime.utcnow() ...   \n6       29  ноя   в 11:00  Вероятно, вы неправильно используете метод __i...   \n7   21  апр  2020 в 18:35  Вышел Python 2.7.18, последний релиз ветки Pyt...   \n8       23  ноя   в 13:18  Создание фреймворка автоматизации на Python с ...   \n9       17  ноя   в 13:22     Асинхронный python без головной боли (часть 3)   \n10   4  дек  2020 в 21:03  Python как компилируемый статически типизирова...   \n11      23  авг   в 20:26  Разработка RESTful API на Python с помощью HappyX   \n12      19  ноя   в 14:05             Змеиная наука: Химия в Python, часть 1   \n13      19  сен   в 07:42  Microsoft представила дополнение Python Editor...   \n14       9  ноя   в 14:05  Alchemer совместно с JetBrains и Python Softwa...   \n15   3  мар  2020 в 13:22  В начале этого года Python сместил Java и стал...   \n16      29  ноя   в 15:09                 Профилирование асинхронного Python   \n17      21  ноя   в 17:13  Внедрение Автоматизации в Проект с Python: Шаг...   \n18      26  окт   в 20:57  “Ну и долго мне ещё до магазина?” Или пара сло...   \n19      22  авг   в 20:14                  Microsoft добавила Python в Excel   \n\n                                           link  \\\n0          /ru/companies/slurm/articles/563802/   \n1     /ru/companies/wunderfund/articles/775052/   \n2          /ru/companies/slurm/articles/646147/   \n3         /ru/companies/mvideo/articles/773420/   \n4   /ru/companies/gazprommedia/articles/772888/   \n5                          /ru/articles/775024/   \n6          /ru/companies/first/articles/775656/   \n7                              /ru/news/498364/   \n8                          /ru/articles/775898/   \n9                          /ru/articles/774582/   \n10                             /ru/news/531402/   \n11                         /ru/articles/756548/   \n12                         /ru/articles/774918/   \n13                             /ru/news/761862/   \n14                             /ru/news/772872/   \n15           /ru/companies/itsumma/news/490834/   \n16                         /ru/articles/777232/   \n17                         /ru/articles/775440/   \n18                         /ru/articles/770216/   \n19                             /ru/news/756266/   \n\n                                             category  \n0    \\n      geniyoctober\\n       30  июн  2021 в ...  \n1        \\n      mr-pickles\\n       20  ноя   в 12:01  \n2    \\n      geniyoctober\\n       19  янв  2022 в ...  \n3    \\n      fedorborovitsky\\n       17  ноя   в 0...  \n4           \\n      DevKate\\n       27  ноя   в 08:45  \n5       \\n      PatientZero\\n       20  ноя   в 11:10  \n6         \\n      FirstJohn\\n       29  ноя   в 11:00  \n7      \\n      denis-19\\n       21  апр  2020 в 18:35  \n8           \\n      yt_xire\\n       23  ноя   в 13:18  \n9            \\n      vlakir\\n       17  ноя   в 13:22  \n10   \\n      alec_kalinin\\n       4  дек  2020 в 2...  \n11        \\n      akihayase\\n       23  авг   в 20:26  \n12       \\n      DrArgentum\\n       19  ноя   в 14:05  \n13         \\n      denis-19\\n       19  сен   в 07:42  \n14          \\n      denis-19\\n       9  ноя   в 14:05  \n15       \\n      ITSumma\\n       3  мар  2020 в 13:22  \n16          \\n      budurli\\n       29  ноя   в 15:09  \n17          \\n      yt_xire\\n       21  ноя   в 17:13  \n18        \\n      Dreamlone\\n       26  окт   в 20:57  \n19         \\n      denis-19\\n       22  авг   в 20:14  ",
      "text/html": "<div>\n<style scoped>\n    .dataframe tbody tr th:only-of-type {\n        vertical-align: middle;\n    }\n\n    .dataframe tbody tr th {\n        vertical-align: top;\n    }\n\n    .dataframe thead th {\n        text-align: right;\n    }\n</style>\n<table border=\"1\" class=\"dataframe\">\n  <thead>\n    <tr style=\"text-align: right;\">\n      <th></th>\n      <th>date</th>\n      <th>title</th>\n      <th>link</th>\n      <th>category</th>\n    </tr>\n  </thead>\n  <tbody>\n    <tr>\n      <th>0</th>\n      <td>30  июн  2021 в 09:00</td>\n      <td>Зачем инженеру эксплуатации знать Python: три ...</td>\n      <td>/ru/companies/slurm/articles/563802/</td>\n      <td>\\n      geniyoctober\\n       30  июн  2021 в ...</td>\n    </tr>\n    <tr>\n      <th>1</th>\n      <td>20  ноя   в 12:01</td>\n      <td>Две мощных возможности Python, упрощающие код ...</td>\n      <td>/ru/companies/wunderfund/articles/775052/</td>\n      <td>\\n      mr-pickles\\n       20  ноя   в 12:01</td>\n    </tr>\n    <tr>\n      <th>2</th>\n      <td>19  янв  2022 в 09:00</td>\n      <td>Пишем свои модули для Ansible на Python</td>\n      <td>/ru/companies/slurm/articles/646147/</td>\n      <td>\\n      geniyoctober\\n       19  янв  2022 в ...</td>\n    </tr>\n    <tr>\n      <th>3</th>\n      <td>17  ноя   в 09:23</td>\n      <td>Разработка алгоритмов обработки данных в реаль...</td>\n      <td>/ru/companies/mvideo/articles/773420/</td>\n      <td>\\n      fedorborovitsky\\n       17  ноя   в 0...</td>\n    </tr>\n    <tr>\n      <th>4</th>\n      <td>27  ноя   в 08:45</td>\n      <td>Make It Right! Максимум пользы, минимум пробле...</td>\n      <td>/ru/companies/gazprommedia/articles/772888/</td>\n      <td>\\n      DevKate\\n       27  ноя   в 08:45</td>\n    </tr>\n    <tr>\n      <th>5</th>\n      <td>20  ноя   в 11:10</td>\n      <td>Время изменений: депрекация datetime.utcnow() ...</td>\n      <td>/ru/articles/775024/</td>\n      <td>\\n      PatientZero\\n       20  ноя   в 11:10</td>\n    </tr>\n    <tr>\n      <th>6</th>\n      <td>29  ноя   в 11:00</td>\n      <td>Вероятно, вы неправильно используете метод __i...</td>\n      <td>/ru/companies/first/articles/775656/</td>\n      <td>\\n      FirstJohn\\n       29  ноя   в 11:00</td>\n    </tr>\n    <tr>\n      <th>7</th>\n      <td>21  апр  2020 в 18:35</td>\n      <td>Вышел Python 2.7.18, последний релиз ветки Pyt...</td>\n      <td>/ru/news/498364/</td>\n      <td>\\n      denis-19\\n       21  апр  2020 в 18:35</td>\n    </tr>\n    <tr>\n      <th>8</th>\n      <td>23  ноя   в 13:18</td>\n      <td>Создание фреймворка автоматизации на Python с ...</td>\n      <td>/ru/articles/775898/</td>\n      <td>\\n      yt_xire\\n       23  ноя   в 13:18</td>\n    </tr>\n    <tr>\n      <th>9</th>\n      <td>17  ноя   в 13:22</td>\n      <td>Асинхронный python без головной боли (часть 3)</td>\n      <td>/ru/articles/774582/</td>\n      <td>\\n      vlakir\\n       17  ноя   в 13:22</td>\n    </tr>\n    <tr>\n      <th>10</th>\n      <td>4  дек  2020 в 21:03</td>\n      <td>Python как компилируемый статически типизирова...</td>\n      <td>/ru/news/531402/</td>\n      <td>\\n      alec_kalinin\\n       4  дек  2020 в 2...</td>\n    </tr>\n    <tr>\n      <th>11</th>\n      <td>23  авг   в 20:26</td>\n      <td>Разработка RESTful API на Python с помощью HappyX</td>\n      <td>/ru/articles/756548/</td>\n      <td>\\n      akihayase\\n       23  авг   в 20:26</td>\n    </tr>\n    <tr>\n      <th>12</th>\n      <td>19  ноя   в 14:05</td>\n      <td>Змеиная наука: Химия в Python, часть 1</td>\n      <td>/ru/articles/774918/</td>\n      <td>\\n      DrArgentum\\n       19  ноя   в 14:05</td>\n    </tr>\n    <tr>\n      <th>13</th>\n      <td>19  сен   в 07:42</td>\n      <td>Microsoft представила дополнение Python Editor...</td>\n      <td>/ru/news/761862/</td>\n      <td>\\n      denis-19\\n       19  сен   в 07:42</td>\n    </tr>\n    <tr>\n      <th>14</th>\n      <td>9  ноя   в 14:05</td>\n      <td>Alchemer совместно с JetBrains и Python Softwa...</td>\n      <td>/ru/news/772872/</td>\n      <td>\\n      denis-19\\n       9  ноя   в 14:05</td>\n    </tr>\n    <tr>\n      <th>15</th>\n      <td>3  мар  2020 в 13:22</td>\n      <td>В начале этого года Python сместил Java и стал...</td>\n      <td>/ru/companies/itsumma/news/490834/</td>\n      <td>\\n      ITSumma\\n       3  мар  2020 в 13:22</td>\n    </tr>\n    <tr>\n      <th>16</th>\n      <td>29  ноя   в 15:09</td>\n      <td>Профилирование асинхронного Python</td>\n      <td>/ru/articles/777232/</td>\n      <td>\\n      budurli\\n       29  ноя   в 15:09</td>\n    </tr>\n    <tr>\n      <th>17</th>\n      <td>21  ноя   в 17:13</td>\n      <td>Внедрение Автоматизации в Проект с Python: Шаг...</td>\n      <td>/ru/articles/775440/</td>\n      <td>\\n      yt_xire\\n       21  ноя   в 17:13</td>\n    </tr>\n    <tr>\n      <th>18</th>\n      <td>26  окт   в 20:57</td>\n      <td>“Ну и долго мне ещё до магазина?” Или пара сло...</td>\n      <td>/ru/articles/770216/</td>\n      <td>\\n      Dreamlone\\n       26  окт   в 20:57</td>\n    </tr>\n    <tr>\n      <th>19</th>\n      <td>22  авг   в 20:14</td>\n      <td>Microsoft добавила Python в Excel</td>\n      <td>/ru/news/756266/</td>\n      <td>\\n      denis-19\\n       22  авг   в 20:14</td>\n    </tr>\n  </tbody>\n</table>\n</div>"
     },
     "execution_count": 70,
     "metadata": {},
     "output_type": "execute_result"
    }
   ],
   "source": [
    "import time\n",
    "\n",
    "def search_habr(query_list):\n",
    "    habr_posts = pd.DataFrame()\n",
    "    URL = 'https://habr.com/ru/search/'\n",
    "    for q in query_list:\n",
    "        params = {\n",
    "            'q' : q\n",
    "        }\n",
    "        req = requests.get(URL, params=params)\n",
    "        time.sleep(0.3)\n",
    "        soup = BeautifulSoup(req.text)\n",
    "        articles = soup.find_all('article',class_='tm-articles-list__item')\n",
    "        for article in articles:\n",
    "            title = article.find('h2', class_='tm-title tm-title_h2').text\n",
    "            link = article.find('h2', class_='tm-title tm-title_h2').find('a').get('href')\n",
    "            date = article.find('span', class_='tm-article-datetime-published').text\n",
    "            category = article.find('span').text\n",
    "            row = {'date': date, 'title': title, 'link': link, 'category':category}\n",
    "            habr_posts = pd.concat([habr_posts, pd.DataFrame([row])])\n",
    "        return habr_posts.reset_index(drop=True)\n",
    "\n",
    "search_habr(['python', 'data science'])\n",
    "    \n",
    "\n"
   ]
  }
 ],
 "metadata": {
  "kernelspec": {
   "display_name": "Python 3",
   "language": "python",
   "name": "python3"
  },
  "language_info": {
   "codemirror_mode": {
    "name": "ipython",
    "version": 2
   },
   "file_extension": ".py",
   "mimetype": "text/x-python",
   "name": "python",
   "nbconvert_exporter": "python",
   "pygments_lexer": "ipython2",
   "version": "2.7.6"
  }
 },
 "nbformat": 4,
 "nbformat_minor": 5
}
