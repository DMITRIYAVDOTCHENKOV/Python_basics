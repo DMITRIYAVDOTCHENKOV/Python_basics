{
 "cells": [
  {
   "cell_type": "markdown",
   "metadata": {},
   "source": [
    "# Про pandas, ключи и индексы\n",
    "Задача - определить есть ли в наборе значений заданное"
   ]
  },
  {
   "cell_type": "code",
   "execution_count": 11,
   "metadata": {
    "ExecuteTime": {
     "end_time": "2023-11-18T08:23:09.102625500Z",
     "start_time": "2023-11-18T08:23:09.095201400Z"
    }
   },
   "outputs": [],
   "source": [
    "data_list = list(range(10000))"
   ]
  },
  {
   "cell_type": "code",
   "execution_count": 12,
   "metadata": {
    "ExecuteTime": {
     "end_time": "2023-11-18T08:23:11.679298Z",
     "start_time": "2023-11-18T08:23:11.672379200Z"
    }
   },
   "outputs": [
    {
     "data": {
      "text/plain": "[0, 1, 2, 3, 4]"
     },
     "execution_count": 12,
     "metadata": {},
     "output_type": "execute_result"
    }
   ],
   "source": [
    "data_list[:5]"
   ]
  },
  {
   "cell_type": "code",
   "execution_count": 13,
   "metadata": {
    "ExecuteTime": {
     "end_time": "2023-11-18T08:23:15.447448100Z",
     "start_time": "2023-11-18T08:23:15.441930400Z"
    }
   },
   "outputs": [
    {
     "name": "stdout",
     "output_type": "stream",
     "text": [
      "Ура нашел!\n"
     ]
    }
   ],
   "source": [
    "if 5000 in data_list:\n",
    "    print('Ура нашел!')"
   ]
  },
  {
   "cell_type": "markdown",
   "metadata": {},
   "source": [
    "Время поиска зависит от того какой именно элемент вы ищете: первый, из середины или в конце"
   ]
  },
  {
   "cell_type": "code",
   "execution_count": 14,
   "metadata": {
    "ExecuteTime": {
     "end_time": "2023-11-18T08:25:45.617454300Z",
     "start_time": "2023-11-18T08:25:40.538760100Z"
    }
   },
   "outputs": [
    {
     "name": "stdout",
     "output_type": "stream",
     "text": [
      "CPU times: total: 5.06 s\n",
      "Wall time: 5.08 s\n"
     ]
    }
   ],
   "source": [
    "%%time\n",
    "\n",
    "for _ in range(10**5):\n",
    "    5000 in data_list"
   ]
  },
  {
   "cell_type": "markdown",
   "metadata": {},
   "source": [
    "### Заменим список на множество"
   ]
  },
  {
   "cell_type": "code",
   "execution_count": 15,
   "metadata": {
    "ExecuteTime": {
     "end_time": "2023-11-18T08:26:46.696394300Z",
     "start_time": "2023-11-18T08:26:46.678157900Z"
    }
   },
   "outputs": [
    {
     "data": {
      "text/plain": "{1, 2, 3}"
     },
     "execution_count": 15,
     "metadata": {},
     "output_type": "execute_result"
    }
   ],
   "source": [
    "set([1, 2, 2, 2, 3])  # переводим списки в множества "
   ]
  },
  {
   "cell_type": "code",
   "execution_count": 16,
   "metadata": {
    "ExecuteTime": {
     "end_time": "2023-11-18T08:26:49.245980300Z",
     "start_time": "2023-11-18T08:26:49.238299700Z"
    }
   },
   "outputs": [],
   "source": [
    "data_set = set(range(10000))"
   ]
  },
  {
   "cell_type": "code",
   "execution_count": 17,
   "metadata": {
    "ExecuteTime": {
     "end_time": "2023-11-18T08:26:52.825546200Z",
     "start_time": "2023-11-18T08:26:52.818298200Z"
    }
   },
   "outputs": [
    {
     "data": {
      "text/plain": "set"
     },
     "execution_count": 17,
     "metadata": {},
     "output_type": "execute_result"
    }
   ],
   "source": [
    "type(data_set)"
   ]
  },
  {
   "cell_type": "code",
   "execution_count": 19,
   "metadata": {
    "ExecuteTime": {
     "end_time": "2023-11-18T08:27:14.392484900Z",
     "start_time": "2023-11-18T08:27:14.369749700Z"
    }
   },
   "outputs": [
    {
     "name": "stdout",
     "output_type": "stream",
     "text": [
      "CPU times: total: 0 ns\n",
      "Wall time: 7.66 ms\n"
     ]
    }
   ],
   "source": [
    "%%time\n",
    "\n",
    "for _ in range(10**5):\n",
    "    5000 in data_set"
   ]
  },
  {
   "cell_type": "markdown",
   "metadata": {},
   "source": [
    "### Усложним задачу - в таблице из пяти столбцов найти нужную строчку."
   ]
  },
  {
   "cell_type": "code",
   "execution_count": 20,
   "metadata": {
    "ExecuteTime": {
     "end_time": "2023-11-18T08:30:16.089838400Z",
     "start_time": "2023-11-18T08:30:16.085327100Z"
    }
   },
   "outputs": [],
   "source": [
    "import pandas as pd"
   ]
  },
  {
   "cell_type": "code",
   "execution_count": 21,
   "metadata": {
    "ExecuteTime": {
     "end_time": "2023-11-18T08:30:18.555750400Z",
     "start_time": "2023-11-18T08:30:18.526673700Z"
    }
   },
   "outputs": [
    {
     "data": {
      "text/plain": "         date  category  campaign_id  slice  value\n0  2020-11-21        59           26      3    688\n1  2020-10-13        30           22      3    281\n2  2020-07-24        80           24      9    266\n3  2020-11-06        50           37      9     29\n4  2020-02-21        70           50      7     25",
      "text/html": "<div>\n<style scoped>\n    .dataframe tbody tr th:only-of-type {\n        vertical-align: middle;\n    }\n\n    .dataframe tbody tr th {\n        vertical-align: top;\n    }\n\n    .dataframe thead th {\n        text-align: right;\n    }\n</style>\n<table border=\"1\" class=\"dataframe\">\n  <thead>\n    <tr style=\"text-align: right;\">\n      <th></th>\n      <th>date</th>\n      <th>category</th>\n      <th>campaign_id</th>\n      <th>slice</th>\n      <th>value</th>\n    </tr>\n  </thead>\n  <tbody>\n    <tr>\n      <th>0</th>\n      <td>2020-11-21</td>\n      <td>59</td>\n      <td>26</td>\n      <td>3</td>\n      <td>688</td>\n    </tr>\n    <tr>\n      <th>1</th>\n      <td>2020-10-13</td>\n      <td>30</td>\n      <td>22</td>\n      <td>3</td>\n      <td>281</td>\n    </tr>\n    <tr>\n      <th>2</th>\n      <td>2020-07-24</td>\n      <td>80</td>\n      <td>24</td>\n      <td>9</td>\n      <td>266</td>\n    </tr>\n    <tr>\n      <th>3</th>\n      <td>2020-11-06</td>\n      <td>50</td>\n      <td>37</td>\n      <td>9</td>\n      <td>29</td>\n    </tr>\n    <tr>\n      <th>4</th>\n      <td>2020-02-21</td>\n      <td>70</td>\n      <td>50</td>\n      <td>7</td>\n      <td>25</td>\n    </tr>\n  </tbody>\n</table>\n</div>"
     },
     "execution_count": 21,
     "metadata": {},
     "output_type": "execute_result"
    }
   ],
   "source": [
    "table = pd.read_csv('D:\\\\Нетология python\\\\Лекция _Библиотека_numpy\\\\доп_материалы_к_пандас_1_и_2\\\\data.tsv', sep='\\t')\n",
    "table.head()"
   ]
  },
  {
   "cell_type": "code",
   "execution_count": 22,
   "metadata": {
    "ExecuteTime": {
     "end_time": "2023-11-18T08:30:51.422473Z",
     "start_time": "2023-11-18T08:30:51.399065800Z"
    }
   },
   "outputs": [
    {
     "data": {
      "text/plain": "           date  category  campaign_id  slice  value\n499  2020-12-06        70            3      3    666",
      "text/html": "<div>\n<style scoped>\n    .dataframe tbody tr th:only-of-type {\n        vertical-align: middle;\n    }\n\n    .dataframe tbody tr th {\n        vertical-align: top;\n    }\n\n    .dataframe thead th {\n        text-align: right;\n    }\n</style>\n<table border=\"1\" class=\"dataframe\">\n  <thead>\n    <tr style=\"text-align: right;\">\n      <th></th>\n      <th>date</th>\n      <th>category</th>\n      <th>campaign_id</th>\n      <th>slice</th>\n      <th>value</th>\n    </tr>\n  </thead>\n  <tbody>\n    <tr>\n      <th>499</th>\n      <td>2020-12-06</td>\n      <td>70</td>\n      <td>3</td>\n      <td>3</td>\n      <td>666</td>\n    </tr>\n  </tbody>\n</table>\n</div>"
     },
     "execution_count": 22,
     "metadata": {},
     "output_type": "execute_result"
    }
   ],
   "source": [
    "# как сделать в пандосе\n",
    "table[(table.date=='2020-12-06') & (table.category==70) & (table.campaign_id==3) & (table.slice==3)]\n"
   ]
  },
  {
   "cell_type": "code",
   "execution_count": 23,
   "metadata": {
    "scrolled": true,
    "ExecuteTime": {
     "end_time": "2023-11-18T08:31:27.769263Z",
     "start_time": "2023-11-18T08:31:21.906887100Z"
    }
   },
   "outputs": [
    {
     "name": "stdout",
     "output_type": "stream",
     "text": [
      "CPU times: total: 5.84 s\n",
      "Wall time: 5.86 s\n"
     ]
    }
   ],
   "source": [
    "%%time\n",
    "\n",
    "for _ in range(10**4):\n",
    "    table[(table.date=='2020-12-06') & (table.category==70) & (table.campaign_id==3) & (table.slice==3)]"
   ]
  },
  {
   "cell_type": "code",
   "execution_count": 6,
   "metadata": {
    "ExecuteTime": {
     "end_time": "2023-11-18T08:14:06.715908Z",
     "start_time": "2023-11-18T08:14:06.682814600Z"
    }
   },
   "outputs": [
    {
     "data": {
      "text/plain": "1000"
     },
     "execution_count": 6,
     "metadata": {},
     "output_type": "execute_result"
    }
   ],
   "source": [
    "len(table)"
   ]
  },
  {
   "cell_type": "code",
   "execution_count": null,
   "metadata": {},
   "outputs": [],
   "source": []
  },
  {
   "cell_type": "markdown",
   "metadata": {},
   "source": [
    "Аналогичный расчет для списков"
   ]
  },
  {
   "cell_type": "code",
   "execution_count": 24,
   "metadata": {
    "ExecuteTime": {
     "end_time": "2023-11-18T08:32:12.245890500Z",
     "start_time": "2023-11-18T08:32:12.240376100Z"
    }
   },
   "outputs": [],
   "source": [
    "with open('D:\\\\Нетология python\\\\Лекция _Библиотека_numpy\\\\доп_материалы_к_пандас_1_и_2\\\\data.tsv') as f:\n",
    "    next(f)\n",
    "    table = [x.strip().split('\\t') for x in f.readlines()]"
   ]
  },
  {
   "cell_type": "code",
   "execution_count": 8,
   "metadata": {
    "ExecuteTime": {
     "end_time": "2023-11-18T08:14:36.030748800Z",
     "start_time": "2023-11-18T08:14:36.023940400Z"
    }
   },
   "outputs": [
    {
     "data": {
      "text/plain": "[['2020-11-21', '59', '26', '3', '688'],\n ['2020-10-13', '30', '22', '3', '281']]"
     },
     "execution_count": 8,
     "metadata": {},
     "output_type": "execute_result"
    }
   ],
   "source": [
    "table[:2]"
   ]
  },
  {
   "cell_type": "code",
   "execution_count": 9,
   "metadata": {
    "ExecuteTime": {
     "end_time": "2023-11-18T08:14:37.960946200Z",
     "start_time": "2023-11-18T08:14:37.953897Z"
    }
   },
   "outputs": [],
   "source": [
    "line_to_search = ['2020-12-06', '70', '3', '3']"
   ]
  },
  {
   "cell_type": "code",
   "execution_count": 10,
   "metadata": {
    "scrolled": true,
    "ExecuteTime": {
     "end_time": "2023-11-18T08:14:43.961701300Z",
     "start_time": "2023-11-18T08:14:42.576018400Z"
    }
   },
   "outputs": [
    {
     "name": "stdout",
     "output_type": "stream",
     "text": [
      "CPU times: total: 1.34 s\n",
      "Wall time: 1.42 s\n"
     ]
    }
   ],
   "source": [
    "%%time\n",
    "\n",
    "for _ in range(10**4):\n",
    "    [x for x in table if x[:4] == line_to_search]"
   ]
  },
  {
   "cell_type": "markdown",
   "metadata": {},
   "source": [
    "Можно побыстрее? Преобразуем список в словарь."
   ]
  },
  {
   "cell_type": "code",
   "execution_count": null,
   "metadata": {},
   "outputs": [],
   "source": [
    "tuple_to_search = ('2020-12-06', '70', '3', '3')"
   ]
  },
  {
   "cell_type": "code",
   "execution_count": null,
   "metadata": {},
   "outputs": [],
   "source": [
    "%%time\n",
    "dict_ = {}\n",
    "\n",
    "for line in table:\n",
    "    key = tuple(line[:4])\n",
    "    value = line[4]\n",
    "    \n",
    "    dict_[key] = value"
   ]
  },
  {
   "cell_type": "code",
   "execution_count": null,
   "metadata": {
    "scrolled": true
   },
   "outputs": [],
   "source": [
    "dict_[('2020-12-06', '70', '3', '3')]"
   ]
  },
  {
   "cell_type": "code",
   "execution_count": null,
   "metadata": {},
   "outputs": [],
   "source": [
    "%%time\n",
    "\n",
    "for _ in range(10**4):\n",
    "    dict_[tuple_to_search]"
   ]
  }
 ],
 "metadata": {
  "kernelspec": {
   "display_name": "Python 3",
   "language": "python",
   "name": "python3"
  },
  "language_info": {
   "codemirror_mode": {
    "name": "ipython",
    "version": 3
   },
   "file_extension": ".py",
   "mimetype": "text/x-python",
   "name": "python",
   "nbconvert_exporter": "python",
   "pygments_lexer": "ipython3",
   "version": "3.7.0"
  }
 },
 "nbformat": 4,
 "nbformat_minor": 2
}
