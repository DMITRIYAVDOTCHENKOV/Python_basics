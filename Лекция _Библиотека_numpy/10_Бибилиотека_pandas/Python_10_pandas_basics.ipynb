{
 "cells": [
  {
   "cell_type": "markdown",
   "metadata": {},
   "source": [
    "# Основы pandas"
   ]
  },
  {
   "cell_type": "code",
   "execution_count": 2,
   "metadata": {
    "ExecuteTime": {
     "end_time": "2023-11-12T09:03:30.211373600Z",
     "start_time": "2023-11-12T09:03:29.508436500Z"
    }
   },
   "outputs": [],
   "source": [
    "import pandas as pd"
   ]
  },
  {
   "cell_type": "markdown",
   "metadata": {},
   "source": [
    "Пример забора данных с сайтов"
   ]
  },
  {
   "cell_type": "code",
   "execution_count": 3,
   "metadata": {
    "ExecuteTime": {
     "end_time": "2023-11-12T09:03:32.361142500Z",
     "start_time": "2023-11-12T09:03:32.260118400Z"
    }
   },
   "outputs": [
    {
     "data": {
      "text/plain": "<module 'multiprocessing.connection' from 'C:\\\\Users\\\\Dmitrii\\\\anaconda3\\\\envs\\\\pythonProject\\\\Lib\\\\multiprocessing\\\\connection.py'>"
     },
     "execution_count": 3,
     "metadata": {},
     "output_type": "execute_result"
    }
   ],
   "source": [
    "\n",
    "from multiprocessing import connection\n",
    "import pymysql as py\n",
    "connection"
   ]
  },
  {
   "cell_type": "code",
   "execution_count": 4,
   "metadata": {
    "ExecuteTime": {
     "end_time": "2023-11-12T09:03:34.795482100Z",
     "start_time": "2023-11-12T09:03:34.373825500Z"
    }
   },
   "outputs": [
    {
     "name": "stderr",
     "output_type": "stream",
     "text": [
      "C:\\Users\\Dmitrii\\AppData\\Local\\Temp\\ipykernel_22372\\1573092353.py:1: UserWarning: pandas only supports SQLAlchemy connectable (engine/connection) or database string URI or sqlite3 DBAPI2 connection. Other DBAPI2 objects are not tested. Please consider using SQLAlchemy.\n",
      "  pd.read_sql('select * from db.table;', connection)\n"
     ]
    },
    {
     "ename": "AttributeError",
     "evalue": "module 'multiprocessing.connection' has no attribute 'cursor'",
     "output_type": "error",
     "traceback": [
      "\u001B[1;31m---------------------------------------------------------------------------\u001B[0m",
      "\u001B[1;31mAttributeError\u001B[0m                            Traceback (most recent call last)",
      "Cell \u001B[1;32mIn[4], line 1\u001B[0m\n\u001B[1;32m----> 1\u001B[0m pd\u001B[38;5;241m.\u001B[39mread_sql(\u001B[38;5;124m'\u001B[39m\u001B[38;5;124mselect * from db.table;\u001B[39m\u001B[38;5;124m'\u001B[39m, connection)\n",
      "File \u001B[1;32m~\\anaconda3\\envs\\pythonProject\\Lib\\site-packages\\pandas\\io\\sql.py:654\u001B[0m, in \u001B[0;36mread_sql\u001B[1;34m(sql, con, index_col, coerce_float, params, parse_dates, columns, chunksize, dtype_backend, dtype)\u001B[0m\n\u001B[0;32m    652\u001B[0m \u001B[38;5;28;01mwith\u001B[39;00m pandasSQL_builder(con) \u001B[38;5;28;01mas\u001B[39;00m pandas_sql:\n\u001B[0;32m    653\u001B[0m     \u001B[38;5;28;01mif\u001B[39;00m \u001B[38;5;28misinstance\u001B[39m(pandas_sql, SQLiteDatabase):\n\u001B[1;32m--> 654\u001B[0m         \u001B[38;5;28;01mreturn\u001B[39;00m pandas_sql\u001B[38;5;241m.\u001B[39mread_query(\n\u001B[0;32m    655\u001B[0m             sql,\n\u001B[0;32m    656\u001B[0m             index_col\u001B[38;5;241m=\u001B[39mindex_col,\n\u001B[0;32m    657\u001B[0m             params\u001B[38;5;241m=\u001B[39mparams,\n\u001B[0;32m    658\u001B[0m             coerce_float\u001B[38;5;241m=\u001B[39mcoerce_float,\n\u001B[0;32m    659\u001B[0m             parse_dates\u001B[38;5;241m=\u001B[39mparse_dates,\n\u001B[0;32m    660\u001B[0m             chunksize\u001B[38;5;241m=\u001B[39mchunksize,\n\u001B[0;32m    661\u001B[0m             dtype_backend\u001B[38;5;241m=\u001B[39mdtype_backend,\n\u001B[0;32m    662\u001B[0m             dtype\u001B[38;5;241m=\u001B[39mdtype,\n\u001B[0;32m    663\u001B[0m         )\n\u001B[0;32m    665\u001B[0m     \u001B[38;5;28;01mtry\u001B[39;00m:\n\u001B[0;32m    666\u001B[0m         _is_table_name \u001B[38;5;241m=\u001B[39m pandas_sql\u001B[38;5;241m.\u001B[39mhas_table(sql)\n",
      "File \u001B[1;32m~\\anaconda3\\envs\\pythonProject\\Lib\\site-packages\\pandas\\io\\sql.py:2326\u001B[0m, in \u001B[0;36mSQLiteDatabase.read_query\u001B[1;34m(self, sql, index_col, coerce_float, parse_dates, params, chunksize, dtype, dtype_backend)\u001B[0m\n\u001B[0;32m   2315\u001B[0m \u001B[38;5;28;01mdef\u001B[39;00m \u001B[38;5;21mread_query\u001B[39m(\n\u001B[0;32m   2316\u001B[0m     \u001B[38;5;28mself\u001B[39m,\n\u001B[0;32m   2317\u001B[0m     sql,\n\u001B[1;32m   (...)\u001B[0m\n\u001B[0;32m   2324\u001B[0m     dtype_backend: DtypeBackend \u001B[38;5;241m|\u001B[39m Literal[\u001B[38;5;124m\"\u001B[39m\u001B[38;5;124mnumpy\u001B[39m\u001B[38;5;124m\"\u001B[39m] \u001B[38;5;241m=\u001B[39m \u001B[38;5;124m\"\u001B[39m\u001B[38;5;124mnumpy\u001B[39m\u001B[38;5;124m\"\u001B[39m,\n\u001B[0;32m   2325\u001B[0m ) \u001B[38;5;241m-\u001B[39m\u001B[38;5;241m>\u001B[39m DataFrame \u001B[38;5;241m|\u001B[39m Iterator[DataFrame]:\n\u001B[1;32m-> 2326\u001B[0m     cursor \u001B[38;5;241m=\u001B[39m \u001B[38;5;28mself\u001B[39m\u001B[38;5;241m.\u001B[39mexecute(sql, params)\n\u001B[0;32m   2327\u001B[0m     columns \u001B[38;5;241m=\u001B[39m [col_desc[\u001B[38;5;241m0\u001B[39m] \u001B[38;5;28;01mfor\u001B[39;00m col_desc \u001B[38;5;129;01min\u001B[39;00m cursor\u001B[38;5;241m.\u001B[39mdescription]\n\u001B[0;32m   2329\u001B[0m     \u001B[38;5;28;01mif\u001B[39;00m chunksize \u001B[38;5;129;01mis\u001B[39;00m \u001B[38;5;129;01mnot\u001B[39;00m \u001B[38;5;28;01mNone\u001B[39;00m:\n",
      "File \u001B[1;32m~\\anaconda3\\envs\\pythonProject\\Lib\\site-packages\\pandas\\io\\sql.py:2260\u001B[0m, in \u001B[0;36mSQLiteDatabase.execute\u001B[1;34m(self, sql, params)\u001B[0m\n\u001B[0;32m   2258\u001B[0m     \u001B[38;5;28;01mraise\u001B[39;00m \u001B[38;5;167;01mTypeError\u001B[39;00m(\u001B[38;5;124m\"\u001B[39m\u001B[38;5;124mQuery must be a string unless using sqlalchemy.\u001B[39m\u001B[38;5;124m\"\u001B[39m)\n\u001B[0;32m   2259\u001B[0m args \u001B[38;5;241m=\u001B[39m [] \u001B[38;5;28;01mif\u001B[39;00m params \u001B[38;5;129;01mis\u001B[39;00m \u001B[38;5;28;01mNone\u001B[39;00m \u001B[38;5;28;01melse\u001B[39;00m [params]\n\u001B[1;32m-> 2260\u001B[0m cur \u001B[38;5;241m=\u001B[39m \u001B[38;5;28mself\u001B[39m\u001B[38;5;241m.\u001B[39mcon\u001B[38;5;241m.\u001B[39mcursor()\n\u001B[0;32m   2261\u001B[0m \u001B[38;5;28;01mtry\u001B[39;00m:\n\u001B[0;32m   2262\u001B[0m     cur\u001B[38;5;241m.\u001B[39mexecute(sql, \u001B[38;5;241m*\u001B[39margs)\n",
      "\u001B[1;31mAttributeError\u001B[0m: module 'multiprocessing.connection' has no attribute 'cursor'"
     ]
    }
   ],
   "source": [
    "pd.read_sql('select * from db.table;', connection)"
   ]
  },
  {
   "cell_type": "code",
   "execution_count": 5,
   "metadata": {
    "scrolled": false,
    "ExecuteTime": {
     "end_time": "2023-11-12T09:03:37.736510700Z",
     "start_time": "2023-11-12T09:03:36.592569800Z"
    }
   },
   "outputs": [
    {
     "ename": "ValueError",
     "evalue": "No tables found",
     "output_type": "error",
     "traceback": [
      "\u001B[1;31m---------------------------------------------------------------------------\u001B[0m",
      "\u001B[1;31mValueError\u001B[0m                                Traceback (most recent call last)",
      "Cell \u001B[1;32mIn[5], line 1\u001B[0m\n\u001B[1;32m----> 1\u001B[0m pd\u001B[38;5;241m.\u001B[39mread_html(\u001B[38;5;124m'\u001B[39m\u001B[38;5;124mhttp://www.cbr.ru\u001B[39m\u001B[38;5;124m'\u001B[39m)[\u001B[38;5;241m0\u001B[39m]\n",
      "File \u001B[1;32m~\\anaconda3\\envs\\pythonProject\\Lib\\site-packages\\pandas\\io\\html.py:1245\u001B[0m, in \u001B[0;36mread_html\u001B[1;34m(io, match, flavor, header, index_col, skiprows, attrs, parse_dates, thousands, encoding, decimal, converters, na_values, keep_default_na, displayed_only, extract_links, dtype_backend, storage_options)\u001B[0m\n\u001B[0;32m   1229\u001B[0m \u001B[38;5;28;01mif\u001B[39;00m \u001B[38;5;28misinstance\u001B[39m(io, \u001B[38;5;28mstr\u001B[39m) \u001B[38;5;129;01mand\u001B[39;00m \u001B[38;5;129;01mnot\u001B[39;00m \u001B[38;5;28many\u001B[39m(\n\u001B[0;32m   1230\u001B[0m     [\n\u001B[0;32m   1231\u001B[0m         is_file_like(io),\n\u001B[1;32m   (...)\u001B[0m\n\u001B[0;32m   1235\u001B[0m     ]\n\u001B[0;32m   1236\u001B[0m ):\n\u001B[0;32m   1237\u001B[0m     warnings\u001B[38;5;241m.\u001B[39mwarn(\n\u001B[0;32m   1238\u001B[0m         \u001B[38;5;124m\"\u001B[39m\u001B[38;5;124mPassing literal html to \u001B[39m\u001B[38;5;124m'\u001B[39m\u001B[38;5;124mread_html\u001B[39m\u001B[38;5;124m'\u001B[39m\u001B[38;5;124m is deprecated and \u001B[39m\u001B[38;5;124m\"\u001B[39m\n\u001B[0;32m   1239\u001B[0m         \u001B[38;5;124m\"\u001B[39m\u001B[38;5;124mwill be removed in a future version. To read from a \u001B[39m\u001B[38;5;124m\"\u001B[39m\n\u001B[1;32m   (...)\u001B[0m\n\u001B[0;32m   1242\u001B[0m         stacklevel\u001B[38;5;241m=\u001B[39mfind_stack_level(),\n\u001B[0;32m   1243\u001B[0m     )\n\u001B[1;32m-> 1245\u001B[0m \u001B[38;5;28;01mreturn\u001B[39;00m _parse(\n\u001B[0;32m   1246\u001B[0m     flavor\u001B[38;5;241m=\u001B[39mflavor,\n\u001B[0;32m   1247\u001B[0m     io\u001B[38;5;241m=\u001B[39mio,\n\u001B[0;32m   1248\u001B[0m     match\u001B[38;5;241m=\u001B[39mmatch,\n\u001B[0;32m   1249\u001B[0m     header\u001B[38;5;241m=\u001B[39mheader,\n\u001B[0;32m   1250\u001B[0m     index_col\u001B[38;5;241m=\u001B[39mindex_col,\n\u001B[0;32m   1251\u001B[0m     skiprows\u001B[38;5;241m=\u001B[39mskiprows,\n\u001B[0;32m   1252\u001B[0m     parse_dates\u001B[38;5;241m=\u001B[39mparse_dates,\n\u001B[0;32m   1253\u001B[0m     thousands\u001B[38;5;241m=\u001B[39mthousands,\n\u001B[0;32m   1254\u001B[0m     attrs\u001B[38;5;241m=\u001B[39mattrs,\n\u001B[0;32m   1255\u001B[0m     encoding\u001B[38;5;241m=\u001B[39mencoding,\n\u001B[0;32m   1256\u001B[0m     decimal\u001B[38;5;241m=\u001B[39mdecimal,\n\u001B[0;32m   1257\u001B[0m     converters\u001B[38;5;241m=\u001B[39mconverters,\n\u001B[0;32m   1258\u001B[0m     na_values\u001B[38;5;241m=\u001B[39mna_values,\n\u001B[0;32m   1259\u001B[0m     keep_default_na\u001B[38;5;241m=\u001B[39mkeep_default_na,\n\u001B[0;32m   1260\u001B[0m     displayed_only\u001B[38;5;241m=\u001B[39mdisplayed_only,\n\u001B[0;32m   1261\u001B[0m     extract_links\u001B[38;5;241m=\u001B[39mextract_links,\n\u001B[0;32m   1262\u001B[0m     dtype_backend\u001B[38;5;241m=\u001B[39mdtype_backend,\n\u001B[0;32m   1263\u001B[0m     storage_options\u001B[38;5;241m=\u001B[39mstorage_options,\n\u001B[0;32m   1264\u001B[0m )\n",
      "File \u001B[1;32m~\\anaconda3\\envs\\pythonProject\\Lib\\site-packages\\pandas\\io\\html.py:1008\u001B[0m, in \u001B[0;36m_parse\u001B[1;34m(flavor, io, match, attrs, encoding, displayed_only, extract_links, storage_options, **kwargs)\u001B[0m\n\u001B[0;32m   1006\u001B[0m \u001B[38;5;28;01melse\u001B[39;00m:\n\u001B[0;32m   1007\u001B[0m     \u001B[38;5;28;01massert\u001B[39;00m retained \u001B[38;5;129;01mis\u001B[39;00m \u001B[38;5;129;01mnot\u001B[39;00m \u001B[38;5;28;01mNone\u001B[39;00m  \u001B[38;5;66;03m# for mypy\u001B[39;00m\n\u001B[1;32m-> 1008\u001B[0m     \u001B[38;5;28;01mraise\u001B[39;00m retained\n\u001B[0;32m   1010\u001B[0m ret \u001B[38;5;241m=\u001B[39m []\n\u001B[0;32m   1011\u001B[0m \u001B[38;5;28;01mfor\u001B[39;00m table \u001B[38;5;129;01min\u001B[39;00m tables:\n",
      "File \u001B[1;32m~\\anaconda3\\envs\\pythonProject\\Lib\\site-packages\\pandas\\io\\html.py:988\u001B[0m, in \u001B[0;36m_parse\u001B[1;34m(flavor, io, match, attrs, encoding, displayed_only, extract_links, storage_options, **kwargs)\u001B[0m\n\u001B[0;32m    977\u001B[0m p \u001B[38;5;241m=\u001B[39m parser(\n\u001B[0;32m    978\u001B[0m     io,\n\u001B[0;32m    979\u001B[0m     compiled_match,\n\u001B[1;32m   (...)\u001B[0m\n\u001B[0;32m    984\u001B[0m     storage_options,\n\u001B[0;32m    985\u001B[0m )\n\u001B[0;32m    987\u001B[0m \u001B[38;5;28;01mtry\u001B[39;00m:\n\u001B[1;32m--> 988\u001B[0m     tables \u001B[38;5;241m=\u001B[39m p\u001B[38;5;241m.\u001B[39mparse_tables()\n\u001B[0;32m    989\u001B[0m \u001B[38;5;28;01mexcept\u001B[39;00m \u001B[38;5;167;01mValueError\u001B[39;00m \u001B[38;5;28;01mas\u001B[39;00m caught:\n\u001B[0;32m    990\u001B[0m     \u001B[38;5;66;03m# if `io` is an io-like object, check if it's seekable\u001B[39;00m\n\u001B[0;32m    991\u001B[0m     \u001B[38;5;66;03m# and try to rewind it before trying the next parser\u001B[39;00m\n\u001B[0;32m    992\u001B[0m     \u001B[38;5;28;01mif\u001B[39;00m \u001B[38;5;28mhasattr\u001B[39m(io, \u001B[38;5;124m\"\u001B[39m\u001B[38;5;124mseekable\u001B[39m\u001B[38;5;124m\"\u001B[39m) \u001B[38;5;129;01mand\u001B[39;00m io\u001B[38;5;241m.\u001B[39mseekable():\n",
      "File \u001B[1;32m~\\anaconda3\\envs\\pythonProject\\Lib\\site-packages\\pandas\\io\\html.py:248\u001B[0m, in \u001B[0;36m_HtmlFrameParser.parse_tables\u001B[1;34m(self)\u001B[0m\n\u001B[0;32m    240\u001B[0m \u001B[38;5;28;01mdef\u001B[39;00m \u001B[38;5;21mparse_tables\u001B[39m(\u001B[38;5;28mself\u001B[39m):\n\u001B[0;32m    241\u001B[0m \u001B[38;5;250m    \u001B[39m\u001B[38;5;124;03m\"\"\"\u001B[39;00m\n\u001B[0;32m    242\u001B[0m \u001B[38;5;124;03m    Parse and return all tables from the DOM.\u001B[39;00m\n\u001B[0;32m    243\u001B[0m \n\u001B[1;32m   (...)\u001B[0m\n\u001B[0;32m    246\u001B[0m \u001B[38;5;124;03m    list of parsed (header, body, footer) tuples from tables.\u001B[39;00m\n\u001B[0;32m    247\u001B[0m \u001B[38;5;124;03m    \"\"\"\u001B[39;00m\n\u001B[1;32m--> 248\u001B[0m     tables \u001B[38;5;241m=\u001B[39m \u001B[38;5;28mself\u001B[39m\u001B[38;5;241m.\u001B[39m_parse_tables(\u001B[38;5;28mself\u001B[39m\u001B[38;5;241m.\u001B[39m_build_doc(), \u001B[38;5;28mself\u001B[39m\u001B[38;5;241m.\u001B[39mmatch, \u001B[38;5;28mself\u001B[39m\u001B[38;5;241m.\u001B[39mattrs)\n\u001B[0;32m    249\u001B[0m     \u001B[38;5;28;01mreturn\u001B[39;00m (\u001B[38;5;28mself\u001B[39m\u001B[38;5;241m.\u001B[39m_parse_thead_tbody_tfoot(table) \u001B[38;5;28;01mfor\u001B[39;00m table \u001B[38;5;129;01min\u001B[39;00m tables)\n",
      "File \u001B[1;32m~\\anaconda3\\envs\\pythonProject\\Lib\\site-packages\\pandas\\io\\html.py:603\u001B[0m, in \u001B[0;36m_BeautifulSoupHtml5LibFrameParser._parse_tables\u001B[1;34m(self, document, match, attrs)\u001B[0m\n\u001B[0;32m    601\u001B[0m tables \u001B[38;5;241m=\u001B[39m document\u001B[38;5;241m.\u001B[39mfind_all(element_name, attrs\u001B[38;5;241m=\u001B[39mattrs)\n\u001B[0;32m    602\u001B[0m \u001B[38;5;28;01mif\u001B[39;00m \u001B[38;5;129;01mnot\u001B[39;00m tables:\n\u001B[1;32m--> 603\u001B[0m     \u001B[38;5;28;01mraise\u001B[39;00m \u001B[38;5;167;01mValueError\u001B[39;00m(\u001B[38;5;124m\"\u001B[39m\u001B[38;5;124mNo tables found\u001B[39m\u001B[38;5;124m\"\u001B[39m)\n\u001B[0;32m    605\u001B[0m result \u001B[38;5;241m=\u001B[39m []\n\u001B[0;32m    606\u001B[0m unique_tables \u001B[38;5;241m=\u001B[39m \u001B[38;5;28mset\u001B[39m()\n",
      "\u001B[1;31mValueError\u001B[0m: No tables found"
     ]
    }
   ],
   "source": [
    "pd.read_html('http://www.cbr.ru')[0]"
   ]
  },
  {
   "cell_type": "code",
   "execution_count": 6,
   "metadata": {
    "ExecuteTime": {
     "end_time": "2023-11-12T09:03:42.553987900Z",
     "start_time": "2023-11-12T09:03:39.373111300Z"
    }
   },
   "outputs": [
    {
     "ename": "URLError",
     "evalue": "<urlopen error [WinError 10061] Подключение не установлено, т.к. конечный компьютер отверг запрос на подключение>",
     "output_type": "error",
     "traceback": [
      "\u001B[1;31m---------------------------------------------------------------------------\u001B[0m",
      "\u001B[1;31mConnectionRefusedError\u001B[0m                    Traceback (most recent call last)",
      "File \u001B[1;32m~\\anaconda3\\envs\\pythonProject\\Lib\\urllib\\request.py:1348\u001B[0m, in \u001B[0;36mAbstractHTTPHandler.do_open\u001B[1;34m(self, http_class, req, **http_conn_args)\u001B[0m\n\u001B[0;32m   1347\u001B[0m \u001B[38;5;28;01mtry\u001B[39;00m:\n\u001B[1;32m-> 1348\u001B[0m     h\u001B[38;5;241m.\u001B[39mrequest(req\u001B[38;5;241m.\u001B[39mget_method(), req\u001B[38;5;241m.\u001B[39mselector, req\u001B[38;5;241m.\u001B[39mdata, headers,\n\u001B[0;32m   1349\u001B[0m               encode_chunked\u001B[38;5;241m=\u001B[39mreq\u001B[38;5;241m.\u001B[39mhas_header(\u001B[38;5;124m'\u001B[39m\u001B[38;5;124mTransfer-encoding\u001B[39m\u001B[38;5;124m'\u001B[39m))\n\u001B[0;32m   1350\u001B[0m \u001B[38;5;28;01mexcept\u001B[39;00m \u001B[38;5;167;01mOSError\u001B[39;00m \u001B[38;5;28;01mas\u001B[39;00m err: \u001B[38;5;66;03m# timeout error\u001B[39;00m\n",
      "File \u001B[1;32m~\\anaconda3\\envs\\pythonProject\\Lib\\http\\client.py:1286\u001B[0m, in \u001B[0;36mHTTPConnection.request\u001B[1;34m(self, method, url, body, headers, encode_chunked)\u001B[0m\n\u001B[0;32m   1285\u001B[0m \u001B[38;5;250m\u001B[39m\u001B[38;5;124;03m\"\"\"Send a complete request to the server.\"\"\"\u001B[39;00m\n\u001B[1;32m-> 1286\u001B[0m \u001B[38;5;28mself\u001B[39m\u001B[38;5;241m.\u001B[39m_send_request(method, url, body, headers, encode_chunked)\n",
      "File \u001B[1;32m~\\anaconda3\\envs\\pythonProject\\Lib\\http\\client.py:1332\u001B[0m, in \u001B[0;36mHTTPConnection._send_request\u001B[1;34m(self, method, url, body, headers, encode_chunked)\u001B[0m\n\u001B[0;32m   1331\u001B[0m     body \u001B[38;5;241m=\u001B[39m _encode(body, \u001B[38;5;124m'\u001B[39m\u001B[38;5;124mbody\u001B[39m\u001B[38;5;124m'\u001B[39m)\n\u001B[1;32m-> 1332\u001B[0m \u001B[38;5;28mself\u001B[39m\u001B[38;5;241m.\u001B[39mendheaders(body, encode_chunked\u001B[38;5;241m=\u001B[39mencode_chunked)\n",
      "File \u001B[1;32m~\\anaconda3\\envs\\pythonProject\\Lib\\http\\client.py:1281\u001B[0m, in \u001B[0;36mHTTPConnection.endheaders\u001B[1;34m(self, message_body, encode_chunked)\u001B[0m\n\u001B[0;32m   1280\u001B[0m     \u001B[38;5;28;01mraise\u001B[39;00m CannotSendHeader()\n\u001B[1;32m-> 1281\u001B[0m \u001B[38;5;28mself\u001B[39m\u001B[38;5;241m.\u001B[39m_send_output(message_body, encode_chunked\u001B[38;5;241m=\u001B[39mencode_chunked)\n",
      "File \u001B[1;32m~\\anaconda3\\envs\\pythonProject\\Lib\\http\\client.py:1041\u001B[0m, in \u001B[0;36mHTTPConnection._send_output\u001B[1;34m(self, message_body, encode_chunked)\u001B[0m\n\u001B[0;32m   1040\u001B[0m \u001B[38;5;28;01mdel\u001B[39;00m \u001B[38;5;28mself\u001B[39m\u001B[38;5;241m.\u001B[39m_buffer[:]\n\u001B[1;32m-> 1041\u001B[0m \u001B[38;5;28mself\u001B[39m\u001B[38;5;241m.\u001B[39msend(msg)\n\u001B[0;32m   1043\u001B[0m \u001B[38;5;28;01mif\u001B[39;00m message_body \u001B[38;5;129;01mis\u001B[39;00m \u001B[38;5;129;01mnot\u001B[39;00m \u001B[38;5;28;01mNone\u001B[39;00m:\n\u001B[0;32m   1044\u001B[0m \n\u001B[0;32m   1045\u001B[0m     \u001B[38;5;66;03m# create a consistent interface to message_body\u001B[39;00m\n",
      "File \u001B[1;32m~\\anaconda3\\envs\\pythonProject\\Lib\\http\\client.py:979\u001B[0m, in \u001B[0;36mHTTPConnection.send\u001B[1;34m(self, data)\u001B[0m\n\u001B[0;32m    978\u001B[0m \u001B[38;5;28;01mif\u001B[39;00m \u001B[38;5;28mself\u001B[39m\u001B[38;5;241m.\u001B[39mauto_open:\n\u001B[1;32m--> 979\u001B[0m     \u001B[38;5;28mself\u001B[39m\u001B[38;5;241m.\u001B[39mconnect()\n\u001B[0;32m    980\u001B[0m \u001B[38;5;28;01melse\u001B[39;00m:\n",
      "File \u001B[1;32m~\\anaconda3\\envs\\pythonProject\\Lib\\http\\client.py:1451\u001B[0m, in \u001B[0;36mHTTPSConnection.connect\u001B[1;34m(self)\u001B[0m\n\u001B[0;32m   1449\u001B[0m \u001B[38;5;124m\"\u001B[39m\u001B[38;5;124mConnect to a host on a given (SSL) port.\u001B[39m\u001B[38;5;124m\"\u001B[39m\n\u001B[1;32m-> 1451\u001B[0m \u001B[38;5;28msuper\u001B[39m()\u001B[38;5;241m.\u001B[39mconnect()\n\u001B[0;32m   1453\u001B[0m \u001B[38;5;28;01mif\u001B[39;00m \u001B[38;5;28mself\u001B[39m\u001B[38;5;241m.\u001B[39m_tunnel_host:\n",
      "File \u001B[1;32m~\\anaconda3\\envs\\pythonProject\\Lib\\http\\client.py:945\u001B[0m, in \u001B[0;36mHTTPConnection.connect\u001B[1;34m(self)\u001B[0m\n\u001B[0;32m    944\u001B[0m sys\u001B[38;5;241m.\u001B[39maudit(\u001B[38;5;124m\"\u001B[39m\u001B[38;5;124mhttp.client.connect\u001B[39m\u001B[38;5;124m\"\u001B[39m, \u001B[38;5;28mself\u001B[39m, \u001B[38;5;28mself\u001B[39m\u001B[38;5;241m.\u001B[39mhost, \u001B[38;5;28mself\u001B[39m\u001B[38;5;241m.\u001B[39mport)\n\u001B[1;32m--> 945\u001B[0m \u001B[38;5;28mself\u001B[39m\u001B[38;5;241m.\u001B[39msock \u001B[38;5;241m=\u001B[39m \u001B[38;5;28mself\u001B[39m\u001B[38;5;241m.\u001B[39m_create_connection(\n\u001B[0;32m    946\u001B[0m     (\u001B[38;5;28mself\u001B[39m\u001B[38;5;241m.\u001B[39mhost,\u001B[38;5;28mself\u001B[39m\u001B[38;5;241m.\u001B[39mport), \u001B[38;5;28mself\u001B[39m\u001B[38;5;241m.\u001B[39mtimeout, \u001B[38;5;28mself\u001B[39m\u001B[38;5;241m.\u001B[39msource_address)\n\u001B[0;32m    947\u001B[0m \u001B[38;5;66;03m# Might fail in OSs that don't implement TCP_NODELAY\u001B[39;00m\n",
      "File \u001B[1;32m~\\anaconda3\\envs\\pythonProject\\Lib\\socket.py:851\u001B[0m, in \u001B[0;36mcreate_connection\u001B[1;34m(address, timeout, source_address, all_errors)\u001B[0m\n\u001B[0;32m    850\u001B[0m \u001B[38;5;28;01mif\u001B[39;00m \u001B[38;5;129;01mnot\u001B[39;00m all_errors:\n\u001B[1;32m--> 851\u001B[0m     \u001B[38;5;28;01mraise\u001B[39;00m exceptions[\u001B[38;5;241m0\u001B[39m]\n\u001B[0;32m    852\u001B[0m \u001B[38;5;28;01mraise\u001B[39;00m ExceptionGroup(\u001B[38;5;124m\"\u001B[39m\u001B[38;5;124mcreate_connection failed\u001B[39m\u001B[38;5;124m\"\u001B[39m, exceptions)\n",
      "File \u001B[1;32m~\\anaconda3\\envs\\pythonProject\\Lib\\socket.py:836\u001B[0m, in \u001B[0;36mcreate_connection\u001B[1;34m(address, timeout, source_address, all_errors)\u001B[0m\n\u001B[0;32m    835\u001B[0m     sock\u001B[38;5;241m.\u001B[39mbind(source_address)\n\u001B[1;32m--> 836\u001B[0m sock\u001B[38;5;241m.\u001B[39mconnect(sa)\n\u001B[0;32m    837\u001B[0m \u001B[38;5;66;03m# Break explicitly a reference cycle\u001B[39;00m\n",
      "\u001B[1;31mConnectionRefusedError\u001B[0m: [WinError 10061] Подключение не установлено, т.к. конечный компьютер отверг запрос на подключение",
      "\nDuring handling of the above exception, another exception occurred:\n",
      "\u001B[1;31mURLError\u001B[0m                                  Traceback (most recent call last)",
      "Cell \u001B[1;32mIn[6], line 6\u001B[0m\n\u001B[0;32m      1\u001B[0m page_url \u001B[38;5;241m=\u001B[39m \u001B[38;5;124m'\u001B[39m\u001B[38;5;124mhttps://www.finanz.ru/valyuty/usd-rub\u001B[39m\u001B[38;5;124m'\u001B[39m\n\u001B[0;32m      3\u001B[0m \u001B[38;5;66;03m# Импортируем нужную нам страницу в df\u001B[39;00m\n\u001B[0;32m      4\u001B[0m \u001B[38;5;66;03m# attrs = {'class': 'news_table'} ---> указываем какой именно блок нам нужен\u001B[39;00m\n\u001B[0;32m      5\u001B[0m \u001B[38;5;66;03m# encoding='utf-8' ---> указываем кодировку страниц для корректного отображения кириллицы\u001B[39;00m\n\u001B[1;32m----> 6\u001B[0m df \u001B[38;5;241m=\u001B[39m pd\u001B[38;5;241m.\u001B[39mread_html(page_url, attrs \u001B[38;5;241m=\u001B[39m {\u001B[38;5;124m'\u001B[39m\u001B[38;5;124mclass\u001B[39m\u001B[38;5;124m'\u001B[39m: \u001B[38;5;124m'\u001B[39m\u001B[38;5;124mnews_table\u001B[39m\u001B[38;5;124m'\u001B[39m}, encoding\u001B[38;5;241m=\u001B[39m\u001B[38;5;124m'\u001B[39m\u001B[38;5;124mutf-8\u001B[39m\u001B[38;5;124m'\u001B[39m)\n",
      "File \u001B[1;32m~\\anaconda3\\envs\\pythonProject\\Lib\\site-packages\\pandas\\io\\html.py:1245\u001B[0m, in \u001B[0;36mread_html\u001B[1;34m(io, match, flavor, header, index_col, skiprows, attrs, parse_dates, thousands, encoding, decimal, converters, na_values, keep_default_na, displayed_only, extract_links, dtype_backend, storage_options)\u001B[0m\n\u001B[0;32m   1229\u001B[0m \u001B[38;5;28;01mif\u001B[39;00m \u001B[38;5;28misinstance\u001B[39m(io, \u001B[38;5;28mstr\u001B[39m) \u001B[38;5;129;01mand\u001B[39;00m \u001B[38;5;129;01mnot\u001B[39;00m \u001B[38;5;28many\u001B[39m(\n\u001B[0;32m   1230\u001B[0m     [\n\u001B[0;32m   1231\u001B[0m         is_file_like(io),\n\u001B[1;32m   (...)\u001B[0m\n\u001B[0;32m   1235\u001B[0m     ]\n\u001B[0;32m   1236\u001B[0m ):\n\u001B[0;32m   1237\u001B[0m     warnings\u001B[38;5;241m.\u001B[39mwarn(\n\u001B[0;32m   1238\u001B[0m         \u001B[38;5;124m\"\u001B[39m\u001B[38;5;124mPassing literal html to \u001B[39m\u001B[38;5;124m'\u001B[39m\u001B[38;5;124mread_html\u001B[39m\u001B[38;5;124m'\u001B[39m\u001B[38;5;124m is deprecated and \u001B[39m\u001B[38;5;124m\"\u001B[39m\n\u001B[0;32m   1239\u001B[0m         \u001B[38;5;124m\"\u001B[39m\u001B[38;5;124mwill be removed in a future version. To read from a \u001B[39m\u001B[38;5;124m\"\u001B[39m\n\u001B[1;32m   (...)\u001B[0m\n\u001B[0;32m   1242\u001B[0m         stacklevel\u001B[38;5;241m=\u001B[39mfind_stack_level(),\n\u001B[0;32m   1243\u001B[0m     )\n\u001B[1;32m-> 1245\u001B[0m \u001B[38;5;28;01mreturn\u001B[39;00m _parse(\n\u001B[0;32m   1246\u001B[0m     flavor\u001B[38;5;241m=\u001B[39mflavor,\n\u001B[0;32m   1247\u001B[0m     io\u001B[38;5;241m=\u001B[39mio,\n\u001B[0;32m   1248\u001B[0m     match\u001B[38;5;241m=\u001B[39mmatch,\n\u001B[0;32m   1249\u001B[0m     header\u001B[38;5;241m=\u001B[39mheader,\n\u001B[0;32m   1250\u001B[0m     index_col\u001B[38;5;241m=\u001B[39mindex_col,\n\u001B[0;32m   1251\u001B[0m     skiprows\u001B[38;5;241m=\u001B[39mskiprows,\n\u001B[0;32m   1252\u001B[0m     parse_dates\u001B[38;5;241m=\u001B[39mparse_dates,\n\u001B[0;32m   1253\u001B[0m     thousands\u001B[38;5;241m=\u001B[39mthousands,\n\u001B[0;32m   1254\u001B[0m     attrs\u001B[38;5;241m=\u001B[39mattrs,\n\u001B[0;32m   1255\u001B[0m     encoding\u001B[38;5;241m=\u001B[39mencoding,\n\u001B[0;32m   1256\u001B[0m     decimal\u001B[38;5;241m=\u001B[39mdecimal,\n\u001B[0;32m   1257\u001B[0m     converters\u001B[38;5;241m=\u001B[39mconverters,\n\u001B[0;32m   1258\u001B[0m     na_values\u001B[38;5;241m=\u001B[39mna_values,\n\u001B[0;32m   1259\u001B[0m     keep_default_na\u001B[38;5;241m=\u001B[39mkeep_default_na,\n\u001B[0;32m   1260\u001B[0m     displayed_only\u001B[38;5;241m=\u001B[39mdisplayed_only,\n\u001B[0;32m   1261\u001B[0m     extract_links\u001B[38;5;241m=\u001B[39mextract_links,\n\u001B[0;32m   1262\u001B[0m     dtype_backend\u001B[38;5;241m=\u001B[39mdtype_backend,\n\u001B[0;32m   1263\u001B[0m     storage_options\u001B[38;5;241m=\u001B[39mstorage_options,\n\u001B[0;32m   1264\u001B[0m )\n",
      "File \u001B[1;32m~\\anaconda3\\envs\\pythonProject\\Lib\\site-packages\\pandas\\io\\html.py:988\u001B[0m, in \u001B[0;36m_parse\u001B[1;34m(flavor, io, match, attrs, encoding, displayed_only, extract_links, storage_options, **kwargs)\u001B[0m\n\u001B[0;32m    977\u001B[0m p \u001B[38;5;241m=\u001B[39m parser(\n\u001B[0;32m    978\u001B[0m     io,\n\u001B[0;32m    979\u001B[0m     compiled_match,\n\u001B[1;32m   (...)\u001B[0m\n\u001B[0;32m    984\u001B[0m     storage_options,\n\u001B[0;32m    985\u001B[0m )\n\u001B[0;32m    987\u001B[0m \u001B[38;5;28;01mtry\u001B[39;00m:\n\u001B[1;32m--> 988\u001B[0m     tables \u001B[38;5;241m=\u001B[39m p\u001B[38;5;241m.\u001B[39mparse_tables()\n\u001B[0;32m    989\u001B[0m \u001B[38;5;28;01mexcept\u001B[39;00m \u001B[38;5;167;01mValueError\u001B[39;00m \u001B[38;5;28;01mas\u001B[39;00m caught:\n\u001B[0;32m    990\u001B[0m     \u001B[38;5;66;03m# if `io` is an io-like object, check if it's seekable\u001B[39;00m\n\u001B[0;32m    991\u001B[0m     \u001B[38;5;66;03m# and try to rewind it before trying the next parser\u001B[39;00m\n\u001B[0;32m    992\u001B[0m     \u001B[38;5;28;01mif\u001B[39;00m \u001B[38;5;28mhasattr\u001B[39m(io, \u001B[38;5;124m\"\u001B[39m\u001B[38;5;124mseekable\u001B[39m\u001B[38;5;124m\"\u001B[39m) \u001B[38;5;129;01mand\u001B[39;00m io\u001B[38;5;241m.\u001B[39mseekable():\n",
      "File \u001B[1;32m~\\anaconda3\\envs\\pythonProject\\Lib\\site-packages\\pandas\\io\\html.py:248\u001B[0m, in \u001B[0;36m_HtmlFrameParser.parse_tables\u001B[1;34m(self)\u001B[0m\n\u001B[0;32m    240\u001B[0m \u001B[38;5;28;01mdef\u001B[39;00m \u001B[38;5;21mparse_tables\u001B[39m(\u001B[38;5;28mself\u001B[39m):\n\u001B[0;32m    241\u001B[0m \u001B[38;5;250m    \u001B[39m\u001B[38;5;124;03m\"\"\"\u001B[39;00m\n\u001B[0;32m    242\u001B[0m \u001B[38;5;124;03m    Parse and return all tables from the DOM.\u001B[39;00m\n\u001B[0;32m    243\u001B[0m \n\u001B[1;32m   (...)\u001B[0m\n\u001B[0;32m    246\u001B[0m \u001B[38;5;124;03m    list of parsed (header, body, footer) tuples from tables.\u001B[39;00m\n\u001B[0;32m    247\u001B[0m \u001B[38;5;124;03m    \"\"\"\u001B[39;00m\n\u001B[1;32m--> 248\u001B[0m     tables \u001B[38;5;241m=\u001B[39m \u001B[38;5;28mself\u001B[39m\u001B[38;5;241m.\u001B[39m_parse_tables(\u001B[38;5;28mself\u001B[39m\u001B[38;5;241m.\u001B[39m_build_doc(), \u001B[38;5;28mself\u001B[39m\u001B[38;5;241m.\u001B[39mmatch, \u001B[38;5;28mself\u001B[39m\u001B[38;5;241m.\u001B[39mattrs)\n\u001B[0;32m    249\u001B[0m     \u001B[38;5;28;01mreturn\u001B[39;00m (\u001B[38;5;28mself\u001B[39m\u001B[38;5;241m.\u001B[39m_parse_thead_tbody_tfoot(table) \u001B[38;5;28;01mfor\u001B[39;00m table \u001B[38;5;129;01min\u001B[39;00m tables)\n",
      "File \u001B[1;32m~\\anaconda3\\envs\\pythonProject\\Lib\\site-packages\\pandas\\io\\html.py:811\u001B[0m, in \u001B[0;36m_LxmlFrameParser._build_doc\u001B[1;34m(self)\u001B[0m\n\u001B[0;32m    809\u001B[0m             \u001B[38;5;28;01mpass\u001B[39;00m\n\u001B[0;32m    810\u001B[0m     \u001B[38;5;28;01melse\u001B[39;00m:\n\u001B[1;32m--> 811\u001B[0m         \u001B[38;5;28;01mraise\u001B[39;00m e\n\u001B[0;32m    812\u001B[0m \u001B[38;5;28;01melse\u001B[39;00m:\n\u001B[0;32m    813\u001B[0m     \u001B[38;5;28;01mif\u001B[39;00m \u001B[38;5;129;01mnot\u001B[39;00m \u001B[38;5;28mhasattr\u001B[39m(r, \u001B[38;5;124m\"\u001B[39m\u001B[38;5;124mtext_content\u001B[39m\u001B[38;5;124m\"\u001B[39m):\n",
      "File \u001B[1;32m~\\anaconda3\\envs\\pythonProject\\Lib\\site-packages\\pandas\\io\\html.py:790\u001B[0m, in \u001B[0;36m_LxmlFrameParser._build_doc\u001B[1;34m(self)\u001B[0m\n\u001B[0;32m    788\u001B[0m \u001B[38;5;28;01mtry\u001B[39;00m:\n\u001B[0;32m    789\u001B[0m     \u001B[38;5;28;01mif\u001B[39;00m is_url(\u001B[38;5;28mself\u001B[39m\u001B[38;5;241m.\u001B[39mio):\n\u001B[1;32m--> 790\u001B[0m         \u001B[38;5;28;01mwith\u001B[39;00m get_handle(\n\u001B[0;32m    791\u001B[0m             \u001B[38;5;28mself\u001B[39m\u001B[38;5;241m.\u001B[39mio, \u001B[38;5;124m\"\u001B[39m\u001B[38;5;124mr\u001B[39m\u001B[38;5;124m\"\u001B[39m, storage_options\u001B[38;5;241m=\u001B[39m\u001B[38;5;28mself\u001B[39m\u001B[38;5;241m.\u001B[39mstorage_options\n\u001B[0;32m    792\u001B[0m         ) \u001B[38;5;28;01mas\u001B[39;00m f:\n\u001B[0;32m    793\u001B[0m             r \u001B[38;5;241m=\u001B[39m parse(f\u001B[38;5;241m.\u001B[39mhandle, parser\u001B[38;5;241m=\u001B[39mparser)\n\u001B[0;32m    794\u001B[0m     \u001B[38;5;28;01melse\u001B[39;00m:\n\u001B[0;32m    795\u001B[0m         \u001B[38;5;66;03m# try to parse the input in the simplest way\u001B[39;00m\n",
      "File \u001B[1;32m~\\anaconda3\\envs\\pythonProject\\Lib\\site-packages\\pandas\\io\\common.py:718\u001B[0m, in \u001B[0;36mget_handle\u001B[1;34m(path_or_buf, mode, encoding, compression, memory_map, is_text, errors, storage_options)\u001B[0m\n\u001B[0;32m    715\u001B[0m     codecs\u001B[38;5;241m.\u001B[39mlookup_error(errors)\n\u001B[0;32m    717\u001B[0m \u001B[38;5;66;03m# open URLs\u001B[39;00m\n\u001B[1;32m--> 718\u001B[0m ioargs \u001B[38;5;241m=\u001B[39m _get_filepath_or_buffer(\n\u001B[0;32m    719\u001B[0m     path_or_buf,\n\u001B[0;32m    720\u001B[0m     encoding\u001B[38;5;241m=\u001B[39mencoding,\n\u001B[0;32m    721\u001B[0m     compression\u001B[38;5;241m=\u001B[39mcompression,\n\u001B[0;32m    722\u001B[0m     mode\u001B[38;5;241m=\u001B[39mmode,\n\u001B[0;32m    723\u001B[0m     storage_options\u001B[38;5;241m=\u001B[39mstorage_options,\n\u001B[0;32m    724\u001B[0m )\n\u001B[0;32m    726\u001B[0m handle \u001B[38;5;241m=\u001B[39m ioargs\u001B[38;5;241m.\u001B[39mfilepath_or_buffer\n\u001B[0;32m    727\u001B[0m handles: \u001B[38;5;28mlist\u001B[39m[BaseBuffer]\n",
      "File \u001B[1;32m~\\anaconda3\\envs\\pythonProject\\Lib\\site-packages\\pandas\\io\\common.py:372\u001B[0m, in \u001B[0;36m_get_filepath_or_buffer\u001B[1;34m(filepath_or_buffer, encoding, compression, mode, storage_options)\u001B[0m\n\u001B[0;32m    370\u001B[0m \u001B[38;5;66;03m# assuming storage_options is to be interpreted as headers\u001B[39;00m\n\u001B[0;32m    371\u001B[0m req_info \u001B[38;5;241m=\u001B[39m urllib\u001B[38;5;241m.\u001B[39mrequest\u001B[38;5;241m.\u001B[39mRequest(filepath_or_buffer, headers\u001B[38;5;241m=\u001B[39mstorage_options)\n\u001B[1;32m--> 372\u001B[0m \u001B[38;5;28;01mwith\u001B[39;00m urlopen(req_info) \u001B[38;5;28;01mas\u001B[39;00m req:\n\u001B[0;32m    373\u001B[0m     content_encoding \u001B[38;5;241m=\u001B[39m req\u001B[38;5;241m.\u001B[39mheaders\u001B[38;5;241m.\u001B[39mget(\u001B[38;5;124m\"\u001B[39m\u001B[38;5;124mContent-Encoding\u001B[39m\u001B[38;5;124m\"\u001B[39m, \u001B[38;5;28;01mNone\u001B[39;00m)\n\u001B[0;32m    374\u001B[0m     \u001B[38;5;28;01mif\u001B[39;00m content_encoding \u001B[38;5;241m==\u001B[39m \u001B[38;5;124m\"\u001B[39m\u001B[38;5;124mgzip\u001B[39m\u001B[38;5;124m\"\u001B[39m:\n\u001B[0;32m    375\u001B[0m         \u001B[38;5;66;03m# Override compression based on Content-Encoding header\u001B[39;00m\n",
      "File \u001B[1;32m~\\anaconda3\\envs\\pythonProject\\Lib\\site-packages\\pandas\\io\\common.py:274\u001B[0m, in \u001B[0;36murlopen\u001B[1;34m(*args, **kwargs)\u001B[0m\n\u001B[0;32m    268\u001B[0m \u001B[38;5;250m\u001B[39m\u001B[38;5;124;03m\"\"\"\u001B[39;00m\n\u001B[0;32m    269\u001B[0m \u001B[38;5;124;03mLazy-import wrapper for stdlib urlopen, as that imports a big chunk of\u001B[39;00m\n\u001B[0;32m    270\u001B[0m \u001B[38;5;124;03mthe stdlib.\u001B[39;00m\n\u001B[0;32m    271\u001B[0m \u001B[38;5;124;03m\"\"\"\u001B[39;00m\n\u001B[0;32m    272\u001B[0m \u001B[38;5;28;01mimport\u001B[39;00m \u001B[38;5;21;01murllib\u001B[39;00m\u001B[38;5;21;01m.\u001B[39;00m\u001B[38;5;21;01mrequest\u001B[39;00m\n\u001B[1;32m--> 274\u001B[0m \u001B[38;5;28;01mreturn\u001B[39;00m urllib\u001B[38;5;241m.\u001B[39mrequest\u001B[38;5;241m.\u001B[39murlopen(\u001B[38;5;241m*\u001B[39margs, \u001B[38;5;241m*\u001B[39m\u001B[38;5;241m*\u001B[39mkwargs)\n",
      "File \u001B[1;32m~\\anaconda3\\envs\\pythonProject\\Lib\\urllib\\request.py:216\u001B[0m, in \u001B[0;36murlopen\u001B[1;34m(url, data, timeout, cafile, capath, cadefault, context)\u001B[0m\n\u001B[0;32m    214\u001B[0m \u001B[38;5;28;01melse\u001B[39;00m:\n\u001B[0;32m    215\u001B[0m     opener \u001B[38;5;241m=\u001B[39m _opener\n\u001B[1;32m--> 216\u001B[0m \u001B[38;5;28;01mreturn\u001B[39;00m opener\u001B[38;5;241m.\u001B[39mopen(url, data, timeout)\n",
      "File \u001B[1;32m~\\anaconda3\\envs\\pythonProject\\Lib\\urllib\\request.py:519\u001B[0m, in \u001B[0;36mOpenerDirector.open\u001B[1;34m(self, fullurl, data, timeout)\u001B[0m\n\u001B[0;32m    516\u001B[0m     req \u001B[38;5;241m=\u001B[39m meth(req)\n\u001B[0;32m    518\u001B[0m sys\u001B[38;5;241m.\u001B[39maudit(\u001B[38;5;124m'\u001B[39m\u001B[38;5;124murllib.Request\u001B[39m\u001B[38;5;124m'\u001B[39m, req\u001B[38;5;241m.\u001B[39mfull_url, req\u001B[38;5;241m.\u001B[39mdata, req\u001B[38;5;241m.\u001B[39mheaders, req\u001B[38;5;241m.\u001B[39mget_method())\n\u001B[1;32m--> 519\u001B[0m response \u001B[38;5;241m=\u001B[39m \u001B[38;5;28mself\u001B[39m\u001B[38;5;241m.\u001B[39m_open(req, data)\n\u001B[0;32m    521\u001B[0m \u001B[38;5;66;03m# post-process response\u001B[39;00m\n\u001B[0;32m    522\u001B[0m meth_name \u001B[38;5;241m=\u001B[39m protocol\u001B[38;5;241m+\u001B[39m\u001B[38;5;124m\"\u001B[39m\u001B[38;5;124m_response\u001B[39m\u001B[38;5;124m\"\u001B[39m\n",
      "File \u001B[1;32m~\\anaconda3\\envs\\pythonProject\\Lib\\urllib\\request.py:536\u001B[0m, in \u001B[0;36mOpenerDirector._open\u001B[1;34m(self, req, data)\u001B[0m\n\u001B[0;32m    533\u001B[0m     \u001B[38;5;28;01mreturn\u001B[39;00m result\n\u001B[0;32m    535\u001B[0m protocol \u001B[38;5;241m=\u001B[39m req\u001B[38;5;241m.\u001B[39mtype\n\u001B[1;32m--> 536\u001B[0m result \u001B[38;5;241m=\u001B[39m \u001B[38;5;28mself\u001B[39m\u001B[38;5;241m.\u001B[39m_call_chain(\u001B[38;5;28mself\u001B[39m\u001B[38;5;241m.\u001B[39mhandle_open, protocol, protocol \u001B[38;5;241m+\u001B[39m\n\u001B[0;32m    537\u001B[0m                           \u001B[38;5;124m'\u001B[39m\u001B[38;5;124m_open\u001B[39m\u001B[38;5;124m'\u001B[39m, req)\n\u001B[0;32m    538\u001B[0m \u001B[38;5;28;01mif\u001B[39;00m result:\n\u001B[0;32m    539\u001B[0m     \u001B[38;5;28;01mreturn\u001B[39;00m result\n",
      "File \u001B[1;32m~\\anaconda3\\envs\\pythonProject\\Lib\\urllib\\request.py:496\u001B[0m, in \u001B[0;36mOpenerDirector._call_chain\u001B[1;34m(self, chain, kind, meth_name, *args)\u001B[0m\n\u001B[0;32m    494\u001B[0m \u001B[38;5;28;01mfor\u001B[39;00m handler \u001B[38;5;129;01min\u001B[39;00m handlers:\n\u001B[0;32m    495\u001B[0m     func \u001B[38;5;241m=\u001B[39m \u001B[38;5;28mgetattr\u001B[39m(handler, meth_name)\n\u001B[1;32m--> 496\u001B[0m     result \u001B[38;5;241m=\u001B[39m func(\u001B[38;5;241m*\u001B[39margs)\n\u001B[0;32m    497\u001B[0m     \u001B[38;5;28;01mif\u001B[39;00m result \u001B[38;5;129;01mis\u001B[39;00m \u001B[38;5;129;01mnot\u001B[39;00m \u001B[38;5;28;01mNone\u001B[39;00m:\n\u001B[0;32m    498\u001B[0m         \u001B[38;5;28;01mreturn\u001B[39;00m result\n",
      "File \u001B[1;32m~\\anaconda3\\envs\\pythonProject\\Lib\\urllib\\request.py:1391\u001B[0m, in \u001B[0;36mHTTPSHandler.https_open\u001B[1;34m(self, req)\u001B[0m\n\u001B[0;32m   1390\u001B[0m \u001B[38;5;28;01mdef\u001B[39;00m \u001B[38;5;21mhttps_open\u001B[39m(\u001B[38;5;28mself\u001B[39m, req):\n\u001B[1;32m-> 1391\u001B[0m     \u001B[38;5;28;01mreturn\u001B[39;00m \u001B[38;5;28mself\u001B[39m\u001B[38;5;241m.\u001B[39mdo_open(http\u001B[38;5;241m.\u001B[39mclient\u001B[38;5;241m.\u001B[39mHTTPSConnection, req,\n\u001B[0;32m   1392\u001B[0m         context\u001B[38;5;241m=\u001B[39m\u001B[38;5;28mself\u001B[39m\u001B[38;5;241m.\u001B[39m_context, check_hostname\u001B[38;5;241m=\u001B[39m\u001B[38;5;28mself\u001B[39m\u001B[38;5;241m.\u001B[39m_check_hostname)\n",
      "File \u001B[1;32m~\\anaconda3\\envs\\pythonProject\\Lib\\urllib\\request.py:1351\u001B[0m, in \u001B[0;36mAbstractHTTPHandler.do_open\u001B[1;34m(self, http_class, req, **http_conn_args)\u001B[0m\n\u001B[0;32m   1348\u001B[0m         h\u001B[38;5;241m.\u001B[39mrequest(req\u001B[38;5;241m.\u001B[39mget_method(), req\u001B[38;5;241m.\u001B[39mselector, req\u001B[38;5;241m.\u001B[39mdata, headers,\n\u001B[0;32m   1349\u001B[0m                   encode_chunked\u001B[38;5;241m=\u001B[39mreq\u001B[38;5;241m.\u001B[39mhas_header(\u001B[38;5;124m'\u001B[39m\u001B[38;5;124mTransfer-encoding\u001B[39m\u001B[38;5;124m'\u001B[39m))\n\u001B[0;32m   1350\u001B[0m     \u001B[38;5;28;01mexcept\u001B[39;00m \u001B[38;5;167;01mOSError\u001B[39;00m \u001B[38;5;28;01mas\u001B[39;00m err: \u001B[38;5;66;03m# timeout error\u001B[39;00m\n\u001B[1;32m-> 1351\u001B[0m         \u001B[38;5;28;01mraise\u001B[39;00m URLError(err)\n\u001B[0;32m   1352\u001B[0m     r \u001B[38;5;241m=\u001B[39m h\u001B[38;5;241m.\u001B[39mgetresponse()\n\u001B[0;32m   1353\u001B[0m \u001B[38;5;28;01mexcept\u001B[39;00m:\n",
      "\u001B[1;31mURLError\u001B[0m: <urlopen error [WinError 10061] Подключение не установлено, т.к. конечный компьютер отверг запрос на подключение>"
     ]
    }
   ],
   "source": [
    "page_url = 'https://www.finanz.ru/valyuty/usd-rub'\n",
    "\n",
    "# Импортируем нужную нам страницу в df\n",
    "# attrs = {'class': 'news_table'} ---> указываем какой именно блок нам нужен\n",
    "# encoding='utf-8' ---> указываем кодировку страниц для корректного отображения кириллицы\n",
    "df = pd.read_html(page_url, attrs = {'class': 'news_table'}, encoding='utf-8')"
   ]
  },
  {
   "cell_type": "code",
   "execution_count": 7,
   "metadata": {
    "ExecuteTime": {
     "end_time": "2023-11-12T09:03:44.447262Z",
     "start_time": "2023-11-12T09:03:44.421347100Z"
    }
   },
   "outputs": [
    {
     "ename": "NameError",
     "evalue": "name 'df' is not defined",
     "output_type": "error",
     "traceback": [
      "\u001B[1;31m---------------------------------------------------------------------------\u001B[0m",
      "\u001B[1;31mNameError\u001B[0m                                 Traceback (most recent call last)",
      "Cell \u001B[1;32mIn[7], line 1\u001B[0m\n\u001B[1;32m----> 1\u001B[0m df[:\u001B[38;5;241m5\u001B[39m]\n",
      "\u001B[1;31mNameError\u001B[0m: name 'df' is not defined"
     ]
    }
   ],
   "source": [
    "df[:5]"
   ]
  },
  {
   "cell_type": "markdown",
   "metadata": {},
   "source": [
    "Импорт данных из файла"
   ]
  },
  {
   "cell_type": "code",
   "execution_count": null,
   "metadata": {},
   "outputs": [],
   "source": [
    "csv - comma "
   ]
  },
  {
   "cell_type": "code",
   "execution_count": 8,
   "metadata": {
    "scrolled": false,
    "ExecuteTime": {
     "end_time": "2023-11-12T09:03:48.026523600Z",
     "start_time": "2023-11-12T09:03:47.652987400Z"
    }
   },
   "outputs": [
    {
     "data": {
      "text/plain": "   country  year  quantity  category\n0  Austria  1996       5.0         1\n1  Austria  1995      17.0         1\n2  Belgium  2014       0.0         1\n3  Belgium  2013       0.0         1\n4  Belgium  2012      35.0         1",
      "text/html": "<div>\n<style scoped>\n    .dataframe tbody tr th:only-of-type {\n        vertical-align: middle;\n    }\n\n    .dataframe tbody tr th {\n        vertical-align: top;\n    }\n\n    .dataframe thead th {\n        text-align: right;\n    }\n</style>\n<table border=\"1\" class=\"dataframe\">\n  <thead>\n    <tr style=\"text-align: right;\">\n      <th></th>\n      <th>country</th>\n      <th>year</th>\n      <th>quantity</th>\n      <th>category</th>\n    </tr>\n  </thead>\n  <tbody>\n    <tr>\n      <th>0</th>\n      <td>Austria</td>\n      <td>1996</td>\n      <td>5.0</td>\n      <td>1</td>\n    </tr>\n    <tr>\n      <th>1</th>\n      <td>Austria</td>\n      <td>1995</td>\n      <td>17.0</td>\n      <td>1</td>\n    </tr>\n    <tr>\n      <th>2</th>\n      <td>Belgium</td>\n      <td>2014</td>\n      <td>0.0</td>\n      <td>1</td>\n    </tr>\n    <tr>\n      <th>3</th>\n      <td>Belgium</td>\n      <td>2013</td>\n      <td>0.0</td>\n      <td>1</td>\n    </tr>\n    <tr>\n      <th>4</th>\n      <td>Belgium</td>\n      <td>2012</td>\n      <td>35.0</td>\n      <td>1</td>\n    </tr>\n  </tbody>\n</table>\n</div>"
     },
     "execution_count": 8,
     "metadata": {},
     "output_type": "execute_result"
    }
   ],
   "source": [
    "data = pd.read_csv('D:\\\\Нетология python\\\\Лекция _Библиотека_numpy\\\\10._Основы_pandas\\\\10._Основы_pandas\\\\Файлы к заданию №2\\\\power.csv')\n",
    "data.head()"
   ]
  },
  {
   "cell_type": "code",
   "execution_count": 9,
   "metadata": {
    "ExecuteTime": {
     "end_time": "2023-11-12T09:03:50.502791100Z",
     "start_time": "2023-11-12T09:03:50.488798400Z"
    }
   },
   "outputs": [
    {
     "data": {
      "text/plain": "    country  year  quantity  category\n0   Austria  1996       5.0         1\n1   Austria  1995      17.0         1\n2   Belgium  2014       0.0         1\n3   Belgium  2013       0.0         1\n4   Belgium  2012      35.0         1\n5   Belgium  2011      25.0         1\n6   Belgium  2010      22.0         1\n7   Belgium  2009      45.0         1\n8   Czechia  1998       1.0         1\n9   Czechia  1995       7.0         1\n10  Finland  2010       9.0         1\n11  Finland  2009      13.0         1\n12  Finland  2008      39.0         1\n13  Finland  2007      21.0         1\n14  Finland  2006       0.0         1\n15  Finland  2005       0.0         1\n16  Finland  2004       0.0         1\n17  Finland  2003       0.0         1\n18  Finland  2002       0.0         1\n19  Finland  2001       0.0         1\n20  Finland  2000       0.0         1\n21  Finland  1999       0.0         1\n22  Finland  1998       0.0         1\n23  Finland  1997       0.0         1\n24  Finland  1996       0.0         1\n25  Finland  1995       3.0         1\n26   France  2014     119.0         1\n27   France  2013     102.0         1\n28   France  2012      62.0         1\n29   France  2011      55.0         1",
      "text/html": "<div>\n<style scoped>\n    .dataframe tbody tr th:only-of-type {\n        vertical-align: middle;\n    }\n\n    .dataframe tbody tr th {\n        vertical-align: top;\n    }\n\n    .dataframe thead th {\n        text-align: right;\n    }\n</style>\n<table border=\"1\" class=\"dataframe\">\n  <thead>\n    <tr style=\"text-align: right;\">\n      <th></th>\n      <th>country</th>\n      <th>year</th>\n      <th>quantity</th>\n      <th>category</th>\n    </tr>\n  </thead>\n  <tbody>\n    <tr>\n      <th>0</th>\n      <td>Austria</td>\n      <td>1996</td>\n      <td>5.0</td>\n      <td>1</td>\n    </tr>\n    <tr>\n      <th>1</th>\n      <td>Austria</td>\n      <td>1995</td>\n      <td>17.0</td>\n      <td>1</td>\n    </tr>\n    <tr>\n      <th>2</th>\n      <td>Belgium</td>\n      <td>2014</td>\n      <td>0.0</td>\n      <td>1</td>\n    </tr>\n    <tr>\n      <th>3</th>\n      <td>Belgium</td>\n      <td>2013</td>\n      <td>0.0</td>\n      <td>1</td>\n    </tr>\n    <tr>\n      <th>4</th>\n      <td>Belgium</td>\n      <td>2012</td>\n      <td>35.0</td>\n      <td>1</td>\n    </tr>\n    <tr>\n      <th>5</th>\n      <td>Belgium</td>\n      <td>2011</td>\n      <td>25.0</td>\n      <td>1</td>\n    </tr>\n    <tr>\n      <th>6</th>\n      <td>Belgium</td>\n      <td>2010</td>\n      <td>22.0</td>\n      <td>1</td>\n    </tr>\n    <tr>\n      <th>7</th>\n      <td>Belgium</td>\n      <td>2009</td>\n      <td>45.0</td>\n      <td>1</td>\n    </tr>\n    <tr>\n      <th>8</th>\n      <td>Czechia</td>\n      <td>1998</td>\n      <td>1.0</td>\n      <td>1</td>\n    </tr>\n    <tr>\n      <th>9</th>\n      <td>Czechia</td>\n      <td>1995</td>\n      <td>7.0</td>\n      <td>1</td>\n    </tr>\n    <tr>\n      <th>10</th>\n      <td>Finland</td>\n      <td>2010</td>\n      <td>9.0</td>\n      <td>1</td>\n    </tr>\n    <tr>\n      <th>11</th>\n      <td>Finland</td>\n      <td>2009</td>\n      <td>13.0</td>\n      <td>1</td>\n    </tr>\n    <tr>\n      <th>12</th>\n      <td>Finland</td>\n      <td>2008</td>\n      <td>39.0</td>\n      <td>1</td>\n    </tr>\n    <tr>\n      <th>13</th>\n      <td>Finland</td>\n      <td>2007</td>\n      <td>21.0</td>\n      <td>1</td>\n    </tr>\n    <tr>\n      <th>14</th>\n      <td>Finland</td>\n      <td>2006</td>\n      <td>0.0</td>\n      <td>1</td>\n    </tr>\n    <tr>\n      <th>15</th>\n      <td>Finland</td>\n      <td>2005</td>\n      <td>0.0</td>\n      <td>1</td>\n    </tr>\n    <tr>\n      <th>16</th>\n      <td>Finland</td>\n      <td>2004</td>\n      <td>0.0</td>\n      <td>1</td>\n    </tr>\n    <tr>\n      <th>17</th>\n      <td>Finland</td>\n      <td>2003</td>\n      <td>0.0</td>\n      <td>1</td>\n    </tr>\n    <tr>\n      <th>18</th>\n      <td>Finland</td>\n      <td>2002</td>\n      <td>0.0</td>\n      <td>1</td>\n    </tr>\n    <tr>\n      <th>19</th>\n      <td>Finland</td>\n      <td>2001</td>\n      <td>0.0</td>\n      <td>1</td>\n    </tr>\n    <tr>\n      <th>20</th>\n      <td>Finland</td>\n      <td>2000</td>\n      <td>0.0</td>\n      <td>1</td>\n    </tr>\n    <tr>\n      <th>21</th>\n      <td>Finland</td>\n      <td>1999</td>\n      <td>0.0</td>\n      <td>1</td>\n    </tr>\n    <tr>\n      <th>22</th>\n      <td>Finland</td>\n      <td>1998</td>\n      <td>0.0</td>\n      <td>1</td>\n    </tr>\n    <tr>\n      <th>23</th>\n      <td>Finland</td>\n      <td>1997</td>\n      <td>0.0</td>\n      <td>1</td>\n    </tr>\n    <tr>\n      <th>24</th>\n      <td>Finland</td>\n      <td>1996</td>\n      <td>0.0</td>\n      <td>1</td>\n    </tr>\n    <tr>\n      <th>25</th>\n      <td>Finland</td>\n      <td>1995</td>\n      <td>3.0</td>\n      <td>1</td>\n    </tr>\n    <tr>\n      <th>26</th>\n      <td>France</td>\n      <td>2014</td>\n      <td>119.0</td>\n      <td>1</td>\n    </tr>\n    <tr>\n      <th>27</th>\n      <td>France</td>\n      <td>2013</td>\n      <td>102.0</td>\n      <td>1</td>\n    </tr>\n    <tr>\n      <th>28</th>\n      <td>France</td>\n      <td>2012</td>\n      <td>62.0</td>\n      <td>1</td>\n    </tr>\n    <tr>\n      <th>29</th>\n      <td>France</td>\n      <td>2011</td>\n      <td>55.0</td>\n      <td>1</td>\n    </tr>\n  </tbody>\n</table>\n</div>"
     },
     "execution_count": 9,
     "metadata": {},
     "output_type": "execute_result"
    }
   ],
   "source": [
    "data.head(30)"
   ]
  },
  {
   "cell_type": "code",
   "execution_count": 10,
   "metadata": {
    "scrolled": true,
    "ExecuteTime": {
     "end_time": "2023-11-12T09:03:52.795044200Z",
     "start_time": "2023-11-12T09:03:52.780043200Z"
    }
   },
   "outputs": [
    {
     "data": {
      "text/plain": "          country  year  quantity  category\n1189472   Vanuatu  2010      5.17        71\n1189473   Vanuatu  2009      5.63        71\n1189474   Vanuatu  2008      5.63        71\n1189475  Viet Nam  2014    300.00        71\n1189476  Viet Nam  2013     92.00        71\n1189477  Viet Nam  2012     92.00        71\n1189478  Viet Nam  2011     87.00        71\n1189479  Viet Nam  2010     50.00        71\n1189480  Viet Nam  2009     10.00        71\n1189481  Viet Nam  2008      1.00        71",
      "text/html": "<div>\n<style scoped>\n    .dataframe tbody tr th:only-of-type {\n        vertical-align: middle;\n    }\n\n    .dataframe tbody tr th {\n        vertical-align: top;\n    }\n\n    .dataframe thead th {\n        text-align: right;\n    }\n</style>\n<table border=\"1\" class=\"dataframe\">\n  <thead>\n    <tr style=\"text-align: right;\">\n      <th></th>\n      <th>country</th>\n      <th>year</th>\n      <th>quantity</th>\n      <th>category</th>\n    </tr>\n  </thead>\n  <tbody>\n    <tr>\n      <th>1189472</th>\n      <td>Vanuatu</td>\n      <td>2010</td>\n      <td>5.17</td>\n      <td>71</td>\n    </tr>\n    <tr>\n      <th>1189473</th>\n      <td>Vanuatu</td>\n      <td>2009</td>\n      <td>5.63</td>\n      <td>71</td>\n    </tr>\n    <tr>\n      <th>1189474</th>\n      <td>Vanuatu</td>\n      <td>2008</td>\n      <td>5.63</td>\n      <td>71</td>\n    </tr>\n    <tr>\n      <th>1189475</th>\n      <td>Viet Nam</td>\n      <td>2014</td>\n      <td>300.00</td>\n      <td>71</td>\n    </tr>\n    <tr>\n      <th>1189476</th>\n      <td>Viet Nam</td>\n      <td>2013</td>\n      <td>92.00</td>\n      <td>71</td>\n    </tr>\n    <tr>\n      <th>1189477</th>\n      <td>Viet Nam</td>\n      <td>2012</td>\n      <td>92.00</td>\n      <td>71</td>\n    </tr>\n    <tr>\n      <th>1189478</th>\n      <td>Viet Nam</td>\n      <td>2011</td>\n      <td>87.00</td>\n      <td>71</td>\n    </tr>\n    <tr>\n      <th>1189479</th>\n      <td>Viet Nam</td>\n      <td>2010</td>\n      <td>50.00</td>\n      <td>71</td>\n    </tr>\n    <tr>\n      <th>1189480</th>\n      <td>Viet Nam</td>\n      <td>2009</td>\n      <td>10.00</td>\n      <td>71</td>\n    </tr>\n    <tr>\n      <th>1189481</th>\n      <td>Viet Nam</td>\n      <td>2008</td>\n      <td>1.00</td>\n      <td>71</td>\n    </tr>\n  </tbody>\n</table>\n</div>"
     },
     "execution_count": 10,
     "metadata": {},
     "output_type": "execute_result"
    }
   ],
   "source": [
    "data.tail(10)"
   ]
  },
  {
   "cell_type": "code",
   "execution_count": 11,
   "metadata": {
    "scrolled": true,
    "ExecuteTime": {
     "end_time": "2023-11-12T09:03:55.207438400Z",
     "start_time": "2023-11-12T09:03:55.203165700Z"
    }
   },
   "outputs": [
    {
     "data": {
      "text/plain": "pandas.core.frame.DataFrame"
     },
     "execution_count": 11,
     "metadata": {},
     "output_type": "execute_result"
    }
   ],
   "source": [
    "type(data)"
   ]
  },
  {
   "cell_type": "code",
   "execution_count": null,
   "metadata": {},
   "outputs": [],
   "source": [
    "data."
   ]
  },
  {
   "cell_type": "code",
   "execution_count": null,
   "metadata": {},
   "outputs": [],
   "source": [
    "# если надо указать свои заголовки и разделитель\n",
    "# data = pd.read_csv('power.csv', names = ['страна', 'год', 'количество', 'категория'], sep = '\\t', header=0)\n",
    "# data.head()"
   ]
  },
  {
   "cell_type": "code",
   "execution_count": 12,
   "metadata": {
    "ExecuteTime": {
     "end_time": "2023-11-12T09:03:59.799234300Z",
     "start_time": "2023-11-12T09:03:59.721111Z"
    }
   },
   "outputs": [],
   "source": [
    "?pd.read_csv"
   ]
  },
  {
   "cell_type": "code",
   "execution_count": 13,
   "metadata": {
    "ExecuteTime": {
     "end_time": "2023-11-12T09:04:06.847550500Z",
     "start_time": "2023-11-12T09:04:06.836996400Z"
    }
   },
   "outputs": [
    {
     "data": {
      "text/plain": "1189482"
     },
     "execution_count": 13,
     "metadata": {},
     "output_type": "execute_result"
    }
   ],
   "source": [
    "# количество строк в датафрейме\n",
    "\n",
    "len(data)"
   ]
  },
  {
   "cell_type": "code",
   "execution_count": 14,
   "metadata": {
    "ExecuteTime": {
     "end_time": "2023-11-12T09:04:08.839302500Z",
     "start_time": "2023-11-12T09:04:08.833853700Z"
    }
   },
   "outputs": [
    {
     "data": {
      "text/plain": "(1189482, 4)"
     },
     "execution_count": 14,
     "metadata": {},
     "output_type": "execute_result"
    }
   ],
   "source": [
    "# или так\n",
    "\n",
    "data.shape"
   ]
  },
  {
   "cell_type": "markdown",
   "metadata": {},
   "source": [
    "Простые вычисления для нового столбца"
   ]
  },
  {
   "cell_type": "code",
   "execution_count": 12,
   "metadata": {
    "scrolled": true
   },
   "outputs": [
    {
     "data": {
      "text/html": [
       "<div>\n",
       "<style scoped>\n",
       "    .dataframe tbody tr th:only-of-type {\n",
       "        vertical-align: middle;\n",
       "    }\n",
       "\n",
       "    .dataframe tbody tr th {\n",
       "        vertical-align: top;\n",
       "    }\n",
       "\n",
       "    .dataframe thead th {\n",
       "        text-align: right;\n",
       "    }\n",
       "</style>\n",
       "<table border=\"1\" class=\"dataframe\">\n",
       "  <thead>\n",
       "    <tr style=\"text-align: right;\">\n",
       "      <th></th>\n",
       "      <th>country</th>\n",
       "      <th>year</th>\n",
       "      <th>quantity</th>\n",
       "      <th>category</th>\n",
       "      <th>year_plus_one</th>\n",
       "    </tr>\n",
       "  </thead>\n",
       "  <tbody>\n",
       "    <tr>\n",
       "      <th>0</th>\n",
       "      <td>Austria</td>\n",
       "      <td>1996</td>\n",
       "      <td>5.0</td>\n",
       "      <td>1</td>\n",
       "      <td>1997</td>\n",
       "    </tr>\n",
       "    <tr>\n",
       "      <th>1</th>\n",
       "      <td>Austria</td>\n",
       "      <td>1995</td>\n",
       "      <td>17.0</td>\n",
       "      <td>1</td>\n",
       "      <td>1996</td>\n",
       "    </tr>\n",
       "    <tr>\n",
       "      <th>2</th>\n",
       "      <td>Belgium</td>\n",
       "      <td>2014</td>\n",
       "      <td>0.0</td>\n",
       "      <td>1</td>\n",
       "      <td>2015</td>\n",
       "    </tr>\n",
       "    <tr>\n",
       "      <th>3</th>\n",
       "      <td>Belgium</td>\n",
       "      <td>2013</td>\n",
       "      <td>0.0</td>\n",
       "      <td>1</td>\n",
       "      <td>2014</td>\n",
       "    </tr>\n",
       "    <tr>\n",
       "      <th>4</th>\n",
       "      <td>Belgium</td>\n",
       "      <td>2012</td>\n",
       "      <td>35.0</td>\n",
       "      <td>1</td>\n",
       "      <td>2013</td>\n",
       "    </tr>\n",
       "  </tbody>\n",
       "</table>\n",
       "</div>"
      ],
      "text/plain": [
       "   country  year  quantity  category  year_plus_one\n",
       "0  Austria  1996       5.0         1           1997\n",
       "1  Austria  1995      17.0         1           1996\n",
       "2  Belgium  2014       0.0         1           2015\n",
       "3  Belgium  2013       0.0         1           2014\n",
       "4  Belgium  2012      35.0         1           2013"
      ]
     },
     "execution_count": 12,
     "metadata": {},
     "output_type": "execute_result"
    }
   ],
   "source": [
    "data['year_plus_one'] = data['year'] + 1\n",
    "data.head()"
   ]
  },
  {
   "cell_type": "markdown",
   "metadata": {},
   "source": [
    "### Основные сведения о датафрейме"
   ]
  },
  {
   "cell_type": "code",
   "execution_count": 13,
   "metadata": {},
   "outputs": [
    {
     "name": "stdout",
     "output_type": "stream",
     "text": [
      "<class 'pandas.core.frame.DataFrame'>\n",
      "RangeIndex: 1189482 entries, 0 to 1189481\n",
      "Data columns (total 5 columns):\n",
      "country          1189482 non-null object\n",
      "year             1189482 non-null int64\n",
      "quantity         1189482 non-null float64\n",
      "category         1189482 non-null int64\n",
      "year_plus_one    1189482 non-null int64\n",
      "dtypes: float64(1), int64(3), object(1)\n",
      "memory usage: 45.4+ MB\n"
     ]
    }
   ],
   "source": [
    "data.info()"
   ]
  },
  {
   "cell_type": "code",
   "execution_count": 14,
   "metadata": {},
   "outputs": [
    {
     "data": {
      "text/plain": [
       "18446744073709551616"
      ]
     },
     "execution_count": 14,
     "metadata": {},
     "output_type": "execute_result"
    }
   ],
   "source": [
    "2**64"
   ]
  },
  {
   "cell_type": "code",
   "execution_count": null,
   "metadata": {},
   "outputs": [],
   "source": [
    "None"
   ]
  },
  {
   "cell_type": "code",
   "execution_count": 15,
   "metadata": {
    "scrolled": false
   },
   "outputs": [
    {
     "data": {
      "text/html": [
       "<div>\n",
       "<style scoped>\n",
       "    .dataframe tbody tr th:only-of-type {\n",
       "        vertical-align: middle;\n",
       "    }\n",
       "\n",
       "    .dataframe tbody tr th {\n",
       "        vertical-align: top;\n",
       "    }\n",
       "\n",
       "    .dataframe thead th {\n",
       "        text-align: right;\n",
       "    }\n",
       "</style>\n",
       "<table border=\"1\" class=\"dataframe\">\n",
       "  <thead>\n",
       "    <tr style=\"text-align: right;\">\n",
       "      <th></th>\n",
       "      <th>year</th>\n",
       "      <th>quantity</th>\n",
       "      <th>category</th>\n",
       "      <th>year_plus_one</th>\n",
       "    </tr>\n",
       "  </thead>\n",
       "  <tbody>\n",
       "    <tr>\n",
       "      <th>count</th>\n",
       "      <td>1.189482e+06</td>\n",
       "      <td>1.189482e+06</td>\n",
       "      <td>1.189482e+06</td>\n",
       "      <td>1.189482e+06</td>\n",
       "    </tr>\n",
       "    <tr>\n",
       "      <th>mean</th>\n",
       "      <td>2.002852e+03</td>\n",
       "      <td>1.842648e+05</td>\n",
       "      <td>3.624763e+01</td>\n",
       "      <td>2.003852e+03</td>\n",
       "    </tr>\n",
       "    <tr>\n",
       "      <th>std</th>\n",
       "      <td>7.167345e+00</td>\n",
       "      <td>1.585663e+07</td>\n",
       "      <td>1.809968e+01</td>\n",
       "      <td>7.167345e+00</td>\n",
       "    </tr>\n",
       "    <tr>\n",
       "      <th>min</th>\n",
       "      <td>1.990000e+03</td>\n",
       "      <td>-8.643480e+05</td>\n",
       "      <td>1.000000e+00</td>\n",
       "      <td>1.991000e+03</td>\n",
       "    </tr>\n",
       "    <tr>\n",
       "      <th>25%</th>\n",
       "      <td>1.997000e+03</td>\n",
       "      <td>1.400000e+01</td>\n",
       "      <td>2.400000e+01</td>\n",
       "      <td>1.998000e+03</td>\n",
       "    </tr>\n",
       "    <tr>\n",
       "      <th>50%</th>\n",
       "      <td>2.003000e+03</td>\n",
       "      <td>1.890000e+02</td>\n",
       "      <td>3.500000e+01</td>\n",
       "      <td>2.004000e+03</td>\n",
       "    </tr>\n",
       "    <tr>\n",
       "      <th>75%</th>\n",
       "      <td>2.009000e+03</td>\n",
       "      <td>2.265000e+03</td>\n",
       "      <td>5.100000e+01</td>\n",
       "      <td>2.010000e+03</td>\n",
       "    </tr>\n",
       "    <tr>\n",
       "      <th>max</th>\n",
       "      <td>2.014000e+03</td>\n",
       "      <td>6.680329e+09</td>\n",
       "      <td>7.100000e+01</td>\n",
       "      <td>2.015000e+03</td>\n",
       "    </tr>\n",
       "  </tbody>\n",
       "</table>\n",
       "</div>"
      ],
      "text/plain": [
       "               year      quantity      category  year_plus_one\n",
       "count  1.189482e+06  1.189482e+06  1.189482e+06   1.189482e+06\n",
       "mean   2.002852e+03  1.842648e+05  3.624763e+01   2.003852e+03\n",
       "std    7.167345e+00  1.585663e+07  1.809968e+01   7.167345e+00\n",
       "min    1.990000e+03 -8.643480e+05  1.000000e+00   1.991000e+03\n",
       "25%    1.997000e+03  1.400000e+01  2.400000e+01   1.998000e+03\n",
       "50%    2.003000e+03  1.890000e+02  3.500000e+01   2.004000e+03\n",
       "75%    2.009000e+03  2.265000e+03  5.100000e+01   2.010000e+03\n",
       "max    2.014000e+03  6.680329e+09  7.100000e+01   2.015000e+03"
      ]
     },
     "execution_count": 15,
     "metadata": {},
     "output_type": "execute_result"
    }
   ],
   "source": [
    "# немного статистики\n",
    "\n",
    "data.describe()"
   ]
  },
  {
   "cell_type": "markdown",
   "metadata": {},
   "source": [
    "### Отдельный столбец (тип Series)"
   ]
  },
  {
   "cell_type": "code",
   "execution_count": 16,
   "metadata": {},
   "outputs": [
    {
     "data": {
      "text/plain": [
       "0    1996\n",
       "1    1995\n",
       "2    2014\n",
       "3    2013\n",
       "4    2012\n",
       "Name: year, dtype: int64"
      ]
     },
     "execution_count": 16,
     "metadata": {},
     "output_type": "execute_result"
    }
   ],
   "source": [
    "data['year plus one'].head()"
   ]
  },
  {
   "cell_type": "code",
   "execution_count": 17,
   "metadata": {
    "scrolled": true
   },
   "outputs": [
    {
     "data": {
      "text/plain": [
       "0    1996\n",
       "1    1995\n",
       "2    2014\n",
       "3    2013\n",
       "4    2012\n",
       "Name: year, dtype: int64"
      ]
     },
     "execution_count": 17,
     "metadata": {},
     "output_type": "execute_result"
    }
   ],
   "source": [
    "# или так\n",
    "\n",
    "data.year.head()"
   ]
  },
  {
   "cell_type": "code",
   "execution_count": 18,
   "metadata": {
    "scrolled": true
   },
   "outputs": [
    {
     "data": {
      "text/plain": [
       "pandas.core.series.Series"
      ]
     },
     "execution_count": 18,
     "metadata": {},
     "output_type": "execute_result"
    }
   ],
   "source": [
    "type(data['year'])"
   ]
  },
  {
   "cell_type": "code",
   "execution_count": 19,
   "metadata": {},
   "outputs": [
    {
     "data": {
      "text/html": [
       "<div>\n",
       "<style scoped>\n",
       "    .dataframe tbody tr th:only-of-type {\n",
       "        vertical-align: middle;\n",
       "    }\n",
       "\n",
       "    .dataframe tbody tr th {\n",
       "        vertical-align: top;\n",
       "    }\n",
       "\n",
       "    .dataframe thead th {\n",
       "        text-align: right;\n",
       "    }\n",
       "</style>\n",
       "<table border=\"1\" class=\"dataframe\">\n",
       "  <thead>\n",
       "    <tr style=\"text-align: right;\">\n",
       "      <th></th>\n",
       "      <th>country</th>\n",
       "      <th>year</th>\n",
       "      <th>quantity</th>\n",
       "      <th>category</th>\n",
       "      <th>year_plus_one</th>\n",
       "    </tr>\n",
       "  </thead>\n",
       "  <tbody>\n",
       "    <tr>\n",
       "      <th>0</th>\n",
       "      <td>Austria</td>\n",
       "      <td>1996</td>\n",
       "      <td>5.0</td>\n",
       "      <td>1</td>\n",
       "      <td>1997</td>\n",
       "    </tr>\n",
       "    <tr>\n",
       "      <th>1</th>\n",
       "      <td>Austria</td>\n",
       "      <td>1995</td>\n",
       "      <td>17.0</td>\n",
       "      <td>1</td>\n",
       "      <td>1996</td>\n",
       "    </tr>\n",
       "    <tr>\n",
       "      <th>2</th>\n",
       "      <td>Belgium</td>\n",
       "      <td>2014</td>\n",
       "      <td>0.0</td>\n",
       "      <td>1</td>\n",
       "      <td>2015</td>\n",
       "    </tr>\n",
       "    <tr>\n",
       "      <th>3</th>\n",
       "      <td>Belgium</td>\n",
       "      <td>2013</td>\n",
       "      <td>0.0</td>\n",
       "      <td>1</td>\n",
       "      <td>2014</td>\n",
       "    </tr>\n",
       "    <tr>\n",
       "      <th>4</th>\n",
       "      <td>Belgium</td>\n",
       "      <td>2012</td>\n",
       "      <td>35.0</td>\n",
       "      <td>1</td>\n",
       "      <td>2013</td>\n",
       "    </tr>\n",
       "  </tbody>\n",
       "</table>\n",
       "</div>"
      ],
      "text/plain": [
       "   country  year  quantity  category  year_plus_one\n",
       "0  Austria  1996       5.0         1           1997\n",
       "1  Austria  1995      17.0         1           1996\n",
       "2  Belgium  2014       0.0         1           2015\n",
       "3  Belgium  2013       0.0         1           2014\n",
       "4  Belgium  2012      35.0         1           2013"
      ]
     },
     "execution_count": 19,
     "metadata": {},
     "output_type": "execute_result"
    }
   ],
   "source": [
    "data.head()"
   ]
  },
  {
   "cell_type": "code",
   "execution_count": 20,
   "metadata": {},
   "outputs": [
    {
     "data": {
      "text/plain": [
       "array([ 1,  2,  3,  4,  5,  6,  7,  8,  9, 10, 11, 13, 12, 14, 15, 16, 17,\n",
       "       18, 19, 20, 21, 22, 23, 24, 25, 26, 27, 28, 29, 30, 31, 32, 33, 34,\n",
       "       35, 36, 37, 38, 39, 40, 41, 42, 43, 44, 45, 46, 47, 48, 49, 50, 51,\n",
       "       52, 53, 54, 55, 56, 57, 58, 59, 60, 61, 62, 63, 64, 65, 66, 67, 68,\n",
       "       69, 70, 71])"
      ]
     },
     "execution_count": 20,
     "metadata": {},
     "output_type": "execute_result"
    }
   ],
   "source": [
    "# уникальные значения в столбце\n",
    "\n",
    "data['category'].unique()"
   ]
  },
  {
   "cell_type": "code",
   "execution_count": 22,
   "metadata": {},
   "outputs": [
    {
     "data": {
      "text/plain": [
       "{1, 2}"
      ]
     },
     "execution_count": 22,
     "metadata": {},
     "output_type": "execute_result"
    }
   ],
   "source": [
    "set([1, 1, 1, 2])"
   ]
  },
  {
   "cell_type": "code",
   "execution_count": 23,
   "metadata": {},
   "outputs": [
    {
     "data": {
      "text/plain": [
       "71"
      ]
     },
     "execution_count": 23,
     "metadata": {},
     "output_type": "execute_result"
    }
   ],
   "source": [
    "len(data['category'].unique())"
   ]
  },
  {
   "cell_type": "code",
   "execution_count": 24,
   "metadata": {},
   "outputs": [
    {
     "data": {
      "text/plain": [
       "71"
      ]
     },
     "execution_count": 24,
     "metadata": {},
     "output_type": "execute_result"
    }
   ],
   "source": [
    "data['category'].nunique()"
   ]
  },
  {
   "cell_type": "code",
   "execution_count": null,
   "metadata": {},
   "outputs": [],
   "source": [
    "data['category'].head()"
   ]
  },
  {
   "cell_type": "code",
   "execution_count": 21,
   "metadata": {},
   "outputs": [
    {
     "data": {
      "text/plain": [
       "67    133916\n",
       "27     97645\n",
       "24     75132\n",
       "42     64161\n",
       "37     62156\n",
       "39     53198\n",
       "25     52032\n",
       "21     50229\n",
       "51     43466\n",
       "31     42307\n",
       "Name: category, dtype: int64"
      ]
     },
     "execution_count": 21,
     "metadata": {},
     "output_type": "execute_result"
    }
   ],
   "source": [
    "# распределение количества строк по значениям столбца\n",
    "\n",
    "data['category'].value_counts().head(10)"
   ]
  },
  {
   "cell_type": "code",
   "execution_count": 25,
   "metadata": {},
   "outputs": [
    {
     "data": {
      "text/plain": [
       "67    0.112583\n",
       "27    0.082090\n",
       "24    0.063164\n",
       "42    0.053940\n",
       "37    0.052255\n",
       "Name: category, dtype: float64"
      ]
     },
     "execution_count": 25,
     "metadata": {},
     "output_type": "execute_result"
    }
   ],
   "source": [
    "data['category'].value_counts(normalize=True).head()"
   ]
  },
  {
   "cell_type": "markdown",
   "metadata": {},
   "source": [
    "# Фильтры"
   ]
  },
  {
   "cell_type": "code",
   "execution_count": 26,
   "metadata": {},
   "outputs": [
    {
     "data": {
      "text/html": [
       "<div>\n",
       "<style scoped>\n",
       "    .dataframe tbody tr th:only-of-type {\n",
       "        vertical-align: middle;\n",
       "    }\n",
       "\n",
       "    .dataframe tbody tr th {\n",
       "        vertical-align: top;\n",
       "    }\n",
       "\n",
       "    .dataframe thead th {\n",
       "        text-align: right;\n",
       "    }\n",
       "</style>\n",
       "<table border=\"1\" class=\"dataframe\">\n",
       "  <thead>\n",
       "    <tr style=\"text-align: right;\">\n",
       "      <th></th>\n",
       "      <th>country</th>\n",
       "      <th>year</th>\n",
       "      <th>quantity</th>\n",
       "      <th>category</th>\n",
       "    </tr>\n",
       "  </thead>\n",
       "  <tbody>\n",
       "    <tr>\n",
       "      <th>0</th>\n",
       "      <td>Austria</td>\n",
       "      <td>1996</td>\n",
       "      <td>5.0</td>\n",
       "      <td>1</td>\n",
       "    </tr>\n",
       "    <tr>\n",
       "      <th>1</th>\n",
       "      <td>Austria</td>\n",
       "      <td>1995</td>\n",
       "      <td>17.0</td>\n",
       "      <td>1</td>\n",
       "    </tr>\n",
       "    <tr>\n",
       "      <th>2</th>\n",
       "      <td>Belgium</td>\n",
       "      <td>2014</td>\n",
       "      <td>0.0</td>\n",
       "      <td>1</td>\n",
       "    </tr>\n",
       "    <tr>\n",
       "      <th>3</th>\n",
       "      <td>Belgium</td>\n",
       "      <td>2013</td>\n",
       "      <td>0.0</td>\n",
       "      <td>1</td>\n",
       "    </tr>\n",
       "    <tr>\n",
       "      <th>4</th>\n",
       "      <td>Belgium</td>\n",
       "      <td>2012</td>\n",
       "      <td>35.0</td>\n",
       "      <td>1</td>\n",
       "    </tr>\n",
       "  </tbody>\n",
       "</table>\n",
       "</div>"
      ],
      "text/plain": [
       "   country  year  quantity  category\n",
       "0  Austria  1996       5.0         1\n",
       "1  Austria  1995      17.0         1\n",
       "2  Belgium  2014       0.0         1\n",
       "3  Belgium  2013       0.0         1\n",
       "4  Belgium  2012      35.0         1"
      ]
     },
     "execution_count": 26,
     "metadata": {},
     "output_type": "execute_result"
    }
   ],
   "source": [
    "data = pd.read_csv('power.csv')\n",
    "data.head()"
   ]
  },
  {
   "cell_type": "code",
   "execution_count": 27,
   "metadata": {
    "scrolled": true
   },
   "outputs": [
    {
     "data": {
      "text/html": [
       "<div>\n",
       "<style scoped>\n",
       "    .dataframe tbody tr th:only-of-type {\n",
       "        vertical-align: middle;\n",
       "    }\n",
       "\n",
       "    .dataframe tbody tr th {\n",
       "        vertical-align: top;\n",
       "    }\n",
       "\n",
       "    .dataframe thead th {\n",
       "        text-align: right;\n",
       "    }\n",
       "</style>\n",
       "<table border=\"1\" class=\"dataframe\">\n",
       "  <thead>\n",
       "    <tr style=\"text-align: right;\">\n",
       "      <th></th>\n",
       "      <th>country</th>\n",
       "      <th>quantity</th>\n",
       "    </tr>\n",
       "  </thead>\n",
       "  <tbody>\n",
       "    <tr>\n",
       "      <th>0</th>\n",
       "      <td>Austria</td>\n",
       "      <td>5.0</td>\n",
       "    </tr>\n",
       "    <tr>\n",
       "      <th>1</th>\n",
       "      <td>Austria</td>\n",
       "      <td>17.0</td>\n",
       "    </tr>\n",
       "    <tr>\n",
       "      <th>2</th>\n",
       "      <td>Belgium</td>\n",
       "      <td>0.0</td>\n",
       "    </tr>\n",
       "    <tr>\n",
       "      <th>3</th>\n",
       "      <td>Belgium</td>\n",
       "      <td>0.0</td>\n",
       "    </tr>\n",
       "    <tr>\n",
       "      <th>4</th>\n",
       "      <td>Belgium</td>\n",
       "      <td>35.0</td>\n",
       "    </tr>\n",
       "  </tbody>\n",
       "</table>\n",
       "</div>"
      ],
      "text/plain": [
       "   country  quantity\n",
       "0  Austria       5.0\n",
       "1  Austria      17.0\n",
       "2  Belgium       0.0\n",
       "3  Belgium       0.0\n",
       "4  Belgium      35.0"
      ]
     },
     "execution_count": 27,
     "metadata": {},
     "output_type": "execute_result"
    }
   ],
   "source": [
    "# выбрать несколько столбцов\n",
    "\n",
    "country_stats = data.filter(items = ['country', 'quantity'])\n",
    "country_stats.head()"
   ]
  },
  {
   "cell_type": "code",
   "execution_count": null,
   "metadata": {},
   "outputs": [],
   "source": [
    "data['country']"
   ]
  },
  {
   "cell_type": "code",
   "execution_count": 28,
   "metadata": {},
   "outputs": [
    {
     "data": {
      "text/html": [
       "<div>\n",
       "<style scoped>\n",
       "    .dataframe tbody tr th:only-of-type {\n",
       "        vertical-align: middle;\n",
       "    }\n",
       "\n",
       "    .dataframe tbody tr th {\n",
       "        vertical-align: top;\n",
       "    }\n",
       "\n",
       "    .dataframe thead th {\n",
       "        text-align: right;\n",
       "    }\n",
       "</style>\n",
       "<table border=\"1\" class=\"dataframe\">\n",
       "  <thead>\n",
       "    <tr style=\"text-align: right;\">\n",
       "      <th></th>\n",
       "      <th>country</th>\n",
       "      <th>quantity</th>\n",
       "    </tr>\n",
       "  </thead>\n",
       "  <tbody>\n",
       "    <tr>\n",
       "      <th>0</th>\n",
       "      <td>Austria</td>\n",
       "      <td>5.0</td>\n",
       "    </tr>\n",
       "    <tr>\n",
       "      <th>1</th>\n",
       "      <td>Austria</td>\n",
       "      <td>17.0</td>\n",
       "    </tr>\n",
       "    <tr>\n",
       "      <th>2</th>\n",
       "      <td>Belgium</td>\n",
       "      <td>0.0</td>\n",
       "    </tr>\n",
       "    <tr>\n",
       "      <th>3</th>\n",
       "      <td>Belgium</td>\n",
       "      <td>0.0</td>\n",
       "    </tr>\n",
       "    <tr>\n",
       "      <th>4</th>\n",
       "      <td>Belgium</td>\n",
       "      <td>35.0</td>\n",
       "    </tr>\n",
       "  </tbody>\n",
       "</table>\n",
       "</div>"
      ],
      "text/plain": [
       "   country  quantity\n",
       "0  Austria       5.0\n",
       "1  Austria      17.0\n",
       "2  Belgium       0.0\n",
       "3  Belgium       0.0\n",
       "4  Belgium      35.0"
      ]
     },
     "execution_count": 28,
     "metadata": {},
     "output_type": "execute_result"
    }
   ],
   "source": [
    "# или так\n",
    "\n",
    "data[['country', 'quantity']].head()"
   ]
  },
  {
   "cell_type": "markdown",
   "metadata": {},
   "source": [
    "### Отфильтруем строки с потреблением выше среднего"
   ]
  },
  {
   "cell_type": "code",
   "execution_count": 29,
   "metadata": {},
   "outputs": [
    {
     "data": {
      "text/plain": [
       "184264.77005012965"
      ]
     },
     "execution_count": 29,
     "metadata": {},
     "output_type": "execute_result"
    }
   ],
   "source": [
    "average_level = data['quantity'].mean()\n",
    "average_level"
   ]
  },
  {
   "cell_type": "code",
   "execution_count": 30,
   "metadata": {},
   "outputs": [
    {
     "data": {
      "text/plain": [
       "'quantity > 184264.77005012965'"
      ]
     },
     "execution_count": 30,
     "metadata": {},
     "output_type": "execute_result"
    }
   ],
   "source": [
    "'quantity > {}'.format(average_level)"
   ]
  },
  {
   "cell_type": "code",
   "execution_count": 31,
   "metadata": {},
   "outputs": [
    {
     "data": {
      "text/plain": [
       "'quantity > 184264.77005012965'"
      ]
     },
     "execution_count": 31,
     "metadata": {},
     "output_type": "execute_result"
    }
   ],
   "source": [
    "f'quantity > {average_level}'"
   ]
  },
  {
   "cell_type": "code",
   "execution_count": 32,
   "metadata": {
    "scrolled": true
   },
   "outputs": [
    {
     "data": {
      "text/html": [
       "<div>\n",
       "<style scoped>\n",
       "    .dataframe tbody tr th:only-of-type {\n",
       "        vertical-align: middle;\n",
       "    }\n",
       "\n",
       "    .dataframe tbody tr th {\n",
       "        vertical-align: top;\n",
       "    }\n",
       "\n",
       "    .dataframe thead th {\n",
       "        text-align: right;\n",
       "    }\n",
       "</style>\n",
       "<table border=\"1\" class=\"dataframe\">\n",
       "  <thead>\n",
       "    <tr style=\"text-align: right;\">\n",
       "      <th></th>\n",
       "      <th>country</th>\n",
       "      <th>quantity</th>\n",
       "    </tr>\n",
       "  </thead>\n",
       "  <tbody>\n",
       "    <tr>\n",
       "      <th>3228</th>\n",
       "      <td>United States</td>\n",
       "      <td>367987.0</td>\n",
       "    </tr>\n",
       "    <tr>\n",
       "      <th>3229</th>\n",
       "      <td>United States</td>\n",
       "      <td>384439.0</td>\n",
       "    </tr>\n",
       "    <tr>\n",
       "      <th>3230</th>\n",
       "      <td>United States</td>\n",
       "      <td>370625.0</td>\n",
       "    </tr>\n",
       "    <tr>\n",
       "      <th>3231</th>\n",
       "      <td>United States</td>\n",
       "      <td>310909.0</td>\n",
       "    </tr>\n",
       "    <tr>\n",
       "      <th>3232</th>\n",
       "      <td>United States</td>\n",
       "      <td>335418.0</td>\n",
       "    </tr>\n",
       "  </tbody>\n",
       "</table>\n",
       "</div>"
      ],
      "text/plain": [
       "            country  quantity\n",
       "3228  United States  367987.0\n",
       "3229  United States  384439.0\n",
       "3230  United States  370625.0\n",
       "3231  United States  310909.0\n",
       "3232  United States  335418.0"
      ]
     },
     "execution_count": 32,
     "metadata": {},
     "output_type": "execute_result"
    }
   ],
   "source": [
    "# строки с потреблением больше среднего\n",
    "\n",
    "average_level = data['quantity'].mean()\n",
    "country_stats.query('quantity > {}'.format(average_level)).head()"
   ]
  },
  {
   "cell_type": "code",
   "execution_count": null,
   "metadata": {},
   "outputs": [],
   "source": [
    "if data.quantity > average_level:"
   ]
  },
  {
   "cell_type": "code",
   "execution_count": 33,
   "metadata": {
    "scrolled": true
   },
   "outputs": [
    {
     "data": {
      "text/html": [
       "<div>\n",
       "<style scoped>\n",
       "    .dataframe tbody tr th:only-of-type {\n",
       "        vertical-align: middle;\n",
       "    }\n",
       "\n",
       "    .dataframe tbody tr th {\n",
       "        vertical-align: top;\n",
       "    }\n",
       "\n",
       "    .dataframe thead th {\n",
       "        text-align: right;\n",
       "    }\n",
       "</style>\n",
       "<table border=\"1\" class=\"dataframe\">\n",
       "  <thead>\n",
       "    <tr style=\"text-align: right;\">\n",
       "      <th></th>\n",
       "      <th>country</th>\n",
       "      <th>year</th>\n",
       "      <th>quantity</th>\n",
       "      <th>category</th>\n",
       "    </tr>\n",
       "  </thead>\n",
       "  <tbody>\n",
       "    <tr>\n",
       "      <th>3228</th>\n",
       "      <td>United States</td>\n",
       "      <td>2014</td>\n",
       "      <td>367987.0</td>\n",
       "      <td>2</td>\n",
       "    </tr>\n",
       "    <tr>\n",
       "      <th>3229</th>\n",
       "      <td>United States</td>\n",
       "      <td>2013</td>\n",
       "      <td>384439.0</td>\n",
       "      <td>2</td>\n",
       "    </tr>\n",
       "    <tr>\n",
       "      <th>3230</th>\n",
       "      <td>United States</td>\n",
       "      <td>2012</td>\n",
       "      <td>370625.0</td>\n",
       "      <td>2</td>\n",
       "    </tr>\n",
       "    <tr>\n",
       "      <th>3231</th>\n",
       "      <td>United States</td>\n",
       "      <td>2011</td>\n",
       "      <td>310909.0</td>\n",
       "      <td>2</td>\n",
       "    </tr>\n",
       "    <tr>\n",
       "      <th>3232</th>\n",
       "      <td>United States</td>\n",
       "      <td>2010</td>\n",
       "      <td>335418.0</td>\n",
       "      <td>2</td>\n",
       "    </tr>\n",
       "  </tbody>\n",
       "</table>\n",
       "</div>"
      ],
      "text/plain": [
       "            country  year  quantity  category\n",
       "3228  United States  2014  367987.0         2\n",
       "3229  United States  2013  384439.0         2\n",
       "3230  United States  2012  370625.0         2\n",
       "3231  United States  2011  310909.0         2\n",
       "3232  United States  2010  335418.0         2"
      ]
     },
     "execution_count": 33,
     "metadata": {},
     "output_type": "execute_result"
    }
   ],
   "source": [
    "# самый популярный способ\n",
    "\n",
    "data[ data.quantity > average_level ].head()"
   ]
  },
  {
   "cell_type": "markdown",
   "metadata": {},
   "source": [
    "### Как определить используемый вариант названия страны?"
   ]
  },
  {
   "cell_type": "code",
   "execution_count": 34,
   "metadata": {},
   "outputs": [
    {
     "data": {
      "text/plain": [
       "array(['Austria', 'Belgium', 'Czechia', 'Finland', 'France', 'Greece',\n",
       "       'Hungary', 'Italy', 'Korea, Republic of', 'Netherlands', 'Romania',\n",
       "       'Serbia', 'Slovakia', 'Ukraine', 'United Kingdom', 'United States',\n",
       "       'Brunei Darussalam', 'Bulgaria', 'Canada', 'Chile', 'Croatia',\n",
       "       'Iran (Islamic Rep. of)', 'Jordan', 'Lithuania', 'Mexico', 'Oman',\n",
       "       'Other Asia', 'Poland', 'Portugal', 'Spain', 'Sweden',\n",
       "       'Switzerland', 'T.F.Yug.Rep. Macedonia', 'Turkey', 'Uzbekistan',\n",
       "       'Argentina', 'Colombia', 'Germany', 'Norway', 'Australia',\n",
       "       'China, Macao SAR', 'Japan', 'Denmark', 'Ireland', 'Philippines',\n",
       "       'Bangladesh', 'Eritrea', 'Ethiopia', 'Lesotho', 'Nepal', 'Niger',\n",
       "       'Pakistan', 'Serbia and Montenegro', 'Tunisia', 'Botswana',\n",
       "       'Georgia', 'Republic of Moldova', 'Peru', 'South Africa',\n",
       "       'Iceland', 'Latvia', 'Luxembourg', 'Cuba', 'Kyrgyzstan',\n",
       "       'Singapore', 'Thailand', 'United Arab Emirates', 'Uruguay',\n",
       "       'Armenia', 'Fiji', \"Korea, Dem.Ppl's.Rep.\", 'Russian Federation',\n",
       "       'Swaziland', 'Zimbabwe', 'Afghanistan', 'Antigua and Barbuda',\n",
       "       'Azerbaijan', 'Bahamas', 'Belize', 'Bolivia (Plur. State of)',\n",
       "       'Brazil', 'Burkina Faso', 'Cameroon', 'Cayman Islands',\n",
       "       'Central African Rep.', 'China', 'Comoros', 'Congo', 'Costa Rica',\n",
       "       \"Côte d'Ivoire\", 'Dem. Rep. of the Congo', 'Dominican Republic',\n",
       "       'Ecuador', 'Egypt', 'El Salvador', 'Estonia',\n",
       "       'Ethiopia, incl. Eritrea', 'Faeroe Islands', 'French Guiana',\n",
       "       'Germany, Fed. R. (former)', 'Greenland', 'Guatemala', 'Guinea',\n",
       "       'Guyana', 'Honduras', 'Indonesia', 'Israel', 'Jamaica', 'Jersey',\n",
       "       'Kazakhstan', 'Kenya', 'Kuwait', \"Lao People's Dem. Rep.\",\n",
       "       'Liberia', 'Libya', 'Malawi', 'Malaysia', 'Maldives', 'Mauritania',\n",
       "       'Mayotte', 'Morocco', 'Myanmar', 'Namibia', 'New Caledonia',\n",
       "       'New Zealand', 'Nicaragua', 'Niue', 'Panama', 'Papua New Guinea',\n",
       "       'Paraguay', 'Sao Tome and Principe', 'Senegal', 'Seychelles',\n",
       "       'Slovenia', 'Solomon Islands', 'Sri Lanka', 'Sudan (former)',\n",
       "       'Suriname', 'Togo', 'Tonga', 'Trinidad and Tobago',\n",
       "       'United Rep. of Tanzania', 'Venezuela (Bolivar. Rep.)',\n",
       "       'Yugoslavia, SFR (former)', 'Zambia', 'Algeria', 'Curaçao',\n",
       "       'Gabon', 'Malta', 'Neth. Antilles (former)', 'Sierra Leone',\n",
       "       'USSR (former)', 'Barbados', 'Benin', 'Chad', 'Djibouti',\n",
       "       'French Polynesia', 'Ghana', 'Grenada', 'Guadeloupe', 'Haiti',\n",
       "       'Iraq', 'Kiribati', 'Madagascar', 'Mali', 'Martinique',\n",
       "       'Pacific Islands (former)', 'Palau', 'St. Helena and Depend.',\n",
       "       'St. Vincent-Grenadines', 'Syrian Arab Republic', 'Uganda',\n",
       "       'Yemen', 'Yemen, Dem. (former)', 'Burundi', 'India', 'Mauritius',\n",
       "       'Mozambique', 'Nigeria', 'Réunion', 'Rwanda', 'Samoa', 'Somalia',\n",
       "       'St. Kitts-Nevis', 'Viet Nam', 'Belarus', 'Cyprus', 'Cabo Verde',\n",
       "       'Albania', 'Bahrain', 'Bosnia and Herzegovina',\n",
       "       'China, Hong Kong SAR', 'Czechoslovakia (former)', 'Angola',\n",
       "       'Bermuda', 'Bhutan', 'Equatorial Guinea', 'Lebanon',\n",
       "       'Saudi Arabia', 'St. Lucia', 'St. Pierre-Miquelon',\n",
       "       'State of Palestine', 'Tajikistan', 'German Dem. R. (former)',\n",
       "       'Anguilla', 'Mongolia', 'Montenegro', 'Cambodia', 'South Sudan',\n",
       "       'Sudan', 'Andorra', 'Aruba', 'Bonaire, St Eustatius, Saba',\n",
       "       'British Virgin Islands', 'Dominica', 'Falkland Is. (Malvinas)',\n",
       "       'Gambia', 'Gibraltar', 'Qatar', 'Sint Maarten (Dutch part)',\n",
       "       'Turkmenistan', 'Turks and Caicos Islands', 'Vanuatu',\n",
       "       'Guinea-Bissau', 'Micronesia (Fed. States of)', 'Timor-Leste',\n",
       "       'Yemen Arab Rep. (former)', 'American Samoa', 'Liechtenstein',\n",
       "       'Puerto Rico', 'Cook Islands', 'Guam', 'Guernsey', 'Isle of Man',\n",
       "       'Marshall Islands', 'Montserrat', 'Nauru',\n",
       "       'Northern Mariana Islands', 'Tuvalu', 'United States Virgin Is.',\n",
       "       'Wallis and Futuna Is.',\n",
       "       'Commonwealth of Independent States (CIS)', 'Antarctic Fisheries'],\n",
       "      dtype=object)"
      ]
     },
     "execution_count": 34,
     "metadata": {},
     "output_type": "execute_result"
    }
   ],
   "source": [
    "data['country'].unique()"
   ]
  },
  {
   "cell_type": "code",
   "execution_count": null,
   "metadata": {},
   "outputs": [],
   "source": [
    "if 'rus' in 'Russia Federation':"
   ]
  },
  {
   "cell_type": "code",
   "execution_count": 35,
   "metadata": {},
   "outputs": [
    {
     "data": {
      "text/plain": [
       "array(['Austria', 'Brunei Darussalam', 'Australia', 'Russian Federation',\n",
       "       'USSR (former)', 'Mauritius', 'Belarus', 'Cyprus',\n",
       "       'Bonaire, St Eustatius, Saba'], dtype=object)"
      ]
     },
     "execution_count": 35,
     "metadata": {},
     "output_type": "execute_result"
    }
   ],
   "source": [
    "# найдем как называется Россия и Беларусь в этом датафрейме\n",
    "# фильтр на подстроку - смотрим все страны, содержащие в названии 'us'\n",
    "\n",
    "data[ data['country'].str.contains('us', case=False) ]['country'].unique()"
   ]
  },
  {
   "cell_type": "code",
   "execution_count": 36,
   "metadata": {},
   "outputs": [
    {
     "data": {
      "text/html": [
       "<div>\n",
       "<style scoped>\n",
       "    .dataframe tbody tr th:only-of-type {\n",
       "        vertical-align: middle;\n",
       "    }\n",
       "\n",
       "    .dataframe tbody tr th {\n",
       "        vertical-align: top;\n",
       "    }\n",
       "\n",
       "    .dataframe thead th {\n",
       "        text-align: right;\n",
       "    }\n",
       "</style>\n",
       "<table border=\"1\" class=\"dataframe\">\n",
       "  <thead>\n",
       "    <tr style=\"text-align: right;\">\n",
       "      <th></th>\n",
       "      <th>country</th>\n",
       "      <th>year</th>\n",
       "      <th>quantity</th>\n",
       "      <th>category</th>\n",
       "    </tr>\n",
       "  </thead>\n",
       "  <tbody>\n",
       "    <tr>\n",
       "      <th>6940</th>\n",
       "      <td>Russian Federation</td>\n",
       "      <td>2014</td>\n",
       "      <td>12714.0</td>\n",
       "      <td>3</td>\n",
       "    </tr>\n",
       "    <tr>\n",
       "      <th>6941</th>\n",
       "      <td>Russian Federation</td>\n",
       "      <td>2013</td>\n",
       "      <td>11285.0</td>\n",
       "      <td>3</td>\n",
       "    </tr>\n",
       "    <tr>\n",
       "      <th>6942</th>\n",
       "      <td>Russian Federation</td>\n",
       "      <td>2012</td>\n",
       "      <td>11302.0</td>\n",
       "      <td>3</td>\n",
       "    </tr>\n",
       "    <tr>\n",
       "      <th>6943</th>\n",
       "      <td>Russian Federation</td>\n",
       "      <td>2011</td>\n",
       "      <td>7611.0</td>\n",
       "      <td>3</td>\n",
       "    </tr>\n",
       "    <tr>\n",
       "      <th>6944</th>\n",
       "      <td>Russian Federation</td>\n",
       "      <td>2010</td>\n",
       "      <td>9263.0</td>\n",
       "      <td>3</td>\n",
       "    </tr>\n",
       "  </tbody>\n",
       "</table>\n",
       "</div>"
      ],
      "text/plain": [
       "                 country  year  quantity  category\n",
       "6940  Russian Federation  2014   12714.0         3\n",
       "6941  Russian Federation  2013   11285.0         3\n",
       "6942  Russian Federation  2012   11302.0         3\n",
       "6943  Russian Federation  2011    7611.0         3\n",
       "6944  Russian Federation  2010    9263.0         3"
      ]
     },
     "execution_count": 36,
     "metadata": {},
     "output_type": "execute_result"
    }
   ],
   "source": [
    "# фильтр на несколько условий сразу\n",
    "# | - условие ИЛИ\n",
    "# & AND\n",
    "# () | (() | () & ())\n",
    "filtered_countries = data[ (data['country']=='Russian Federation') | (data['country']=='Belarus') ]\n",
    "\n",
    "filtered_countries.head()"
   ]
  },
  {
   "cell_type": "code",
   "execution_count": 37,
   "metadata": {},
   "outputs": [
    {
     "data": {
      "text/plain": [
       "array(['Russian Federation', 'Belarus'], dtype=object)"
      ]
     },
     "execution_count": 37,
     "metadata": {},
     "output_type": "execute_result"
    }
   ],
   "source": [
    "filtered_countries['country'].unique()"
   ]
  },
  {
   "cell_type": "code",
   "execution_count": 38,
   "metadata": {},
   "outputs": [
    {
     "data": {
      "text/html": [
       "<div>\n",
       "<style scoped>\n",
       "    .dataframe tbody tr th:only-of-type {\n",
       "        vertical-align: middle;\n",
       "    }\n",
       "\n",
       "    .dataframe tbody tr th {\n",
       "        vertical-align: top;\n",
       "    }\n",
       "\n",
       "    .dataframe thead th {\n",
       "        text-align: right;\n",
       "    }\n",
       "</style>\n",
       "<table border=\"1\" class=\"dataframe\">\n",
       "  <thead>\n",
       "    <tr style=\"text-align: right;\">\n",
       "      <th></th>\n",
       "      <th>country</th>\n",
       "      <th>year</th>\n",
       "      <th>quantity</th>\n",
       "      <th>category</th>\n",
       "    </tr>\n",
       "  </thead>\n",
       "  <tbody>\n",
       "    <tr>\n",
       "      <th>1000</th>\n",
       "      <td>Austria</td>\n",
       "      <td>1998</td>\n",
       "      <td>-14.0</td>\n",
       "      <td>1</td>\n",
       "    </tr>\n",
       "    <tr>\n",
       "      <th>1001</th>\n",
       "      <td>Austria</td>\n",
       "      <td>1997</td>\n",
       "      <td>5.0</td>\n",
       "      <td>1</td>\n",
       "    </tr>\n",
       "    <tr>\n",
       "      <th>1002</th>\n",
       "      <td>Austria</td>\n",
       "      <td>1996</td>\n",
       "      <td>-1.0</td>\n",
       "      <td>1</td>\n",
       "    </tr>\n",
       "    <tr>\n",
       "      <th>1003</th>\n",
       "      <td>Austria</td>\n",
       "      <td>1995</td>\n",
       "      <td>-10.0</td>\n",
       "      <td>1</td>\n",
       "    </tr>\n",
       "    <tr>\n",
       "      <th>1004</th>\n",
       "      <td>Austria</td>\n",
       "      <td>1994</td>\n",
       "      <td>-8.0</td>\n",
       "      <td>1</td>\n",
       "    </tr>\n",
       "    <tr>\n",
       "      <th>1005</th>\n",
       "      <td>Austria</td>\n",
       "      <td>1993</td>\n",
       "      <td>-11.0</td>\n",
       "      <td>1</td>\n",
       "    </tr>\n",
       "  </tbody>\n",
       "</table>\n",
       "</div>"
      ],
      "text/plain": [
       "      country  year  quantity  category\n",
       "1000  Austria  1998     -14.0         1\n",
       "1001  Austria  1997       5.0         1\n",
       "1002  Austria  1996      -1.0         1\n",
       "1003  Austria  1995     -10.0         1\n",
       "1004  Austria  1994      -8.0         1\n",
       "1005  Austria  1993     -11.0         1"
      ]
     },
     "execution_count": 38,
     "metadata": {},
     "output_type": "execute_result"
    }
   ],
   "source": [
    "# фильтры на номер строки\n",
    "\n",
    "data.loc[1000:1005]"
   ]
  },
  {
   "cell_type": "markdown",
   "metadata": {},
   "source": [
    "# Сортировка"
   ]
  },
  {
   "cell_type": "code",
   "execution_count": 15,
   "metadata": {
    "ExecuteTime": {
     "end_time": "2023-11-12T09:04:19.858601800Z",
     "start_time": "2023-11-12T09:04:19.669878300Z"
    }
   },
   "outputs": [
    {
     "data": {
      "text/plain": "              country  year  quantity  category\n832375  United States  2000 -864348.0        42\n832373  United States  2002 -562414.0        42\n832362  United States  2013 -551490.0        42\n832380  United States  1995 -493380.0        42\n832322        Ukraine  2010 -477263.0        42",
      "text/html": "<div>\n<style scoped>\n    .dataframe tbody tr th:only-of-type {\n        vertical-align: middle;\n    }\n\n    .dataframe tbody tr th {\n        vertical-align: top;\n    }\n\n    .dataframe thead th {\n        text-align: right;\n    }\n</style>\n<table border=\"1\" class=\"dataframe\">\n  <thead>\n    <tr style=\"text-align: right;\">\n      <th></th>\n      <th>country</th>\n      <th>year</th>\n      <th>quantity</th>\n      <th>category</th>\n    </tr>\n  </thead>\n  <tbody>\n    <tr>\n      <th>832375</th>\n      <td>United States</td>\n      <td>2000</td>\n      <td>-864348.0</td>\n      <td>42</td>\n    </tr>\n    <tr>\n      <th>832373</th>\n      <td>United States</td>\n      <td>2002</td>\n      <td>-562414.0</td>\n      <td>42</td>\n    </tr>\n    <tr>\n      <th>832362</th>\n      <td>United States</td>\n      <td>2013</td>\n      <td>-551490.0</td>\n      <td>42</td>\n    </tr>\n    <tr>\n      <th>832380</th>\n      <td>United States</td>\n      <td>1995</td>\n      <td>-493380.0</td>\n      <td>42</td>\n    </tr>\n    <tr>\n      <th>832322</th>\n      <td>Ukraine</td>\n      <td>2010</td>\n      <td>-477263.0</td>\n      <td>42</td>\n    </tr>\n  </tbody>\n</table>\n</div>"
     },
     "execution_count": 15,
     "metadata": {},
     "output_type": "execute_result"
    }
   ],
   "source": [
    "# Сортировка по столбцу\n",
    "\n",
    "data.sort_values(by='quantity').head()"
   ]
  },
  {
   "cell_type": "code",
   "execution_count": 40,
   "metadata": {},
   "outputs": [
    {
     "data": {
      "text/html": [
       "<div>\n",
       "<style scoped>\n",
       "    .dataframe tbody tr th:only-of-type {\n",
       "        vertical-align: middle;\n",
       "    }\n",
       "\n",
       "    .dataframe tbody tr th {\n",
       "        vertical-align: top;\n",
       "    }\n",
       "\n",
       "    .dataframe thead th {\n",
       "        text-align: right;\n",
       "    }\n",
       "</style>\n",
       "<table border=\"1\" class=\"dataframe\">\n",
       "  <thead>\n",
       "    <tr style=\"text-align: right;\">\n",
       "      <th></th>\n",
       "      <th>country</th>\n",
       "      <th>year</th>\n",
       "      <th>quantity</th>\n",
       "      <th>category</th>\n",
       "    </tr>\n",
       "  </thead>\n",
       "  <tbody>\n",
       "    <tr>\n",
       "      <th>492581</th>\n",
       "      <td>United States</td>\n",
       "      <td>2014</td>\n",
       "      <td>6.680329e+09</td>\n",
       "      <td>31</td>\n",
       "    </tr>\n",
       "    <tr>\n",
       "      <th>492267</th>\n",
       "      <td>United States</td>\n",
       "      <td>2014</td>\n",
       "      <td>6.680329e+09</td>\n",
       "      <td>31</td>\n",
       "    </tr>\n",
       "    <tr>\n",
       "      <th>492047</th>\n",
       "      <td>China</td>\n",
       "      <td>2014</td>\n",
       "      <td>5.462672e+09</td>\n",
       "      <td>31</td>\n",
       "    </tr>\n",
       "    <tr>\n",
       "      <th>492345</th>\n",
       "      <td>China</td>\n",
       "      <td>2014</td>\n",
       "      <td>5.462672e+09</td>\n",
       "      <td>31</td>\n",
       "    </tr>\n",
       "    <tr>\n",
       "      <th>122392</th>\n",
       "      <td>USSR (former)</td>\n",
       "      <td>1990</td>\n",
       "      <td>3.257000e+09</td>\n",
       "      <td>12</td>\n",
       "    </tr>\n",
       "  </tbody>\n",
       "</table>\n",
       "</div>"
      ],
      "text/plain": [
       "              country  year      quantity  category\n",
       "492581  United States  2014  6.680329e+09        31\n",
       "492267  United States  2014  6.680329e+09        31\n",
       "492047          China  2014  5.462672e+09        31\n",
       "492345          China  2014  5.462672e+09        31\n",
       "122392  USSR (former)  1990  3.257000e+09        12"
      ]
     },
     "execution_count": 40,
     "metadata": {},
     "output_type": "execute_result"
    }
   ],
   "source": [
    "# сортировка по убыванию\n",
    "\n",
    "data.sort_values('quantity', ascending=False).head()"
   ]
  },
  {
   "cell_type": "code",
   "execution_count": 41,
   "metadata": {},
   "outputs": [
    {
     "data": {
      "text/html": [
       "<div>\n",
       "<style scoped>\n",
       "    .dataframe tbody tr th:only-of-type {\n",
       "        vertical-align: middle;\n",
       "    }\n",
       "\n",
       "    .dataframe tbody tr th {\n",
       "        vertical-align: top;\n",
       "    }\n",
       "\n",
       "    .dataframe thead th {\n",
       "        text-align: right;\n",
       "    }\n",
       "</style>\n",
       "<table border=\"1\" class=\"dataframe\">\n",
       "  <thead>\n",
       "    <tr style=\"text-align: right;\">\n",
       "      <th></th>\n",
       "      <th>country</th>\n",
       "      <th>year</th>\n",
       "      <th>quantity</th>\n",
       "      <th>category</th>\n",
       "    </tr>\n",
       "  </thead>\n",
       "  <tbody>\n",
       "    <tr>\n",
       "      <th>835127</th>\n",
       "      <td>Afghanistan</td>\n",
       "      <td>2014</td>\n",
       "      <td>1.935442e+06</td>\n",
       "      <td>42</td>\n",
       "    </tr>\n",
       "    <tr>\n",
       "      <th>491541</th>\n",
       "      <td>Afghanistan</td>\n",
       "      <td>2014</td>\n",
       "      <td>6.600000e+04</td>\n",
       "      <td>31</td>\n",
       "    </tr>\n",
       "    <tr>\n",
       "      <th>492004</th>\n",
       "      <td>Afghanistan</td>\n",
       "      <td>2014</td>\n",
       "      <td>6.600000e+04</td>\n",
       "      <td>31</td>\n",
       "    </tr>\n",
       "    <tr>\n",
       "      <th>492292</th>\n",
       "      <td>Afghanistan</td>\n",
       "      <td>2014</td>\n",
       "      <td>6.600000e+04</td>\n",
       "      <td>31</td>\n",
       "    </tr>\n",
       "    <tr>\n",
       "      <th>791301</th>\n",
       "      <td>Afghanistan</td>\n",
       "      <td>2014</td>\n",
       "      <td>5.537080e+03</td>\n",
       "      <td>42</td>\n",
       "    </tr>\n",
       "    <tr>\n",
       "      <th>797879</th>\n",
       "      <td>Afghanistan</td>\n",
       "      <td>2014</td>\n",
       "      <td>5.537080e+03</td>\n",
       "      <td>42</td>\n",
       "    </tr>\n",
       "    <tr>\n",
       "      <th>811493</th>\n",
       "      <td>Afghanistan</td>\n",
       "      <td>2014</td>\n",
       "      <td>5.537080e+03</td>\n",
       "      <td>42</td>\n",
       "    </tr>\n",
       "    <tr>\n",
       "      <th>813883</th>\n",
       "      <td>Afghanistan</td>\n",
       "      <td>2014</td>\n",
       "      <td>5.537080e+03</td>\n",
       "      <td>42</td>\n",
       "    </tr>\n",
       "    <tr>\n",
       "      <th>820564</th>\n",
       "      <td>Afghanistan</td>\n",
       "      <td>2014</td>\n",
       "      <td>5.537080e+03</td>\n",
       "      <td>42</td>\n",
       "    </tr>\n",
       "    <tr>\n",
       "      <th>828390</th>\n",
       "      <td>Afghanistan</td>\n",
       "      <td>2014</td>\n",
       "      <td>5.537080e+03</td>\n",
       "      <td>42</td>\n",
       "    </tr>\n",
       "    <tr>\n",
       "      <th>832393</th>\n",
       "      <td>Afghanistan</td>\n",
       "      <td>2014</td>\n",
       "      <td>5.537080e+03</td>\n",
       "      <td>42</td>\n",
       "    </tr>\n",
       "    <tr>\n",
       "      <th>1097271</th>\n",
       "      <td>Afghanistan</td>\n",
       "      <td>2014</td>\n",
       "      <td>4.486800e+03</td>\n",
       "      <td>67</td>\n",
       "    </tr>\n",
       "    <tr>\n",
       "      <th>1091772</th>\n",
       "      <td>Afghanistan</td>\n",
       "      <td>2014</td>\n",
       "      <td>3.767300e+03</td>\n",
       "      <td>67</td>\n",
       "    </tr>\n",
       "    <tr>\n",
       "      <th>1108326</th>\n",
       "      <td>Afghanistan</td>\n",
       "      <td>2014</td>\n",
       "      <td>3.710800e+03</td>\n",
       "      <td>67</td>\n",
       "    </tr>\n",
       "    <tr>\n",
       "      <th>1061021</th>\n",
       "      <td>Afghanistan</td>\n",
       "      <td>2014</td>\n",
       "      <td>2.967300e+03</td>\n",
       "      <td>67</td>\n",
       "    </tr>\n",
       "    <tr>\n",
       "      <th>1045322</th>\n",
       "      <td>Afghanistan</td>\n",
       "      <td>2014</td>\n",
       "      <td>2.204900e+03</td>\n",
       "      <td>67</td>\n",
       "    </tr>\n",
       "    <tr>\n",
       "      <th>364480</th>\n",
       "      <td>Afghanistan</td>\n",
       "      <td>2014</td>\n",
       "      <td>1.758409e+03</td>\n",
       "      <td>25</td>\n",
       "    </tr>\n",
       "    <tr>\n",
       "      <th>369505</th>\n",
       "      <td>Afghanistan</td>\n",
       "      <td>2014</td>\n",
       "      <td>1.758396e+03</td>\n",
       "      <td>25</td>\n",
       "    </tr>\n",
       "    <tr>\n",
       "      <th>518535</th>\n",
       "      <td>Afghanistan</td>\n",
       "      <td>2014</td>\n",
       "      <td>1.517400e+03</td>\n",
       "      <td>31</td>\n",
       "    </tr>\n",
       "    <tr>\n",
       "      <th>521820</th>\n",
       "      <td>Afghanistan</td>\n",
       "      <td>2014</td>\n",
       "      <td>1.517400e+03</td>\n",
       "      <td>31</td>\n",
       "    </tr>\n",
       "    <tr>\n",
       "      <th>496034</th>\n",
       "      <td>Afghanistan</td>\n",
       "      <td>2014</td>\n",
       "      <td>1.388700e+03</td>\n",
       "      <td>31</td>\n",
       "    </tr>\n",
       "    <tr>\n",
       "      <th>502008</th>\n",
       "      <td>Afghanistan</td>\n",
       "      <td>2014</td>\n",
       "      <td>1.388700e+03</td>\n",
       "      <td>31</td>\n",
       "    </tr>\n",
       "    <tr>\n",
       "      <th>509843</th>\n",
       "      <td>Afghanistan</td>\n",
       "      <td>2014</td>\n",
       "      <td>1.388700e+03</td>\n",
       "      <td>31</td>\n",
       "    </tr>\n",
       "    <tr>\n",
       "      <th>512335</th>\n",
       "      <td>Afghanistan</td>\n",
       "      <td>2014</td>\n",
       "      <td>1.388700e+03</td>\n",
       "      <td>31</td>\n",
       "    </tr>\n",
       "    <tr>\n",
       "      <th>1102803</th>\n",
       "      <td>Afghanistan</td>\n",
       "      <td>2014</td>\n",
       "      <td>1.049300e+03</td>\n",
       "      <td>67</td>\n",
       "    </tr>\n",
       "    <tr>\n",
       "      <th>334666</th>\n",
       "      <td>Afghanistan</td>\n",
       "      <td>2014</td>\n",
       "      <td>1.002966e+03</td>\n",
       "      <td>25</td>\n",
       "    </tr>\n",
       "    <tr>\n",
       "      <th>341782</th>\n",
       "      <td>Afghanistan</td>\n",
       "      <td>2014</td>\n",
       "      <td>1.002966e+03</td>\n",
       "      <td>25</td>\n",
       "    </tr>\n",
       "    <tr>\n",
       "      <th>353105</th>\n",
       "      <td>Afghanistan</td>\n",
       "      <td>2014</td>\n",
       "      <td>1.002966e+03</td>\n",
       "      <td>25</td>\n",
       "    </tr>\n",
       "    <tr>\n",
       "      <th>357841</th>\n",
       "      <td>Afghanistan</td>\n",
       "      <td>2014</td>\n",
       "      <td>1.002966e+03</td>\n",
       "      <td>25</td>\n",
       "    </tr>\n",
       "    <tr>\n",
       "      <th>563371</th>\n",
       "      <td>Afghanistan</td>\n",
       "      <td>2014</td>\n",
       "      <td>8.953000e+02</td>\n",
       "      <td>33</td>\n",
       "    </tr>\n",
       "    <tr>\n",
       "      <th>407563</th>\n",
       "      <td>Afghanistan</td>\n",
       "      <td>2014</td>\n",
       "      <td>8.821000e+02</td>\n",
       "      <td>27</td>\n",
       "    </tr>\n",
       "    <tr>\n",
       "      <th>419783</th>\n",
       "      <td>Afghanistan</td>\n",
       "      <td>2014</td>\n",
       "      <td>8.821000e+02</td>\n",
       "      <td>27</td>\n",
       "    </tr>\n",
       "    <tr>\n",
       "      <th>432306</th>\n",
       "      <td>Afghanistan</td>\n",
       "      <td>2014</td>\n",
       "      <td>8.821000e+02</td>\n",
       "      <td>27</td>\n",
       "    </tr>\n",
       "    <tr>\n",
       "      <th>437547</th>\n",
       "      <td>Afghanistan</td>\n",
       "      <td>2014</td>\n",
       "      <td>8.821000e+02</td>\n",
       "      <td>27</td>\n",
       "    </tr>\n",
       "    <tr>\n",
       "      <th>442787</th>\n",
       "      <td>Afghanistan</td>\n",
       "      <td>2014</td>\n",
       "      <td>8.821000e+02</td>\n",
       "      <td>27</td>\n",
       "    </tr>\n",
       "    <tr>\n",
       "      <th>462537</th>\n",
       "      <td>Afghanistan</td>\n",
       "      <td>2014</td>\n",
       "      <td>8.821000e+02</td>\n",
       "      <td>27</td>\n",
       "    </tr>\n",
       "    <tr>\n",
       "      <th>1053124</th>\n",
       "      <td>Afghanistan</td>\n",
       "      <td>2014</td>\n",
       "      <td>8.000000e+02</td>\n",
       "      <td>67</td>\n",
       "    </tr>\n",
       "    <tr>\n",
       "      <th>1066512</th>\n",
       "      <td>Afghanistan</td>\n",
       "      <td>2014</td>\n",
       "      <td>8.000000e+02</td>\n",
       "      <td>67</td>\n",
       "    </tr>\n",
       "    <tr>\n",
       "      <th>1116171</th>\n",
       "      <td>Afghanistan</td>\n",
       "      <td>2014</td>\n",
       "      <td>7.760000e+02</td>\n",
       "      <td>67</td>\n",
       "    </tr>\n",
       "    <tr>\n",
       "      <th>374415</th>\n",
       "      <td>Afghanistan</td>\n",
       "      <td>2014</td>\n",
       "      <td>7.554300e+02</td>\n",
       "      <td>25</td>\n",
       "    </tr>\n",
       "    <tr>\n",
       "      <th>378276</th>\n",
       "      <td>Afghanistan</td>\n",
       "      <td>2014</td>\n",
       "      <td>7.554300e+02</td>\n",
       "      <td>25</td>\n",
       "    </tr>\n",
       "    <tr>\n",
       "      <th>1137168</th>\n",
       "      <td>Afghanistan</td>\n",
       "      <td>2014</td>\n",
       "      <td>7.423000e+02</td>\n",
       "      <td>67</td>\n",
       "    </tr>\n",
       "    <tr>\n",
       "      <th>713410</th>\n",
       "      <td>Afghanistan</td>\n",
       "      <td>2014</td>\n",
       "      <td>7.130000e+02</td>\n",
       "      <td>39</td>\n",
       "    </tr>\n",
       "    <tr>\n",
       "      <th>719887</th>\n",
       "      <td>Afghanistan</td>\n",
       "      <td>2014</td>\n",
       "      <td>7.130000e+02</td>\n",
       "      <td>39</td>\n",
       "    </tr>\n",
       "    <tr>\n",
       "      <th>727865</th>\n",
       "      <td>Afghanistan</td>\n",
       "      <td>2014</td>\n",
       "      <td>7.130000e+02</td>\n",
       "      <td>39</td>\n",
       "    </tr>\n",
       "    <tr>\n",
       "      <th>733131</th>\n",
       "      <td>Afghanistan</td>\n",
       "      <td>2014</td>\n",
       "      <td>7.130000e+02</td>\n",
       "      <td>39</td>\n",
       "    </tr>\n",
       "    <tr>\n",
       "      <th>738397</th>\n",
       "      <td>Afghanistan</td>\n",
       "      <td>2014</td>\n",
       "      <td>7.130000e+02</td>\n",
       "      <td>39</td>\n",
       "    </tr>\n",
       "    <tr>\n",
       "      <th>753073</th>\n",
       "      <td>Afghanistan</td>\n",
       "      <td>2014</td>\n",
       "      <td>7.130000e+02</td>\n",
       "      <td>39</td>\n",
       "    </tr>\n",
       "    <tr>\n",
       "      <th>1161790</th>\n",
       "      <td>Afghanistan</td>\n",
       "      <td>2014</td>\n",
       "      <td>5.933000e+02</td>\n",
       "      <td>67</td>\n",
       "    </tr>\n",
       "    <tr>\n",
       "      <th>1111003</th>\n",
       "      <td>Afghanistan</td>\n",
       "      <td>2014</td>\n",
       "      <td>5.000000e+02</td>\n",
       "      <td>67</td>\n",
       "    </tr>\n",
       "  </tbody>\n",
       "</table>\n",
       "</div>"
      ],
      "text/plain": [
       "             country  year      quantity  category\n",
       "835127   Afghanistan  2014  1.935442e+06        42\n",
       "491541   Afghanistan  2014  6.600000e+04        31\n",
       "492004   Afghanistan  2014  6.600000e+04        31\n",
       "492292   Afghanistan  2014  6.600000e+04        31\n",
       "791301   Afghanistan  2014  5.537080e+03        42\n",
       "797879   Afghanistan  2014  5.537080e+03        42\n",
       "811493   Afghanistan  2014  5.537080e+03        42\n",
       "813883   Afghanistan  2014  5.537080e+03        42\n",
       "820564   Afghanistan  2014  5.537080e+03        42\n",
       "828390   Afghanistan  2014  5.537080e+03        42\n",
       "832393   Afghanistan  2014  5.537080e+03        42\n",
       "1097271  Afghanistan  2014  4.486800e+03        67\n",
       "1091772  Afghanistan  2014  3.767300e+03        67\n",
       "1108326  Afghanistan  2014  3.710800e+03        67\n",
       "1061021  Afghanistan  2014  2.967300e+03        67\n",
       "1045322  Afghanistan  2014  2.204900e+03        67\n",
       "364480   Afghanistan  2014  1.758409e+03        25\n",
       "369505   Afghanistan  2014  1.758396e+03        25\n",
       "518535   Afghanistan  2014  1.517400e+03        31\n",
       "521820   Afghanistan  2014  1.517400e+03        31\n",
       "496034   Afghanistan  2014  1.388700e+03        31\n",
       "502008   Afghanistan  2014  1.388700e+03        31\n",
       "509843   Afghanistan  2014  1.388700e+03        31\n",
       "512335   Afghanistan  2014  1.388700e+03        31\n",
       "1102803  Afghanistan  2014  1.049300e+03        67\n",
       "334666   Afghanistan  2014  1.002966e+03        25\n",
       "341782   Afghanistan  2014  1.002966e+03        25\n",
       "353105   Afghanistan  2014  1.002966e+03        25\n",
       "357841   Afghanistan  2014  1.002966e+03        25\n",
       "563371   Afghanistan  2014  8.953000e+02        33\n",
       "407563   Afghanistan  2014  8.821000e+02        27\n",
       "419783   Afghanistan  2014  8.821000e+02        27\n",
       "432306   Afghanistan  2014  8.821000e+02        27\n",
       "437547   Afghanistan  2014  8.821000e+02        27\n",
       "442787   Afghanistan  2014  8.821000e+02        27\n",
       "462537   Afghanistan  2014  8.821000e+02        27\n",
       "1053124  Afghanistan  2014  8.000000e+02        67\n",
       "1066512  Afghanistan  2014  8.000000e+02        67\n",
       "1116171  Afghanistan  2014  7.760000e+02        67\n",
       "374415   Afghanistan  2014  7.554300e+02        25\n",
       "378276   Afghanistan  2014  7.554300e+02        25\n",
       "1137168  Afghanistan  2014  7.423000e+02        67\n",
       "713410   Afghanistan  2014  7.130000e+02        39\n",
       "719887   Afghanistan  2014  7.130000e+02        39\n",
       "727865   Afghanistan  2014  7.130000e+02        39\n",
       "733131   Afghanistan  2014  7.130000e+02        39\n",
       "738397   Afghanistan  2014  7.130000e+02        39\n",
       "753073   Afghanistan  2014  7.130000e+02        39\n",
       "1161790  Afghanistan  2014  5.933000e+02        67\n",
       "1111003  Afghanistan  2014  5.000000e+02        67"
      ]
     },
     "execution_count": 41,
     "metadata": {},
     "output_type": "execute_result"
    }
   ],
   "source": [
    "# сортировка по нескольким столбцам\n",
    "\n",
    "data.sort_values(by=['year', 'country', 'quantity'], ascending=[False, True, False]).head(50)"
   ]
  },
  {
   "cell_type": "markdown",
   "metadata": {},
   "source": [
    "### Параметр inplace"
   ]
  },
  {
   "cell_type": "code",
   "execution_count": 28,
   "metadata": {
    "ExecuteTime": {
     "end_time": "2023-11-12T09:11:19.052386500Z",
     "start_time": "2023-11-12T09:11:19.029426400Z"
    }
   },
   "outputs": [
    {
     "data": {
      "text/plain": "         country  year   quantity  category\n492605  Zimbabwe  1990  7355000.0        31\n491540  Zimbabwe  1990  5820000.0        31\n492291  Zimbabwe  1990  1535000.0        31\n122097  Zimbabwe  1990   965000.0        12\n122399  Zimbabwe  1990   965000.0        12",
      "text/html": "<div>\n<style scoped>\n    .dataframe tbody tr th:only-of-type {\n        vertical-align: middle;\n    }\n\n    .dataframe tbody tr th {\n        vertical-align: top;\n    }\n\n    .dataframe thead th {\n        text-align: right;\n    }\n</style>\n<table border=\"1\" class=\"dataframe\">\n  <thead>\n    <tr style=\"text-align: right;\">\n      <th></th>\n      <th>country</th>\n      <th>year</th>\n      <th>quantity</th>\n      <th>category</th>\n    </tr>\n  </thead>\n  <tbody>\n    <tr>\n      <th>492605</th>\n      <td>Zimbabwe</td>\n      <td>1990</td>\n      <td>7355000.0</td>\n      <td>31</td>\n    </tr>\n    <tr>\n      <th>491540</th>\n      <td>Zimbabwe</td>\n      <td>1990</td>\n      <td>5820000.0</td>\n      <td>31</td>\n    </tr>\n    <tr>\n      <th>492291</th>\n      <td>Zimbabwe</td>\n      <td>1990</td>\n      <td>1535000.0</td>\n      <td>31</td>\n    </tr>\n    <tr>\n      <th>122097</th>\n      <td>Zimbabwe</td>\n      <td>1990</td>\n      <td>965000.0</td>\n      <td>12</td>\n    </tr>\n    <tr>\n      <th>122399</th>\n      <td>Zimbabwe</td>\n      <td>1990</td>\n      <td>965000.0</td>\n      <td>12</td>\n    </tr>\n  </tbody>\n</table>\n</div>"
     },
     "execution_count": 28,
     "metadata": {},
     "output_type": "execute_result"
    }
   ],
   "source": [
    "data.head()"
   ]
  },
  {
   "cell_type": "code",
   "execution_count": 27,
   "metadata": {
    "ExecuteTime": {
     "end_time": "2023-11-12T09:11:17.085752200Z",
     "start_time": "2023-11-12T09:11:16.962537600Z"
    }
   },
   "outputs": [],
   "source": [
    "data = data.sort_values(['country', 'year'], ascending=[False, True])"
   ]
  },
  {
   "cell_type": "code",
   "execution_count": 30,
   "metadata": {
    "ExecuteTime": {
     "end_time": "2023-11-12T09:11:34.932892900Z",
     "start_time": "2023-11-12T09:11:34.905419400Z"
    }
   },
   "outputs": [],
   "source": [
    "def calculation(data, inplace=True):\n",
    "    data.sort_values(['country', 'year'], ascending=[False, True], inplace=inplace)"
   ]
  },
  {
   "cell_type": "code",
   "execution_count": 32,
   "outputs": [],
   "source": [],
   "metadata": {
    "collapsed": false,
    "ExecuteTime": {
     "end_time": "2023-11-12T09:12:01.370916500Z",
     "start_time": "2023-11-12T09:12:01.223667800Z"
    }
   }
  },
  {
   "cell_type": "code",
   "execution_count": 34,
   "metadata": {
    "ExecuteTime": {
     "end_time": "2023-11-12T09:14:25.438034800Z",
     "start_time": "2023-11-12T09:14:25.297392Z"
    }
   },
   "outputs": [],
   "source": [
    "data.sort_values(['country', 'year'], ascending=[False, True], inplace=True)"
   ]
  },
  {
   "cell_type": "code",
   "execution_count": 24,
   "metadata": {
    "ExecuteTime": {
     "end_time": "2023-11-12T09:10:29.598713300Z",
     "start_time": "2023-11-12T09:10:28.939508500Z"
    }
   },
   "outputs": [],
   "source": [
    "data = data.sort_values(by=['country', 'year', 'quantity'], ascending=[True, True, False])\n",
    "\n",
    "# чтобы сократить это выражение используем inplace:\n",
    "data.sort_values(by=['country', 'year', 'quantity'], ascending=[True, True, False], inplace=True)"
   ]
  },
  {
   "cell_type": "code",
   "execution_count": null,
   "outputs": [],
   "source": [],
   "metadata": {
    "collapsed": false
   }
  }
 ],
 "metadata": {
  "kernelspec": {
   "display_name": "Python 3",
   "language": "python",
   "name": "python3"
  },
  "language_info": {
   "codemirror_mode": {
    "name": "ipython",
    "version": 3
   },
   "file_extension": ".py",
   "mimetype": "text/x-python",
   "name": "python",
   "nbconvert_exporter": "python",
   "pygments_lexer": "ipython3",
   "version": "3.9.13"
  }
 },
 "nbformat": 4,
 "nbformat_minor": 2
}
