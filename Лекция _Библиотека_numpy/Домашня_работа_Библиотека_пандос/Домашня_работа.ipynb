{
 "cells": [
  {
   "cell_type": "markdown",
   "source": [
    "# Задание 1\n",
    "Датасет для домашнего задания вы найдете в разделе “Материалы к домашнему заданию” (файл “Дополнительные файлы для домашнего задания”) к этому занятию.\n",
    "Определите, какому фильму было выставлено больше всего оценок 5.0."
   ],
   "metadata": {
    "collapsed": false
   },
   "id": "60271c8f7ecf923a"
  },
  {
   "cell_type": "code",
   "execution_count": 1,
   "outputs": [],
   "source": [
    "import pandas as pd"
   ],
   "metadata": {
    "collapsed": false,
    "ExecuteTime": {
     "end_time": "2023-11-12T09:51:53.573891200Z",
     "start_time": "2023-11-12T09:51:53.137501200Z"
    }
   },
   "id": "215d76fb42972151"
  },
  {
   "cell_type": "code",
   "execution_count": 4,
   "id": "initial_id",
   "metadata": {
    "collapsed": true,
    "ExecuteTime": {
     "end_time": "2023-11-12T09:53:53.467185600Z",
     "start_time": "2023-11-12T09:53:53.414770200Z"
    }
   },
   "outputs": [],
   "source": [
    "movies = pd.read_csv('D:\\\\Нетология python\\\\Лекция _Библиотека_numpy\\\\10._Основы_pandas\\\\10._Основы_pandas\\\\Файлы к заданию №1\\\\movies.csv')\n",
    "ratings = pd.read_csv('D:\\\\Нетология python\\\\Лекция _Библиотека_numpy\\\\10._Основы_pandas\\\\10._Основы_pandas\\\\Файлы к заданию №1\\\\ratings.csv')\n",
    "\n"
   ]
  },
  {
   "cell_type": "code",
   "execution_count": 8,
   "outputs": [
    {
     "data": {
      "text/plain": "      movieId                                      title  \\\n0           1                           Toy Story (1995)   \n1           2                             Jumanji (1995)   \n2           3                    Grumpier Old Men (1995)   \n3           4                   Waiting to Exhale (1995)   \n4           5         Father of the Bride Part II (1995)   \n...       ...                                        ...   \n9737   193581  Black Butler: Book of the Atlantic (2017)   \n9738   193583               No Game No Life: Zero (2017)   \n9739   193585                               Flint (2017)   \n9740   193587        Bungo Stray Dogs: Dead Apple (2018)   \n9741   193609        Andrew Dice Clay: Dice Rules (1991)   \n\n                                           genres  \n0     Adventure|Animation|Children|Comedy|Fantasy  \n1                      Adventure|Children|Fantasy  \n2                                  Comedy|Romance  \n3                            Comedy|Drama|Romance  \n4                                          Comedy  \n...                                           ...  \n9737              Action|Animation|Comedy|Fantasy  \n9738                     Animation|Comedy|Fantasy  \n9739                                        Drama  \n9740                             Action|Animation  \n9741                                       Comedy  \n\n[9742 rows x 3 columns]",
      "text/html": "<div>\n<style scoped>\n    .dataframe tbody tr th:only-of-type {\n        vertical-align: middle;\n    }\n\n    .dataframe tbody tr th {\n        vertical-align: top;\n    }\n\n    .dataframe thead th {\n        text-align: right;\n    }\n</style>\n<table border=\"1\" class=\"dataframe\">\n  <thead>\n    <tr style=\"text-align: right;\">\n      <th></th>\n      <th>movieId</th>\n      <th>title</th>\n      <th>genres</th>\n    </tr>\n  </thead>\n  <tbody>\n    <tr>\n      <th>0</th>\n      <td>1</td>\n      <td>Toy Story (1995)</td>\n      <td>Adventure|Animation|Children|Comedy|Fantasy</td>\n    </tr>\n    <tr>\n      <th>1</th>\n      <td>2</td>\n      <td>Jumanji (1995)</td>\n      <td>Adventure|Children|Fantasy</td>\n    </tr>\n    <tr>\n      <th>2</th>\n      <td>3</td>\n      <td>Grumpier Old Men (1995)</td>\n      <td>Comedy|Romance</td>\n    </tr>\n    <tr>\n      <th>3</th>\n      <td>4</td>\n      <td>Waiting to Exhale (1995)</td>\n      <td>Comedy|Drama|Romance</td>\n    </tr>\n    <tr>\n      <th>4</th>\n      <td>5</td>\n      <td>Father of the Bride Part II (1995)</td>\n      <td>Comedy</td>\n    </tr>\n    <tr>\n      <th>...</th>\n      <td>...</td>\n      <td>...</td>\n      <td>...</td>\n    </tr>\n    <tr>\n      <th>9737</th>\n      <td>193581</td>\n      <td>Black Butler: Book of the Atlantic (2017)</td>\n      <td>Action|Animation|Comedy|Fantasy</td>\n    </tr>\n    <tr>\n      <th>9738</th>\n      <td>193583</td>\n      <td>No Game No Life: Zero (2017)</td>\n      <td>Animation|Comedy|Fantasy</td>\n    </tr>\n    <tr>\n      <th>9739</th>\n      <td>193585</td>\n      <td>Flint (2017)</td>\n      <td>Drama</td>\n    </tr>\n    <tr>\n      <th>9740</th>\n      <td>193587</td>\n      <td>Bungo Stray Dogs: Dead Apple (2018)</td>\n      <td>Action|Animation</td>\n    </tr>\n    <tr>\n      <th>9741</th>\n      <td>193609</td>\n      <td>Andrew Dice Clay: Dice Rules (1991)</td>\n      <td>Comedy</td>\n    </tr>\n  </tbody>\n</table>\n<p>9742 rows × 3 columns</p>\n</div>"
     },
     "execution_count": 8,
     "metadata": {},
     "output_type": "execute_result"
    }
   ],
   "source": [
    "movies"
   ],
   "metadata": {
    "collapsed": false,
    "ExecuteTime": {
     "end_time": "2023-11-12T09:54:19.979962700Z",
     "start_time": "2023-11-12T09:54:19.972128700Z"
    }
   },
   "id": "470ed4c3c1dfd8ef"
  },
  {
   "cell_type": "code",
   "execution_count": 9,
   "outputs": [
    {
     "data": {
      "text/plain": "        userId  movieId  rating   timestamp\n0            1        1     4.0   964982703\n1            1        3     4.0   964981247\n2            1        6     4.0   964982224\n3            1       47     5.0   964983815\n4            1       50     5.0   964982931\n...        ...      ...     ...         ...\n100831     610   166534     4.0  1493848402\n100832     610   168248     5.0  1493850091\n100833     610   168250     5.0  1494273047\n100834     610   168252     5.0  1493846352\n100835     610   170875     3.0  1493846415\n\n[100836 rows x 4 columns]",
      "text/html": "<div>\n<style scoped>\n    .dataframe tbody tr th:only-of-type {\n        vertical-align: middle;\n    }\n\n    .dataframe tbody tr th {\n        vertical-align: top;\n    }\n\n    .dataframe thead th {\n        text-align: right;\n    }\n</style>\n<table border=\"1\" class=\"dataframe\">\n  <thead>\n    <tr style=\"text-align: right;\">\n      <th></th>\n      <th>userId</th>\n      <th>movieId</th>\n      <th>rating</th>\n      <th>timestamp</th>\n    </tr>\n  </thead>\n  <tbody>\n    <tr>\n      <th>0</th>\n      <td>1</td>\n      <td>1</td>\n      <td>4.0</td>\n      <td>964982703</td>\n    </tr>\n    <tr>\n      <th>1</th>\n      <td>1</td>\n      <td>3</td>\n      <td>4.0</td>\n      <td>964981247</td>\n    </tr>\n    <tr>\n      <th>2</th>\n      <td>1</td>\n      <td>6</td>\n      <td>4.0</td>\n      <td>964982224</td>\n    </tr>\n    <tr>\n      <th>3</th>\n      <td>1</td>\n      <td>47</td>\n      <td>5.0</td>\n      <td>964983815</td>\n    </tr>\n    <tr>\n      <th>4</th>\n      <td>1</td>\n      <td>50</td>\n      <td>5.0</td>\n      <td>964982931</td>\n    </tr>\n    <tr>\n      <th>...</th>\n      <td>...</td>\n      <td>...</td>\n      <td>...</td>\n      <td>...</td>\n    </tr>\n    <tr>\n      <th>100831</th>\n      <td>610</td>\n      <td>166534</td>\n      <td>4.0</td>\n      <td>1493848402</td>\n    </tr>\n    <tr>\n      <th>100832</th>\n      <td>610</td>\n      <td>168248</td>\n      <td>5.0</td>\n      <td>1493850091</td>\n    </tr>\n    <tr>\n      <th>100833</th>\n      <td>610</td>\n      <td>168250</td>\n      <td>5.0</td>\n      <td>1494273047</td>\n    </tr>\n    <tr>\n      <th>100834</th>\n      <td>610</td>\n      <td>168252</td>\n      <td>5.0</td>\n      <td>1493846352</td>\n    </tr>\n    <tr>\n      <th>100835</th>\n      <td>610</td>\n      <td>170875</td>\n      <td>3.0</td>\n      <td>1493846415</td>\n    </tr>\n  </tbody>\n</table>\n<p>100836 rows × 4 columns</p>\n</div>"
     },
     "execution_count": 9,
     "metadata": {},
     "output_type": "execute_result"
    }
   ],
   "source": [
    "ratings"
   ],
   "metadata": {
    "collapsed": false,
    "ExecuteTime": {
     "end_time": "2023-11-12T09:54:25.352932900Z",
     "start_time": "2023-11-12T09:54:25.341675300Z"
    }
   },
   "id": "88e1d2f3823bb236"
  },
  {
   "cell_type": "code",
   "execution_count": 11,
   "outputs": [
    {
     "data": {
      "text/plain": "        userId  movieId  rating   timestamp\n3            1       47     5.0   964983815\n4            1       50     5.0   964982931\n6            1      101     5.0   964980868\n8            1      151     5.0   964984041\n9            1      157     5.0   964984100\n...        ...      ...     ...         ...\n100814     610   158238     5.0  1479545219\n100829     610   164179     5.0  1493845631\n100832     610   168248     5.0  1493850091\n100833     610   168250     5.0  1494273047\n100834     610   168252     5.0  1493846352\n\n[13211 rows x 4 columns]",
      "text/html": "<div>\n<style scoped>\n    .dataframe tbody tr th:only-of-type {\n        vertical-align: middle;\n    }\n\n    .dataframe tbody tr th {\n        vertical-align: top;\n    }\n\n    .dataframe thead th {\n        text-align: right;\n    }\n</style>\n<table border=\"1\" class=\"dataframe\">\n  <thead>\n    <tr style=\"text-align: right;\">\n      <th></th>\n      <th>userId</th>\n      <th>movieId</th>\n      <th>rating</th>\n      <th>timestamp</th>\n    </tr>\n  </thead>\n  <tbody>\n    <tr>\n      <th>3</th>\n      <td>1</td>\n      <td>47</td>\n      <td>5.0</td>\n      <td>964983815</td>\n    </tr>\n    <tr>\n      <th>4</th>\n      <td>1</td>\n      <td>50</td>\n      <td>5.0</td>\n      <td>964982931</td>\n    </tr>\n    <tr>\n      <th>6</th>\n      <td>1</td>\n      <td>101</td>\n      <td>5.0</td>\n      <td>964980868</td>\n    </tr>\n    <tr>\n      <th>8</th>\n      <td>1</td>\n      <td>151</td>\n      <td>5.0</td>\n      <td>964984041</td>\n    </tr>\n    <tr>\n      <th>9</th>\n      <td>1</td>\n      <td>157</td>\n      <td>5.0</td>\n      <td>964984100</td>\n    </tr>\n    <tr>\n      <th>...</th>\n      <td>...</td>\n      <td>...</td>\n      <td>...</td>\n      <td>...</td>\n    </tr>\n    <tr>\n      <th>100814</th>\n      <td>610</td>\n      <td>158238</td>\n      <td>5.0</td>\n      <td>1479545219</td>\n    </tr>\n    <tr>\n      <th>100829</th>\n      <td>610</td>\n      <td>164179</td>\n      <td>5.0</td>\n      <td>1493845631</td>\n    </tr>\n    <tr>\n      <th>100832</th>\n      <td>610</td>\n      <td>168248</td>\n      <td>5.0</td>\n      <td>1493850091</td>\n    </tr>\n    <tr>\n      <th>100833</th>\n      <td>610</td>\n      <td>168250</td>\n      <td>5.0</td>\n      <td>1494273047</td>\n    </tr>\n    <tr>\n      <th>100834</th>\n      <td>610</td>\n      <td>168252</td>\n      <td>5.0</td>\n      <td>1493846352</td>\n    </tr>\n  </tbody>\n</table>\n<p>13211 rows × 4 columns</p>\n</div>"
     },
     "execution_count": 11,
     "metadata": {},
     "output_type": "execute_result"
    }
   ],
   "source": [
    "top_rating = ratings[ratings[\"rating\"] == 5.0]\n",
    "top_rating"
   ],
   "metadata": {
    "collapsed": false,
    "ExecuteTime": {
     "end_time": "2023-11-12T10:35:43.579549900Z",
     "start_time": "2023-11-12T10:35:43.567405Z"
    }
   },
   "id": "53c24dbe1802fc5d"
  },
  {
   "cell_type": "code",
   "execution_count": 14,
   "outputs": [
    {
     "data": {
      "text/plain": "       userId  movieId  rating   timestamp  \\\n0           1       47     5.0   964983815   \n1          13       47     5.0   987895819   \n2          14       47     5.0   835441133   \n3          56       47     5.0   835799219   \n4          58       47     5.0   847718657   \n...       ...      ...     ...         ...   \n13206     610   107771     5.0  1479544448   \n13207     610   109968     5.0  1479545414   \n13208     610   115727     5.0  1479544153   \n13209     610   138632     5.0  1479545420   \n13210     610   156371     5.0  1479542831   \n\n                                                   title  \\\n0                            Seven (a.k.a. Se7en) (1995)   \n1                            Seven (a.k.a. Se7en) (1995)   \n2                            Seven (a.k.a. Se7en) (1995)   \n3                            Seven (a.k.a. Se7en) (1995)   \n4                            Seven (a.k.a. Se7en) (1995)   \n...                                                  ...   \n13206                      Only Lovers Left Alive (2013)   \n13207  Why Don't You Play In Hell? (Jigoku de naze wa...   \n13208  Crippled Avengers (Can que) (Return of the 5 D...   \n13209                                 Tokyo Tribe (2014)   \n13210                        Everybody Wants Some (2016)   \n\n                          genres  \n0               Mystery|Thriller  \n1               Mystery|Thriller  \n2               Mystery|Thriller  \n3               Mystery|Thriller  \n4               Mystery|Thriller  \n...                          ...  \n13206       Drama|Horror|Romance  \n13207               Action|Drama  \n13208           Action|Adventure  \n13209  Action|Crime|Drama|Sci-Fi  \n13210                     Comedy  \n\n[13211 rows x 6 columns]",
      "text/html": "<div>\n<style scoped>\n    .dataframe tbody tr th:only-of-type {\n        vertical-align: middle;\n    }\n\n    .dataframe tbody tr th {\n        vertical-align: top;\n    }\n\n    .dataframe thead th {\n        text-align: right;\n    }\n</style>\n<table border=\"1\" class=\"dataframe\">\n  <thead>\n    <tr style=\"text-align: right;\">\n      <th></th>\n      <th>userId</th>\n      <th>movieId</th>\n      <th>rating</th>\n      <th>timestamp</th>\n      <th>title</th>\n      <th>genres</th>\n    </tr>\n  </thead>\n  <tbody>\n    <tr>\n      <th>0</th>\n      <td>1</td>\n      <td>47</td>\n      <td>5.0</td>\n      <td>964983815</td>\n      <td>Seven (a.k.a. Se7en) (1995)</td>\n      <td>Mystery|Thriller</td>\n    </tr>\n    <tr>\n      <th>1</th>\n      <td>13</td>\n      <td>47</td>\n      <td>5.0</td>\n      <td>987895819</td>\n      <td>Seven (a.k.a. Se7en) (1995)</td>\n      <td>Mystery|Thriller</td>\n    </tr>\n    <tr>\n      <th>2</th>\n      <td>14</td>\n      <td>47</td>\n      <td>5.0</td>\n      <td>835441133</td>\n      <td>Seven (a.k.a. Se7en) (1995)</td>\n      <td>Mystery|Thriller</td>\n    </tr>\n    <tr>\n      <th>3</th>\n      <td>56</td>\n      <td>47</td>\n      <td>5.0</td>\n      <td>835799219</td>\n      <td>Seven (a.k.a. Se7en) (1995)</td>\n      <td>Mystery|Thriller</td>\n    </tr>\n    <tr>\n      <th>4</th>\n      <td>58</td>\n      <td>47</td>\n      <td>5.0</td>\n      <td>847718657</td>\n      <td>Seven (a.k.a. Se7en) (1995)</td>\n      <td>Mystery|Thriller</td>\n    </tr>\n    <tr>\n      <th>...</th>\n      <td>...</td>\n      <td>...</td>\n      <td>...</td>\n      <td>...</td>\n      <td>...</td>\n      <td>...</td>\n    </tr>\n    <tr>\n      <th>13206</th>\n      <td>610</td>\n      <td>107771</td>\n      <td>5.0</td>\n      <td>1479544448</td>\n      <td>Only Lovers Left Alive (2013)</td>\n      <td>Drama|Horror|Romance</td>\n    </tr>\n    <tr>\n      <th>13207</th>\n      <td>610</td>\n      <td>109968</td>\n      <td>5.0</td>\n      <td>1479545414</td>\n      <td>Why Don't You Play In Hell? (Jigoku de naze wa...</td>\n      <td>Action|Drama</td>\n    </tr>\n    <tr>\n      <th>13208</th>\n      <td>610</td>\n      <td>115727</td>\n      <td>5.0</td>\n      <td>1479544153</td>\n      <td>Crippled Avengers (Can que) (Return of the 5 D...</td>\n      <td>Action|Adventure</td>\n    </tr>\n    <tr>\n      <th>13209</th>\n      <td>610</td>\n      <td>138632</td>\n      <td>5.0</td>\n      <td>1479545420</td>\n      <td>Tokyo Tribe (2014)</td>\n      <td>Action|Crime|Drama|Sci-Fi</td>\n    </tr>\n    <tr>\n      <th>13210</th>\n      <td>610</td>\n      <td>156371</td>\n      <td>5.0</td>\n      <td>1479542831</td>\n      <td>Everybody Wants Some (2016)</td>\n      <td>Comedy</td>\n    </tr>\n  </tbody>\n</table>\n<p>13211 rows × 6 columns</p>\n</div>"
     },
     "execution_count": 14,
     "metadata": {},
     "output_type": "execute_result"
    }
   ],
   "source": [
    "merged_movies_rating = pd.merge(top_rating, movies, on='movieId')\n",
    "merged_movies_rating"
   ],
   "metadata": {
    "collapsed": false,
    "ExecuteTime": {
     "end_time": "2023-11-12T10:38:40.223385Z",
     "start_time": "2023-11-12T10:38:40.207531500Z"
    }
   },
   "id": "c06291dd830db4e3"
  },
  {
   "cell_type": "code",
   "execution_count": 17,
   "outputs": [
    {
     "data": {
      "text/plain": "                            title  count\n0             'Salem's Lot (2004)      1\n1       'Til There Was You (1997)      1\n2              'burbs, The (1989)      2\n3     (500) Days of Summer (2009)      5\n4      10 Cloverfield Lane (2016)      1\n...                           ...    ...\n2949              Zootopia (2016)      4\n2950                  Zulu (1964)      2\n2951                 [REC] (2007)      3\n2952              eXistenZ (1999)      3\n2953        ¡Three Amigos! (1986)      2\n\n[2954 rows x 2 columns]",
      "text/html": "<div>\n<style scoped>\n    .dataframe tbody tr th:only-of-type {\n        vertical-align: middle;\n    }\n\n    .dataframe tbody tr th {\n        vertical-align: top;\n    }\n\n    .dataframe thead th {\n        text-align: right;\n    }\n</style>\n<table border=\"1\" class=\"dataframe\">\n  <thead>\n    <tr style=\"text-align: right;\">\n      <th></th>\n      <th>title</th>\n      <th>count</th>\n    </tr>\n  </thead>\n  <tbody>\n    <tr>\n      <th>0</th>\n      <td>'Salem's Lot (2004)</td>\n      <td>1</td>\n    </tr>\n    <tr>\n      <th>1</th>\n      <td>'Til There Was You (1997)</td>\n      <td>1</td>\n    </tr>\n    <tr>\n      <th>2</th>\n      <td>'burbs, The (1989)</td>\n      <td>2</td>\n    </tr>\n    <tr>\n      <th>3</th>\n      <td>(500) Days of Summer (2009)</td>\n      <td>5</td>\n    </tr>\n    <tr>\n      <th>4</th>\n      <td>10 Cloverfield Lane (2016)</td>\n      <td>1</td>\n    </tr>\n    <tr>\n      <th>...</th>\n      <td>...</td>\n      <td>...</td>\n    </tr>\n    <tr>\n      <th>2949</th>\n      <td>Zootopia (2016)</td>\n      <td>4</td>\n    </tr>\n    <tr>\n      <th>2950</th>\n      <td>Zulu (1964)</td>\n      <td>2</td>\n    </tr>\n    <tr>\n      <th>2951</th>\n      <td>[REC] (2007)</td>\n      <td>3</td>\n    </tr>\n    <tr>\n      <th>2952</th>\n      <td>eXistenZ (1999)</td>\n      <td>3</td>\n    </tr>\n    <tr>\n      <th>2953</th>\n      <td>¡Three Amigos! (1986)</td>\n      <td>2</td>\n    </tr>\n  </tbody>\n</table>\n<p>2954 rows × 2 columns</p>\n</div>"
     },
     "execution_count": 17,
     "metadata": {},
     "output_type": "execute_result"
    }
   ],
   "source": [
    "count_rating = merged_movies_rating.groupby('title').size().reset_index(name='count')\n",
    "count_rating"
   ],
   "metadata": {
    "collapsed": false,
    "ExecuteTime": {
     "end_time": "2023-11-12T10:42:59.051717400Z",
     "start_time": "2023-11-12T10:42:59.040851500Z"
    }
   },
   "id": "2946b378b5537cec"
  },
  {
   "cell_type": "code",
   "execution_count": 22,
   "outputs": [
    {
     "data": {
      "text/plain": "                                 title  count\n2310  Shawshank Redemption, The (1994)    153",
      "text/html": "<div>\n<style scoped>\n    .dataframe tbody tr th:only-of-type {\n        vertical-align: middle;\n    }\n\n    .dataframe tbody tr th {\n        vertical-align: top;\n    }\n\n    .dataframe thead th {\n        text-align: right;\n    }\n</style>\n<table border=\"1\" class=\"dataframe\">\n  <thead>\n    <tr style=\"text-align: right;\">\n      <th></th>\n      <th>title</th>\n      <th>count</th>\n    </tr>\n  </thead>\n  <tbody>\n    <tr>\n      <th>2310</th>\n      <td>Shawshank Redemption, The (1994)</td>\n      <td>153</td>\n    </tr>\n  </tbody>\n</table>\n</div>"
     },
     "execution_count": 22,
     "metadata": {},
     "output_type": "execute_result"
    }
   ],
   "source": [
    "max_rating_movies = count_rating[count_rating['count'] == count_rating['count'].max()]\n",
    "max_rating_movies"
   ],
   "metadata": {
    "collapsed": false,
    "ExecuteTime": {
     "end_time": "2023-11-12T10:44:57.350798900Z",
     "start_time": "2023-11-12T10:44:57.343402500Z"
    }
   },
   "id": "5935e2250d1ca701"
  },
  {
   "cell_type": "markdown",
   "source": [
    "# Задание 2\n",
    "По данным файла power.csv (находится в архиве в разделе Материалы к лекции «Библиотека Pandas» - файл “Дополнительные файлы для домашнего задания”) посчитайте суммарное потребление стран Прибалтики (Латвия, Литва и Эстония) категорий 4, 12 и 21 за период с 2005 по 2010 год. Не учитывайте в расчётах отрицательные значения quantity."
   ],
   "metadata": {
    "collapsed": false
   },
   "id": "b2ab4179d434424b"
  },
  {
   "cell_type": "markdown",
   "source": [],
   "metadata": {
    "collapsed": false
   },
   "id": "e7db1b8688af61c0"
  },
  {
   "cell_type": "code",
   "execution_count": 24,
   "outputs": [
    {
     "data": {
      "text/plain": "          country  year  quantity  category\n0         Austria  1996       5.0         1\n1         Austria  1995      17.0         1\n2         Belgium  2014       0.0         1\n3         Belgium  2013       0.0         1\n4         Belgium  2012      35.0         1\n...           ...   ...       ...       ...\n1189477  Viet Nam  2012      92.0        71\n1189478  Viet Nam  2011      87.0        71\n1189479  Viet Nam  2010      50.0        71\n1189480  Viet Nam  2009      10.0        71\n1189481  Viet Nam  2008       1.0        71\n\n[1189482 rows x 4 columns]",
      "text/html": "<div>\n<style scoped>\n    .dataframe tbody tr th:only-of-type {\n        vertical-align: middle;\n    }\n\n    .dataframe tbody tr th {\n        vertical-align: top;\n    }\n\n    .dataframe thead th {\n        text-align: right;\n    }\n</style>\n<table border=\"1\" class=\"dataframe\">\n  <thead>\n    <tr style=\"text-align: right;\">\n      <th></th>\n      <th>country</th>\n      <th>year</th>\n      <th>quantity</th>\n      <th>category</th>\n    </tr>\n  </thead>\n  <tbody>\n    <tr>\n      <th>0</th>\n      <td>Austria</td>\n      <td>1996</td>\n      <td>5.0</td>\n      <td>1</td>\n    </tr>\n    <tr>\n      <th>1</th>\n      <td>Austria</td>\n      <td>1995</td>\n      <td>17.0</td>\n      <td>1</td>\n    </tr>\n    <tr>\n      <th>2</th>\n      <td>Belgium</td>\n      <td>2014</td>\n      <td>0.0</td>\n      <td>1</td>\n    </tr>\n    <tr>\n      <th>3</th>\n      <td>Belgium</td>\n      <td>2013</td>\n      <td>0.0</td>\n      <td>1</td>\n    </tr>\n    <tr>\n      <th>4</th>\n      <td>Belgium</td>\n      <td>2012</td>\n      <td>35.0</td>\n      <td>1</td>\n    </tr>\n    <tr>\n      <th>...</th>\n      <td>...</td>\n      <td>...</td>\n      <td>...</td>\n      <td>...</td>\n    </tr>\n    <tr>\n      <th>1189477</th>\n      <td>Viet Nam</td>\n      <td>2012</td>\n      <td>92.0</td>\n      <td>71</td>\n    </tr>\n    <tr>\n      <th>1189478</th>\n      <td>Viet Nam</td>\n      <td>2011</td>\n      <td>87.0</td>\n      <td>71</td>\n    </tr>\n    <tr>\n      <th>1189479</th>\n      <td>Viet Nam</td>\n      <td>2010</td>\n      <td>50.0</td>\n      <td>71</td>\n    </tr>\n    <tr>\n      <th>1189480</th>\n      <td>Viet Nam</td>\n      <td>2009</td>\n      <td>10.0</td>\n      <td>71</td>\n    </tr>\n    <tr>\n      <th>1189481</th>\n      <td>Viet Nam</td>\n      <td>2008</td>\n      <td>1.0</td>\n      <td>71</td>\n    </tr>\n  </tbody>\n</table>\n<p>1189482 rows × 4 columns</p>\n</div>"
     },
     "execution_count": 24,
     "metadata": {},
     "output_type": "execute_result"
    }
   ],
   "source": [
    "data = pd.read_csv('D:\\\\Нетология python\\\\Лекция _Библиотека_numpy\\\\10._Основы_pandas\\\\10._Основы_pandas\\\\Файлы к заданию №2\\\\power.csv')\n",
    "data"
   ],
   "metadata": {
    "collapsed": false,
    "ExecuteTime": {
     "end_time": "2023-11-12T10:48:47.363444800Z",
     "start_time": "2023-11-12T10:48:47.061314800Z"
    }
   },
   "id": "f9e60d1c3cac24f1"
  },
  {
   "cell_type": "code",
   "execution_count": 46,
   "outputs": [],
   "source": [
    "filter_date = data[\n",
    "    (data['country'].isin(['Latvia', 'Lithuania','Estonia'])) &\n",
    "    (data['category'].isin([4, 12, 21])) &\n",
    "    (data['year'].between(2005,2010)) &\n",
    "    (data['quantity'] >= 0)\n",
    "]"
   ],
   "metadata": {
    "collapsed": false,
    "ExecuteTime": {
     "end_time": "2023-11-12T11:06:04.318592600Z",
     "start_time": "2023-11-12T11:06:04.301290700Z"
    }
   },
   "id": "f88e6f069992931f"
  },
  {
   "cell_type": "code",
   "execution_count": 47,
   "outputs": [
    {
     "data": {
      "text/plain": "240580.0"
     },
     "execution_count": 47,
     "metadata": {},
     "output_type": "execute_result"
    }
   ],
   "source": [
    "total_consumption = filter_date['quantity'].sum()\n",
    "total_consumption\n"
   ],
   "metadata": {
    "collapsed": false,
    "ExecuteTime": {
     "end_time": "2023-11-12T11:06:06.514384100Z",
     "start_time": "2023-11-12T11:06:06.506486500Z"
    }
   },
   "id": "f5b9670cbc0e5303"
  },
  {
   "cell_type": "code",
   "execution_count": 48,
   "outputs": [
    {
     "data": {
      "text/plain": "country    category\nEstonia    4               28.0\n           21           63412.0\nLatvia     4                0.0\n           21           54844.0\nLithuania  4               18.0\n           12            6326.0\n           21          115952.0\nName: quantity, dtype: float64"
     },
     "execution_count": 48,
     "metadata": {},
     "output_type": "execute_result"
    }
   ],
   "source": [
    "total_consumption = grouped_data['quantity'].sum()\n",
    "total_consumption"
   ],
   "metadata": {
    "collapsed": false,
    "ExecuteTime": {
     "end_time": "2023-11-12T11:06:28.577845600Z",
     "start_time": "2023-11-12T11:06:28.554429900Z"
    }
   },
   "id": "615d41646416f8e5"
  },
  {
   "cell_type": "markdown",
   "source": [
    "# Задание 3\n",
    "Выберите страницу любого сайта с табличными данными. Импортируйте таблицы в pandas DataFrame. Вы можете взять любые страницы.\n",
    "Примеры страниц:\n",
    "https://fortrader.org/quotes;\n",
    "pythonworld.ru...strok.html\n"
   ],
   "metadata": {
    "collapsed": false
   },
   "id": "a6abf6e0a3602a02"
  },
  {
   "cell_type": "code",
   "execution_count": 53,
   "outputs": [],
   "source": [
    "tables = pd.read_html('https://pythonworld.ru/tipy-dannyx-v-python/stroki-funkcii-i-metody-strok.html')"
   ],
   "metadata": {
    "collapsed": false,
    "ExecuteTime": {
     "end_time": "2023-11-12T11:16:02.142008100Z",
     "start_time": "2023-11-12T11:16:02.016796100Z"
    }
   },
   "id": "91be66e1708e0fd8"
  },
  {
   "cell_type": "code",
   "execution_count": 54,
   "outputs": [],
   "source": [
    "df = tables[0]"
   ],
   "metadata": {
    "collapsed": false,
    "ExecuteTime": {
     "end_time": "2023-11-12T11:16:15.942943400Z",
     "start_time": "2023-11-12T11:16:15.937428800Z"
    }
   },
   "id": "86c59c17a35d6712"
  },
  {
   "cell_type": "code",
   "execution_count": 58,
   "outputs": [
    {
     "data": {
      "text/plain": "                                    Функция или метод  \\\n0   S = 'str'; S = \"str\"; S = '''str'''; S = \"\"\"st...   \n1                                  S = \"s\\np\\ta\\nbbb\"   \n2                                  S = r\"C:\\temp\\new\"   \n3                                         S = b\"byte\"   \n4                                             S1 + S2   \n5                                              S1 * 3   \n6                                                S[i]   \n7                                         S[i:j:step]   \n8                                              len(S)   \n9                          S.find(str, [start],[end])   \n10                        S.rfind(str, [start],[end])   \n11                        S.index(str, [start],[end])   \n12                       S.rindex(str, [start],[end])   \n13              S.replace(шаблон, замена[, maxcount])   \n14                                    S.split(символ)   \n15                                        S.isdigit()   \n16                                        S.isalpha()   \n17                                        S.isalnum()   \n18                                        S.islower()   \n19                                        S.isupper()   \n20                                        S.isspace()   \n21                                        S.istitle()   \n22                                          S.upper()   \n23                                          S.lower()   \n24                                  S.startswith(str)   \n25                                    S.endswith(str)   \n26                                     S.join(список)   \n27                                        ord(символ)   \n28                                         chr(число)   \n29                                     S.capitalize()   \n30                            S.center(width, [fill])   \n31                        S.count(str, [start],[end])   \n32                            S.expandtabs([tabsize])   \n33                                  S.lstrip([chars])   \n34                                  S.rstrip([chars])   \n35                                   S.strip([chars])   \n36                                S.partition(шаблон)   \n37                                  S.rpartition(sep)   \n38                                       S.swapcase()   \n39                                          S.title()   \n40                                     S.zfill(width)   \n41                       S.ljust(width, fillchar=\" \")   \n42                       S.rjust(width, fillchar=\" \")   \n43                          S.format(*args, **kwargs)   \n\n                                           Назначение  \n0                                      Литералы строк  \n1                   Экранированные последовательности  \n2   Неформатированные строки (подавляют экранирова...  \n3                                       Строка байтов  \n4                       Конкатенация (сложение строк)  \n5                                   Повторение строки  \n6                                Обращение по индексу  \n7                                    Извлечение среза  \n8                                        Длина строки  \n9   Поиск подстроки в строке. Возвращает номер пер...  \n10  Поиск подстроки в строке. Возвращает номер пос...  \n11  Поиск подстроки в строке. Возвращает номер пер...  \n12  Поиск подстроки в строке. Возвращает номер пос...  \n13  Замена шаблона на замену. maxcount ограничивае...  \n14                    Разбиение строки по разделителю  \n15                          Состоит ли строка из цифр  \n16                          Состоит ли строка из букв  \n17                 Состоит ли строка из цифр или букв  \n18    Состоит ли строка из символов в нижнем регистре  \n19   Состоит ли строка из символов в верхнем регистре  \n20  Состоит ли строка из неотображаемых символов (...  \n21     Начинаются ли слова в строке с заглавной буквы  \n22          Преобразование строки к верхнему регистру  \n23           Преобразование строки к нижнему регистру  \n24               Начинается ли строка S с шаблона str  \n25             Заканчивается ли строка S шаблоном str  \n26           Сборка строки из списка с разделителем S  \n27                             Символ в его код ASCII  \n28                                 Код ASCII в символ  \n29  Переводит первый символ строки в верхний регис...  \n30  Возвращает отцентрованную строку, по краям кот...  \n31  Возвращает количество непересекающихся вхожден...  \n32  Возвращает копию строки, в которой все символы...  \n33       Удаление пробельных символов в начале строки  \n34        Удаление пробельных символов в конце строки  \n35  Удаление пробельных символов в начале и в конц...  \n36  Возвращает кортеж, содержащий часть перед перв...  \n37  Возвращает кортеж, содержащий часть перед посл...  \n38  Переводит символы нижнего регистра в верхний, ...  \n39  Первую букву каждого слова переводит в верхний...  \n40  Делает длину строки не меньшей width, по необх...  \n41  Делает длину строки не меньшей width, по необх...  \n42  Делает длину строки не меньшей width, по необх...  \n43                              Форматирование строки  ",
      "text/html": "<div>\n<style scoped>\n    .dataframe tbody tr th:only-of-type {\n        vertical-align: middle;\n    }\n\n    .dataframe tbody tr th {\n        vertical-align: top;\n    }\n\n    .dataframe thead th {\n        text-align: right;\n    }\n</style>\n<table border=\"1\" class=\"dataframe\">\n  <thead>\n    <tr style=\"text-align: right;\">\n      <th></th>\n      <th>Функция или метод</th>\n      <th>Назначение</th>\n    </tr>\n  </thead>\n  <tbody>\n    <tr>\n      <th>0</th>\n      <td>S = 'str'; S = \"str\"; S = '''str'''; S = \"\"\"st...</td>\n      <td>Литералы строк</td>\n    </tr>\n    <tr>\n      <th>1</th>\n      <td>S = \"s\\np\\ta\\nbbb\"</td>\n      <td>Экранированные последовательности</td>\n    </tr>\n    <tr>\n      <th>2</th>\n      <td>S = r\"C:\\temp\\new\"</td>\n      <td>Неформатированные строки (подавляют экранирова...</td>\n    </tr>\n    <tr>\n      <th>3</th>\n      <td>S = b\"byte\"</td>\n      <td>Строка байтов</td>\n    </tr>\n    <tr>\n      <th>4</th>\n      <td>S1 + S2</td>\n      <td>Конкатенация (сложение строк)</td>\n    </tr>\n    <tr>\n      <th>5</th>\n      <td>S1 * 3</td>\n      <td>Повторение строки</td>\n    </tr>\n    <tr>\n      <th>6</th>\n      <td>S[i]</td>\n      <td>Обращение по индексу</td>\n    </tr>\n    <tr>\n      <th>7</th>\n      <td>S[i:j:step]</td>\n      <td>Извлечение среза</td>\n    </tr>\n    <tr>\n      <th>8</th>\n      <td>len(S)</td>\n      <td>Длина строки</td>\n    </tr>\n    <tr>\n      <th>9</th>\n      <td>S.find(str, [start],[end])</td>\n      <td>Поиск подстроки в строке. Возвращает номер пер...</td>\n    </tr>\n    <tr>\n      <th>10</th>\n      <td>S.rfind(str, [start],[end])</td>\n      <td>Поиск подстроки в строке. Возвращает номер пос...</td>\n    </tr>\n    <tr>\n      <th>11</th>\n      <td>S.index(str, [start],[end])</td>\n      <td>Поиск подстроки в строке. Возвращает номер пер...</td>\n    </tr>\n    <tr>\n      <th>12</th>\n      <td>S.rindex(str, [start],[end])</td>\n      <td>Поиск подстроки в строке. Возвращает номер пос...</td>\n    </tr>\n    <tr>\n      <th>13</th>\n      <td>S.replace(шаблон, замена[, maxcount])</td>\n      <td>Замена шаблона на замену. maxcount ограничивае...</td>\n    </tr>\n    <tr>\n      <th>14</th>\n      <td>S.split(символ)</td>\n      <td>Разбиение строки по разделителю</td>\n    </tr>\n    <tr>\n      <th>15</th>\n      <td>S.isdigit()</td>\n      <td>Состоит ли строка из цифр</td>\n    </tr>\n    <tr>\n      <th>16</th>\n      <td>S.isalpha()</td>\n      <td>Состоит ли строка из букв</td>\n    </tr>\n    <tr>\n      <th>17</th>\n      <td>S.isalnum()</td>\n      <td>Состоит ли строка из цифр или букв</td>\n    </tr>\n    <tr>\n      <th>18</th>\n      <td>S.islower()</td>\n      <td>Состоит ли строка из символов в нижнем регистре</td>\n    </tr>\n    <tr>\n      <th>19</th>\n      <td>S.isupper()</td>\n      <td>Состоит ли строка из символов в верхнем регистре</td>\n    </tr>\n    <tr>\n      <th>20</th>\n      <td>S.isspace()</td>\n      <td>Состоит ли строка из неотображаемых символов (...</td>\n    </tr>\n    <tr>\n      <th>21</th>\n      <td>S.istitle()</td>\n      <td>Начинаются ли слова в строке с заглавной буквы</td>\n    </tr>\n    <tr>\n      <th>22</th>\n      <td>S.upper()</td>\n      <td>Преобразование строки к верхнему регистру</td>\n    </tr>\n    <tr>\n      <th>23</th>\n      <td>S.lower()</td>\n      <td>Преобразование строки к нижнему регистру</td>\n    </tr>\n    <tr>\n      <th>24</th>\n      <td>S.startswith(str)</td>\n      <td>Начинается ли строка S с шаблона str</td>\n    </tr>\n    <tr>\n      <th>25</th>\n      <td>S.endswith(str)</td>\n      <td>Заканчивается ли строка S шаблоном str</td>\n    </tr>\n    <tr>\n      <th>26</th>\n      <td>S.join(список)</td>\n      <td>Сборка строки из списка с разделителем S</td>\n    </tr>\n    <tr>\n      <th>27</th>\n      <td>ord(символ)</td>\n      <td>Символ в его код ASCII</td>\n    </tr>\n    <tr>\n      <th>28</th>\n      <td>chr(число)</td>\n      <td>Код ASCII в символ</td>\n    </tr>\n    <tr>\n      <th>29</th>\n      <td>S.capitalize()</td>\n      <td>Переводит первый символ строки в верхний регис...</td>\n    </tr>\n    <tr>\n      <th>30</th>\n      <td>S.center(width, [fill])</td>\n      <td>Возвращает отцентрованную строку, по краям кот...</td>\n    </tr>\n    <tr>\n      <th>31</th>\n      <td>S.count(str, [start],[end])</td>\n      <td>Возвращает количество непересекающихся вхожден...</td>\n    </tr>\n    <tr>\n      <th>32</th>\n      <td>S.expandtabs([tabsize])</td>\n      <td>Возвращает копию строки, в которой все символы...</td>\n    </tr>\n    <tr>\n      <th>33</th>\n      <td>S.lstrip([chars])</td>\n      <td>Удаление пробельных символов в начале строки</td>\n    </tr>\n    <tr>\n      <th>34</th>\n      <td>S.rstrip([chars])</td>\n      <td>Удаление пробельных символов в конце строки</td>\n    </tr>\n    <tr>\n      <th>35</th>\n      <td>S.strip([chars])</td>\n      <td>Удаление пробельных символов в начале и в конц...</td>\n    </tr>\n    <tr>\n      <th>36</th>\n      <td>S.partition(шаблон)</td>\n      <td>Возвращает кортеж, содержащий часть перед перв...</td>\n    </tr>\n    <tr>\n      <th>37</th>\n      <td>S.rpartition(sep)</td>\n      <td>Возвращает кортеж, содержащий часть перед посл...</td>\n    </tr>\n    <tr>\n      <th>38</th>\n      <td>S.swapcase()</td>\n      <td>Переводит символы нижнего регистра в верхний, ...</td>\n    </tr>\n    <tr>\n      <th>39</th>\n      <td>S.title()</td>\n      <td>Первую букву каждого слова переводит в верхний...</td>\n    </tr>\n    <tr>\n      <th>40</th>\n      <td>S.zfill(width)</td>\n      <td>Делает длину строки не меньшей width, по необх...</td>\n    </tr>\n    <tr>\n      <th>41</th>\n      <td>S.ljust(width, fillchar=\" \")</td>\n      <td>Делает длину строки не меньшей width, по необх...</td>\n    </tr>\n    <tr>\n      <th>42</th>\n      <td>S.rjust(width, fillchar=\" \")</td>\n      <td>Делает длину строки не меньшей width, по необх...</td>\n    </tr>\n    <tr>\n      <th>43</th>\n      <td>S.format(*args, **kwargs)</td>\n      <td>Форматирование строки</td>\n    </tr>\n  </tbody>\n</table>\n</div>"
     },
     "execution_count": 58,
     "metadata": {},
     "output_type": "execute_result"
    }
   ],
   "source": [
    "df\n"
   ],
   "metadata": {
    "collapsed": false,
    "ExecuteTime": {
     "end_time": "2023-11-12T11:17:54.772679900Z",
     "start_time": "2023-11-12T11:17:54.768451400Z"
    }
   },
   "id": "7470a8e8e1984b1f"
  }
 ],
 "metadata": {
  "kernelspec": {
   "display_name": "Python 3",
   "language": "python",
   "name": "python3"
  },
  "language_info": {
   "codemirror_mode": {
    "name": "ipython",
    "version": 2
   },
   "file_extension": ".py",
   "mimetype": "text/x-python",
   "name": "python",
   "nbconvert_exporter": "python",
   "pygments_lexer": "ipython2",
   "version": "2.7.6"
  }
 },
 "nbformat": 4,
 "nbformat_minor": 5
}
