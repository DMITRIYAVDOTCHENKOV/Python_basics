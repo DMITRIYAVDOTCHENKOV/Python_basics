{
  "cells": [
    {
      "cell_type": "markdown",
      "metadata": {
        "id": "view-in-github",
        "colab_type": "text"
      },
      "source": [
        "<a href=\"https://colab.research.google.com/github/DMITRIYAVDOTCHENKOV/Python_basics/blob/master/02_Datatypes_and_loops.ipynb\" target=\"_parent\"><img src=\"https://colab.research.google.com/assets/colab-badge.svg\" alt=\"Open In Colab\"/></a>"
      ]
    },
    {
      "cell_type": "markdown",
      "metadata": {
        "id": "Gk1v_wEJsYST"
      },
      "source": [
        "# Простые типы данных"
      ]
    },
    {
      "cell_type": "code",
      "execution_count": null,
      "metadata": {
        "id": "ig-VHBigsYSW",
        "outputId": "9f0ba453-f919-4367-a7b3-8c04e5d0bfa0"
      },
      "outputs": [
        {
          "data": {
            "text/plain": [
              "int"
            ]
          },
          "execution_count": 1,
          "metadata": {},
          "output_type": "execute_result"
        }
      ],
      "source": [
        "my_integer = 10\n",
        "type(my_integer)"
      ]
    },
    {
      "cell_type": "code",
      "execution_count": null,
      "metadata": {
        "id": "OVgqYdVmsYSX",
        "outputId": "d95948b7-8696-45bc-cb1e-aff7a219d58d"
      },
      "outputs": [
        {
          "data": {
            "text/plain": [
              "float"
            ]
          },
          "execution_count": 2,
          "metadata": {},
          "output_type": "execute_result"
        }
      ],
      "source": [
        "my_float = 5.5\n",
        "type(my_float)"
      ]
    },
    {
      "cell_type": "code",
      "execution_count": null,
      "metadata": {
        "id": "kAbHXQYpsYSY",
        "outputId": "72867daa-f0ee-43c0-a912-598f5cfa1864"
      },
      "outputs": [
        {
          "data": {
            "text/plain": [
              "int"
            ]
          },
          "execution_count": 4,
          "metadata": {},
          "output_type": "execute_result"
        }
      ],
      "source": [
        "type(5)"
      ]
    },
    {
      "cell_type": "code",
      "execution_count": null,
      "metadata": {
        "id": "lw0w4bExsYSY",
        "outputId": "d433eb49-5fbe-419e-dffb-ef7b81dd20f3"
      },
      "outputs": [
        {
          "data": {
            "text/plain": [
              "str"
            ]
          },
          "execution_count": 5,
          "metadata": {},
          "output_type": "execute_result"
        }
      ],
      "source": [
        "my_string = 'Hello World!'\n",
        "my_string_2 = \"Hello World\"\n",
        "type(my_string_2)"
      ]
    },
    {
      "cell_type": "code",
      "execution_count": null,
      "metadata": {
        "id": "-UjNxNzXsYSY",
        "outputId": "18811436-483b-40a5-be00-5120b9cac571"
      },
      "outputs": [
        {
          "data": {
            "text/plain": [
              "bool"
            ]
          },
          "execution_count": 6,
          "metadata": {},
          "output_type": "execute_result"
        }
      ],
      "source": [
        "my_bool = True\n",
        "# my_bool = False\n",
        "type(my_bool)"
      ]
    },
    {
      "cell_type": "code",
      "execution_count": null,
      "metadata": {
        "id": "j5u2UVfksYSZ"
      },
      "outputs": [],
      "source": [
        "x = 5\n",
        "y = 1\n",
        "print(type(x > y))"
      ]
    },
    {
      "cell_type": "code",
      "execution_count": null,
      "metadata": {
        "id": "VSizvTMbsYSZ",
        "outputId": "d53a3a93-84e3-4047-9f05-d889bf9835e6"
      },
      "outputs": [
        {
          "name": "stdout",
          "output_type": "stream",
          "text": [
            "Ваша годовая зарплата составляет  1000  условных единиц\n"
          ]
        }
      ],
      "source": [
        "# преобразование типов\n",
        "salary = 1000\n",
        "print('Ваша годовая зарплата составляет ', salary, ' условных единиц')"
      ]
    },
    {
      "cell_type": "code",
      "execution_count": null,
      "metadata": {
        "id": "2cVAO1Y5sYSa",
        "outputId": "5536409e-3ce6-48d5-a68e-41d076eb4371"
      },
      "outputs": [
        {
          "data": {
            "text/plain": [
              "str"
            ]
          },
          "execution_count": 10,
          "metadata": {},
          "output_type": "execute_result"
        }
      ],
      "source": [
        "type(str(salary))"
      ]
    },
    {
      "cell_type": "code",
      "execution_count": null,
      "metadata": {
        "id": "OQd-lQtMsYSa",
        "outputId": "345b05a9-52fd-45a5-b89a-f7f86b1a7dfa"
      },
      "outputs": [
        {
          "name": "stdout",
          "output_type": "stream",
          "text": [
            "Ваша годовая зарплата составляет 1000 условных единиц\n"
          ]
        }
      ],
      "source": [
        "print('Ваша годовая зарплата составляет ' + str(salary) + ' условных единиц')"
      ]
    },
    {
      "cell_type": "code",
      "execution_count": null,
      "metadata": {
        "id": "nJaILCEgsYSa",
        "outputId": "23b1db5e-0bde-4e63-9162-19d38538d34d"
      },
      "outputs": [
        {
          "data": {
            "text/plain": [
              "1100"
            ]
          },
          "execution_count": 14,
          "metadata": {},
          "output_type": "execute_result"
        }
      ],
      "source": [
        "int('1000') + 100"
      ]
    },
    {
      "cell_type": "code",
      "execution_count": null,
      "metadata": {
        "id": "GOs1-Lh-sYSb",
        "outputId": "140fbc65-285a-46cc-e122-a675cb247bd8"
      },
      "outputs": [
        {
          "name": "stdout",
          "output_type": "stream",
          "text": [
            "1\n"
          ]
        }
      ],
      "source": [
        "# неявное преобразование типов\n",
        "print(1 + False)\n",
        "# print(20 / 5.1)"
      ]
    },
    {
      "cell_type": "markdown",
      "metadata": {
        "id": "EUN3WP-NsYSb"
      },
      "source": [
        "## Строки"
      ]
    },
    {
      "cell_type": "code",
      "execution_count": null,
      "metadata": {
        "scrolled": true,
        "id": "88NNx7t2sYSb",
        "outputId": "70744a73-4a83-4a3c-b05c-7469bd557b51"
      },
      "outputs": [
        {
          "data": {
            "text/plain": [
              "3"
            ]
          },
          "execution_count": 17,
          "metadata": {},
          "output_type": "execute_result"
        }
      ],
      "source": [
        "1 + 2"
      ]
    },
    {
      "cell_type": "code",
      "execution_count": null,
      "metadata": {
        "id": "7HWzbRkYsYSb",
        "outputId": "2e5967b2-6bf6-41fd-bd87-69977db41b7c"
      },
      "outputs": [
        {
          "data": {
            "text/plain": [
              "'12'"
            ]
          },
          "execution_count": 18,
          "metadata": {},
          "output_type": "execute_result"
        }
      ],
      "source": [
        "'1' + '2'"
      ]
    },
    {
      "cell_type": "code",
      "execution_count": null,
      "metadata": {
        "id": "gKP6Ns2PsYSc"
      },
      "outputs": [],
      "source": [
        "my_string = 'Hello World'"
      ]
    },
    {
      "cell_type": "code",
      "execution_count": null,
      "metadata": {
        "id": "bYRStzCSsYSc",
        "outputId": "d087d236-b7be-4962-e2ba-8cff5798b0b7"
      },
      "outputs": [
        {
          "data": {
            "text/plain": [
              "'HELLO WORLD'"
            ]
          },
          "execution_count": 22,
          "metadata": {},
          "output_type": "execute_result"
        }
      ],
      "source": [
        "my_string.upper()"
      ]
    },
    {
      "cell_type": "code",
      "execution_count": null,
      "metadata": {
        "id": "CooInoCXsYSc",
        "outputId": "f202ba33-76b9-4205-91d4-eee93350535b"
      },
      "outputs": [
        {
          "data": {
            "text/plain": [
              "'hello world'"
            ]
          },
          "execution_count": 23,
          "metadata": {},
          "output_type": "execute_result"
        }
      ],
      "source": [
        "my_string.lower()"
      ]
    },
    {
      "cell_type": "code",
      "execution_count": null,
      "metadata": {
        "id": "0RfTubd4sYSc",
        "outputId": "02d5c7bc-e566-428f-bfa2-d76c025e853c"
      },
      "outputs": [
        {
          "data": {
            "text/plain": [
              "'Hello world'"
            ]
          },
          "execution_count": 24,
          "metadata": {},
          "output_type": "execute_result"
        }
      ],
      "source": [
        "my_string.capitalize()"
      ]
    },
    {
      "cell_type": "code",
      "execution_count": null,
      "metadata": {
        "id": "Eot23mJCsYSc",
        "outputId": "e73f95d4-f67c-4535-93df-993d0bb9a89f"
      },
      "outputs": [
        {
          "data": {
            "text/plain": [
              "'Goodbye World'"
            ]
          },
          "execution_count": 25,
          "metadata": {},
          "output_type": "execute_result"
        }
      ],
      "source": [
        "my_string.replace('Hello', 'Goodbye')"
      ]
    },
    {
      "cell_type": "code",
      "execution_count": null,
      "metadata": {
        "id": "WbBvI43CsYSc",
        "outputId": "6fa40021-309e-47ae-e178-edb289d3e2cd"
      },
      "outputs": [
        {
          "data": {
            "text/plain": [
              "11"
            ]
          },
          "execution_count": 26,
          "metadata": {},
          "output_type": "execute_result"
        }
      ],
      "source": [
        "len(my_string)"
      ]
    },
    {
      "cell_type": "markdown",
      "metadata": {
        "id": "pbzDkE3UsYSc"
      },
      "source": [
        "## Индексация и срезы"
      ]
    },
    {
      "cell_type": "code",
      "execution_count": null,
      "metadata": {
        "id": "89fwnnjssYSd"
      },
      "outputs": [],
      "source": [
        "my_string = 'Hello World'"
      ]
    },
    {
      "cell_type": "code",
      "execution_count": null,
      "metadata": {
        "id": "df5xEUnusYSd",
        "outputId": "16517b3e-a76d-4f56-ce03-dbdbf132425c"
      },
      "outputs": [
        {
          "data": {
            "text/plain": [
              "'l'"
            ]
          },
          "execution_count": 28,
          "metadata": {},
          "output_type": "execute_result"
        }
      ],
      "source": [
        "my_string[2]"
      ]
    },
    {
      "cell_type": "code",
      "execution_count": null,
      "metadata": {
        "id": "rRXqq2h1sYSd",
        "outputId": "eadd4db6-68cb-4c95-d723-4aaaad1e70e7"
      },
      "outputs": [
        {
          "data": {
            "text/plain": [
              "'d'"
            ]
          },
          "execution_count": 30,
          "metadata": {},
          "output_type": "execute_result"
        }
      ],
      "source": [
        "my_string[-1]"
      ]
    },
    {
      "cell_type": "code",
      "execution_count": null,
      "metadata": {
        "id": "zO-j4F8qsYSd",
        "outputId": "1522f19f-4ef6-4b33-903f-5aa016275cb4"
      },
      "outputs": [
        {
          "data": {
            "text/plain": [
              "'Hello'"
            ]
          },
          "execution_count": 31,
          "metadata": {},
          "output_type": "execute_result"
        }
      ],
      "source": [
        "my_string[0:5]"
      ]
    },
    {
      "cell_type": "code",
      "execution_count": null,
      "metadata": {
        "id": "NHhXqgDEsYSd",
        "outputId": "d9c6d6bb-2f2e-4252-cd29-47204c103aa7"
      },
      "outputs": [
        {
          "data": {
            "text/plain": [
              "'HloW'"
            ]
          },
          "execution_count": 34,
          "metadata": {},
          "output_type": "execute_result"
        }
      ],
      "source": [
        "my_string = 'Hello World'\n",
        "my_string[0:8:2]"
      ]
    },
    {
      "cell_type": "code",
      "execution_count": null,
      "metadata": {
        "id": "Xziiugq5sYSd",
        "outputId": "4c7d8ed9-374c-4f17-f3fa-54d24f1d344a"
      },
      "outputs": [
        {
          "data": {
            "text/plain": [
              "'World'"
            ]
          },
          "execution_count": 35,
          "metadata": {},
          "output_type": "execute_result"
        }
      ],
      "source": [
        "my_string[6:]"
      ]
    },
    {
      "cell_type": "code",
      "execution_count": null,
      "metadata": {
        "id": "dOpAa6AusYSd",
        "outputId": "c560a2f6-2e9a-4c0d-a5de-f9de3be8b6e5"
      },
      "outputs": [
        {
          "data": {
            "text/plain": [
              "'Hello'"
            ]
          },
          "execution_count": 36,
          "metadata": {},
          "output_type": "execute_result"
        }
      ],
      "source": [
        "my_string[:5]"
      ]
    },
    {
      "cell_type": "markdown",
      "metadata": {
        "id": "5Oqtd2BxsYSe"
      },
      "source": [
        "Как выделить номер часа из даты следующего формата?"
      ]
    },
    {
      "cell_type": "code",
      "execution_count": null,
      "metadata": {
        "id": "ofTnMvtBsYSe"
      },
      "outputs": [],
      "source": [
        "date = '2019-08-27T23:59:00.932'"
      ]
    },
    {
      "cell_type": "code",
      "execution_count": null,
      "metadata": {
        "id": "Tj_9JL4xsYSe",
        "outputId": "4ef41d23-2f8f-45d7-8a7e-57565921f97f"
      },
      "outputs": [
        {
          "data": {
            "text/plain": [
              "'23'"
            ]
          },
          "execution_count": 40,
          "metadata": {},
          "output_type": "execute_result"
        }
      ],
      "source": [
        "date[11:13]"
      ]
    },
    {
      "cell_type": "markdown",
      "metadata": {
        "id": "WPiwse2FsYSe"
      },
      "source": [
        "## Проверка на вхождение элемента в объект"
      ]
    },
    {
      "cell_type": "code",
      "execution_count": null,
      "metadata": {
        "id": "2dEIjBOusYSe",
        "outputId": "47f17ea6-05a6-44b2-d9e5-4af5a88459e3"
      },
      "outputs": [
        {
          "name": "stdout",
          "output_type": "stream",
          "text": [
            "find!\n"
          ]
        }
      ],
      "source": [
        "my_string = 'Hello World'\n",
        "target_string = 'World'\n",
        "\n",
        "if target_string in my_string:\n",
        "    print('find!')"
      ]
    },
    {
      "cell_type": "markdown",
      "metadata": {
        "id": "qm0yNxZDsYSe"
      },
      "source": [
        "## f-строки"
      ]
    },
    {
      "cell_type": "code",
      "execution_count": null,
      "metadata": {
        "id": "6KAq8AMvsYSe",
        "outputId": "ab5375d6-deba-4864-b4d0-bea0c1888b10"
      },
      "outputs": [
        {
          "name": "stdout",
          "output_type": "stream",
          "text": [
            "Hello, Oleg, i know python a bit\n",
            "<class 'str'>\n"
          ]
        }
      ],
      "source": [
        "name = 'oleg'\n",
        "lang = 'python'\n",
        "\n",
        "t = f\"Hello, {name.capitalize()}, i know {lang} a bit\"\n",
        "\n",
        "print(t)\n",
        "print(type(t))"
      ]
    },
    {
      "cell_type": "code",
      "execution_count": null,
      "metadata": {
        "id": "6rwXSt1ksYSe",
        "outputId": "53b818b8-c622-4c93-8dd3-39716726b7d7"
      },
      "outputs": [
        {
          "name": "stdout",
          "output_type": "stream",
          "text": [
            "Hello oleg, i know python a bit\n"
          ]
        }
      ],
      "source": [
        "print(f'Hello {name}, i know {lang} a bit')"
      ]
    },
    {
      "cell_type": "code",
      "execution_count": null,
      "metadata": {
        "id": "WfqutDwxsYSf"
      },
      "outputs": [],
      "source": []
    },
    {
      "cell_type": "markdown",
      "metadata": {
        "id": "1j8YGjbCsYSf"
      },
      "source": [
        "# Списки"
      ]
    },
    {
      "cell_type": "code",
      "execution_count": null,
      "metadata": {
        "id": "HsW6GPuesYSf"
      },
      "outputs": [],
      "source": [
        "month_list = ['Jan', 'Feb', 'Mar', 'Apr', 'May', 'Jun', 'Jul', 'Aug', 'Sep']\n",
        "\n",
        "income_list = [13000, 14000, 14300, 15000, 13800, 13000, 14900, 15200, 15300]\n",
        "\n",
        "income_by_months = [['Jan', 13000], ['Feb', 14000], ['Mar', 14300], ['Apr', 15000], ['May', 13800], ['Jun', 13000], ['Jul', 14900], ['Aug', 15200], ['Sep', 15300]]"
      ]
    },
    {
      "cell_type": "code",
      "execution_count": null,
      "metadata": {
        "id": "7-RIH_nOsYSg",
        "outputId": "9298ae87-b1b4-438c-b06b-88f3ca355369"
      },
      "outputs": [
        {
          "name": "stdout",
          "output_type": "stream",
          "text": [
            "<class 'list'>\n",
            "<class 'list'>\n",
            "<class 'list'>\n"
          ]
        }
      ],
      "source": [
        "print(type(month_list))\n",
        "print(type(income_list))\n",
        "print(type(income_by_months))"
      ]
    },
    {
      "cell_type": "code",
      "execution_count": null,
      "metadata": {
        "id": "JKoo4_LPsYSg",
        "outputId": "2dcef63c-5e28-488f-fee3-615259598090"
      },
      "outputs": [
        {
          "name": "stdout",
          "output_type": "stream",
          "text": [
            "Jan\n",
            "Sep\n",
            "13000\n"
          ]
        }
      ],
      "source": [
        "# индексация элементов в списке\n",
        "print(month_list[0])\n",
        "print(month_list[-1])\n",
        "print(income_by_months[-4][1])"
      ]
    },
    {
      "cell_type": "code",
      "execution_count": null,
      "metadata": {
        "id": "hZy2N8KwsYSg",
        "outputId": "894980a9-6bb5-4f70-ef5c-54ba636773c8"
      },
      "outputs": [
        {
          "name": "stdout",
          "output_type": "stream",
          "text": [
            "[['Feb', 14000], ['Mar', 14300]]\n",
            "--------------\n",
            "[['Feb', 14000], ['Mar', 14300]]\n",
            "--------------\n",
            "[['Mar', 14300], ['Apr', 15000], ['May', 13800], ['Jun', 13000], ['Jul', 14900], ['Aug', 15200], ['Sep', 15300]]\n",
            "--------------\n",
            "[['Jan', 13000], ['Feb', 14000], ['Mar', 14300]]\n"
          ]
        }
      ],
      "source": [
        "# срезы\n",
        "print(income_by_months[1:3])  # 0, 1\n",
        "print('--------------')\n",
        "print(income_by_months[-8:-6])\n",
        "print('--------------')\n",
        "print(income_by_months[2:])\n",
        "print('--------------')\n",
        "print(income_by_months[:3])"
      ]
    },
    {
      "cell_type": "code",
      "execution_count": null,
      "metadata": {
        "id": "yWiddkvbsYSg",
        "outputId": "4684bf18-28f4-49a4-d1bb-1d01f3fe1cea"
      },
      "outputs": [
        {
          "data": {
            "text/plain": [
              "'Jan'"
            ]
          },
          "execution_count": 55,
          "metadata": {},
          "output_type": "execute_result"
        }
      ],
      "source": [
        "# можно обращаться к любому уровню вложенности\n",
        "income_by_months = [['Jan', 13000], ['Feb', 14000], ['Mar', 14300], ['Apr', 15000], ['May', 13800], ['Jun', 13000], ['Jul', 14900], ['Aug', 15200], ['Sep', 15300]]\n",
        "income_by_months[0][0]"
      ]
    },
    {
      "cell_type": "code",
      "execution_count": null,
      "metadata": {
        "id": "2-wTrQyesYSg",
        "outputId": "d7d513fb-6f97-4064-a6de-e475926e000d"
      },
      "outputs": [
        {
          "data": {
            "text/plain": [
              "13000"
            ]
          },
          "execution_count": 56,
          "metadata": {},
          "output_type": "execute_result"
        }
      ],
      "source": [
        "income_by_months[0][1]"
      ]
    },
    {
      "cell_type": "code",
      "execution_count": null,
      "metadata": {
        "id": "6Og7af0psYSg",
        "outputId": "4bb8592f-d6d4-4143-be65-2c20e445282f"
      },
      "outputs": [
        {
          "name": "stdout",
          "output_type": "stream",
          "text": [
            "[['Jan', 13100], ['Feb', 14000], ['Mar', 14300], ['Apr', 15000], ['May', 13800], ['Jun', 13000], ['Jul', 14900], ['Aug', 15200], ['Sep', 15300]]\n"
          ]
        }
      ],
      "source": [
        "# изменение списков\n",
        "income_by_months[0][1] = 13100\n",
        "print(income_by_months)"
      ]
    },
    {
      "cell_type": "code",
      "execution_count": null,
      "metadata": {
        "id": "VnW0qLQwsYSh",
        "outputId": "bcce6859-a810-4343-ba08-08d64d51c6c0"
      },
      "outputs": [
        {
          "name": "stdout",
          "output_type": "stream",
          "text": [
            "[['Jan', 13200], ['Feb', 13900], ['Mar', 14300], ['Apr', 15000], ['May', 13800], ['Jun', 13000], ['Jul', 14900], ['Aug', 15200], ['Sep', 15300]]\n"
          ]
        }
      ],
      "source": [
        "income_by_months[0:2] = [['Jan', 13200], ['Feb', 13900]]\n",
        "print(income_by_months)"
      ]
    },
    {
      "cell_type": "code",
      "execution_count": null,
      "metadata": {
        "id": "sXoGudqvsYSh"
      },
      "outputs": [],
      "source": [
        "a, b = [1, 2]"
      ]
    },
    {
      "cell_type": "code",
      "execution_count": null,
      "metadata": {
        "id": "H8eserDXsYSh",
        "outputId": "90b843e2-d2ae-4cef-a1b3-b2cd00982842"
      },
      "outputs": [
        {
          "data": {
            "text/plain": [
              "1"
            ]
          },
          "execution_count": 60,
          "metadata": {},
          "output_type": "execute_result"
        }
      ],
      "source": [
        "a"
      ]
    },
    {
      "cell_type": "code",
      "execution_count": null,
      "metadata": {
        "id": "QPC4e-GxsYSh",
        "outputId": "36c06a0e-6a04-4725-a1ec-4366e64b534e"
      },
      "outputs": [
        {
          "data": {
            "text/plain": [
              "2"
            ]
          },
          "execution_count": 61,
          "metadata": {},
          "output_type": "execute_result"
        }
      ],
      "source": [
        "b"
      ]
    },
    {
      "cell_type": "code",
      "execution_count": null,
      "metadata": {
        "id": "QoY_a-3IsYSh",
        "outputId": "1e27abd6-a903-4d31-d070-e2a872401ed7"
      },
      "outputs": [
        {
          "name": "stdout",
          "output_type": "stream",
          "text": [
            "[['Jan', 13200], ['Feb', 13900], ['Mar', 14300], ['Apr', 15000], ['May', 13800], ['Jun', 13000], ['Jul', 14900], ['Aug', 15200], ['Sep', 15300], ['Nov', 15400], ['Dec', 17000]]\n"
          ]
        }
      ],
      "source": [
        "income_by_months_2 = [['Nov', 15400], ['Dec', 17000]]\n",
        "income_by_month = income_by_months + income_by_months_2\n",
        "print(income_by_month)"
      ]
    },
    {
      "cell_type": "markdown",
      "metadata": {
        "id": "nwBGODQIsYSh"
      },
      "source": [
        "## Распаковка списков"
      ]
    },
    {
      "cell_type": "code",
      "execution_count": null,
      "metadata": {
        "id": "0P-6lMhTsYSh"
      },
      "outputs": [],
      "source": [
        "data = ['первый', 'второй', 'третий']\n",
        "first = data[0]"
      ]
    },
    {
      "cell_type": "code",
      "execution_count": null,
      "metadata": {
        "id": "zbKPSB2vsYSi",
        "outputId": "ec28df4d-2eef-4295-9567-4bf62cc1a93c"
      },
      "outputs": [
        {
          "data": {
            "text/plain": [
              "'первый'"
            ]
          },
          "execution_count": 64,
          "metadata": {},
          "output_type": "execute_result"
        }
      ],
      "source": [
        "first, second, third = ['первый', 'второй', 'третий']\n",
        "first"
      ]
    },
    {
      "cell_type": "code",
      "execution_count": null,
      "metadata": {
        "id": "1QXwTbYesYSi",
        "outputId": "4fa9d982-fabd-49c0-cc1c-4cec7b80407e"
      },
      "outputs": [
        {
          "data": {
            "text/plain": [
              "'первый'"
            ]
          },
          "execution_count": 65,
          "metadata": {},
          "output_type": "execute_result"
        }
      ],
      "source": [
        "# когда число элементов неизвестно\n",
        "first, *_ = ['первый', 'второй', 'третий']\n",
        "first"
      ]
    },
    {
      "cell_type": "code",
      "execution_count": null,
      "metadata": {
        "id": "C3_xrK5usYSi",
        "outputId": "1f7e56f5-5316-47ba-b76c-e75f56fdbdc8"
      },
      "outputs": [
        {
          "data": {
            "text/plain": [
              "['второй', 'третий']"
            ]
          },
          "execution_count": 66,
          "metadata": {},
          "output_type": "execute_result"
        }
      ],
      "source": [
        "_"
      ]
    },
    {
      "cell_type": "code",
      "execution_count": null,
      "metadata": {
        "id": "MmKSMOj5sYSi"
      },
      "outputs": [],
      "source": [
        "first, *other, last =  ['первый', 'второй', 'третий', 'четвертый']"
      ]
    },
    {
      "cell_type": "code",
      "execution_count": null,
      "metadata": {
        "id": "6lsW6318sYSi",
        "outputId": "f2c666a8-02fe-45c5-cbb9-72590ed45a27"
      },
      "outputs": [
        {
          "data": {
            "text/plain": [
              "['второй', 'третий']"
            ]
          },
          "execution_count": 68,
          "metadata": {},
          "output_type": "execute_result"
        }
      ],
      "source": [
        "other"
      ]
    },
    {
      "cell_type": "code",
      "execution_count": null,
      "metadata": {
        "id": "G0NJwLWtsYSj",
        "outputId": "a25a6afe-fdf1-4519-d1de-f1b881822a5b"
      },
      "outputs": [
        {
          "data": {
            "text/plain": [
              "'первый'"
            ]
          },
          "execution_count": 69,
          "metadata": {},
          "output_type": "execute_result"
        }
      ],
      "source": [
        "first"
      ]
    },
    {
      "cell_type": "code",
      "execution_count": null,
      "metadata": {
        "id": "J501m89VsYSj",
        "outputId": "527cf3a1-881e-4d57-ef5a-69e67469ca09"
      },
      "outputs": [
        {
          "data": {
            "text/plain": [
              "('первый', 'четвертый')"
            ]
          },
          "execution_count": 70,
          "metadata": {},
          "output_type": "execute_result"
        }
      ],
      "source": [
        "first, last"
      ]
    },
    {
      "cell_type": "markdown",
      "metadata": {
        "id": "ycmJJo8xsYSj"
      },
      "source": [
        "## Операции со списками"
      ]
    },
    {
      "cell_type": "code",
      "execution_count": null,
      "metadata": {
        "id": "absxPs-YsYSj",
        "outputId": "0d3b53fa-e60f-4db4-fdca-7b42fa5ebd85"
      },
      "outputs": [
        {
          "data": {
            "text/plain": [
              "[['Jan', 13200],\n",
              " ['Feb', 13900],\n",
              " ['Mar', 14300],\n",
              " ['Apr', 15000],\n",
              " ['May', 13800],\n",
              " ['Jun', 13000],\n",
              " ['Jul', 14900],\n",
              " ['Aug', 15200],\n",
              " ['Sep', 15300]]"
            ]
          },
          "execution_count": 71,
          "metadata": {},
          "output_type": "execute_result"
        }
      ],
      "source": [
        "income_by_months"
      ]
    },
    {
      "cell_type": "code",
      "execution_count": null,
      "metadata": {
        "id": "Tmx7BMRtsYSj",
        "outputId": "c6fe31fd-5eab-4af1-b68c-61034e1134c2"
      },
      "outputs": [
        {
          "data": {
            "text/plain": [
              "[['Jan', 13200],\n",
              " ['Feb', 13900],\n",
              " ['Mar', 14300],\n",
              " ['Apr', 15000],\n",
              " ['May', 13800],\n",
              " ['Jun', 13000],\n",
              " ['Jul', 14900],\n",
              " ['Aug', 15200]]"
            ]
          },
          "execution_count": 72,
          "metadata": {},
          "output_type": "execute_result"
        }
      ],
      "source": [
        "# Удаляем элемент по индексу\n",
        "del(income_by_months[-1])\n",
        "income_by_months"
      ]
    },
    {
      "cell_type": "code",
      "execution_count": null,
      "metadata": {
        "id": "K-3dcaZesYSj",
        "outputId": "a8cb5892-68b4-453e-9b90-fef731dd40fc"
      },
      "outputs": [
        {
          "data": {
            "text/plain": [
              "['Jan', 'Feb', 'Mar', 'Apr', 'May', 'Jun', 'Jul', 'Aug', 'Sep']"
            ]
          },
          "execution_count": 73,
          "metadata": {},
          "output_type": "execute_result"
        }
      ],
      "source": [
        "month_list"
      ]
    },
    {
      "cell_type": "code",
      "execution_count": null,
      "metadata": {
        "id": "97EopBa6sYSj",
        "outputId": "f8fc8090-7f44-40d7-a1f9-4d47801d0a58"
      },
      "outputs": [
        {
          "name": "stdout",
          "output_type": "stream",
          "text": [
            "['Jan', 'Feb', 'Mar', 'Apr', 'May', 'Jun', 'Jul', 'Aug']\n"
          ]
        }
      ],
      "source": [
        "# удаляем элемент по значению\n",
        "month_list.remove('Sep')\n",
        "print(month_list)"
      ]
    },
    {
      "cell_type": "code",
      "execution_count": null,
      "metadata": {
        "id": "YUIRsFV_sYSk",
        "outputId": "c9354d17-1f76-4512-a4d7-7d6c6ab0d5d0"
      },
      "outputs": [
        {
          "data": {
            "text/plain": [
              "[['Jan', 13200],\n",
              " ['Feb', 13900],\n",
              " ['Mar', 14300],\n",
              " ['Apr', 15000],\n",
              " ['May', 13800],\n",
              " ['Jun', 13000],\n",
              " ['Jul', 14900],\n",
              " ['Aug', 15200],\n",
              " ['Dec', 17000]]"
            ]
          },
          "execution_count": 75,
          "metadata": {},
          "output_type": "execute_result"
        }
      ],
      "source": [
        "# добавляем элемент в конец списка\n",
        "income_by_months.append(['Dec', 17000])\n",
        "income_by_months"
      ]
    },
    {
      "cell_type": "code",
      "execution_count": null,
      "metadata": {
        "id": "1pxUHdsIsYSk",
        "outputId": "c17cff1f-599c-4ca0-cbf5-d51527c33a5b"
      },
      "outputs": [
        {
          "data": {
            "text/plain": [
              "[13000, 14000, 1111111, 14300, 15000, 13800, 13000, 14900, 15200, 15300]"
            ]
          },
          "execution_count": 77,
          "metadata": {},
          "output_type": "execute_result"
        }
      ],
      "source": [
        "income_list"
      ]
    },
    {
      "cell_type": "code",
      "execution_count": null,
      "metadata": {
        "id": "a8zCtKApsYSk",
        "outputId": "e6bed9ea-bb09-4554-d8e5-4720e4fbf9b2"
      },
      "outputs": [
        {
          "name": "stdout",
          "output_type": "stream",
          "text": [
            "[13000, 14000, 1111111, 14300, 15000, 13800, 13000, 14900, 15200, 15300]\n"
          ]
        }
      ],
      "source": [
        "# добавляем элемент по нужному индексу\n",
        "income_list.insert(2, 1111111)\n",
        "print(income_list)"
      ]
    },
    {
      "cell_type": "code",
      "execution_count": null,
      "metadata": {
        "id": "lzrVDc9-sYSk",
        "outputId": "9dd85da5-1e2c-4b2a-dfb1-63a3322abf38"
      },
      "outputs": [
        {
          "data": {
            "text/plain": [
              "2"
            ]
          },
          "execution_count": 78,
          "metadata": {},
          "output_type": "execute_result"
        }
      ],
      "source": [
        "# считаем количество вхождений элемента в список\n",
        "income_list.count(13000)"
      ]
    },
    {
      "cell_type": "code",
      "execution_count": null,
      "metadata": {
        "id": "9zbcT6d7sYSk",
        "outputId": "420bf930-8861-4861-9a21-70e5bbbed95a"
      },
      "outputs": [
        {
          "data": {
            "text/plain": [
              "[13000, 14000, 1111111, 14300, 15000, 13800, 13000, 14900, 15200, 15300]"
            ]
          },
          "execution_count": 79,
          "metadata": {},
          "output_type": "execute_result"
        }
      ],
      "source": [
        "income_list"
      ]
    },
    {
      "cell_type": "code",
      "execution_count": null,
      "metadata": {
        "id": "08GNgJkvsYSk",
        "outputId": "6431b55e-91d8-4a24-a746-27a531894619"
      },
      "outputs": [
        {
          "data": {
            "text/plain": [
              "6"
            ]
          },
          "execution_count": 82,
          "metadata": {},
          "output_type": "execute_result"
        }
      ],
      "source": [
        "# узнаем индекс элемента в списка (только первое вхождение!)\n",
        "income_list.index(13000, 1)"
      ]
    },
    {
      "cell_type": "code",
      "execution_count": null,
      "metadata": {
        "id": "Sz0XkZlzsYSl",
        "outputId": "026b5c19-49f8-4f0b-ea44-a580d4c6b0a1"
      },
      "outputs": [
        {
          "data": {
            "text/plain": [
              "['Aug', 'Jul', 'Jun', 'May', 'Apr', 'Mar', 'Feb', 'Jan']"
            ]
          },
          "execution_count": 83,
          "metadata": {},
          "output_type": "execute_result"
        }
      ],
      "source": [
        "# разворачиваем список\n",
        "month_list.reverse()\n",
        "month_list"
      ]
    },
    {
      "cell_type": "code",
      "execution_count": null,
      "metadata": {
        "id": "h5-_-C-LsYSl",
        "outputId": "d29944c2-8e3d-4906-d08b-b7b158799468"
      },
      "outputs": [
        {
          "data": {
            "text/plain": [
              "10"
            ]
          },
          "execution_count": 84,
          "metadata": {},
          "output_type": "execute_result"
        }
      ],
      "source": [
        "# узнаем длину списка\n",
        "len(income_list)"
      ]
    },
    {
      "cell_type": "code",
      "execution_count": null,
      "metadata": {
        "scrolled": true,
        "id": "RxtBoV7IsYSl",
        "outputId": "ace22009-7b65-4ccb-ca63-c20a6cabbfac"
      },
      "outputs": [
        {
          "data": {
            "text/plain": [
              "1239611"
            ]
          },
          "execution_count": 85,
          "metadata": {},
          "output_type": "execute_result"
        }
      ],
      "source": [
        "# сумма элементов\n",
        "sum(income_list)"
      ]
    },
    {
      "cell_type": "code",
      "execution_count": null,
      "metadata": {
        "id": "cKjDBDARsYSl",
        "outputId": "a7c96349-f766-4228-fecf-35b5a4b37641"
      },
      "outputs": [
        {
          "data": {
            "text/plain": [
              "[13000, 14000, 1111111, 14300, 15000, 13800, 13000, 14900, 15200, 15300]"
            ]
          },
          "execution_count": 87,
          "metadata": {},
          "output_type": "execute_result"
        }
      ],
      "source": [
        "income_list"
      ]
    },
    {
      "cell_type": "code",
      "execution_count": null,
      "metadata": {
        "id": "fDixykCssYSl",
        "outputId": "78f0bf7c-9d30-4c53-b552-50cdc7763932"
      },
      "outputs": [
        {
          "data": {
            "text/plain": [
              "1111111"
            ]
          },
          "execution_count": 86,
          "metadata": {},
          "output_type": "execute_result"
        }
      ],
      "source": [
        "# максимальный элемент элементов\n",
        "max(income_list)"
      ]
    },
    {
      "cell_type": "code",
      "execution_count": null,
      "metadata": {
        "id": "LPLA-G2lsYSm",
        "outputId": "2bd8c027-0109-4274-fd34-62cd70087792"
      },
      "outputs": [
        {
          "data": {
            "text/plain": [
              "13000"
            ]
          },
          "execution_count": 88,
          "metadata": {},
          "output_type": "execute_result"
        }
      ],
      "source": [
        "# минимальный элемент элементов\n",
        "min(income_list)"
      ]
    },
    {
      "cell_type": "code",
      "execution_count": null,
      "metadata": {
        "id": "PoJuWrPlsYSm",
        "outputId": "afddbb7c-7726-412d-e75e-146cfc5a86e1"
      },
      "outputs": [
        {
          "data": {
            "text/plain": [
              "[13000, 13000, 13800, 14000, 14300, 14900, 15000, 15200, 15300, 1111111]"
            ]
          },
          "execution_count": 89,
          "metadata": {},
          "output_type": "execute_result"
        }
      ],
      "source": [
        "# сортировка по возрастанию\n",
        "sorted(income_list)"
      ]
    },
    {
      "cell_type": "code",
      "execution_count": null,
      "metadata": {
        "id": "T5W9Z1IxsYSm",
        "outputId": "8d93da66-96f5-4780-eef1-05f678d9ae46"
      },
      "outputs": [
        {
          "data": {
            "text/plain": [
              "[13000, 14000, 1111111, 14300, 15000, 13800, 13000, 14900, 15200, 15300]"
            ]
          },
          "execution_count": 90,
          "metadata": {},
          "output_type": "execute_result"
        }
      ],
      "source": [
        "income_list"
      ]
    },
    {
      "cell_type": "code",
      "execution_count": null,
      "metadata": {
        "id": "WUCt8A_0sYSm",
        "outputId": "746bfb95-90d5-40df-ed6a-2629aeaa5713"
      },
      "outputs": [
        {
          "data": {
            "text/plain": [
              "[1111111, 15300, 15200, 15000, 14900, 14300, 14000, 13800, 13000, 13000]"
            ]
          },
          "execution_count": 91,
          "metadata": {},
          "output_type": "execute_result"
        }
      ],
      "source": [
        "# изменить порядок сортировки\n",
        "sorted(income_list, reverse= True)"
      ]
    },
    {
      "cell_type": "code",
      "execution_count": null,
      "metadata": {
        "id": "_Lz6yf4EsYSm",
        "outputId": "96988c65-e17c-4dd2-98fa-ab9f81ccd1ac"
      },
      "outputs": [
        {
          "data": {
            "text/plain": [
              "['Apr', 'Aug', 'Feb', 'Jan', 'Jul', 'Jun', 'Mar', 'May']"
            ]
          },
          "execution_count": 92,
          "metadata": {},
          "output_type": "execute_result"
        }
      ],
      "source": [
        "# а это сортировка строк по алфавиту\n",
        "sorted(month_list)"
      ]
    },
    {
      "cell_type": "markdown",
      "metadata": {
        "id": "UNrPdz5WsYSm"
      },
      "source": [
        "## Изменение списков\n",
        "\n",
        "В примере ниже переменная a и b на самом деле указывают на один и тот же объект. В результате, при добавлении в b очередного элемента этот элемент добавляется и в исходном листе a"
      ]
    },
    {
      "cell_type": "code",
      "execution_count": null,
      "metadata": {
        "id": "oMGqEunmsYSn"
      },
      "outputs": [],
      "source": [
        "a = [1, 2, 3]\n",
        "b = a"
      ]
    },
    {
      "cell_type": "code",
      "execution_count": null,
      "metadata": {
        "id": "n05yYC3dsYSn",
        "outputId": "0cc8c617-4b20-4fe9-e3ed-94d6b0023d61"
      },
      "outputs": [
        {
          "data": {
            "text/plain": [
              "'a = [1, 2, 3, 4]'"
            ]
          },
          "execution_count": 95,
          "metadata": {},
          "output_type": "execute_result"
        }
      ],
      "source": [
        "b.append(4)\n",
        "'a = {}'.format(a)"
      ]
    },
    {
      "cell_type": "code",
      "execution_count": null,
      "metadata": {
        "id": "uIn0i3QnsYSn",
        "outputId": "f7276c5f-a148-4898-fa98-de06ed3a167b"
      },
      "outputs": [
        {
          "data": {
            "text/plain": [
              "(4588219016, 4588219016)"
            ]
          },
          "execution_count": 94,
          "metadata": {},
          "output_type": "execute_result"
        }
      ],
      "source": [
        "id(a), id(b)"
      ]
    },
    {
      "cell_type": "markdown",
      "metadata": {
        "id": "wd1R8wWasYSn"
      },
      "source": [
        "Используем модуль copy"
      ]
    },
    {
      "cell_type": "code",
      "execution_count": null,
      "metadata": {
        "id": "TabLqEqvsYSn"
      },
      "outputs": [],
      "source": [
        "import copy"
      ]
    },
    {
      "cell_type": "code",
      "execution_count": null,
      "metadata": {
        "id": "7qfjRV_JsYSn"
      },
      "outputs": [],
      "source": [
        "a = [1, 2, 3]\n",
        "b = copy.copy(a)"
      ]
    },
    {
      "cell_type": "code",
      "execution_count": null,
      "metadata": {
        "id": "nIa1KMNSsYSn",
        "outputId": "7298ef82-6408-4c52-bee1-f9a1ae78d73d"
      },
      "outputs": [
        {
          "data": {
            "text/plain": [
              "(4589681416, 4589681288)"
            ]
          },
          "execution_count": 98,
          "metadata": {},
          "output_type": "execute_result"
        }
      ],
      "source": [
        "id(a), id(b)"
      ]
    },
    {
      "cell_type": "code",
      "execution_count": null,
      "metadata": {
        "id": "hsmpmARrsYSn",
        "outputId": "a1f836fe-cf04-4d4d-cc39-bde534c683dd"
      },
      "outputs": [
        {
          "name": "stdout",
          "output_type": "stream",
          "text": [
            "a = [1, 2, 3]\n",
            "b = [1, 2, 3, 4]\n"
          ]
        }
      ],
      "source": [
        "b.append(4)\n",
        "print('a = {}'.format(a))\n",
        "\n",
        "print('b = {}'.format(b))"
      ]
    },
    {
      "cell_type": "markdown",
      "metadata": {
        "id": "hXYdvjjAsYSo"
      },
      "source": [
        "## Списки и строки"
      ]
    },
    {
      "cell_type": "code",
      "execution_count": null,
      "metadata": {
        "id": "Gd0GKIpGsYSo"
      },
      "outputs": [],
      "source": [
        "queries_string = \"смотреть сериалы онлайн,новости спорта,афиша кино,курс доллара,сериалы этим летом,курс по питону,сериалы про спорт\""
      ]
    },
    {
      "cell_type": "code",
      "execution_count": null,
      "metadata": {
        "scrolled": true,
        "id": "Eeslc5_asYSo",
        "outputId": "0091f0b7-16ee-49ae-d548-8f0a56e775b8"
      },
      "outputs": [
        {
          "data": {
            "text/plain": [
              "['смотреть сериалы онлайн',\n",
              " 'новости спорта',\n",
              " 'афиша кино',\n",
              " 'курс доллара',\n",
              " 'сериалы этим летом',\n",
              " 'курс по питону',\n",
              " 'сериалы про спорт']"
            ]
          },
          "execution_count": 137,
          "metadata": {},
          "output_type": "execute_result"
        }
      ],
      "source": [
        "# преобразование строки в список (например, из CSV-файла)\n",
        "queries_list = queries_string.split(',')\n",
        "queries_list"
      ]
    },
    {
      "cell_type": "code",
      "execution_count": null,
      "metadata": {
        "id": "cAyKHnd_sYSo",
        "outputId": "12295999-4441-4849-97ea-656c68f10485"
      },
      "outputs": [
        {
          "data": {
            "text/plain": [
              "3"
            ]
          },
          "execution_count": 141,
          "metadata": {},
          "output_type": "execute_result"
        }
      ],
      "source": [
        "len(queries_list[0].split(' '))"
      ]
    },
    {
      "cell_type": "code",
      "execution_count": null,
      "metadata": {
        "id": "B0ip6te7sYSo"
      },
      "outputs": [],
      "source": [
        "len(queries_list[0].split(' '))"
      ]
    },
    {
      "cell_type": "code",
      "execution_count": null,
      "metadata": {
        "id": "wJbEvSWOsYSo",
        "outputId": "5702cd53-e78b-43e1-a9a2-496141e52576"
      },
      "outputs": [
        {
          "name": "stdout",
          "output_type": "stream",
          "text": [
            "Столбец 1,Столбец 2,Столбец 3\n"
          ]
        }
      ],
      "source": [
        "# Преобразование списка в строку\n",
        "\n",
        "print(','.join(['Столбец 1', 'Столбец 2', 'Столбец 3']))"
      ]
    },
    {
      "cell_type": "code",
      "execution_count": null,
      "metadata": {
        "id": "np5jchnlsYSp",
        "outputId": "d927d2da-44f9-4d72-e1e4-9935ab77ea38"
      },
      "outputs": [
        {
          "data": {
            "text/plain": [
              "False"
            ]
          },
          "execution_count": 147,
          "metadata": {},
          "output_type": "execute_result"
        }
      ],
      "source": [
        "# проверка вхождения элемента в список:\n",
        "\n",
        "# 'Москва' in ['Ленинград', 'Одесса', 'Севастополь', 'Москва']\n",
        "'Москва' not in ['Ленинград', 'Одесса', 'Севастополь', 'Москва']"
      ]
    },
    {
      "cell_type": "markdown",
      "metadata": {
        "id": "tcEvHkIZsYSp"
      },
      "source": [
        "# Tuple (кортежи)"
      ]
    },
    {
      "cell_type": "code",
      "execution_count": null,
      "metadata": {
        "id": "x4u96zp9sYSp",
        "outputId": "cff9742d-ed10-483f-9e79-23dd0e2925b3"
      },
      "outputs": [
        {
          "data": {
            "text/plain": [
              "tuple"
            ]
          },
          "execution_count": 149,
          "metadata": {},
          "output_type": "execute_result"
        }
      ],
      "source": [
        "salary_tuple = (1000, 1200, 1300, 900, 800)\n",
        "# type(salary_tuple)\n",
        "type(list(salary_tuple))"
      ]
    },
    {
      "cell_type": "code",
      "execution_count": null,
      "metadata": {
        "id": "ym3Mdr0RsYSp",
        "outputId": "4e5933c1-bf9c-4a3b-82a3-a98953bbe737"
      },
      "outputs": [
        {
          "data": {
            "text/plain": [
              "[1000, 1200, 1300, 900, 800]"
            ]
          },
          "execution_count": 150,
          "metadata": {},
          "output_type": "execute_result"
        }
      ],
      "source": [
        "list(salary_tuple)"
      ]
    },
    {
      "cell_type": "code",
      "execution_count": null,
      "metadata": {
        "id": "_frGYnVxsYSp",
        "outputId": "b11dde52-fc4b-4613-f807-5c7ad76c8102"
      },
      "outputs": [
        {
          "ename": "TypeError",
          "evalue": "'tuple' object does not support item assignment",
          "output_type": "error",
          "traceback": [
            "\u001b[0;31m---------------------------------------------------------------------------\u001b[0m",
            "\u001b[0;31mTypeError\u001b[0m                                 Traceback (most recent call last)",
            "\u001b[0;32m<ipython-input-151-f9322f03a403>\u001b[0m in \u001b[0;36m<module>\u001b[0;34m\u001b[0m\n\u001b[1;32m      1\u001b[0m \u001b[0;31m# print(salary_tuple[0])\u001b[0m\u001b[0;34m\u001b[0m\u001b[0;34m\u001b[0m\u001b[0m\n\u001b[0;32m----> 2\u001b[0;31m \u001b[0msalary_tuple\u001b[0m\u001b[0;34m[\u001b[0m\u001b[0;36m0\u001b[0m\u001b[0;34m]\u001b[0m \u001b[0;34m=\u001b[0m \u001b[0;36m500\u001b[0m\u001b[0;34m\u001b[0m\u001b[0m\n\u001b[0m",
            "\u001b[0;31mTypeError\u001b[0m: 'tuple' object does not support item assignment"
          ]
        }
      ],
      "source": [
        "# print(salary_tuple[0])\n",
        "salary_tuple[0] = 500"
      ]
    },
    {
      "cell_type": "code",
      "execution_count": null,
      "metadata": {
        "id": "dJ7ovbVKsYSp"
      },
      "outputs": [],
      "source": [
        "# кортеж из одного элемента задается так:\n",
        "t = ('one', )"
      ]
    },
    {
      "cell_type": "code",
      "execution_count": null,
      "metadata": {
        "id": "h6-Q8QSZsYSp",
        "outputId": "10856e20-9f84-4db7-b5e8-1c01f24db9a2"
      },
      "outputs": [
        {
          "data": {
            "text/plain": [
              "tuple"
            ]
          },
          "execution_count": 153,
          "metadata": {},
          "output_type": "execute_result"
        }
      ],
      "source": [
        "type(t)"
      ]
    },
    {
      "cell_type": "code",
      "execution_count": null,
      "metadata": {
        "id": "Lr9GSIaksYSq",
        "outputId": "c881c14a-dc9a-42e7-c2f0-b30292d0e9aa"
      },
      "outputs": [
        {
          "data": {
            "text/plain": [
              "str"
            ]
          },
          "execution_count": 154,
          "metadata": {},
          "output_type": "execute_result"
        }
      ],
      "source": [
        "# без запятой получится строка\n",
        "type( ('one') )"
      ]
    },
    {
      "cell_type": "code",
      "execution_count": null,
      "metadata": {
        "id": "jaEAkuBvsYSq",
        "outputId": "6f97c420-501b-467b-b997-c687d9d50a2b"
      },
      "outputs": [
        {
          "name": "stdout",
          "output_type": "stream",
          "text": [
            "<zip object at 0x1134d3448>\n"
          ]
        }
      ],
      "source": [
        "# функция zip\n",
        "salaries = [1000, 1200, 1300, 900, 800, 1000]\n",
        "names = ['Robert', 'Jane', 'Liza', 'Richard', 'John']\n",
        "\n",
        "salaries_by_names = zip(names, salaries)\n",
        "print(salaries_by_names)"
      ]
    },
    {
      "cell_type": "code",
      "execution_count": null,
      "metadata": {
        "id": "AnCWjHuhsYSq",
        "outputId": "c2e875b9-cbc5-4c17-a84a-aee92c175ece"
      },
      "outputs": [
        {
          "data": {
            "text/plain": [
              "[('Robert', 1000),\n",
              " ('Jane', 1200),\n",
              " ('Liza', 1300),\n",
              " ('Richard', 900),\n",
              " ('John', 800)]"
            ]
          },
          "execution_count": 156,
          "metadata": {},
          "output_type": "execute_result"
        }
      ],
      "source": [
        "list(salaries_by_names)"
      ]
    },
    {
      "cell_type": "markdown",
      "metadata": {
        "id": "8hEBP3btsYSq"
      },
      "source": [
        "# Циклы"
      ]
    },
    {
      "cell_type": "markdown",
      "metadata": {
        "id": "DfBHj8CAsYSq"
      },
      "source": [
        "## Цикл while"
      ]
    },
    {
      "cell_type": "code",
      "execution_count": null,
      "metadata": {
        "id": "QJARa8bDsYSq",
        "outputId": "fe8ae37d-a5a9-4493-d188-9f458b257337"
      },
      "outputs": [
        {
          "name": "stdout",
          "output_type": "stream",
          "text": [
            "4\n",
            "3\n",
            "2\n",
            "1\n",
            "0\n",
            "Я прекратил работу\n"
          ]
        }
      ],
      "source": [
        "x = 5\n",
        "while x != 0:\n",
        "    x -= 1\n",
        "    print(x)\n",
        "    # break\n",
        "\n",
        "print('Я прекратил работу')"
      ]
    },
    {
      "cell_type": "code",
      "execution_count": null,
      "metadata": {
        "id": "AySQQr8gsYSq",
        "outputId": "3c3a6f19-056e-4a43-893e-aea9aadf2405"
      },
      "outputs": [
        {
          "name": "stdout",
          "output_type": "stream",
          "text": [
            "7 - нечетное число\n",
            "6 - четное число\n",
            "5 - нечетное число\n",
            "4 - четное число\n",
            "3 - нечетное число\n",
            "2 - четное число\n",
            "1 - нечетное число\n"
          ]
        }
      ],
      "source": [
        "x = 7\n",
        "while x != 0:\n",
        "    if x % 2 == 0:\n",
        "        print(x, '- четное число')\n",
        "    else:\n",
        "        print(x, '- нечетное число')\n",
        "    x = x - 1"
      ]
    },
    {
      "cell_type": "markdown",
      "metadata": {
        "id": "5s8IBmSWsYSr"
      },
      "source": [
        "## Цикл for"
      ]
    },
    {
      "cell_type": "code",
      "execution_count": null,
      "metadata": {
        "id": "S0TJCLEdsYSr",
        "outputId": "da5a30bc-9d26-46a9-8500-381a4e48eea7"
      },
      "outputs": [
        {
          "name": "stdout",
          "output_type": "stream",
          "text": [
            "O\n",
            "r\n",
            "a\n",
            "n\n",
            "g\n",
            "e\n"
          ]
        }
      ],
      "source": [
        "# итерация по строкам\n",
        "company_name = 'Orange'\n",
        "for letter in company_name:\n",
        "    print(letter)\n",
        "#     letter = letter.capitalize()\n",
        "#     print(letter)\n",
        "# print(letter)"
      ]
    },
    {
      "cell_type": "code",
      "execution_count": null,
      "metadata": {
        "id": "WmYSCtlssYSr"
      },
      "outputs": [],
      "source": [
        "# итерация по спискам\n",
        "companies_capitalization = [\n",
        "    ['Orange', 1.3],\n",
        "    ['Maxisoft', 1.5],\n",
        "    ['Headbook', 0.8],\n",
        "    ['Nicola', 2.2]\n",
        "]"
      ]
    },
    {
      "cell_type": "code",
      "execution_count": null,
      "metadata": {
        "id": "_XKUamAusYSr",
        "outputId": "ac134a29-8578-4955-f57f-039e2358eaae"
      },
      "outputs": [
        {
          "name": "stdout",
          "output_type": "stream",
          "text": [
            "Orange capitalization is 1.3\n",
            "Maxisoft capitalization is 1.5\n",
            "Headbook capitalization is 0.8\n",
            "Nicola capitalization is 2.2\n"
          ]
        }
      ],
      "source": [
        "for company in companies_capitalization:\n",
        "#     print(company)\n",
        "    print(company[0], 'capitalization is', company[1])\n",
        "#     print('end of iteration')"
      ]
    },
    {
      "cell_type": "markdown",
      "metadata": {
        "id": "zY88hu32sYSr"
      },
      "source": [
        "## break, pass, continue"
      ]
    },
    {
      "cell_type": "code",
      "execution_count": null,
      "metadata": {
        "id": "Yzvmj_mqsYSr"
      },
      "outputs": [],
      "source": [
        "phrase = '640Кб должно хватить для любых задач. Билл Гейтс (по легенде)'"
      ]
    },
    {
      "cell_type": "code",
      "execution_count": null,
      "metadata": {
        "id": "AApdM2MEsYSr",
        "outputId": "8c2a26a6-5be2-4341-abcb-01da752cb394"
      },
      "outputs": [
        {
          "name": "stdout",
          "output_type": "stream",
          "text": [
            "640Кб"
          ]
        }
      ],
      "source": [
        "for letter in phrase:\n",
        "    if letter == ' ':\n",
        "        break\n",
        "    print(letter, end='')"
      ]
    },
    {
      "cell_type": "code",
      "execution_count": null,
      "metadata": {
        "id": "7NJH0u8hsYSs",
        "outputId": "9dcfe45e-b464-4559-aab6-6734ec5bf8df"
      },
      "outputs": [
        {
          "name": "stdout",
          "output_type": "stream",
          "text": [
            "6\n",
            "4\n",
            "0\n",
            "К\n",
            "б\n",
            "д\n",
            "о\n",
            "л\n",
            "ж\n",
            "н\n",
            "о\n",
            "х\n",
            "в\n",
            "а\n",
            "т\n",
            "и\n",
            "т\n",
            "ь\n",
            "д\n",
            "л\n",
            "я\n",
            "л\n",
            "ю\n",
            "б\n",
            "ы\n",
            "х\n",
            "з\n",
            "а\n",
            "д\n",
            "а\n",
            "ч\n",
            ".\n",
            "Б\n",
            "и\n",
            "л\n",
            "л\n",
            "Г\n",
            "е\n",
            "й\n",
            "т\n",
            "с\n",
            "(\n",
            "п\n",
            "о\n",
            "л\n",
            "е\n",
            "г\n",
            "е\n",
            "н\n",
            "д\n",
            "е\n",
            ")\n",
            "finish loop\n"
          ]
        }
      ],
      "source": [
        "for letter in phrase:\n",
        "    if letter == ' ':\n",
        "        continue\n",
        "    print(letter)\n",
        "print('finish loop')"
      ]
    },
    {
      "cell_type": "code",
      "execution_count": null,
      "metadata": {
        "id": "DiXa3gsgsYSs",
        "outputId": "e2e823f4-655e-4236-a450-a8031f83f525"
      },
      "outputs": [
        {
          "name": "stdout",
          "output_type": "stream",
          "text": [
            "6\n",
            "4\n",
            "0\n",
            "К\n",
            "б\n",
            " \n",
            "д\n",
            "о\n",
            "л\n",
            "ж\n",
            "н\n",
            "о\n",
            " \n",
            "х\n",
            "в\n",
            "а\n",
            "т\n",
            "и\n",
            "т\n",
            "ь\n",
            " \n",
            "д\n",
            "л\n",
            "я\n",
            " \n",
            "л\n",
            "ю\n",
            "б\n",
            "ы\n",
            "х\n",
            " \n",
            "з\n",
            "а\n",
            "д\n",
            "а\n",
            "ч\n",
            ".\n",
            " \n",
            "Б\n",
            "и\n",
            "л\n",
            "л\n",
            " \n",
            "Г\n",
            "е\n",
            "й\n",
            "т\n",
            "с\n",
            " \n",
            "(\n",
            "п\n",
            "о\n",
            " \n",
            "л\n",
            "е\n",
            "г\n",
            "е\n",
            "н\n",
            "д\n",
            "е\n",
            ")\n",
            "finish loop\n"
          ]
        }
      ],
      "source": [
        "for letter in phrase:\n",
        "    if letter == ' ':\n",
        "        pass\n",
        "    print(letter)\n",
        "print('finish loop')"
      ]
    },
    {
      "cell_type": "markdown",
      "metadata": {
        "id": "VUuiXnTrsYSs"
      },
      "source": [
        "### Функции range и enumerate"
      ]
    },
    {
      "cell_type": "code",
      "execution_count": null,
      "metadata": {
        "scrolled": true,
        "id": "B5TESZXEsYSs",
        "outputId": "fc3d39a3-930f-4805-d3e0-0aa0f40c9f35"
      },
      "outputs": [
        {
          "data": {
            "text/plain": [
              "range"
            ]
          },
          "execution_count": 173,
          "metadata": {},
          "output_type": "execute_result"
        }
      ],
      "source": [
        "range(10)\n",
        "type(range(10))"
      ]
    },
    {
      "cell_type": "code",
      "execution_count": null,
      "metadata": {
        "id": "i4g1oFVWsYSs",
        "outputId": "d39a32d0-bc6d-4230-e311-ecef2f7bd16e"
      },
      "outputs": [
        {
          "data": {
            "text/plain": [
              "[2, 7]"
            ]
          },
          "execution_count": 174,
          "metadata": {},
          "output_type": "execute_result"
        }
      ],
      "source": [
        "list(range(2, 10, 5))"
      ]
    },
    {
      "cell_type": "code",
      "execution_count": null,
      "metadata": {
        "id": "gIhtTGXlsYSs"
      },
      "outputs": [],
      "source": [
        "range(10**12)"
      ]
    },
    {
      "cell_type": "code",
      "execution_count": null,
      "metadata": {
        "id": "Xl7xeTmMsYSs",
        "outputId": "518d0326-d08b-4d1f-88c1-c252046e0c19"
      },
      "outputs": [
        {
          "name": "stdout",
          "output_type": "stream",
          "text": [
            "0\n",
            "1\n",
            "2\n",
            "3\n",
            "4\n",
            "5\n",
            "6\n",
            "7\n",
            "8\n",
            "9\n"
          ]
        }
      ],
      "source": [
        "for i in range(10):\n",
        "    print(i)"
      ]
    },
    {
      "cell_type": "code",
      "execution_count": null,
      "metadata": {
        "id": "x7DJH_jIsYSt",
        "outputId": "68f003f7-c877-489f-a95b-c9e1d5929743"
      },
      "outputs": [
        {
          "name": "stdout",
          "output_type": "stream",
          "text": [
            "3\n",
            "4\n",
            "5\n",
            "6\n",
            "7\n",
            "8\n",
            "9\n",
            "10\n",
            "11\n",
            "12\n",
            "13\n",
            "14\n",
            "15\n",
            "16\n",
            "17\n",
            "18\n",
            "19\n"
          ]
        }
      ],
      "source": [
        "# с указанием левой и правой границы\n",
        "for i in range(3, 20):\n",
        "    print(i)"
      ]
    },
    {
      "cell_type": "code",
      "execution_count": null,
      "metadata": {
        "id": "e7DjTR13sYSt",
        "outputId": "5ea1dd1c-cb12-4175-c803-2ba6b74ae306"
      },
      "outputs": [
        {
          "name": "stdout",
          "output_type": "stream",
          "text": [
            "3\n",
            "8\n",
            "13\n",
            "18\n"
          ]
        }
      ],
      "source": [
        "# третий аргумент - шаг\n",
        "for i in range(3, 20, 5):\n",
        "    print(i)"
      ]
    },
    {
      "cell_type": "code",
      "execution_count": null,
      "metadata": {
        "id": "f5kuBDG9sYSt",
        "outputId": "926071eb-2835-41bb-d241-2df6fbe9fd45"
      },
      "outputs": [
        {
          "data": {
            "text/plain": [
              "[(0, 1), (1, 2), (2, 3), (3, 4), (4, 5)]"
            ]
          },
          "execution_count": 181,
          "metadata": {},
          "output_type": "execute_result"
        }
      ],
      "source": [
        "# enumerate позволяет получить индекс каждого элемента\n",
        "# enumerate([1, 2, 3, 4, 5])\n",
        "list(enumerate([1, 2, 3, 4, 5]))"
      ]
    },
    {
      "cell_type": "code",
      "execution_count": null,
      "metadata": {
        "id": "CYNAirVGsYSt",
        "outputId": "34d1d389-ed24-4d1b-f879-62e6d67dda51"
      },
      "outputs": [
        {
          "name": "stdout",
          "output_type": "stream",
          "text": [
            "1 Orange capitalization is 1.3\n",
            "2 Maxisoft capitalization is 1.5\n",
            "3 Headbook capitalization is 0.8\n",
            "4 Nicola capitalization is 2.2\n"
          ]
        }
      ],
      "source": [
        "companies_capitalization = [\n",
        "    ['Orange', 1.3],\n",
        "    ['Maxisoft', 1.5],\n",
        "    ['Headbook', 0.8],\n",
        "    ['Nicola', 2.2]\n",
        "]\n",
        "\n",
        "for i, company in enumerate(companies_capitalization):\n",
        "    print(i+1, company[0], 'capitalization is', company[1])"
      ]
    },
    {
      "cell_type": "code",
      "execution_count": null,
      "metadata": {
        "id": "gozcBcSdsYSt",
        "outputId": "b29418a6-dfe0-4ea2-9111-c9c124d0f2ff"
      },
      "outputs": [
        {
          "name": "stdout",
          "output_type": "stream",
          "text": [
            "['Orange', 1.3]\n",
            "['Maxisoft', 1.5]\n",
            "['Headbook', 0.8]\n",
            "['Nicola', 2.2]\n"
          ]
        }
      ],
      "source": [
        "for i, company in enumerate(companies_capitalization):\n",
        "    print(company)\n",
        "\n",
        "    if i > 2:\n",
        "        break"
      ]
    },
    {
      "cell_type": "markdown",
      "metadata": {
        "id": "slIrRXg6sYSu"
      },
      "source": [
        "## Попрактикуемся"
      ]
    },
    {
      "cell_type": "markdown",
      "metadata": {
        "id": "72J4Mk2rsYSu"
      },
      "source": [
        "Имеется структура данных cook_book, в которой хранится информация об ингредиентах блюд и их количестве в расчете на одну порцию и переменная, в которой хранится количество людей, на которых необходимо приготовить данные блюда:"
      ]
    },
    {
      "cell_type": "code",
      "execution_count": null,
      "metadata": {
        "id": "wIt_RASzsYSu"
      },
      "outputs": [],
      "source": [
        "cook_book = [\n",
        "  ['салат',\n",
        "      [\n",
        "        ['картофель', 100, 'гр.'],\n",
        "        ['морковь', 50, 'гр.'],\n",
        "        ['огурцы', 50, 'гр.'],\n",
        "        ['горошек', 30, 'гр.'],\n",
        "        ['майонез', 70, 'мл.'],\n",
        "      ]\n",
        "  ],\n",
        "  ['пицца',\n",
        "      [\n",
        "        ['сыр', 50, 'гр.'],\n",
        "        ['томаты', 50, 'гр.'],\n",
        "        ['тесто', 100, 'гр.'],\n",
        "        ['бекон', 30, 'гр.'],\n",
        "        ['колбаса', 30, 'гр.'],\n",
        "        ['грибы', 20, 'гр.'],\n",
        "      ],\n",
        "  ],\n",
        "  ['фруктовый десерт',\n",
        "      [\n",
        "        ['хурма', 60, 'гр.'],\n",
        "        ['киви', 60, 'гр.'],\n",
        "        ['творог', 60, 'гр.'],\n",
        "        ['сахар', 10, 'гр.'],\n",
        "        ['мед', 50, 'мл.'],\n",
        "      ]\n",
        "  ]\n",
        "]\n"
      ]
    },
    {
      "cell_type": "code",
      "execution_count": null,
      "metadata": {
        "id": "CFuplQn3sYSu"
      },
      "outputs": [],
      "source": [
        "person = 5"
      ]
    },
    {
      "cell_type": "markdown",
      "metadata": {
        "id": "hdPyvEI2sYSu"
      },
      "source": [
        "Необходимо вывести пользователю список покупок необходимого количества ингредиентов для приготовления блюд на определенное число персон в следующем виде:"
      ]
    },
    {
      "cell_type": "markdown",
      "metadata": {
        "id": "zoTGk7xgsYSu"
      },
      "source": [
        "Салат:  \n",
        "картофель, 500гр.  \n",
        "морковь, 250гр.  \n",
        "огурцы, 250гр.  \n",
        "горошек, 150гр.  \n",
        "майонез, 350мл.  \n",
        "\n",
        "Пицца:  \n",
        "сыр, 250гр.  \n",
        "томаты, 250гр.  \n",
        "тесто, 500гр.  \n",
        "бекон, 150гр.  \n",
        "колбаса, 150гр.  \n",
        "грибы, 100гр.  \n",
        "\n",
        "Фруктовый десерт:  \n",
        "хурма, 300гр.  \n",
        "киви, 300гр.  \n",
        "творог, 300гр.  \n",
        "сахар, 50гр.  \n",
        "мед, 250мл.  "
      ]
    },
    {
      "cell_type": "code",
      "execution_count": null,
      "metadata": {
        "id": "wMnI-te-sYSu",
        "outputId": "7e5d0fe6-3e3e-446d-caa2-080f66d8512a"
      },
      "outputs": [
        {
          "name": "stdout",
          "output_type": "stream",
          "text": [
            "Салат\n",
            "картофель 500 гр.\n",
            "морковь 250 гр.\n",
            "огурцы 250 гр.\n",
            "горошек 150 гр.\n",
            "майонез 350 мл.\n",
            "\n",
            "Пицца\n",
            "сыр 250 гр.\n",
            "томаты 250 гр.\n",
            "тесто 500 гр.\n",
            "бекон 150 гр.\n",
            "колбаса 150 гр.\n",
            "грибы 100 гр.\n",
            "\n",
            "Фруктовый десерт\n",
            "хурма 300 гр.\n",
            "киви 300 гр.\n",
            "творог 300 гр.\n",
            "сахар 50 гр.\n",
            "мед 250 мл.\n",
            "\n"
          ]
        }
      ],
      "source": [
        "for item in cook_book:\n",
        "    print(item[0].capitalize())\n",
        "\n",
        "    for line in item[1]:\n",
        "        meal, weight, gr = line\n",
        "        weight = weight * person\n",
        "\n",
        "        print(meal, weight, gr)\n",
        "\n",
        "    print('')"
      ]
    },
    {
      "cell_type": "code",
      "execution_count": null,
      "metadata": {
        "id": "XfOr8V4ZsYSv"
      },
      "outputs": [],
      "source": []
    },
    {
      "cell_type": "code",
      "execution_count": null,
      "metadata": {
        "id": "LD9Z0eLpsYSv"
      },
      "outputs": [],
      "source": []
    },
    {
      "cell_type": "markdown",
      "metadata": {
        "id": "47wHteAgsYSv"
      },
      "source": [
        "## List comprehension"
      ]
    },
    {
      "cell_type": "code",
      "execution_count": null,
      "metadata": {
        "id": "d1DL_LA5sYSv",
        "outputId": "b18b2ad4-d6aa-432b-88d2-e6d340092b70"
      },
      "outputs": [
        {
          "data": {
            "text/plain": [
              "[0, 3, 6, 9, 12, 15, 18, 21, 24, 27, 30, 33, 36, 39]"
            ]
          },
          "execution_count": 195,
          "metadata": {},
          "output_type": "execute_result"
        }
      ],
      "source": [
        "# Дана последовательность чисел. Мы хотим оставить только те, что делятся на 5\n",
        "sequence = range(0, 40, 3)\n",
        "list(sequence)"
      ]
    },
    {
      "cell_type": "code",
      "execution_count": null,
      "metadata": {
        "id": "KgECI7U-sYSv",
        "outputId": "abd47dbf-e5d6-42ac-c009-81ae76dc5fa0"
      },
      "outputs": [
        {
          "name": "stdout",
          "output_type": "stream",
          "text": [
            "0\n",
            "15\n",
            "30\n"
          ]
        }
      ],
      "source": [
        "# решение в лоб\n",
        "for num in sequence:\n",
        "    if num % 5 == 0:\n",
        "        print(num)"
      ]
    },
    {
      "cell_type": "code",
      "execution_count": null,
      "metadata": {
        "id": "rocogHbRsYSv",
        "outputId": "68bfbb56-cc91-4616-865c-eb4d7be1775a"
      },
      "outputs": [
        {
          "name": "stdout",
          "output_type": "stream",
          "text": [
            "[0, 15, 30]\n"
          ]
        }
      ],
      "source": [
        "# если хотим получить отфильтрованный лист, то будет даже так\n",
        "filtered_sequence = []\n",
        "\n",
        "for num in sequence:\n",
        "    if num % 5 == 0:\n",
        "        filtered_sequence.append(num)\n",
        "\n",
        "print(filtered_sequence)"
      ]
    },
    {
      "cell_type": "code",
      "execution_count": null,
      "metadata": {
        "id": "3y-1UbvOsYSv",
        "outputId": "f5ccd352-e269-4402-a48b-16522c7892ca"
      },
      "outputs": [
        {
          "data": {
            "text/plain": [
              "[0, 15, 30]"
            ]
          },
          "execution_count": 200,
          "metadata": {},
          "output_type": "execute_result"
        }
      ],
      "source": [
        "[num for num in sequence if num % 5 == 0]"
      ]
    },
    {
      "cell_type": "code",
      "execution_count": null,
      "metadata": {
        "id": "-Bq8ytTnsYSw"
      },
      "outputs": [],
      "source": [
        "[num for num in sequence if num % 5 == 0]"
      ]
    },
    {
      "cell_type": "code",
      "execution_count": null,
      "metadata": {
        "id": "MZ5SCG_nsYSw"
      },
      "outputs": [],
      "source": [
        "[w for w in sequence if w % 5 == 0]"
      ]
    },
    {
      "cell_type": "code",
      "execution_count": null,
      "metadata": {
        "id": "URApGsEWsYSw"
      },
      "outputs": [],
      "source": [
        "# с list comprehension получается покороче\n",
        "\n",
        "[x**2 for x in sequence if x % 5 == 0]"
      ]
    },
    {
      "cell_type": "markdown",
      "metadata": {
        "id": "Khxd5lgwsYSw"
      },
      "source": [
        "Пример вычисления метрики из набора списков. Столбцы в каждой строке:\n",
        "- дата\n",
        "- номер счетчика\n",
        "- количество визитов\n",
        "\n",
        "Найдем среднее количество визитов по нашим данным"
      ]
    },
    {
      "cell_type": "code",
      "execution_count": null,
      "metadata": {
        "id": "sk-wybz9sYSw"
      },
      "outputs": [],
      "source": [
        "api_response = [\n",
        "    ['2017-12-26', '777', 184],\n",
        "    ['2017-12-27', '111', 146],\n",
        "    ['2017-12-28', '777', 98],\n",
        "    ['2017-12-29', '777', 206],\n",
        "    ['2017-12-30', '111', 254],\n",
        "    ['2017-12-31', '777', 89],\n",
        "    ['2018-01-01', '111', 54],\n",
        "    ['2018-01-02', '777', 68],\n",
        "    ['2018-01-03', '777', 74],\n",
        "    ['2018-01-04', '111', 89],\n",
        "    ['2018-01-05', '777', 104],\n",
        "    ['2018-01-06', '777', 99],\n",
        "    ['2018-01-07', '777', 145],\n",
        "    ['2018-01-08', '111', 184],\n",
        "]"
      ]
    },
    {
      "cell_type": "code",
      "execution_count": null,
      "metadata": {
        "id": "s0pgnV2rsYSw",
        "outputId": "ed01d5b2-4d99-4a6a-b230-e31ae8499cc0"
      },
      "outputs": [
        {
          "data": {
            "text/plain": [
              "1067"
            ]
          },
          "execution_count": 211,
          "metadata": {},
          "output_type": "execute_result"
        }
      ],
      "source": [
        "sum([element[2] for element in api_response if element[1] == '777'])"
      ]
    },
    {
      "cell_type": "code",
      "execution_count": null,
      "metadata": {
        "id": "ey5vdJNSsYSw",
        "outputId": "c916ebeb-ad58-419d-e9b3-39f30c9e1eda"
      },
      "outputs": [
        {
          "name": "stdout",
          "output_type": "stream",
          "text": [
            "184\n",
            "146\n",
            "98\n",
            "206\n",
            "254\n",
            "89\n",
            "54\n",
            "68\n",
            "74\n",
            "89\n",
            "104\n",
            "99\n",
            "145\n",
            "184\n"
          ]
        }
      ],
      "source": [
        "for element in api_response:\n",
        "    print(element[2])"
      ]
    },
    {
      "cell_type": "code",
      "execution_count": null,
      "metadata": {
        "id": "3FieaOz4sYSx",
        "outputId": "21072042-134c-4a01-a870-ce4f27b193bd"
      },
      "outputs": [
        {
          "data": {
            "text/plain": [
              "128.14285714285714"
            ]
          },
          "execution_count": 210,
          "metadata": {},
          "output_type": "execute_result"
        }
      ],
      "source": [
        "sum([x[2] for x in api_response])/len(api_response)"
      ]
    },
    {
      "cell_type": "markdown",
      "metadata": {
        "id": "PQUC1gUAsYSx"
      },
      "source": [
        "## Множества (set)\n",
        "Набор неповторяющихся элементов в случайном порядке"
      ]
    },
    {
      "cell_type": "code",
      "execution_count": null,
      "metadata": {
        "id": "z_FVuVjOsYSx"
      },
      "outputs": [],
      "source": [
        "data_scientist_skills = set(['Python', 'R', 'SQL', 'Tableau', 'SAS', 'Git'])\n",
        "data_engineer_skills = set(['Python', 'Java', 'Scala', 'Git', 'SQL', 'Hadoop'])"
      ]
    },
    {
      "cell_type": "code",
      "execution_count": null,
      "metadata": {
        "id": "wN_qJ2jPsYSx",
        "outputId": "e957a00e-cefb-4df4-c6e1-836f335f590b"
      },
      "outputs": [
        {
          "data": {
            "text/plain": [
              "{1, 2}"
            ]
          },
          "execution_count": 213,
          "metadata": {},
          "output_type": "execute_result"
        }
      ],
      "source": [
        "set([1, 2, 1])"
      ]
    },
    {
      "cell_type": "code",
      "execution_count": null,
      "metadata": {
        "id": "6M0tF_pYsYSx",
        "outputId": "c62aeae7-ca39-4e46-91ec-ecda59dd1d83"
      },
      "outputs": [
        {
          "name": "stdout",
          "output_type": "stream",
          "text": [
            "{'SQL', 'Python', 'SAS', 'Hadoop', 'Java', 'Git', 'Tableau', 'R', 'Scala'}\n",
            "{'SQL', 'Python', 'SAS', 'Hadoop', 'Java', 'Git', 'Tableau', 'R', 'Scala'}\n"
          ]
        }
      ],
      "source": [
        "# логическое ИЛИ – что нужно знать data-scientst, который по совместительству data-engineer\n",
        "print(data_scientist_skills.union(data_engineer_skills))\n",
        "print(data_scientist_skills | data_engineer_skills)"
      ]
    },
    {
      "cell_type": "code",
      "execution_count": null,
      "metadata": {
        "id": "nYtc13jqsYSx",
        "outputId": "a02bf372-5038-4fb4-efc6-38e229ccafc6"
      },
      "outputs": [
        {
          "name": "stdout",
          "output_type": "stream",
          "text": [
            "{'SQL', 'Git', 'Python'}\n",
            "{'SQL', 'Git', 'Python'}\n"
          ]
        }
      ],
      "source": [
        "# логическое И – что нужно знать и data-scientist и data-engineer\n",
        "print(data_scientist_skills.intersection(data_engineer_skills))\n",
        "print(data_scientist_skills & data_engineer_skills)"
      ]
    },
    {
      "cell_type": "code",
      "execution_count": null,
      "metadata": {
        "id": "CI_x-eC3sYSx",
        "outputId": "53bae9d5-d053-4a01-8ea4-d32a9988c280"
      },
      "outputs": [
        {
          "name": "stdout",
          "output_type": "stream",
          "text": [
            "{'Java', 'Scala', 'Hadoop'}\n",
            "{'Java', 'Scala', 'Hadoop'}\n"
          ]
        }
      ],
      "source": [
        "# разность множеств – что знает data-scientist, но не знает data-engineer (и наоборот)\n",
        "# print(data_scientist_skills.difference(data_engineer_skills))\n",
        "# print(data_scientist_skills - data_engineer_skills)\n",
        "print(data_engineer_skills.difference(data_scientist_skills))\n",
        "print(data_engineer_skills - data_scientist_skills)"
      ]
    },
    {
      "cell_type": "code",
      "execution_count": null,
      "metadata": {
        "scrolled": true,
        "id": "dzE-oZ58sYSy",
        "outputId": "1d5fdcac-60aa-4300-a5ad-3b81c777f2ac"
      },
      "outputs": [
        {
          "name": "stdout",
          "output_type": "stream",
          "text": [
            "{'Tableau', 'SAS', 'Hadoop', 'Java', 'R', 'Scala'}\n",
            "{'Tableau', 'SAS', 'Hadoop', 'Java', 'R', 'Scala'}\n"
          ]
        }
      ],
      "source": [
        "# симметричная разность множеств – что такого знают data-scientist и data-engineer, чего не знают они оба\n",
        "# print(data_scientist_skills.symmetric_difference(data_engineer_skills))\n",
        "# print(data_scientist_skills ^ data_engineer_skills)\n",
        "print(data_engineer_skills.symmetric_difference(data_scientist_skills))\n",
        "print(data_engineer_skills ^ data_scientist_skills)"
      ]
    },
    {
      "cell_type": "code",
      "execution_count": null,
      "metadata": {
        "id": "R5FjMcPMsYSy"
      },
      "outputs": [],
      "source": [
        "# Из списка можно убрать все повторения просто обратив его в set!"
      ]
    },
    {
      "cell_type": "markdown",
      "metadata": {
        "id": "5lZPG024sYSy"
      },
      "source": [
        "# Словари"
      ]
    },
    {
      "cell_type": "code",
      "execution_count": null,
      "metadata": {
        "id": "Nttsx0B4sYSy"
      },
      "outputs": [],
      "source": [
        "salaries = {\n",
        "    'John': 1200,\n",
        "    'Mary': 500,\n",
        "    'Steven': 1000,\n",
        "    'Liza': 1500\n",
        "}"
      ]
    },
    {
      "cell_type": "code",
      "execution_count": null,
      "metadata": {
        "id": "GjcAahBUsYSy",
        "outputId": "b7bd2ef7-f771-4153-f789-3050b80c9bb8"
      },
      "outputs": [
        {
          "data": {
            "text/plain": [
              "1200"
            ]
          },
          "execution_count": 219,
          "metadata": {},
          "output_type": "execute_result"
        }
      ],
      "source": [
        "# обращение к элементу словаря\n",
        "salaries['John']"
      ]
    },
    {
      "cell_type": "code",
      "execution_count": null,
      "metadata": {
        "id": "lp8l0hapsYSy",
        "outputId": "48a4053a-1426-47a3-bc03-2d044b20a844"
      },
      "outputs": [
        {
          "data": {
            "text/plain": [
              "{'John': 1200, 'Mary': 500, 'Steven': 1000}"
            ]
          },
          "execution_count": 221,
          "metadata": {},
          "output_type": "execute_result"
        }
      ],
      "source": [
        "# удаляем элемент из словаря\n",
        "del(salaries['Liza'])\n",
        "salaries"
      ]
    },
    {
      "cell_type": "code",
      "execution_count": null,
      "metadata": {
        "id": "bkXVsuzFsYSy",
        "outputId": "ff58b691-ee57-430b-bbdd-6e8602aaa2bf"
      },
      "outputs": [
        {
          "data": {
            "text/plain": [
              "{'John': 1200, 'Mary': 2000, 'Steven': 1000}"
            ]
          },
          "execution_count": 222,
          "metadata": {},
          "output_type": "execute_result"
        }
      ],
      "source": [
        "# добавляем элемент в словарь\n",
        "salaries['Mary'] = 2000\n",
        "salaries"
      ]
    },
    {
      "cell_type": "code",
      "execution_count": null,
      "metadata": {
        "id": "MXQ60WOwsYSz",
        "outputId": "003b2d59-7a3c-4810-9264-69344a306419"
      },
      "outputs": [
        {
          "data": {
            "text/plain": [
              "2000"
            ]
          },
          "execution_count": 228,
          "metadata": {},
          "output_type": "execute_result"
        }
      ],
      "source": [
        "# безопасно получаем значение по ключу\n",
        "# salaries['Oleg']\n",
        "# print(salaries.get('Oleg', 'Not found'))\n",
        "salaries.get('Mary', 'Not Found')"
      ]
    },
    {
      "cell_type": "code",
      "execution_count": null,
      "metadata": {
        "id": "krkhp7G8sYSz",
        "outputId": "100fa4e8-28eb-4625-d67f-92aa3a0bde52"
      },
      "outputs": [
        {
          "ename": "KeyError",
          "evalue": "'Andrey'",
          "output_type": "error",
          "traceback": [
            "\u001b[0;31m---------------------------------------------------------------------------\u001b[0m",
            "\u001b[0;31mKeyError\u001b[0m                                  Traceback (most recent call last)",
            "\u001b[0;32m<ipython-input-230-35882ddf7fae>\u001b[0m in \u001b[0;36m<module>\u001b[0;34m\u001b[0m\n\u001b[0;32m----> 1\u001b[0;31m \u001b[0msalaries\u001b[0m\u001b[0;34m[\u001b[0m\u001b[0;34m'Andrey'\u001b[0m\u001b[0;34m]\u001b[0m \u001b[0;34m+=\u001b[0m \u001b[0;36m2000\u001b[0m\u001b[0;34m\u001b[0m\u001b[0m\n\u001b[0m",
            "\u001b[0;31mKeyError\u001b[0m: 'Andrey'"
          ]
        }
      ],
      "source": [
        "salaries['Andrey'] += 2000"
      ]
    },
    {
      "cell_type": "code",
      "execution_count": null,
      "metadata": {
        "id": "PZlAg1wJsYSz",
        "outputId": "b64e4b62-946c-42e8-e77f-09563e6d7341"
      },
      "outputs": [
        {
          "name": "stdout",
          "output_type": "stream",
          "text": [
            "Значение для ключа уже существует\n",
            "{'John': 1200, 'Mary': 4000, 'Steven': 1000, 'Amanda': 2200}\n"
          ]
        }
      ],
      "source": [
        "# проверка на наличие ключа в словаре\n",
        "recruit = 'Amanda'\n",
        "\n",
        "if recruit in salaries:\n",
        "    print('Значение для ключа уже существует')\n",
        "else:\n",
        "    print('Добавляю новый ключ')\n",
        "    salaries[recruit] = 2200\n",
        "\n",
        "print(salaries)"
      ]
    },
    {
      "cell_type": "code",
      "execution_count": null,
      "metadata": {
        "id": "JFnQ4AFDsYSz",
        "outputId": "999e77cf-5846-4201-e065-a287cdbcc238"
      },
      "outputs": [
        {
          "data": {
            "text/plain": [
              "{'John': 1200, 'Mary': 4000, 'Steven': 1000, 'Amanda': 2200, 'Paul': 3000}"
            ]
          },
          "execution_count": 234,
          "metadata": {},
          "output_type": "execute_result"
        }
      ],
      "source": [
        "# Можно использовать метод setdefault\n",
        "# setdefault не изменяет значение, если ключ уже был в словаре\n",
        "\n",
        "# salaries.setdefault('Mary', 3000)\n",
        "# salaries\n",
        "salaries.setdefault('Paul', 3000)\n",
        "salaries"
      ]
    },
    {
      "cell_type": "code",
      "execution_count": null,
      "metadata": {
        "id": "BXsensHZsYSz"
      },
      "outputs": [],
      "source": [
        "# перейдем к более сложному словарю\n",
        "staff_dict = {\n",
        "    'Robert': {'salary': 800, 'bonus': 200},\n",
        "    'Jane': {'salary': 200, 'bonus': 300},\n",
        "    'Liza': {'salary': 1300, 'bonus': 200},\n",
        "    'Richard': {'salary': 500, 'bonus': 1200}\n",
        "}"
      ]
    },
    {
      "cell_type": "code",
      "execution_count": null,
      "metadata": {
        "id": "dz7Y0MD4sYSz",
        "outputId": "528ca32b-ad41-4b1a-e014-93e944b018dc"
      },
      "outputs": [
        {
          "data": {
            "text/plain": [
              "200"
            ]
          },
          "execution_count": 238,
          "metadata": {},
          "output_type": "execute_result"
        }
      ],
      "source": [
        "staff_dict['Robert']['bonus']"
      ]
    },
    {
      "cell_type": "code",
      "execution_count": null,
      "metadata": {
        "id": "aeNpvBEHsYS0",
        "outputId": "c252c953-84f9-4f00-bda1-970eea839716"
      },
      "outputs": [
        {
          "data": {
            "text/plain": [
              "{'Robert': {'salary': 800, 'bonus': 200},\n",
              " 'Jane': {'salary': 200, 'bonus': 300},\n",
              " 'Liza': {'salary': 1300, 'bonus': 200},\n",
              " 'Richard': {'salary': 500, 'bonus': 1200},\n",
              " 'Oleg': {'salary': 1000000, 'bonus': 300}}"
            ]
          },
          "execution_count": 239,
          "metadata": {},
          "output_type": "execute_result"
        }
      ],
      "source": [
        "staff_dict['Oleg'] = {'salary': 1000000, 'bonus': 300}\n",
        "staff_dict"
      ]
    },
    {
      "cell_type": "code",
      "execution_count": null,
      "metadata": {
        "id": "-7XwSukgsYS0",
        "outputId": "6b3c3c13-c488-4d83-9db1-5ce8b4f2afde"
      },
      "outputs": [
        {
          "name": "stdout",
          "output_type": "stream",
          "text": [
            "[('Robert', {'salary': 800, 'bonus': 200}), ('Jane', {'salary': 200, 'bonus': 300}), ('Liza', {'salary': 1300, 'bonus': 200}), ('Richard', {'salary': 500, 'bonus': 1200}), ('Oleg', {'salary': 1000000, 'bonus': 300})]\n"
          ]
        }
      ],
      "source": [
        "# получаем только ключи/значения из словаря (очень пригодиться в циклах)\n",
        "# print(staff_dict.keys())\n",
        "# print(staff_dict.values())\n",
        "# print(staff_dict.items())\n",
        "\n",
        "print(list(staff_dict.keys()))\n",
        "print(list(staff_dict.values()))\n",
        "print(list(staff_dict.items()))"
      ]
    },
    {
      "cell_type": "code",
      "execution_count": null,
      "metadata": {
        "id": "pXqVsutNsYS0",
        "outputId": "0c2daca6-bfee-449f-fe48-3c165672905b"
      },
      "outputs": [
        {
          "name": "stdout",
          "output_type": "stream",
          "text": [
            "Robert's salary: 800\n",
            "Jane's salary: 200\n",
            "Richard's salary: 500\n"
          ]
        }
      ],
      "source": [
        "# итерация по словарям\n",
        "# так бы было без цикла\n",
        "print(\"Robert's salary:\", staff_dict['Robert']['salary'])\n",
        "print(\"Jane's salary:\", staff_dict['Jane']['salary'])\n",
        "print(\"Richard's salary:\", staff_dict['Richard']['salary'])"
      ]
    },
    {
      "cell_type": "code",
      "execution_count": null,
      "metadata": {
        "id": "Od1W0nQqsYS0",
        "outputId": "4be1074e-5511-48ef-ed7c-d342ff72d5ff"
      },
      "outputs": [
        {
          "name": "stdout",
          "output_type": "stream",
          "text": [
            "Robert\n",
            "Jane\n",
            "Liza\n",
            "Richard\n",
            "Oleg\n"
          ]
        }
      ],
      "source": [
        "for person in staff_dict:\n",
        "    print(person)"
      ]
    },
    {
      "cell_type": "code",
      "execution_count": null,
      "metadata": {
        "id": "uFMWHD98sYS0"
      },
      "outputs": [],
      "source": [
        "for key in staff_dict.keys():\n",
        "    print(key)"
      ]
    },
    {
      "cell_type": "code",
      "execution_count": null,
      "metadata": {
        "id": "Jp94R9WJsYS1"
      },
      "outputs": [],
      "source": [
        "for value in staff_dict.values():\n",
        "    print(value)"
      ]
    },
    {
      "cell_type": "code",
      "execution_count": null,
      "metadata": {
        "id": "JDxyYHaBsYS1",
        "outputId": "76ef745b-c132-43c8-be15-a7287fe67c1b"
      },
      "outputs": [
        {
          "name": "stdout",
          "output_type": "stream",
          "text": [
            "Robert 800\n",
            "Jane 200\n",
            "Liza 1300\n",
            "Richard 500\n",
            "Oleg 1000000\n"
          ]
        }
      ],
      "source": [
        "for key, value in staff_dict.items():\n",
        "    print(key, value['salary'])"
      ]
    },
    {
      "cell_type": "code",
      "execution_count": null,
      "metadata": {
        "id": "Y-tms5yLsYS1",
        "outputId": "74ea32d1-470e-49bd-cff2-b18132ca2937"
      },
      "outputs": [
        {
          "name": "stdout",
          "output_type": "stream",
          "text": [
            "1 Robert\n",
            "2 Jane\n",
            "3 Liza\n",
            "4 Richard\n",
            "5 Oleg\n"
          ]
        }
      ],
      "source": [
        "for i, person in enumerate(staff_dict):\n",
        "    print(i+1, person)"
      ]
    },
    {
      "cell_type": "code",
      "execution_count": null,
      "metadata": {
        "id": "Qx97CegFsYS1",
        "outputId": "90fb4fe4-f169-4f79-87ef-ea69ac68cad4"
      },
      "outputs": [
        {
          "name": "stdout",
          "output_type": "stream",
          "text": [
            "Robert's salary: 800\n",
            "Jane's salary: 200\n",
            "Liza's salary: 1300\n",
            "Richard's salary: 500\n",
            "Oleg's salary: 1000000\n"
          ]
        }
      ],
      "source": [
        "# используем цикл\n",
        "for person, info in staff_dict.items():\n",
        "#     print(person, info)\n",
        "    print(person, \"'s salary: \", info['salary'], sep='')"
      ]
    },
    {
      "cell_type": "code",
      "execution_count": null,
      "metadata": {
        "id": "aOrGYaN9sYS1",
        "outputId": "fb483b93-393e-4349-ad3c-6d5cb114333d"
      },
      "outputs": [
        {
          "data": {
            "text/plain": [
              "{'Robert': {'salary': 800, 'bonus': 200, 'status': 'below average'},\n",
              " 'Jane': {'salary': 200, 'bonus': 300, 'status': 'below average'},\n",
              " 'Liza': {'salary': 1300, 'bonus': 200, 'status': 'above average'},\n",
              " 'Richard': {'salary': 500, 'bonus': 1200, 'status': 'below average'},\n",
              " 'Oleg': {'salary': 1000000, 'bonus': 300, 'status': 'above average'}}"
            ]
          },
          "execution_count": 253,
          "metadata": {},
          "output_type": "execute_result"
        }
      ],
      "source": [
        "# добавим уровень з/п\n",
        "for person, info in staff_dict.items():\n",
        "#     print(person)\n",
        "    if info['salary'] > 1000:\n",
        "        info['status'] = 'above average'\n",
        "    else:\n",
        "        info['status'] = 'below average'\n",
        "#     print(f\"{person}'s salary: {info['salary']} ({status})\")\n",
        "\n",
        "staff_dict"
      ]
    },
    {
      "cell_type": "code",
      "execution_count": null,
      "metadata": {
        "id": "m5EbxSppsYS1",
        "outputId": "1267781e-c9b2-41d8-cb71-554d254a8081"
      },
      "outputs": [
        {
          "data": {
            "text/plain": [
              "{'Еда': 100, 'Авто': 200, 'Политика': 300}"
            ]
          },
          "execution_count": 255,
          "metadata": {},
          "output_type": "execute_result"
        }
      ],
      "source": [
        "# функция zip\n",
        "categories = ['Еда', 'Авто', 'Политика', '346346']\n",
        "audience = [100, 200, 300]\n",
        "\n",
        "dict(zip(categories, audience))\n",
        "\n",
        "# categories_dict = dict(zip(categories, audience))\n",
        "# print(categories_dict)"
      ]
    },
    {
      "cell_type": "markdown",
      "metadata": {
        "id": "9skRd6CKsYS2"
      },
      "source": [
        "## Dict comprehension\n",
        "Похоже на  list comprehension"
      ]
    },
    {
      "cell_type": "code",
      "execution_count": null,
      "metadata": {
        "id": "-fMVgGjosYS2",
        "outputId": "f2c0c100-95d9-470b-ce03-2e6abb846ca3"
      },
      "outputs": [
        {
          "data": {
            "text/plain": [
              "[0, 1, 4, 9, 16, 25, 36, 49, 64, 81]"
            ]
          },
          "execution_count": 256,
          "metadata": {},
          "output_type": "execute_result"
        }
      ],
      "source": [
        "[x**2 for x in range(10)]"
      ]
    },
    {
      "cell_type": "code",
      "execution_count": null,
      "metadata": {
        "id": "nAt6XCyssYS2",
        "outputId": "98cb560f-f46f-456d-c4b9-f06513d57a79"
      },
      "outputs": [
        {
          "data": {
            "text/plain": [
              "{0: 0, 1: 1, 2: 4, 3: 9, 4: 16, 5: 25, 6: 36, 7: 49, 8: 64, 9: 81}"
            ]
          },
          "execution_count": 257,
          "metadata": {},
          "output_type": "execute_result"
        }
      ],
      "source": [
        "{n: n**2 for n in range(10)}"
      ]
    },
    {
      "cell_type": "code",
      "execution_count": null,
      "metadata": {
        "id": "W2ivqRsmsYS2"
      },
      "outputs": [],
      "source": [
        "results = [('date', '2018-01-01'), ('counter', '777'), ('visits', 154)]"
      ]
    },
    {
      "cell_type": "code",
      "execution_count": null,
      "metadata": {
        "scrolled": true,
        "id": "frKbo6-IsYS2",
        "outputId": "57433f57-cef4-42d4-8b34-150652b98f45"
      },
      "outputs": [
        {
          "data": {
            "text/plain": [
              "{'date': '2018-01-01', 'counter': '777', 'visits': 154}"
            ]
          },
          "execution_count": 259,
          "metadata": {},
          "output_type": "execute_result"
        }
      ],
      "source": [
        "{metric: value for (metric, value) in results}"
      ]
    }
  ],
  "metadata": {
    "kernelspec": {
      "display_name": "Python 3",
      "language": "python",
      "name": "python3"
    },
    "language_info": {
      "codemirror_mode": {
        "name": "ipython",
        "version": 3
      },
      "file_extension": ".py",
      "mimetype": "text/x-python",
      "name": "python",
      "nbconvert_exporter": "python",
      "pygments_lexer": "ipython3",
      "version": "3.7.0"
    },
    "colab": {
      "provenance": [],
      "include_colab_link": true
    }
  },
  "nbformat": 4,
  "nbformat_minor": 0
}