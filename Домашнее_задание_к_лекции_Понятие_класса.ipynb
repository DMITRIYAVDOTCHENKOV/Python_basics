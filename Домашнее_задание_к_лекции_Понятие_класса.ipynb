{
 "cells": [
  {
   "cell_type": "markdown",
   "source": [
    "# Задание 1\n",
    "Напишите функцию, которая возвращает название валюты (поле ‘Name’) с максимальным значением курса с помощью сервиса www.cbr-xml-daily.ru...ly_json.js"
   ],
   "metadata": {
    "collapsed": false
   },
   "id": "b09524105e149522"
  },
  {
   "cell_type": "code",
   "execution_count": 2,
   "outputs": [],
   "source": [
    "from libs.exchange import Rate"
   ],
   "metadata": {
    "collapsed": false,
    "ExecuteTime": {
     "end_time": "2023-11-04T17:11:50.341094Z",
     "start_time": "2023-11-04T17:11:50.331086100Z"
    }
   },
   "id": "dbbc80a6fc8a33d0"
  },
  {
   "cell_type": "code",
   "execution_count": 19,
   "outputs": [],
   "source": [
    "import requests\n",
    "\n",
    "def get_currency_with_max_rate():\n",
    "    url = \"https://www.cbr-xml-daily.ru/daily_json.js\"\n",
    "    response = requests.get(url)\n",
    "    data = response.json()\n",
    "\n",
    "    max_rate = 0\n",
    "    max_rate_currency = \"\"\n",
    "\n",
    "    for currency, info in data[\"Valute\"].items():\n",
    "        if info[\"Value\"] > max_rate:\n",
    "            max_rate = info[\"Value\"]\n",
    "            max_rate_currency = info[\"Name\"]\n",
    "\n",
    "    return max_rate_currency, max_rate\n",
    "\n",
    "# Пример использования функции\n",
    "\n"
   ],
   "metadata": {
    "collapsed": false,
    "ExecuteTime": {
     "end_time": "2023-11-04T17:29:28.850540300Z",
     "start_time": "2023-11-04T17:29:28.798534700Z"
    }
   },
   "id": "eb7e2d4c0e73fc9d"
  },
  {
   "cell_type": "code",
   "execution_count": 20,
   "outputs": [
    {
     "name": "stdout",
     "output_type": "stream",
     "text": [
      "Валюта с максимальным курсом: СДР (специальные права заимствования)\n",
      "Максимальный курс: 122.2351\n"
     ]
    }
   ],
   "source": [
    "currency, rate = get_currency_with_max_rate()\n",
    "print(f\"Валюта с максимальным курсом: {currency}\")\n",
    "print(f\"Максимальный курс: {rate}\")"
   ],
   "metadata": {
    "collapsed": false,
    "ExecuteTime": {
     "end_time": "2023-11-04T17:29:46.322252Z",
     "start_time": "2023-11-04T17:29:45.868783700Z"
    }
   },
   "id": "5b483f3eb4521159"
  },
  {
   "cell_type": "markdown",
   "source": [
    "# Задание 2\n",
    "Добавьте в класс Rate параметр diff (со значениями True или False), который в случае значения True в методах курсов валют (eur, usd итд) будет возвращать не курс валюты, а изменение по сравнению в прошлым значением. Считайте, self.diff будет принимать значение True только при возврате значения курса. При отображении всей информации о валюте он не используется."
   ],
   "metadata": {
    "collapsed": false
   },
   "id": "543365f9b074daf3"
  },
  {
   "cell_type": "code",
   "execution_count": null,
   "outputs": [],
   "source": [],
   "metadata": {
    "collapsed": false
   },
   "id": "b3092bd63477ce1e"
  },
  {
   "cell_type": "markdown",
   "source": [
    "# Задание 3\n",
    "Напишите класс Designer, который учитывает количество международных премий. Подсказки в коде занятия (“Ноутбук к лекциям «Понятие класса» + презентация”, zip-файл “Используемый ноутбук к лекциям «Понятие класса»)\n",
    "\n",
    "### Комментарий по классу Designer такой:\n",
    "Напишите класс Designer, который учитывает количество международных премий для дизайнеров (из презентации: “Повышение на 1 грейд за каждые 7 баллов. Получение международной премии – это +2 балла”). Считайте, что при выходе на работу сотрудник уже имеет две премии и их количество не меняется со стажем (конечно если хотите это можно вручную менять).\n",
    "\n",
    "Класс Designer пишется по аналогии с классом Developer из материалов занятия."
   ],
   "metadata": {
    "collapsed": false
   },
   "id": "d28a2f514117bb11"
  },
  {
   "cell_type": "code",
   "execution_count": 21,
   "outputs": [],
   "source": [
    "class Employee:\n",
    "    def __init__(self, name, seniority):\n",
    "        self.name = name\n",
    "        self.seniority = seniority\n",
    "\n",
    "        self.grade = 1\n",
    "\n",
    "    def grade_up(self):\n",
    "        \"\"\"Повышает уровень сотрудника\"\"\"\n",
    "        self.grade += 1\n",
    "\n",
    "    def publish_grade(self):\n",
    "        \"\"\"Публикация результатов аккредитации сотрудников\"\"\"\n",
    "        print(self.name, self.grade)\n",
    "\n",
    "    def check_if_it_is_time_for_upgrade(self):\n",
    "        pass"
   ],
   "metadata": {
    "collapsed": false,
    "ExecuteTime": {
     "end_time": "2023-11-04T17:36:27.441506Z",
     "start_time": "2023-11-04T17:36:27.391562900Z"
    }
   },
   "id": "97f30349689130ed"
  },
  {
   "cell_type": "code",
   "execution_count": 43,
   "outputs": [],
   "source": [
    "class Designer(Employee):\n",
    "    def __init__(self, name, seniority):\n",
    "        super().__init__(name, seniority)\n",
    "        self.international_awards = 2  # начальное количество международных премий\n",
    "\n",
    "    def check_if_it_is_time_for_upgrade(self):\n",
    "        # для каждой аккредитации увеличиваем счетчик на 1\n",
    "        # пока считаем, что все дизайнеры проходят аккредитацию\n",
    "        self.seniority += 1\n",
    "\n",
    "        # учитываем международные премии\n",
    "        self.seniority += self.international_awards * 2\n",
    "\n",
    "        # условие повышения сотрудника из презентации\n",
    "        if self.seniority % 7 == 0:\n",
    "            self.grade_up()\n",
    "\n",
    "        # публикация результатов\n",
    "        return self.publish_grade()\n",
    "\n",
    "    def grade_up(self):\n",
    "        self.grade += 1  # повышаем грейд на 1\n",
    "\n",
    "    def publish_grade(self):\n",
    "        return f\"{self.name} имеет грейд {self.grade}\"\n",
    "\n"
   ],
   "metadata": {
    "collapsed": false,
    "ExecuteTime": {
     "end_time": "2023-11-04T17:49:35.877575500Z",
     "start_time": "2023-11-04T17:49:35.823567Z"
    }
   },
   "id": "7f78b9bfeb2034b0"
  },
  {
   "cell_type": "code",
   "execution_count": 51,
   "outputs": [],
   "source": [
    "alex = Designer('Александр',0)"
   ],
   "metadata": {
    "collapsed": false,
    "ExecuteTime": {
     "end_time": "2023-11-04T17:50:15.027610900Z",
     "start_time": "2023-11-04T17:50:14.974601700Z"
    }
   },
   "id": "4531229cdcd3cf3a"
  },
  {
   "cell_type": "code",
   "execution_count": 55,
   "outputs": [
    {
     "name": "stdout",
     "output_type": "stream",
     "text": [
      "Александр имеет грейд 9\n",
      "Александр имеет грейд 9\n",
      "Александр имеет грейд 10\n",
      "Александр имеет грейд 10\n",
      "Александр имеет грейд 10\n",
      "Александр имеет грейд 10\n",
      "Александр имеет грейд 10\n",
      "Александр имеет грейд 10\n",
      "Александр имеет грейд 10\n",
      "Александр имеет грейд 11\n",
      "Александр имеет грейд 11\n",
      "Александр имеет грейд 11\n",
      "Александр имеет грейд 11\n",
      "Александр имеет грейд 11\n",
      "Александр имеет грейд 11\n",
      "Александр имеет грейд 11\n",
      "Александр имеет грейд 12\n",
      "Александр имеет грейд 12\n",
      "Александр имеет грейд 12\n",
      "Александр имеет грейд 12\n"
     ]
    }
   ],
   "source": [
    "for i in range(20):\n",
    "    print(alex.check_if_it_is_time_for_upgrade())"
   ],
   "metadata": {
    "collapsed": false,
    "ExecuteTime": {
     "end_time": "2023-11-04T17:51:44.300275600Z",
     "start_time": "2023-11-04T17:51:44.286481600Z"
    }
   },
   "id": "5385b67dc90c4e73"
  },
  {
   "cell_type": "code",
   "execution_count": null,
   "outputs": [],
   "source": [],
   "metadata": {
    "collapsed": false
   },
   "id": "3991df715e362c22"
  }
 ],
 "metadata": {
  "kernelspec": {
   "display_name": "Python 3",
   "language": "python",
   "name": "python3"
  },
  "language_info": {
   "codemirror_mode": {
    "name": "ipython",
    "version": 2
   },
   "file_extension": ".py",
   "mimetype": "text/x-python",
   "name": "python",
   "nbconvert_exporter": "python",
   "pygments_lexer": "ipython2",
   "version": "2.7.6"
  }
 },
 "nbformat": 4,
 "nbformat_minor": 5
}
